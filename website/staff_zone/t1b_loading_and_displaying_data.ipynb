{
 "metadata": {
  "name": "",
  "signature": "sha256:20ab0e6d0fdd9ef04384009efb54a344c85111f7c8dd124d5f4e0fd73358c08a"
 },
 "nbformat": 3,
 "nbformat_minor": 0,
 "worksheets": [
  {
   "cells": [
    {
     "cell_type": "heading",
     "level": 1,
     "metadata": {},
     "source": [
      "Tutorial 1b: Loading and displaying data"
     ]
    },
    {
     "cell_type": "markdown",
     "metadata": {},
     "source": [
      "*This tutorial was generated from an IPython notebook.  You can download the notebook [here](http://bebi103.caltech.edu/2014/staff_zone/t1b_loading_and_displaying_data.ipynb).*"
     ]
    },
    {
     "cell_type": "markdown",
     "metadata": {},
     "source": [
      "In this tutorial, we will learn how to load data stored on disk into a Python data structure.  We will use `pandas` to read in CSV (comma separated value) files.\n",
      "\n",
      "The data set we will use comes from a fun paper about the adhesive properties of frog tongues.  The reference is Kleinteich and Gorb, Tongue adhesion in the horned frog *Ceratophrys sp.*, *Sci. Rep.*, **4**, 5225, 2014.  You can download the paper [here](http://bebi103.calech.edu/2014/protected/papers/kleinteich_2014.pdf).  You might also want to check out a *New York Times* feature on the paper [here](http://www.nytimes.com/2014/08/25/science/a-frog-thats-a-living-breathing-pac-man.html).\n",
      "\n",
      "In this paper, the authors investigated various properties of the adhesive characteristics of the tongues of horned frogs when they strike prey.  The authors had a striking pad connected to a cantilever to measure forces.  They also used high speed cameras to capture the strike and record relevant data."
     ]
    },
    {
     "cell_type": "heading",
     "level": 2,
     "metadata": {},
     "source": [
      "Importing modules"
     ]
    },
    {
     "cell_type": "markdown",
     "metadata": {},
     "source": [
      "As I mentioned in the last tutorial, we need to import modules we need for data analysis.  I generally like to import everything we'll need at the beginning.  We will use `__future__`, `numpy`, and `matplotlib` as in the last tutorial, but also `pandas`."
     ]
    },
    {
     "cell_type": "code",
     "collapsed": false,
     "input": [
      "from __future__ import division, absolute_import, \\\n",
      "                                    print_function, unicode_literals\n",
      "\n",
      "import numpy as np\n",
      "import matplotlib.pyplot as plt\n",
      "import pandas as pd\n",
      "\n",
      "# Necessary to display plots in this IPython notebook\n",
      "%matplotlib inline"
     ],
     "language": "python",
     "metadata": {},
     "outputs": []
    },
    {
     "cell_type": "heading",
     "level": 2,
     "metadata": {},
     "source": [
      "The data file"
     ]
    },
    {
     "cell_type": "markdown",
     "metadata": {},
     "source": [
      "The data from the paper are contained in the file `frog_tongue_adhesion.csv`, which you can download [here](http://bebi103.caltech.edu/2014/data/frog_tongue_adhesion.csv).  We can look at its contents."
     ]
    },
    {
     "cell_type": "code",
     "collapsed": false,
     "input": [
      "# Use ! to invoke a shell command. Use head to look at top 20 lines of file.\n",
      "!head -n 20 ../data/kleinteich_and_gorb/frog_tongue_adhesion.csv"
     ],
     "language": "python",
     "metadata": {},
     "outputs": []
    },
    {
     "cell_type": "markdown",
     "metadata": {},
     "source": [
      "The first lines all begin with `#` signs, signifying that they are comments and not data.  They do give important information, though, such as the meaning of the ID data.  The ID refers to which specific frog was tested.\n",
      "\n",
      "Immediately after the comments, we have a row of comma-separated headers.  This row sets the number of columns in this data set and labels the meaning of the columns.  So, we see that the first column is the date of the experiment, the second column is the ID of the frog, the third is the trial number, and so on.\n",
      "\n",
      "After this row, each row repesents a single experiment where the frog struck the target.\n",
      "\n",
      "CSV files are generally a good way to store data.  Commas make better delimiters than white space (such as tabs) because they have no portability issues.  Delimiter collision is avoided by putting the data fields in double quotes when necessary.  There are other good ways to store data, such as [JSON](http://json.org), but we will almost exclusively use CSV files in this class."
     ]
    },
    {
     "cell_type": "heading",
     "level": 2,
     "metadata": {},
     "source": [
      "Loading a data set"
     ]
    },
    {
     "cell_type": "markdown",
     "metadata": {},
     "source": [
      "We will use `pd.read_csv` to load the data set.  The data are stored in a **DataFrame**, which is one of the data types that makes `pandas` so convenient for use in data analysis.  DataFrames offer mixed data types, including incomplete columns, and convenient slicing, among many, many other convenient features.  We will use the DataFrame to look at the data, at the same time demonstrating some of the power of DataFrames.  They are like spreadsheets, only a lot better."
     ]
    },
    {
     "cell_type": "code",
     "collapsed": false,
     "input": [
      "# Use pd.read_csv to read in the data and store in a DataFrame\n",
      "# I am using my relative path of the data file; adjust as needed.\n",
      "fname = '../data/kleinteich_and_gorb/frog_tongue_adhesion.csv'\n",
      "df = pd.read_csv(fname, comment='#')"
     ],
     "language": "python",
     "metadata": {},
     "outputs": []
    },
    {
     "cell_type": "markdown",
     "metadata": {},
     "source": [
      "Notice that we used the kwarg `comment` to specify that lines that begin with `#` are comments and are to be ignored.  If you check out the doc string for `pd.read_csv`, you will see there are *lots* of options for reading in the data."
     ]
    },
    {
     "cell_type": "heading",
     "level": 2,
     "metadata": {},
     "source": [
      "Exploring the DataFrame"
     ]
    },
    {
     "cell_type": "markdown",
     "metadata": {},
     "source": [
      "Let's jump right in and look at the contents of the DataFrame."
     ]
    },
    {
     "cell_type": "code",
     "collapsed": false,
     "input": [
      "# Look at the contents (first 10 indices)\n",
      "df[:10]"
     ],
     "language": "python",
     "metadata": {},
     "outputs": []
    },
    {
     "cell_type": "markdown",
     "metadata": {},
     "source": [
      "We see that the column headings were automatically assigned.  `pandas` also automatically defined the indices (names of the rows) as integers going up from zero.  We could have defined the indices to be any of the columns of data.\n",
      "\n",
      "To access a column of data, we use the following syntax."
     ]
    },
    {
     "cell_type": "code",
     "collapsed": false,
     "input": [
      "# Slicing a column out of a DataFrame is achieved by using the column name\n",
      "df['impact force (mN)']"
     ],
     "language": "python",
     "metadata": {},
     "outputs": []
    },
    {
     "cell_type": "markdown",
     "metadata": {},
     "source": [
      "The indexing of the rows is preserved, and we can see that we can easily extract all of the impact forces.  Note, though, that `pd.read_csv` interpreted the data to be integer (`dtype = int64`), so we may want to convert these to floats."
     ]
    },
    {
     "cell_type": "code",
     "collapsed": false,
     "input": [
      "# Use .astype method to convert it to a NumPy float64 data type.\n",
      "df['impact force (mN)'] = df['impact force (mN)'].astype(np.float64)\n",
      "\n",
      "# Check that it worked\n",
      "print('dtype = ', df['impact force (mN)'].dtype)"
     ],
     "language": "python",
     "metadata": {},
     "outputs": []
    },
    {
     "cell_type": "markdown",
     "metadata": {},
     "source": [
      "Now let's say we only want the impact force of strikes above one Newton."
     ]
    },
    {
     "cell_type": "code",
     "collapsed": false,
     "input": [
      "# We can use a Boolean in the indexing of the DataFrame\n",
      "df_big_force = df[df['impact force (mN)'] > 1000.0]\n",
      "\n",
      "# Let's look at it; there will be only a few high-force values\n",
      "df_big_force"
     ],
     "language": "python",
     "metadata": {},
     "outputs": []
    },
    {
     "cell_type": "markdown",
     "metadata": {},
     "source": [
      "So now we only have the strikes of high force.  Note, though, that the original indexing of rows was retained!  In our new DataFrame with only the big force strikes, there is no index 4, for example."
     ]
    },
    {
     "cell_type": "code",
     "collapsed": false,
     "input": [
      "# Executing the below will result in an exception\n",
      "# df_big_force['impact force (mN)'][4]"
     ],
     "language": "python",
     "metadata": {},
     "outputs": []
    },
    {
     "cell_type": "markdown",
     "metadata": {},
     "source": [
      "This might seem counterintuitive, but it is actually a good idea.  Remember, indices do not have to be integers!\n",
      "\n",
      "There is a way around this, though.  We can use the `iloc` attribute of a DataFrame.  This gives indexing with sequential integers."
     ]
    },
    {
     "cell_type": "code",
     "collapsed": false,
     "input": [
      "# Using iloc enables indexing by the corresponding sequence of integers\n",
      "df_big_force['impact force (mN)'].iloc[4]"
     ],
     "language": "python",
     "metadata": {},
     "outputs": []
    },
    {
     "cell_type": "markdown",
     "metadata": {},
     "source": [
      "One column represents many experiments of the same kind of measurement (e.g., impact force).  One row represents a single experiment and many kinds of measurements.  We have extracted a column out of the DataFrame, but how do we extract a row?  This is also very easy with DataFrames using their `ix` method."
     ]
    },
    {
     "cell_type": "code",
     "collapsed": false,
     "input": [
      "# Let's slice out experiment with index 42\n",
      "exp_42 = df.ix[42]\n",
      "\n",
      "# And now let's look at it\n",
      "exp_42"
     ],
     "language": "python",
     "metadata": {},
     "outputs": []
    },
    {
     "cell_type": "markdown",
     "metadata": {},
     "source": [
      "Notice how clever the DataFrame is.  We sliced a row out, and now the indices describing its elements are the column headings."
     ]
    },
    {
     "cell_type": "markdown",
     "metadata": {},
     "source": [
      "You may take issue with the rather lengthy syntax of access column names.  I.e., if you were trying to access the ratio of the contact area with mucus to the contact area without mucus for trial number 3 on May 27, 2013, you would do the following."
     ]
    },
    {
     "cell_type": "code",
     "collapsed": false,
     "input": [
      "# Set up criteria for our seach of the DataFrame\n",
      "date = (df['date'] == '2013_05_27')\n",
      "trial = (df['trial number'] == 3)\n",
      "ID = (df['ID'] == 'III')\n",
      "\n",
      "# When indexing DataFrames, use & for Boolean and (and | for or; ~ for not)\n",
      "df['contact area with mucus / contact area without mucus'][date & trial & ID]"
     ],
     "language": "python",
     "metadata": {},
     "outputs": []
    },
    {
     "cell_type": "markdown",
     "metadata": {},
     "source": [
      "Yeesh.  That syntax is clunky.  But many would argue that this is prefered because there is no ambiguity about what you are asking for.  However, you may want to use shorter names.  Conveniently, when your column names do not have spaces, you can use attribute access.  For example...."
     ]
    },
    {
     "cell_type": "code",
     "collapsed": false,
     "input": [
      "# Attribute access\n",
      "df.date[:10]"
     ],
     "language": "python",
     "metadata": {},
     "outputs": []
    },
    {
     "cell_type": "markdown",
     "metadata": {},
     "source": [
      "Attribute access is really for convenience and is not the default, but if can make writing the code much less cumbersome.  So, let's change the name of the colums as\n",
      "\n",
      "\\begin{align}\n",
      "\\texttt{trial number} &\\to \\texttt{trial} \\\\\n",
      "\\texttt{contact area with mucus / contact area without mucus} &\\to \\texttt{ca_ratio}.\n",
      "\\end{align}\n",
      "\n",
      "DataFrames have a nice `rename` method to do this."
     ]
    },
    {
     "cell_type": "code",
     "collapsed": false,
     "input": [
      "# Make a dictionary to rename columns\n",
      "rename_dict = {'trial number' : 'trial',\n",
      "        'contact area with mucus / contact area without mucus' : 'ca_ratio'}\n",
      "\n",
      "# Rename in-place; otherwise returns a new DataFrame\n",
      "df.rename(columns=rename_dict, inplace=True)\n",
      "\n",
      "# Try out our new column name\n",
      "df.ca_ratio[42]"
     ],
     "language": "python",
     "metadata": {},
     "outputs": []
    },
    {
     "cell_type": "markdown",
     "metadata": {},
     "source": [
      "Notice that we have introduced a new Python data structure, the **dictionary**.  A dictionary is a collection of objects, each one with a **key** to use for indexing.  For example, in `rename_dict`, we could get what we wanted to rename `'trial number'`."
     ]
    },
    {
     "cell_type": "code",
     "collapsed": false,
     "input": [
      "# Indexing of dictionaries looks syntactially similar to cols in DataFrames\n",
      "rename_dict['trial number']"
     ],
     "language": "python",
     "metadata": {},
     "outputs": []
    },
    {
     "cell_type": "markdown",
     "metadata": {},
     "source": [
      "We can go on and on about indexing, but we will stop here.  For much more on all of the clever ways you can access data and subsets thereor in DataFrames, see the [`pandas` docs on indexing](http://pandas.pydata.org/pandas-docs/stable/indexing.html)."
     ]
    },
    {
     "cell_type": "heading",
     "level": 2,
     "metadata": {},
     "source": [
      "\"Playing\" with data: an important part of data analysis"
     ]
    },
    {
     "cell_type": "markdown",
     "metadata": {},
     "source": [
      "\"Interactive data analysis\" is the time during data analysis where you explore your data.  You look at numbers, plot various quantities, and think about what analysis techniques you would like to use.  `pandas` DataFrames help you do this.\n",
      "\n",
      "As we go through the interactive analysis, we will learn about syntax for various `matplotlib` plot styles.\n",
      "\n",
      "The first thing we'll do is look at strike forces.  We'll rename the column for impact force for convenient attribute access because we'll access it many times."
     ]
    },
    {
     "cell_type": "code",
     "collapsed": false,
     "input": [
      "df.rename(columns={'impact force (mN)': 'impf'}, inplace=True)"
     ],
     "language": "python",
     "metadata": {},
     "outputs": []
    },
    {
     "cell_type": "markdown",
     "metadata": {},
     "source": [
      "Now, let's start plotting the impact forces to see what we're dealing with.  We'll start with the most naive plot."
     ]
    },
    {
     "cell_type": "code",
     "collapsed": false,
     "input": [
      "# Just make a scatter plot of forces\n",
      "plt.plot(df.impf, 'k.')\n",
      "plt.margins(x=0.02, y=0.02)\n",
      "plt.xlabel('order in DataFrame')\n",
      "plt.ylabel('impact force (mN)')"
     ],
     "language": "python",
     "metadata": {},
     "outputs": []
    },
    {
     "cell_type": "markdown",
     "metadata": {},
     "source": [
      "The $x$-axis is pretty meaningless.  So, instead let's plot a histogram of impact forces."
     ]
    },
    {
     "cell_type": "code",
     "collapsed": false,
     "input": [
      "# Make a histogram plot; bins kwarg gives the number of bars\n",
      "n, bin_edges, patches = plt.hist(df.impf, bins=20, normed=False)\n",
      "plt.grid(True, axis='y')\n",
      "plt.xlabel('impact force (mN)')\n",
      "plt.ylabel('number of observations')"
     ],
     "language": "python",
     "metadata": {},
     "outputs": []
    },
    {
     "cell_type": "markdown",
     "metadata": {},
     "source": [
      "This is a better way to look at the impact force measurements.  We see that there are a few high-force impacts, but that most of the impacts are about 500 mN or so.\n",
      "\n",
      "\n",
      "This is still only part of the story.  We would like to know how the impacts vary from frog to frog.  First, let's see how many trials we have for each frog."
     ]
    },
    {
     "cell_type": "code",
     "collapsed": false,
     "input": [
      "# This is a fancy way to do string formatting; unnecessary, but I thought\n",
      "# I'd show how to do it.\n",
      "print(\"\"\"\n",
      "Frog ID      Number of samples\n",
      "=======      =================\n",
      "   I               {0:d}\n",
      "  II               {1:d}\n",
      " III               {2:d}\n",
      "  IV               {3:d}\n",
      "\"\"\".format(df.ID[df.ID=='I'].count(), df.ID[df.ID=='II'].count(),\n",
      "           df.ID[df.ID=='III'].count(), df.ID[df.ID=='IV'].count()))"
     ],
     "language": "python",
     "metadata": {},
     "outputs": []
    },
    {
     "cell_type": "markdown",
     "metadata": {},
     "source": [
      "So, we only have 20 samples for each frog.  That's a bit few to construct a meaningful histogram for each frog.  So, maybe we can make a bar graph showing the mean and standard deviation of each sample."
     ]
    },
    {
     "cell_type": "code",
     "collapsed": false,
     "input": [
      "# Compute the mean impacts\n",
      "mean_impacts = df.groupby('ID').impf.mean()\n",
      "\n",
      "# We will use standard deviation as error bar\n",
      "# Default DataFrame std is normalized by N-1; more on that in lecture\n",
      "std_impacts = df.groupby('ID').impf.std()\n",
      "\n",
      "# Bar locations\n",
      "x = np.arange(4)\n",
      "\n",
      "# Bar widths\n",
      "bar_width = 0.5\n",
      "\n",
      "# How to label each bar\n",
      "bar_labels = df.ID.unique()\n",
      "\n",
      "# We use matplotlib's bar function to make plot\n",
      "plt.bar(x, mean_impacts, yerr=std_impacts, width=bar_width, align='center',\n",
      "        color='lightgray', error_kw={'ecolor' : 'black'})\n",
      "plt.grid(True, axis='y')\n",
      "plt.xticks(x, bar_labels)\n",
      "plt.ylabel('impact force (mN)')"
     ],
     "language": "python",
     "metadata": {},
     "outputs": []
    },
    {
     "cell_type": "markdown",
     "metadata": {},
     "source": [
      "I had you do the plot that way because I want you to get comfortable with `matplotlib`, which is really diverse in its uses.  However, you can make essentially the same figure in one or two lines using some of the awesomeness of DataFrames."
     ]
    },
    {
     "cell_type": "code",
     "collapsed": false,
     "input": [
      "# Compute standard deviations grouped by ID\n",
      "yerr = df.groupby('ID').impf.std()\n",
      "\n",
      "# Plot the bar graphs\n",
      "df.groupby('ID').impf.mean().plot(kind='bar', yerr=yerr, color='lightgray')\n",
      "plt.ylabel('impact force (mN)')"
     ],
     "language": "python",
     "metadata": {},
     "outputs": []
    },
    {
     "cell_type": "markdown",
     "metadata": {},
     "source": [
      "We only have 20 measurements for each frog.  Wouldn't it be better just to plot all 20 instead of trying to distill it down to a mean and a standard deviation in the bar graph?  After all, the impact force measurements might not be Gaussian distributed; they may be bimodal or something else.  So, we would like to generate a column scatter plot.  We will plot each data point for each frog in a column, and \"jitter\" its position along the $x$-axis.  We make the points somewhat transparent to allow visualization of overlap."
     ]
    },
    {
     "cell_type": "code",
     "collapsed": false,
     "input": [
      "# Column positions\n",
      "x_pos = np.arange(4)\n",
      "\n",
      "# Column labels\n",
      "x_labels = ['I', 'II', 'III', 'IV']\n",
      "\n",
      "# Jitter by adding normally distributed random number and plot with \n",
      "# alpha < 1, which gives transparency\n",
      "for i in range(len(x_pos)):\n",
      "    y = df[df.ID==x_labels[i]].impf\n",
      "    x = np.random.normal(x_pos[i], 0.04, size=len(y))\n",
      "    plt.plot(x, y, 'ko', alpha=0.3)\n",
      "plt.xticks(x_pos, x_labels)\n",
      "plt.ylabel('impact force (mN)')"
     ],
     "language": "python",
     "metadata": {},
     "outputs": []
    },
    {
     "cell_type": "markdown",
     "metadata": {},
     "source": [
      "Very nice!  Now we can see that frog I, an adult, strikes with a wide range of impact forces, and can strike really hard.  Frog II, also an adult, tends to strike at around 500 mN, but occassionally will strike harder.  Juvenile frog III is a pretty consistent striker, while frog IV can have some pretty weak strikes.\n",
      "\n",
      "The column scatter plot is not difficult to look at.  The informational content of the data does not need to be distilled into a bar with a standard deviation.\n",
      "\n",
      "Plots like these in which the dots to not overlap are called **beeswarm** plots.  For large numbers of data points, these are not favored over the column scatter plot, but for small numbers of data points, beeswarm plots tend to be easier to read, as each data point can be clearly seen.  Unfortunately, `matplotlib` does not natively have a clean way of doing this.  It is definitely possible, but is cumbersome.  \n",
      "\n",
      "Fortunately, there is a package to do it, [pybeeswarm](https://pip.pypa.io/en/latest/), written by Melissa Gyrmek.  It is not available through Canopy, so we need to install it by hand, which we will occassionally need to do.  To install Python packages, [`pip`](https://pip.pypa.io/en/latest/) is the most commonly used tool.  To do it, we simply invoke the shell from IPython and ask `pip` to install `pybeeswarm`."
     ]
    },
    {
     "cell_type": "code",
     "collapsed": false,
     "input": [
      "!pip install pybeeswarm"
     ],
     "language": "python",
     "metadata": {},
     "outputs": []
    },
    {
     "cell_type": "markdown",
     "metadata": {},
     "source": [
      "Now that we have `pybeeswarm`, we can put it to use!"
     ]
    },
    {
     "cell_type": "code",
     "collapsed": false,
     "input": [
      "# Import it first (will do this at the beginning of future tutorials)\n",
      "import beeswarm as bs\n",
      "\n",
      "# Separate impact forces by frog\n",
      "list_of_impfs = [df.impf[df.ID=='I'], df.impf[df.ID=='II'],\n",
      "                 df.impf[df.ID=='III'], df.impf[df.ID=='IV']]\n",
      "\n",
      "# Generate a beeswarm plot\n",
      "bs_plot, ax = bs.beeswarm(list_of_impfs, labels=['I', 'II', 'III', 'IV'])\n",
      "plt.ylabel('impact force (mN)')"
     ],
     "language": "python",
     "metadata": {},
     "outputs": []
    },
    {
     "cell_type": "markdown",
     "metadata": {},
     "source": [
      "We can get even more information.  We might be interested to see if the variability in impact force is day-to-day or time-independent.  So, we would like to make the beeswarm plot with different colors on different days.  This requires a bit more code, but it is not too bad.  (As is the case in many of the examples in the tutorials, there is likely a more concise way to do this.)"
     ]
    },
    {
     "cell_type": "code",
     "collapsed": false,
     "input": [
      "# We need to import the colormap module from matplotlib\n",
      "from matplotlib import cm\n",
      "\n",
      "# Get list of dates; the unique method from a DataFrame works well\n",
      "dates = df.date.unique()\n",
      "\n",
      "# Number of unique dates\n",
      "n_dates = len(dates)\n",
      "\n",
      "# Assign colors to date names, calling colormap with value between 0 and 1\n",
      "# We will use the qualitative colormap \"Accent.\"\n",
      "colors = []\n",
      "for i in range(n_dates):\n",
      "    colors.append(cm.Set1(float(i) / float(n_dates)))\n",
      "    \n",
      "# Make a dictionary of dates and colors\n",
      "color_dict = dict(zip(dates, colors))\n",
      "\n",
      "# Sort the DataFrame by ID to make sure color labels are in correct order\n",
      "# in the beeswarm plot\n",
      "df.sort('ID', inplace=True)\n",
      "\n",
      "# Make a list of colors\n",
      "colors = []\n",
      "for i in range(len(df)):\n",
      "    colors.append(color_dict[df.date.iloc[i]])\n",
      "\n",
      "# Make beeswarm with date coloring\n",
      "bs_plot, ax = bs.beeswarm(list_of_impfs, labels=['I', 'II', 'III', 'IV'],\n",
      "                          col=colors)\n",
      "plt.ylabel('impact force (mN)')\n"
     ],
     "language": "python",
     "metadata": {},
     "outputs": []
    },
    {
     "cell_type": "markdown",
     "metadata": {},
     "source": [
      "We do see some clustering of colors, so there may be some correlation between the day of the measurement and the impact force of the frog's tongue.  I am careful to say *may* be some correlation, since we have not carefully quantified it."
     ]
    },
    {
     "cell_type": "markdown",
     "metadata": {},
     "source": [
      "Now let's look at correlations.  We may be curious: does a hard strike result in better adhesion?  We can plot the adhesive force versus the impact force."
     ]
    },
    {
     "cell_type": "code",
     "collapsed": false,
     "input": [
      "# Rename the column for convenience in future use\n",
      "df.rename(columns={'adhesive force (mN)' : 'adhf'}, inplace=True)\n",
      "\n",
      "# Plot adhesive force vs. impact force\n",
      "plt.plot(df.impf, df.adhf, 'k.', alpha=0.5)\n",
      "plt.xlabel('impact force (mN)')\n",
      "plt.ylabel('adhesive force (mN)')"
     ],
     "language": "python",
     "metadata": {},
     "outputs": []
    },
    {
     "cell_type": "markdown",
     "metadata": {},
     "source": [
      "Later in the course, we will learn how to do regressions to test the relationship between two variables."
     ]
    },
    {
     "cell_type": "markdown",
     "metadata": {},
     "source": [
      "For the time remaining in this tutorial, explore the frog tongue adhesion data set, generating plots of various quantities."
     ]
    },
    {
     "cell_type": "heading",
     "level": 2,
     "metadata": {},
     "source": [
      "Conclusions"
     ]
    },
    {
     "cell_type": "markdown",
     "metadata": {},
     "source": [
      "In this tutorial, we have learned how to load data from CSV files into `pandas` DataFrames.  DataFrames are useful objects for looking at data from many angles.  Together with `matplotlib`, you can start to look at qualitative features of your data and think about how you will go about doing your detailed analysis."
     ]
    }
   ],
   "metadata": {}
  }
 ]
}