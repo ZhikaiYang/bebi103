{
 "metadata": {
  "name": "",
  "signature": "sha256:3ea321f7a07aa8c56785e9c18e3ae16d6c343fc22dcd6a6f5d7eb53b8c4530d8"
 },
 "nbformat": 3,
 "nbformat_minor": 0,
 "worksheets": [
  {
   "cells": [
    {
     "cell_type": "heading",
     "level": 1,
     "metadata": {},
     "source": [
      "Tutorial 1a: Introduction to Python for scientific computing"
     ]
    },
    {
     "cell_type": "markdown",
     "metadata": {},
     "source": [
      "*This tutorial was generated from an IPython notebook.  You can download the notebook [here](http://bebi103.caltech.edu/2014/staff_zone/t1a_intro_to_python.ipynb).*"
     ]
    },
    {
     "cell_type": "markdown",
     "metadata": {},
     "source": [
      "In [Tutorial 0](http://bebi103.caltech.edu/2014/tutorials/t0_python_for_scientific_computing.html), we installed [Enthought Canopy](https://www.enthought.com/products/canopy/).  Canopy contains most of what we need to do scientific computing with Python.  At the most basic level, it has Python 2.7.  It contains other modules we will make heavy use of, the three most important ones being [NumPy](http://www.numpy.org/), [matplotlib](http://matplotlib.org/), and [IPython](http://ipython.org).  We will also make heavy use of [pandas](http://pandas.pydata.org/), [SciPy](http://www.scipy.org/), and [scikit-image](http://scikit-image.org/) throughout the course.\n",
      "\n",
      "In this tutorial, we will first learn some of the basics of the Python programming language at the same time exploring the properties of NumPy's very useful (and as we'll see, ubiquitous) `ndarray` data structure.  Finally, we'll load some data and use matplotlib to generate plots."
     ]
    },
    {
     "cell_type": "heading",
     "level": 2,
     "metadata": {},
     "source": [
      "`Hello, world.`"
     ]
    },
    {
     "cell_type": "markdown",
     "metadata": {},
     "source": [
      "Normally we would start with a `Hello, world` program and then move systematically forward, performing a series of simple tasks in Python.  This tutorial will plow through that and go directly toward using NumPy. You will pick up Python's syntax as we go along.\n",
      "\n",
      "Even though this is the plan, we *have* to start with `Hello, world`.  So, fire up an IPython session using Canopy or whatever else you like and enter the following at the prompt."
     ]
    },
    {
     "cell_type": "code",
     "collapsed": false,
     "input": [
      "print('Hello, world.')"
     ],
     "language": "python",
     "metadata": {},
     "outputs": []
    },
    {
     "cell_type": "markdown",
     "metadata": {},
     "source": [
      "We see the syntax for function calls in Python.  Function arguments are enclosed in parentheses.  Ok, now to modules and NumPy."
     ]
    },
    {
     "cell_type": "heading",
     "level": 2,
     "metadata": {},
     "source": [
      "Modules"
     ]
    },
    {
     "cell_type": "markdown",
     "metadata": {},
     "source": [
      "It is common that scientific software packages such as [Matlab](http://www.mathworks.com/products/matlab/) and [Mathematica](http://www.wolfram.com/mathematica/) are optimized for a flavor of scientific computing (such as matrix computation in the case of Matlab) and are rather full-featured.  On the other hand, Python is a programming language.  It was not specifically designed to do scientific computing.  So, plain old Python is very limited in scientific computing capability.\n",
      "\n",
      "However, Python is very flexible and allows use of **modules**.  A module contains classes, functions, attributes, data types, etc., beyond what is built in to Python. In order to use a module, you need to import it to make it available for use.  So, as we begin working on data analysis, we need to import modules we will use.\n",
      "\n",
      "The first things we will import come from the `__future__` module.  This is a special module that enables use of Python 3 standards while running Python 2.  Having these in place in your code will help you in the future when you eventually migrate to Python 3.  Before we do that, we'll do an experiment in Python 2 division."
     ]
    },
    {
     "cell_type": "code",
     "collapsed": false,
     "input": [
      "# The print function is smart: it will display numerical results.\n",
      "print(4 / 3)\n",
      "print(4.0 / 3.0)"
     ],
     "language": "python",
     "metadata": {},
     "outputs": []
    },
    {
     "cell_type": "markdown",
     "metadata": {},
     "source": [
      "Notice that division of two integers in Python 2 results in the integer floor of the result.  This can be a problem if you are not careful!  In Python 3, this is not the case.  So, we have to be sure to import `division` from the `__future__` module.  We also import the other Python 3 compatibility modules."
     ]
    },
    {
     "cell_type": "code",
     "collapsed": false,
     "input": [
      "from __future__ import division, absolute_import, \\\n",
      "                                    print_function, unicode_literals"
     ],
     "language": "python",
     "metadata": {},
     "outputs": []
    },
    {
     "cell_type": "markdown",
     "metadata": {},
     "source": [
      "The construction `from <module> import <attributes>` puts `<attributes>` (the things you imported) in the namespace.  This construction allows you to pick and choose what attributes you want to import from a given module.  Let's try division again."
     ]
    },
    {
     "cell_type": "code",
     "collapsed": false,
     "input": [
      "# Python 3 divides integers to return a float\n",
      "print(4 / 3)\n",
      "\n",
      "# If you want to return an integer (floor of result), use //\n",
      "print(4 // 3)"
     ],
     "language": "python",
     "metadata": {},
     "outputs": []
    },
    {
     "cell_type": "markdown",
     "metadata": {},
     "source": [
      "That's better!\n",
      "\n",
      "It is important to note that until we imported the `__future__` module, its capacities were not available.  Keep that in mind: *Plain old Python won't do much until you import a module.*\n",
      "\n",
      "Let's now import one of the major workhorses of our class, NumPy!"
     ]
    },
    {
     "cell_type": "code",
     "collapsed": false,
     "input": [
      "# Importing is done with the import statement\n",
      "import numpy as np\n",
      "\n",
      "# We now have access to some handy things\n",
      "print('circumference / diameter = ', np.pi)\n",
      "print('cos(pi) = ', np.cos(np.pi))"
     ],
     "language": "python",
     "metadata": {},
     "outputs": []
    },
    {
     "cell_type": "markdown",
     "metadata": {},
     "source": [
      "Notice that we used the `import ... as` construction.  This enabled us to abbreviate the name of the module so we do not have to type `numpy` each time.\n",
      "\n",
      "Also, notice that to access the (approximate) value of $\\pi$ in the `numpy` module, we prefaced the name of the attiribute (`pi`) with the module name followed by a dot (`np.`).  This is generally how you access attributes in modules.\n",
      "\n",
      "We also learned an important bit of syntax: strings are enclosed in single (or double) quotes.\n",
      "\n",
      "We're already getting dangerous with Python.  So dangerous, in fact, that we'll write our own module!"
     ]
    },
    {
     "cell_type": "heading",
     "level": 2,
     "metadata": {},
     "source": [
      "Writing your own module (and learning a bunch of syntax!)"
     ]
    },
    {
     "cell_type": "markdown",
     "metadata": {},
     "source": [
      "Modules are stored in files ending in `.py`.  As an example, we will create a module that finds the roots of the quadratic equation\n",
      "\n",
      "\\begin{align}\n",
      "ax^2 + bx + c = 0.\n",
      "\\end{align}\n",
      "\n",
      "Using the Canopy editing window (or your favorite text editor), we'll create a file called `quadratic.py` containing the code below.  The file should be saved in a directory that is part of your `PYTHONPATH` environment variable (which usually contains the present working directory) so that the interpreter can find it."
     ]
    },
    {
     "cell_type": "code",
     "collapsed": false,
     "input": [
      "\"\"\"\n",
      "*** This should be stored in a file quadratic.py. ***\n",
      "\n",
      "Quadratic formula module\n",
      "\"\"\"\n",
      "\n",
      "import numpy as np\n",
      "\n",
      "\n",
      "# ############\n",
      "def discriminant(a, b, c):\n",
      "    \"\"\"\n",
      "    Returns the discriminant of a quadratic polynomial\n",
      "    a * x**2 + b * x + c = 0.    \n",
      "    \"\"\"\n",
      "    return b**2 - 4.0 * a * c\n",
      "\n",
      "\n",
      "# ############\n",
      "def roots(a, b, c):\n",
      "    \"\"\"\n",
      "    Returns the roots of the quadratic equation\n",
      "    a * x**2 + b * x + c = 0.\n",
      "    \"\"\" \n",
      "    delta = discriminant(a, b, c)\n",
      "    root_1 = (-b + np.sqrt(delta)) / (2.0 * a)\n",
      "    root_2 = (-b - np.sqrt(delta)) / (2.0 * a)\n",
      "    \n",
      "    return root_1, root_2"
     ],
     "language": "python",
     "metadata": {},
     "outputs": []
    },
    {
     "cell_type": "markdown",
     "metadata": {},
     "source": [
      "There is a whole bunch of syntax in there to point out.\n",
      "- Even though we may have already imported NumPy in our Python session, we need to explicitly import it (and any other module we need) in the `.py` file.\n",
      "- A function is defined within a module with the `def` statement.  It has the function prototype, followed by a colon.\n",
      "- **Indentation in Python matters!** Everything indented after the `def` statement is part of the function.  Once the indentation goes back to the level of the `def` statement, you are no longer in the function.\n",
      "- We can have multiple functions in a single module (in one `.py` file).\n",
      "- The operator for raising to a power is `**`.\n",
      "- The return statement is used to return the result of a function.  If multiple objects are returned, they are separated by commas.\n",
      "- The text within triple quotes are **doc strings**.  They say what the function or module does.  These are essential for people to know what your code is doing.\n",
      "\n",
      "Now, let's test our new module out!"
     ]
    },
    {
     "cell_type": "code",
     "collapsed": false,
     "input": [
      "import quadratic as qd\n",
      "\n",
      "# Python has nifty syntax for making multiple definitions on the same line\n",
      "a, b, c = 3.0, -7.0, -6.0\n",
      "\n",
      "# Call the function and print the result\n",
      "root_1, root_2 = qd.roots(a, b, c)\n",
      "print('roots:', root_1, root_2)"
     ],
     "language": "python",
     "metadata": {},
     "outputs": []
    },
    {
     "cell_type": "markdown",
     "metadata": {},
     "source": [
      "Very nice! Now, let's try another example.  This one might have a problem...."
     ]
    },
    {
     "cell_type": "code",
     "collapsed": false,
     "input": [
      "# Specify a, b, and c that will give imaginary roots\n",
      "a, b, c = 1.0, -2.0, 2.0\n",
      "\n",
      "# Call the function and print the result\n",
      "root_1, root_2 = qd.roots(a, b, c)\n",
      "print('roots:', root_1, root_2)"
     ],
     "language": "python",
     "metadata": {},
     "outputs": []
    },
    {
     "cell_type": "markdown",
     "metadata": {},
     "source": [
      "Oh no!  It gave us `nan`, which means \"not a number,\" as our roots.  It also gave some warning that it encountered invalid (negative) arguments for the `sqrt` function.  The roots should be $1 \\pm i$, where $i = \\sqrt{-1}$.  We will use this opportunity to introduce Python's control flow, starting with an `if` statement."
     ]
    },
    {
     "cell_type": "heading",
     "level": 2,
     "metadata": {},
     "source": [
      "Flow control: the `if` statement"
     ]
    },
    {
     "cell_type": "markdown",
     "metadata": {},
     "source": [
      "We will decree that our quadratic equation solver only handles real roots, so it will raise an **exception** if an imaginary root is encountered.  So, we modify the contents of the file `quadratic.py` as follows."
     ]
    },
    {
     "cell_type": "code",
     "collapsed": false,
     "input": [
      "\"\"\"\n",
      "*** This should be stored in a file quadratic.py. ***\n",
      "\n",
      "Quadratic formula module\n",
      "\"\"\"\n",
      "\n",
      "import numpy as np\n",
      "\n",
      "\n",
      "# ############\n",
      "def discriminant(a, b, c):\n",
      "    \"\"\"\n",
      "    Returns the discriminant of a quadratic polynomial\n",
      "    a * x**2 + b * x + c = 0.    \n",
      "    \"\"\"\n",
      "    return b**2 - 4.0 * a * c\n",
      "\n",
      "\n",
      "# ############\n",
      "def roots(a, b, c):\n",
      "    \"\"\"\n",
      "    Returns the roots of the quadratic equation\n",
      "    a * x**2 + b * x + c = 0.\n",
      "    \"\"\" \n",
      "    delta = discriminant(a, b, c)\n",
      "\n",
      "    if delta < 0.0:\n",
      "        raise ValueError('Imaginary roots!  We only do real roots!')\n",
      "    else:\n",
      "        root_1 = (-b + np.sqrt(delta)) / (2.0 * a)\n",
      "        root_2 = (-b - np.sqrt(delta)) / (2.0 * a)\n",
      "    \n",
      "        return root_1, root_2"
     ],
     "language": "python",
     "metadata": {},
     "outputs": []
    },
    {
     "cell_type": "markdown",
     "metadata": {},
     "source": [
      "We have now exposed the syntax for a Python `if` statement.  The conditional expression ends with a colon, just like the `def` statement.  Note the indentation of blocks of code after the conditionals.  (We actually did not need the `else` statement, because the program would just continue without the exception, but I left it there for illustrative purposes.  It is actually preferred not to have the `else` statement.)\n",
      "\n",
      "Now if we re-import the module (we can use the Python function `reload` for this), the `if` statement will catch our imaginary roots and raise an exception.  Note that *you must reload (or start over again and import) the module before your changes take effect.*"
     ]
    },
    {
     "cell_type": "code",
     "collapsed": false,
     "input": [
      "# Reload the quadratic module using its abbeviated name we already defined\n",
      "reload(qd)\n",
      "\n",
      "# Pass in parameters that will give imaginary roots\n",
      "a, b, c = 1.0, -2.0, 2.0\n",
      "root_1, root_2 = qd.roots(a, b, c)"
     ],
     "language": "python",
     "metadata": {},
     "outputs": []
    },
    {
     "cell_type": "markdown",
     "metadata": {},
     "source": [
      "This threw the appropriate exception.\n",
      "\n",
      "Congrats!  You wrote a functioning module.  But now is an important lesson....  "
     ]
    },
    {
     "cell_type": "heading",
     "level": 2,
     "metadata": {},
     "source": [
      "When you can, use NumPy"
     ]
    },
    {
     "cell_type": "markdown",
     "metadata": {},
     "source": [
      "**If you are trying to do a task that you think might be common, it's probably part of NumPy or some other package.**  Look, or ask Google, first.  In this case, NumPy has a function called `roots` that computes the roots of a polynomial.  To figure out how to use it, we can either look at the doc string, or look in the [NumPy and SciPy documentation online](http://docs.scipy.org/doc/) (the documentation for `np.roots` is available [here](http://docs.scipy.org/doc/numpy/reference/generated/numpy.roots.html)).  To look at the doc string, you can enter the following at an IPython prompt:"
     ]
    },
    {
     "cell_type": "code",
     "collapsed": false,
     "input": [
      "np.roots?"
     ],
     "language": "python",
     "metadata": {},
     "outputs": []
    },
    {
     "cell_type": "markdown",
     "metadata": {},
     "source": [
      "We see that we need to pass the coefficients of the polynomial we would like the roots of using an \"`array_like`\" object.  We will discuss what this means in a moment, but for now, we will just use a **list** to specify our coefficients and call the `np.roots` function."
     ]
    },
    {
     "cell_type": "code",
     "collapsed": false,
     "input": [
      "# Define the coefficients in a list (using square brackets)\n",
      "coeffs = [3.0, -7.0, -6.0]\n",
      "\n",
      "# Call np.roots.  It returns an np.ndarray with the roots\n",
      "roots = np.roots(coeffs)\n",
      "print('Roots for (a, b, c) = (3, -7, -6):', roots)\n",
      "\n",
      "# It even handles complex roots!\n",
      "roots = np.roots([1.0, -2.0, 2.0])\n",
      "print('Roots for (a, b, c) = (1, -2, 2): ', roots)"
     ],
     "language": "python",
     "metadata": {},
     "outputs": []
    },
    {
     "cell_type": "heading",
     "level": 2,
     "metadata": {},
     "source": [
      "Some `array_like` data types"
     ]
    },
    {
     "cell_type": "markdown",
     "metadata": {},
     "source": [
      "In the previous example, we used a list as an `array_like` data type.  Python has several native data types.  We have already mentioned `int`s and `float`s.  We just were not very explicit about it.  Python's native `array_like` data types are **lists** and **tuples**.  There are collections of items (in this class, usually numbers) separated by commas.  They can be nested to generate lists of lists, lists of tuples, tuples of tuples, etc.  The primary difference between a list and a tuple is that a list is **mutable**, meaning that it can be changed in-place, where a tuple is **immutable**."
     ]
    },
    {
     "cell_type": "code",
     "collapsed": false,
     "input": [
      "# This is a list\n",
      "my_list = [1, 2, 3, 4]\n",
      "\n",
      "# This is a tuple\n",
      "my_tuple = (1, 2, 3, 4)\n",
      "\n",
      "# We can change a list in place\n",
      "my_list[1] = 1.3\n",
      "print(my_list)\n",
      "\n",
      "# We cannot change a tuple in place.  Below will raise an exception\n",
      "# my_tuple[1] = 1.3"
     ],
     "language": "python",
     "metadata": {},
     "outputs": []
    },
    {
     "cell_type": "markdown",
     "metadata": {},
     "source": [
      "Notice how we indexed the list.  The index uses square brackets.  Importantly, **indexing in Python starts with zero**."
     ]
    },
    {
     "cell_type": "heading",
     "level": 2,
     "metadata": {},
     "source": [
      "The `np.ndarray`: maybe your new best friend"
     ]
    },
    {
     "cell_type": "markdown",
     "metadata": {},
     "source": [
      "Lists and tuples can be useful, but for many many applications in data analysis, the `np.ndarray`, which we will colloquially call a \"**NumPy array**,\" is most often used.  They are created using the `np.array` function with a list or tuple as an argument.  Once created, we can do all sorts of things with them.  Let's play!"
     ]
    },
    {
     "cell_type": "code",
     "collapsed": false,
     "input": [
      "a = np.array([1.0, 2.0, 3.0])\n",
      "b = np.array([4.0, 5.0, 6.0])\n",
      "\n",
      "# Arithmetic operations are done elementwise\n",
      "print('a:      ', a)\n",
      "print('a + b:  ', a + b)\n",
      "print('a * b:  ', a * b)\n",
      "print('1.0 + a:', 1.0 + a)\n",
      "print('a**2:   ', a**2)\n",
      "print('b**a:   ', b**a)"
     ],
     "language": "python",
     "metadata": {},
     "outputs": []
    },
    {
     "cell_type": "markdown",
     "metadata": {},
     "source": [
      "Let's generate some longer arrays to play with.  We will use the function `np.linspace`.  Check out its doc string to see how it works."
     ]
    },
    {
     "cell_type": "code",
     "collapsed": false,
     "input": [
      "# Make 20 evenly spaced points from 0 to 2*pi\n",
      "x = np.linspace(0.0, 2.0 * np.pi, 100)\n",
      "\n",
      "# NumPy functions also work elementwise.  Let's make a function exp(sin(x))\n",
      "y = np.exp(np.sin(x))\n",
      "\n",
      "# Let's look at them\n",
      "print('x: ', x)\n",
      "print('y: ', y)"
     ],
     "language": "python",
     "metadata": {},
     "outputs": []
    },
    {
     "cell_type": "markdown",
     "metadata": {},
     "source": [
      "That's not very useful.  It would be nice to plot the function.  So, now is a very nice time to introduce **`matplotlib`**!"
     ]
    },
    {
     "cell_type": "heading",
     "level": 2,
     "metadata": {},
     "source": [
      "`matplotlib`: our primary plotting tool"
     ]
    },
    {
     "cell_type": "markdown",
     "metadata": {},
     "source": [
      "`matplotlib` is a tool for plotting the data stored in NumPy arrays.  We will mostly use the interactive plotting module, `matplotlib.pyplot`, which we will abberviate as `plt`.  Its syntax is quite simple, and best learned by example.  We will plot our function and look at the graphics."
     ]
    },
    {
     "cell_type": "code",
     "collapsed": false,
     "input": [
      "# Import Matplotlib\n",
      "import matplotlib.pyplot as plt\n",
      "\n",
      "# For the purposes of generating this tutorial, I use inline matplotlib.\n",
      "# You do not need to do this, but this line of code will be in all tutorials.\n",
      "%matplotlib inline\n",
      "\n",
      "# Make the plot!\n",
      "plt.plot(x, y)\n",
      "\n",
      "# Label the axes.  The r'' construction makes the string a literal, which\n",
      "# enables use of $, \\, etc.  matplotlib then interprets TeX!\n",
      "plt.xlabel(r'$x$')\n",
      "plt.ylabel(r'$\\mathrm{e}^{\\sin x}$')\n",
      "\n",
      "# We would like the limits in the x axis to be 0 to 2*pi\n",
      "plt.xlim((0.0, 2.0 * np.pi))  # Limits passes as a tuple argument"
     ],
     "language": "python",
     "metadata": {},
     "outputs": []
    },
    {
     "cell_type": "markdown",
     "metadata": {},
     "source": [
      "This is all very exciting!  Next, we will numerically compute the derivative of the function we just plotted.  We know the analytical expression.\n",
      "\n",
      "\\begin{align}\n",
      "\\frac{\\mathrm{d}y}{\\mathrm{d}x} = \\mathrm{e}^{\\sin x}\\,\\cos x = y \\cos x,\n",
      "\\end{align}\n",
      "\n",
      "but we will also compute it numerically.  We will do it using forward differencing.\n",
      "\n",
      "\\begin{align}\n",
      "\\frac{\\mathrm{d}y(x_i)}{\\mathrm{d}x} \\approx \\frac{y(x_{i+1}) - y(x_i)}{x_{i+1} - x_i}.\n",
      "\\end{align}\n",
      "\n",
      "We will use this opportunity to look at another aspect of Python's control flow, the **`for` loop**."
     ]
    },
    {
     "cell_type": "heading",
     "level": 2,
     "metadata": {},
     "source": [
      "Control flow: the `for` loop"
     ]
    },
    {
     "cell_type": "markdown",
     "metadata": {},
     "source": [
      "Use of a `for` loop is best seen through example.  We will define a function to do finite difference differentiation."
     ]
    },
    {
     "cell_type": "code",
     "collapsed": false,
     "input": [
      "# Define forward differencing function\n",
      "def forward_diff(y, x):\n",
      "    # Use np.empty to make an empty ndarray to put our derivatives in\n",
      "    deriv = np.empty(len(y) - 1)\n",
      "\n",
      "    # Use a for loop to go through each point and compute forw. diff. deriv.\n",
      "    for i in range(len(y)-1):\n",
      "        deriv[i] = (y[i+1] - y[i]) / (x[i+1] - x[i])\n",
      "        \n",
      "    # Return the derivative (remember, it is a NumPy array)\n",
      "    return deriv\n",
      "        \n",
      "# Call the function to perform finite differencing\n",
      "deriv = forward_diff(y, x)"
     ],
     "language": "python",
     "metadata": {},
     "outputs": []
    },
    {
     "cell_type": "markdown",
     "metadata": {},
     "source": [
      "Let's go over some of the functions we just used there.  The `len` function returns the length of a one-dimensional array.  In our case, `len(y)` is 100, since `y` has 100 elements.\n",
      "\n",
      "The `range` function is built in to Python.  It generates intgers that we can use to iterate `for` loops.  In this case, it generates all integers from 0 to 98.  That's right, even though `len(y) - 1` is 99, the range function does not generate the last number.  Don't get burned by this!\n",
      "\n",
      "We used the `for` loop to successively compute the elements of the array.  We took care to note that there are only 99 difference of points and 100 total points.\n",
      "\n",
      "Now, we can plot our derivatives.  Let's plot them right on top of the analytical expression."
     ]
    },
    {
     "cell_type": "code",
     "collapsed": false,
     "input": [
      "# Compute exact derivative\n",
      "deriv_exact = y * np.cos(x)\n",
      "\n",
      "# Plot exact derivative as a black line (given by 'k-').\n",
      "plt.plot(x, deriv_exact, 'k-')\n",
      "\n",
      "# Plot approximate derivative with red x's; derive is approximate between\n",
      "# grid points in x\n",
      "plt.plot((x[1:] + x[:-1]) / 2.0, deriv, 'rx')\n",
      "\n",
      "# Label axes, set axis limits\n",
      "plt.xlabel(r'$x$')\n",
      "plt.ylabel(r'$\\mathrm{d}y/\\mathrm{d}x$')\n",
      "plt.xlim((0.0, 2.0 * np.pi))\n",
      "\n",
      "# Put in a legend\n",
      "plt.legend(('exact', 'fin. diff'), loc='upper center', numpoints=1)"
     ],
     "language": "python",
     "metadata": {},
     "outputs": []
    },
    {
     "cell_type": "markdown",
     "metadata": {},
     "source": [
      "In the code above, notice how we included a legend in the plot.  The first argument is a tuple containing the names of the labels for the two curves.  The following arguments are **keyword arguments**.  Keyword arguments do not need to be specified in the function call.  If left unspecified, default values are used for them.  They are specified with the syntax above, as `kwarg=value` within the function call.\n",
      "\n",
      "I also want to draw your attention to the call to `plt.plot` for the derivative:\n",
      "\n",
      "`plt.plot((x[1:] + x[:-1]) / 2.0, deriv, 'rx')`\n",
      "\n",
      "Remember that the derivative is only defined for 99 of the 100 points we sample along the $x$-axis.  We therefore **sliced** the `x` NumPy array.  The colon implies filling in all indices.  Python allows negative indices, and `-1` means the last index of the array.  Like the `range` function, slicing does not include the last index.  So, `x[:-1]` means that we take all values of the array except the last one.  Similarly, `x[1:]` means that we take all values of the array except the first one."
     ]
    },
    {
     "cell_type": "markdown",
     "metadata": {},
     "source": [
      "You might think finite differencing is something that one would commonly want to do, right?  So, of course, NumPy has a function for it!"
     ]
    },
    {
     "cell_type": "code",
     "collapsed": false,
     "input": [
      "# Use np.diff function to compute forward differences\n",
      "np_deriv = np.diff(y) / np.diff(x)\n",
      "\n",
      "# Verify that the results is the same we got\n",
      "print('Did NumPy give what we got?:', np.allclose(np_deriv, deriv))"
     ],
     "language": "python",
     "metadata": {},
     "outputs": []
    },
    {
     "cell_type": "markdown",
     "metadata": {},
     "source": [
      "That code is much cleaner than our clunky `for` loop.  It is also much faster.  We can use IPython `timeit` **magic function** to test."
     ]
    },
    {
     "cell_type": "code",
     "collapsed": false,
     "input": [
      "%timeit np_deriv = np.diff(y) / np.diff(x)\n",
      "\n",
      "%timeit deriv = forward_diff(y, x)"
     ],
     "language": "python",
     "metadata": {},
     "outputs": []
    },
    {
     "cell_type": "markdown",
     "metadata": {},
     "source": [
      "10 times faster using NumPy!  The reason for this is that under the hood, NumPy functions are highly optimized.  They use compiled code (C or Fortran) and often use highly optimized packages like [BLAS](http://www.netlib.org/blas/), [LAPACK](http://www.netlib.org/lapack/), [ATLAS](http://math-atlas.sourceforge.net), etc. "
     ]
    },
    {
     "cell_type": "heading",
     "level": 2,
     "metadata": {},
     "source": [
      "Calling an object's method: an example with integration"
     ]
    },
    {
     "cell_type": "markdown",
     "metadata": {},
     "source": [
      "We will now integrate our function $y(x)$.  From the integral formulas for modified Bessel functions, we know\n",
      "\n",
      "\\begin{align}\n",
      "\\int_0^{2\\pi}\\mathrm{d} x\\, \\mathrm{e}^{\\sin x} = 2\\pi \\,I_0(1),\n",
      "\\end{align}\n",
      "\n",
      "where $I_0$ is the modified Bessel function of the first kind.  Fortunately, SciPy has a module that allows for calculation of special functions, this particular Bessel function included."
     ]
    },
    {
     "cell_type": "code",
     "collapsed": false,
     "input": [
      "import scipy.special\n",
      "\n",
      "# Call scipy.special.iv to compute the value of the integral\n",
      "exact_integral = 2.0 * np.pi * scipy.special.iv(0, 1.0)\n",
      "\n",
      "print('Exact integral:', exact_integral)"
     ],
     "language": "python",
     "metadata": {},
     "outputs": []
    },
    {
     "cell_type": "markdown",
     "metadata": {},
     "source": [
      "Now, let's approximately compute the integral by the trapezoidal rule.  We could write a `for` loop to do this.  An easier way to do this integral is to note that the integral is over the periodic domain of the function.  If we were to write the function as a Fourier series, it consists of a constant term, plus a bunch of terms with periods of multiples of $2\\pi$.  So, only the constant term, which is the mean of the function over the interval, remains.  All of the added periodic terms integrate to zero.  The integral is then just like computing the area of a rectangle: $2\\pi \\langle y(x)\\rangle_x$.\n",
      "\n",
      "\\begin{align}\n",
      "\\int_0^{2\\pi}\\mathrm{d} x\\, y(x) \\approx \\frac{2\\pi}{n}\\sum_{i=0}^{n} y(x_i),\n",
      "\\end{align}\n",
      "\n",
      "where we have sampled $y$ at $n$ evenly spaced points over the interval of length $2\\pi$.  We can then use the `mean` method of NumPy arrays to quickly carry out the sum."
     ]
    },
    {
     "cell_type": "code",
     "collapsed": false,
     "input": [
      "# Compute integral numerically (do not use last point because it would\n",
      "# then appear twice in the mean)\n",
      "approx_integral = 2.0 * np.pi * y[:-1].mean()\n",
      "\n",
      "print('Approx integral:', approx_integral)\n",
      "print('exact - approx: ', exact_integral - approx_integral)"
     ],
     "language": "python",
     "metadata": {},
     "outputs": []
    },
    {
     "cell_type": "markdown",
     "metadata": {},
     "source": [
      "It is exact to machine precision!  This is a feature known as *spectral accuracy*, which we will not cover in this class, but is fascinating nonetheless.\n",
      "\n",
      "Note how we used the construction `y[:-1].mean()`.  `y` is a NumPy array, so it has associated with it many **methods**.  A method is a function that can operate on an instance of a class.  `y` is an instance of a NumPy array, so `y.mean()` computes the mean of the NumPy array `y`.  It is advisable to use these native methods on NumPy arrays.  To prove this point, we will compare use of Python's built-in `sum` function to compute a sum, compared to a computation using NumPy.  We will also compare it to summing using a `for` loop."
     ]
    },
    {
     "cell_type": "code",
     "collapsed": false,
     "input": [
      "# Make a sum function that uses a for loop\n",
      "def sum_with_for_loop(y):\n",
      "    my_sum = 0.0\n",
      "    for i in range(len(y)):\n",
      "        my_sum += y[i]  # += adds the right hand side to the left hand side\n",
      "    \n",
      "    return my_sum\n",
      "\n",
      "# Time the different ways of evaluating the sum the entries of a NumPy array\n",
      "%timeit sum_with_for_loop(y)\n",
      "%timeit sum(y)\n",
      "%timeit np.sum(y)\n",
      "%timeit y.sum()"
     ],
     "language": "python",
     "metadata": {},
     "outputs": []
    },
    {
     "cell_type": "heading",
     "level": 2,
     "metadata": {},
     "source": [
      "Programming style"
     ]
    },
    {
     "cell_type": "markdown",
     "metadata": {},
     "source": [
      "**[PEP](http://legacy.python.org/dev/peps/pep-0001/)**s (Python Enhancement Proposals) document suggestions and guidelines for the Python language, its development, etc.  My personal favorite is [PEP8, the Style Guide for Python Code](http://legacy.python.org/dev/peps/pep-0008/).  This was largely written by Guido von Rossum, the inventor of Python and its benevolent dictator for life.  It details how you should style your code.  As Guido says, code is much more often read than written.  I strongly urge you to follow PEP8 the best you can.  It's a lot to read, so I will highlight important points here.  If you follow these guidelines, your code will be much more readable than otherwise.  This is particularly useful because you are working in groups and the TAs need to grade your work.\n",
      "\n",
      "- Limit line widths to 79 characters (the line break character for Python is `\\`).\n",
      "- Use spaces between all operators except `**`.  E.g., `a = b + c * d**2`.\n",
      "- In function calls, use a space after each comma.  Use no spaces before and after the equals sign when using keyword arguments.  E.g., `my_fun(a, b, c=True)`.\n",
      "- Do not use excess space when indexing.  E.g., `a[i]`, not `a [ i ]`.\n",
      "- Function names should be lowercase, with words separated by underscores as necessary to improve readability.\n",
      "- Class names should be CamelCase.\n",
      "- Comment lines should appear immediately before the code they describe.  Use in-line comments sparingly."
     ]
    },
    {
     "cell_type": "heading",
     "level": 2,
     "metadata": {},
     "source": [
      "Conclusions"
     ]
    },
    {
     "cell_type": "markdown",
     "metadata": {},
     "source": [
      "This concludes our introductory tour of Python with some NumPy, SciPy, and matplotlib thrown in for good measure.  There is still *much* to learn, but you will pick up more and more tricks and syntax as we go along.\n",
      "\n",
      "As we work through the course, it is important to remember that Python with NumPy, SciPy, `matplotlib`, `pandas`, and the other packages we will use throughout the term, are just tools we are using to analyze data.  They not the best tool for each type of data set.  However, the Python-based tools constitute a nice Swiss Army knife.  They can almost always get the job done.\n",
      "\n",
      "Most importantly, **we are using Python to learn data analysis concepts and methods**.  This is **not** a class about Python; it is a class about data analysis in the biological sciences."
     ]
    }
   ],
   "metadata": {}
  }
 ]
}