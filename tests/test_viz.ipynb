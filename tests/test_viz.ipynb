{
 "cells": [
  {
   "cell_type": "code",
   "execution_count": 1,
   "metadata": {},
   "outputs": [
    {
     "data": {
      "text/html": [
       "\n",
       "    <div class=\"bk-root\">\n",
       "        <a href=\"https://bokeh.pydata.org\" target=\"_blank\" class=\"bk-logo bk-logo-small bk-logo-notebook\"></a>\n",
       "        <span id=\"59d369b2-4d61-45a9-90a5-4b22b308634d\">Loading BokehJS ...</span>\n",
       "    </div>"
      ]
     },
     "metadata": {},
     "output_type": "display_data"
    },
    {
     "data": {
      "application/javascript": [
       "\n",
       "(function(root) {\n",
       "  function now() {\n",
       "    return new Date();\n",
       "  }\n",
       "\n",
       "  var force = true;\n",
       "\n",
       "  if (typeof (root._bokeh_onload_callbacks) === \"undefined\" || force === true) {\n",
       "    root._bokeh_onload_callbacks = [];\n",
       "    root._bokeh_is_loading = undefined;\n",
       "  }\n",
       "\n",
       "  var JS_MIME_TYPE = 'application/javascript';\n",
       "  var HTML_MIME_TYPE = 'text/html';\n",
       "  var EXEC_MIME_TYPE = 'application/vnd.bokehjs_exec.v0+json';\n",
       "  var CLASS_NAME = 'output_bokeh rendered_html';\n",
       "\n",
       "  /**\n",
       "   * Render data to the DOM node\n",
       "   */\n",
       "  function render(props, node) {\n",
       "    var script = document.createElement(\"script\");\n",
       "    node.appendChild(script);\n",
       "  }\n",
       "\n",
       "  /**\n",
       "   * Handle when an output is cleared or removed\n",
       "   */\n",
       "  function handleClearOutput(event, handle) {\n",
       "    var cell = handle.cell;\n",
       "\n",
       "    var id = cell.output_area._bokeh_element_id;\n",
       "    var server_id = cell.output_area._bokeh_server_id;\n",
       "    // Clean up Bokeh references\n",
       "    if (id != null && id in Bokeh.index) {\n",
       "      Bokeh.index[id].model.document.clear();\n",
       "      delete Bokeh.index[id];\n",
       "    }\n",
       "\n",
       "    if (server_id !== undefined) {\n",
       "      // Clean up Bokeh references\n",
       "      var cmd = \"from bokeh.io.state import curstate; print(curstate().uuid_to_server['\" + server_id + \"'].get_sessions()[0].document.roots[0]._id)\";\n",
       "      cell.notebook.kernel.execute(cmd, {\n",
       "        iopub: {\n",
       "          output: function(msg) {\n",
       "            var id = msg.content.text.trim();\n",
       "            if (id in Bokeh.index) {\n",
       "              Bokeh.index[id].model.document.clear();\n",
       "              delete Bokeh.index[id];\n",
       "            }\n",
       "          }\n",
       "        }\n",
       "      });\n",
       "      // Destroy server and session\n",
       "      var cmd = \"import bokeh.io.notebook as ion; ion.destroy_server('\" + server_id + \"')\";\n",
       "      cell.notebook.kernel.execute(cmd);\n",
       "    }\n",
       "  }\n",
       "\n",
       "  /**\n",
       "   * Handle when a new output is added\n",
       "   */\n",
       "  function handleAddOutput(event, handle) {\n",
       "    var output_area = handle.output_area;\n",
       "    var output = handle.output;\n",
       "\n",
       "    // limit handleAddOutput to display_data with EXEC_MIME_TYPE content only\n",
       "    if ((output.output_type != \"display_data\") || (!output.data.hasOwnProperty(EXEC_MIME_TYPE))) {\n",
       "      return\n",
       "    }\n",
       "\n",
       "    var toinsert = output_area.element.find(\".\" + CLASS_NAME.split(' ')[0]);\n",
       "\n",
       "    if (output.metadata[EXEC_MIME_TYPE][\"id\"] !== undefined) {\n",
       "      toinsert[toinsert.length - 1].firstChild.textContent = output.data[JS_MIME_TYPE];\n",
       "      // store reference to embed id on output_area\n",
       "      output_area._bokeh_element_id = output.metadata[EXEC_MIME_TYPE][\"id\"];\n",
       "    }\n",
       "    if (output.metadata[EXEC_MIME_TYPE][\"server_id\"] !== undefined) {\n",
       "      var bk_div = document.createElement(\"div\");\n",
       "      bk_div.innerHTML = output.data[HTML_MIME_TYPE];\n",
       "      var script_attrs = bk_div.children[0].attributes;\n",
       "      for (var i = 0; i < script_attrs.length; i++) {\n",
       "        toinsert[toinsert.length - 1].firstChild.setAttribute(script_attrs[i].name, script_attrs[i].value);\n",
       "      }\n",
       "      // store reference to server id on output_area\n",
       "      output_area._bokeh_server_id = output.metadata[EXEC_MIME_TYPE][\"server_id\"];\n",
       "    }\n",
       "  }\n",
       "\n",
       "  function register_renderer(events, OutputArea) {\n",
       "\n",
       "    function append_mime(data, metadata, element) {\n",
       "      // create a DOM node to render to\n",
       "      var toinsert = this.create_output_subarea(\n",
       "        metadata,\n",
       "        CLASS_NAME,\n",
       "        EXEC_MIME_TYPE\n",
       "      );\n",
       "      this.keyboard_manager.register_events(toinsert);\n",
       "      // Render to node\n",
       "      var props = {data: data, metadata: metadata[EXEC_MIME_TYPE]};\n",
       "      render(props, toinsert[toinsert.length - 1]);\n",
       "      element.append(toinsert);\n",
       "      return toinsert\n",
       "    }\n",
       "\n",
       "    /* Handle when an output is cleared or removed */\n",
       "    events.on('clear_output.CodeCell', handleClearOutput);\n",
       "    events.on('delete.Cell', handleClearOutput);\n",
       "\n",
       "    /* Handle when a new output is added */\n",
       "    events.on('output_added.OutputArea', handleAddOutput);\n",
       "\n",
       "    /**\n",
       "     * Register the mime type and append_mime function with output_area\n",
       "     */\n",
       "    OutputArea.prototype.register_mime_type(EXEC_MIME_TYPE, append_mime, {\n",
       "      /* Is output safe? */\n",
       "      safe: true,\n",
       "      /* Index of renderer in `output_area.display_order` */\n",
       "      index: 0\n",
       "    });\n",
       "  }\n",
       "\n",
       "  // register the mime type if in Jupyter Notebook environment and previously unregistered\n",
       "  if (root.Jupyter !== undefined) {\n",
       "    var events = require('base/js/events');\n",
       "    var OutputArea = require('notebook/js/outputarea').OutputArea;\n",
       "\n",
       "    if (OutputArea.prototype.mime_types().indexOf(EXEC_MIME_TYPE) == -1) {\n",
       "      register_renderer(events, OutputArea);\n",
       "    }\n",
       "  }\n",
       "\n",
       "  \n",
       "  if (typeof (root._bokeh_timeout) === \"undefined\" || force === true) {\n",
       "    root._bokeh_timeout = Date.now() + 5000;\n",
       "    root._bokeh_failed_load = false;\n",
       "  }\n",
       "\n",
       "  var NB_LOAD_WARNING = {'data': {'text/html':\n",
       "     \"<div style='background-color: #fdd'>\\n\"+\n",
       "     \"<p>\\n\"+\n",
       "     \"BokehJS does not appear to have successfully loaded. If loading BokehJS from CDN, this \\n\"+\n",
       "     \"may be due to a slow or bad network connection. Possible fixes:\\n\"+\n",
       "     \"</p>\\n\"+\n",
       "     \"<ul>\\n\"+\n",
       "     \"<li>re-rerun `output_notebook()` to attempt to load from CDN again, or</li>\\n\"+\n",
       "     \"<li>use INLINE resources instead, as so:</li>\\n\"+\n",
       "     \"</ul>\\n\"+\n",
       "     \"<code>\\n\"+\n",
       "     \"from bokeh.resources import INLINE\\n\"+\n",
       "     \"output_notebook(resources=INLINE)\\n\"+\n",
       "     \"</code>\\n\"+\n",
       "     \"</div>\"}};\n",
       "\n",
       "  function display_loaded() {\n",
       "    var el = document.getElementById(\"59d369b2-4d61-45a9-90a5-4b22b308634d\");\n",
       "    if (el != null) {\n",
       "      el.textContent = \"BokehJS is loading...\";\n",
       "    }\n",
       "    if (root.Bokeh !== undefined) {\n",
       "      if (el != null) {\n",
       "        el.textContent = \"BokehJS \" + root.Bokeh.version + \" successfully loaded.\";\n",
       "      }\n",
       "    } else if (Date.now() < root._bokeh_timeout) {\n",
       "      setTimeout(display_loaded, 100)\n",
       "    }\n",
       "  }\n",
       "\n",
       "\n",
       "  function run_callbacks() {\n",
       "    try {\n",
       "      root._bokeh_onload_callbacks.forEach(function(callback) { callback() });\n",
       "    }\n",
       "    finally {\n",
       "      delete root._bokeh_onload_callbacks\n",
       "    }\n",
       "    console.info(\"Bokeh: all callbacks have finished\");\n",
       "  }\n",
       "\n",
       "  function load_libs(js_urls, callback) {\n",
       "    root._bokeh_onload_callbacks.push(callback);\n",
       "    if (root._bokeh_is_loading > 0) {\n",
       "      console.log(\"Bokeh: BokehJS is being loaded, scheduling callback at\", now());\n",
       "      return null;\n",
       "    }\n",
       "    if (js_urls == null || js_urls.length === 0) {\n",
       "      run_callbacks();\n",
       "      return null;\n",
       "    }\n",
       "    console.log(\"Bokeh: BokehJS not loaded, scheduling load and callback at\", now());\n",
       "    root._bokeh_is_loading = js_urls.length;\n",
       "    for (var i = 0; i < js_urls.length; i++) {\n",
       "      var url = js_urls[i];\n",
       "      var s = document.createElement('script');\n",
       "      s.src = url;\n",
       "      s.async = false;\n",
       "      s.onreadystatechange = s.onload = function() {\n",
       "        root._bokeh_is_loading--;\n",
       "        if (root._bokeh_is_loading === 0) {\n",
       "          console.log(\"Bokeh: all BokehJS libraries loaded\");\n",
       "          run_callbacks()\n",
       "        }\n",
       "      };\n",
       "      s.onerror = function() {\n",
       "        console.warn(\"failed to load library \" + url);\n",
       "      };\n",
       "      console.log(\"Bokeh: injecting script tag for BokehJS library: \", url);\n",
       "      document.getElementsByTagName(\"head\")[0].appendChild(s);\n",
       "    }\n",
       "  };var element = document.getElementById(\"59d369b2-4d61-45a9-90a5-4b22b308634d\");\n",
       "  if (element == null) {\n",
       "    console.log(\"Bokeh: ERROR: autoload.js configured with elementid '59d369b2-4d61-45a9-90a5-4b22b308634d' but no matching script tag was found. \")\n",
       "    return false;\n",
       "  }\n",
       "\n",
       "  var js_urls = [\"https://cdn.pydata.org/bokeh/release/bokeh-0.13.0.min.js\", \"https://cdn.pydata.org/bokeh/release/bokeh-widgets-0.13.0.min.js\", \"https://cdn.pydata.org/bokeh/release/bokeh-tables-0.13.0.min.js\", \"https://cdn.pydata.org/bokeh/release/bokeh-gl-0.13.0.min.js\"];\n",
       "\n",
       "  var inline_js = [\n",
       "    function(Bokeh) {\n",
       "      Bokeh.set_log_level(\"info\");\n",
       "    },\n",
       "    \n",
       "    function(Bokeh) {\n",
       "      \n",
       "    },\n",
       "    function(Bokeh) {\n",
       "      console.log(\"Bokeh: injecting CSS: https://cdn.pydata.org/bokeh/release/bokeh-0.13.0.min.css\");\n",
       "      Bokeh.embed.inject_css(\"https://cdn.pydata.org/bokeh/release/bokeh-0.13.0.min.css\");\n",
       "      console.log(\"Bokeh: injecting CSS: https://cdn.pydata.org/bokeh/release/bokeh-widgets-0.13.0.min.css\");\n",
       "      Bokeh.embed.inject_css(\"https://cdn.pydata.org/bokeh/release/bokeh-widgets-0.13.0.min.css\");\n",
       "      console.log(\"Bokeh: injecting CSS: https://cdn.pydata.org/bokeh/release/bokeh-tables-0.13.0.min.css\");\n",
       "      Bokeh.embed.inject_css(\"https://cdn.pydata.org/bokeh/release/bokeh-tables-0.13.0.min.css\");\n",
       "    }\n",
       "  ];\n",
       "\n",
       "  function run_inline_js() {\n",
       "    \n",
       "    if ((root.Bokeh !== undefined) || (force === true)) {\n",
       "      for (var i = 0; i < inline_js.length; i++) {\n",
       "        inline_js[i].call(root, root.Bokeh);\n",
       "      }if (force === true) {\n",
       "        display_loaded();\n",
       "      }} else if (Date.now() < root._bokeh_timeout) {\n",
       "      setTimeout(run_inline_js, 100);\n",
       "    } else if (!root._bokeh_failed_load) {\n",
       "      console.log(\"Bokeh: BokehJS failed to load within specified timeout.\");\n",
       "      root._bokeh_failed_load = true;\n",
       "    } else if (force !== true) {\n",
       "      var cell = $(document.getElementById(\"59d369b2-4d61-45a9-90a5-4b22b308634d\")).parents('.cell').data().cell;\n",
       "      cell.output_area.append_execute_result(NB_LOAD_WARNING)\n",
       "    }\n",
       "\n",
       "  }\n",
       "\n",
       "  if (root._bokeh_is_loading === 0) {\n",
       "    console.log(\"Bokeh: BokehJS loaded, going straight to plotting\");\n",
       "    run_inline_js();\n",
       "  } else {\n",
       "    load_libs(js_urls, function() {\n",
       "      console.log(\"Bokeh: BokehJS plotting callback run at\", now());\n",
       "      run_inline_js();\n",
       "    });\n",
       "  }\n",
       "}(window));"
      ],
      "application/vnd.bokehjs_load.v0+json": "\n(function(root) {\n  function now() {\n    return new Date();\n  }\n\n  var force = true;\n\n  if (typeof (root._bokeh_onload_callbacks) === \"undefined\" || force === true) {\n    root._bokeh_onload_callbacks = [];\n    root._bokeh_is_loading = undefined;\n  }\n\n  \n\n  \n  if (typeof (root._bokeh_timeout) === \"undefined\" || force === true) {\n    root._bokeh_timeout = Date.now() + 5000;\n    root._bokeh_failed_load = false;\n  }\n\n  var NB_LOAD_WARNING = {'data': {'text/html':\n     \"<div style='background-color: #fdd'>\\n\"+\n     \"<p>\\n\"+\n     \"BokehJS does not appear to have successfully loaded. If loading BokehJS from CDN, this \\n\"+\n     \"may be due to a slow or bad network connection. Possible fixes:\\n\"+\n     \"</p>\\n\"+\n     \"<ul>\\n\"+\n     \"<li>re-rerun `output_notebook()` to attempt to load from CDN again, or</li>\\n\"+\n     \"<li>use INLINE resources instead, as so:</li>\\n\"+\n     \"</ul>\\n\"+\n     \"<code>\\n\"+\n     \"from bokeh.resources import INLINE\\n\"+\n     \"output_notebook(resources=INLINE)\\n\"+\n     \"</code>\\n\"+\n     \"</div>\"}};\n\n  function display_loaded() {\n    var el = document.getElementById(\"59d369b2-4d61-45a9-90a5-4b22b308634d\");\n    if (el != null) {\n      el.textContent = \"BokehJS is loading...\";\n    }\n    if (root.Bokeh !== undefined) {\n      if (el != null) {\n        el.textContent = \"BokehJS \" + root.Bokeh.version + \" successfully loaded.\";\n      }\n    } else if (Date.now() < root._bokeh_timeout) {\n      setTimeout(display_loaded, 100)\n    }\n  }\n\n\n  function run_callbacks() {\n    try {\n      root._bokeh_onload_callbacks.forEach(function(callback) { callback() });\n    }\n    finally {\n      delete root._bokeh_onload_callbacks\n    }\n    console.info(\"Bokeh: all callbacks have finished\");\n  }\n\n  function load_libs(js_urls, callback) {\n    root._bokeh_onload_callbacks.push(callback);\n    if (root._bokeh_is_loading > 0) {\n      console.log(\"Bokeh: BokehJS is being loaded, scheduling callback at\", now());\n      return null;\n    }\n    if (js_urls == null || js_urls.length === 0) {\n      run_callbacks();\n      return null;\n    }\n    console.log(\"Bokeh: BokehJS not loaded, scheduling load and callback at\", now());\n    root._bokeh_is_loading = js_urls.length;\n    for (var i = 0; i < js_urls.length; i++) {\n      var url = js_urls[i];\n      var s = document.createElement('script');\n      s.src = url;\n      s.async = false;\n      s.onreadystatechange = s.onload = function() {\n        root._bokeh_is_loading--;\n        if (root._bokeh_is_loading === 0) {\n          console.log(\"Bokeh: all BokehJS libraries loaded\");\n          run_callbacks()\n        }\n      };\n      s.onerror = function() {\n        console.warn(\"failed to load library \" + url);\n      };\n      console.log(\"Bokeh: injecting script tag for BokehJS library: \", url);\n      document.getElementsByTagName(\"head\")[0].appendChild(s);\n    }\n  };var element = document.getElementById(\"59d369b2-4d61-45a9-90a5-4b22b308634d\");\n  if (element == null) {\n    console.log(\"Bokeh: ERROR: autoload.js configured with elementid '59d369b2-4d61-45a9-90a5-4b22b308634d' but no matching script tag was found. \")\n    return false;\n  }\n\n  var js_urls = [\"https://cdn.pydata.org/bokeh/release/bokeh-0.13.0.min.js\", \"https://cdn.pydata.org/bokeh/release/bokeh-widgets-0.13.0.min.js\", \"https://cdn.pydata.org/bokeh/release/bokeh-tables-0.13.0.min.js\", \"https://cdn.pydata.org/bokeh/release/bokeh-gl-0.13.0.min.js\"];\n\n  var inline_js = [\n    function(Bokeh) {\n      Bokeh.set_log_level(\"info\");\n    },\n    \n    function(Bokeh) {\n      \n    },\n    function(Bokeh) {\n      console.log(\"Bokeh: injecting CSS: https://cdn.pydata.org/bokeh/release/bokeh-0.13.0.min.css\");\n      Bokeh.embed.inject_css(\"https://cdn.pydata.org/bokeh/release/bokeh-0.13.0.min.css\");\n      console.log(\"Bokeh: injecting CSS: https://cdn.pydata.org/bokeh/release/bokeh-widgets-0.13.0.min.css\");\n      Bokeh.embed.inject_css(\"https://cdn.pydata.org/bokeh/release/bokeh-widgets-0.13.0.min.css\");\n      console.log(\"Bokeh: injecting CSS: https://cdn.pydata.org/bokeh/release/bokeh-tables-0.13.0.min.css\");\n      Bokeh.embed.inject_css(\"https://cdn.pydata.org/bokeh/release/bokeh-tables-0.13.0.min.css\");\n    }\n  ];\n\n  function run_inline_js() {\n    \n    if ((root.Bokeh !== undefined) || (force === true)) {\n      for (var i = 0; i < inline_js.length; i++) {\n        inline_js[i].call(root, root.Bokeh);\n      }if (force === true) {\n        display_loaded();\n      }} else if (Date.now() < root._bokeh_timeout) {\n      setTimeout(run_inline_js, 100);\n    } else if (!root._bokeh_failed_load) {\n      console.log(\"Bokeh: BokehJS failed to load within specified timeout.\");\n      root._bokeh_failed_load = true;\n    } else if (force !== true) {\n      var cell = $(document.getElementById(\"59d369b2-4d61-45a9-90a5-4b22b308634d\")).parents('.cell').data().cell;\n      cell.output_area.append_execute_result(NB_LOAD_WARNING)\n    }\n\n  }\n\n  if (root._bokeh_is_loading === 0) {\n    console.log(\"Bokeh: BokehJS loaded, going straight to plotting\");\n    run_inline_js();\n  } else {\n    load_libs(js_urls, function() {\n      console.log(\"Bokeh: BokehJS plotting callback run at\", now());\n      run_inline_js();\n    });\n  }\n}(window));"
     },
     "metadata": {},
     "output_type": "display_data"
    }
   ],
   "source": [
    "%load_ext autoreload\n",
    "%autoreload 2\n",
    "\n",
    "import pandas as pd\n",
    "\n",
    "import bebi103\n",
    "\n",
    "import bokeh.io\n",
    "bokeh.io.output_notebook()"
   ]
  },
  {
   "cell_type": "code",
   "execution_count": 34,
   "metadata": {},
   "outputs": [],
   "source": [
    "df = pd.read_csv('frog_tongue_adhesion.csv', comment='#')\n",
    "\n",
    "data_dict = {'ID': ['I', 'II', 'III', 'IV'],\n",
    "             'age': ['adult', 'adult', 'juvenile', 'juvenile'],\n",
    "             'SVL (mm)': [63, 70, 28, 31],\n",
    "             'weight (g)': [63.1, 72.7, 12.7, 12.7],\n",
    "             'species': ['cross', 'cross', 'cranwelli', 'cranwelli']}\n",
    "\n",
    "df = df.merge(pd.DataFrame(data=data_dict))"
   ]
  },
  {
   "cell_type": "markdown",
   "metadata": {},
   "source": [
    "## Jitter plots"
   ]
  },
  {
   "cell_type": "code",
   "execution_count": 46,
   "metadata": {},
   "outputs": [
    {
     "data": {
      "text/html": [
       "\n",
       "\n",
       "\n",
       "\n",
       "\n",
       "\n",
       "  <div class=\"bk-root\" id=\"589c19ed-235e-4a22-aa6a-7bf8a4183c56\"></div>\n"
      ]
     },
     "metadata": {},
     "output_type": "display_data"
    },
    {
     "data": {
      "application/javascript": [
       "(function(root) {\n",
       "  function embed_document(root) {\n",
       "    \n",
       "  var docs_json = {\"c16935fd-f972-4da0-94e4-359822d397ca\":{\"roots\":{\"references\":[{\"attributes\":{},\"id\":\"d0793e7a-75ee-4fd1-a624-5026dfc7a60e\",\"type\":\"WheelZoomTool\"},{\"attributes\":{\"below\":[{\"id\":\"a9c565cd-f0eb-44fd-b2d9-d6596cd42d6e\",\"type\":\"CategoricalAxis\"}],\"left\":[{\"id\":\"8e3dfd75-f53b-4623-9166-9b6eaba33616\",\"type\":\"LinearAxis\"}],\"plot_height\":300,\"plot_width\":400,\"renderers\":[{\"id\":\"a9c565cd-f0eb-44fd-b2d9-d6596cd42d6e\",\"type\":\"CategoricalAxis\"},{\"id\":\"a6fac590-cca5-47b9-9620-f3c66e4daf44\",\"type\":\"Grid\"},{\"id\":\"8e3dfd75-f53b-4623-9166-9b6eaba33616\",\"type\":\"LinearAxis\"},{\"id\":\"e1cc8858-a5e4-481e-b879-a3061299a052\",\"type\":\"Grid\"},{\"id\":\"66ee25b1-1d67-4fa7-84c5-def0951bcce1\",\"type\":\"BoxAnnotation\"},{\"id\":\"b8616ec5-866d-47ba-8a7e-11e15a9bb6f1\",\"type\":\"GlyphRenderer\"}],\"title\":null,\"toolbar\":{\"id\":\"c93beadf-c308-44c0-bff7-83ad3b6fe172\",\"type\":\"Toolbar\"},\"x_range\":{\"id\":\"01b696fa-74d2-4f8e-90a7-649c76eac4b1\",\"type\":\"FactorRange\"},\"x_scale\":{\"id\":\"8f67da44-6d7a-4038-91b0-f468affecc60\",\"type\":\"CategoricalScale\"},\"y_range\":{\"id\":\"765165fa-0243-4a00-84ef-2a6d9eda563d\",\"type\":\"DataRange1d\"},\"y_scale\":{\"id\":\"fe5e9941-64ce-4c38-9a4f-80614a06d49d\",\"type\":\"LinearScale\"}},\"id\":\"abf0dd7b-9fb5-4427-a6ac-96809172c7d3\",\"subtype\":\"Figure\",\"type\":\"Plot\"},{\"attributes\":{\"dimension\":1,\"plot\":{\"id\":\"abf0dd7b-9fb5-4427-a6ac-96809172c7d3\",\"subtype\":\"Figure\",\"type\":\"Plot\"},\"ticker\":{\"id\":\"f3f43e92-7865-49a4-8569-a4a7b5b97259\",\"type\":\"BasicTicker\"}},\"id\":\"e1cc8858-a5e4-481e-b879-a3061299a052\",\"type\":\"Grid\"},{\"attributes\":{\"overlay\":{\"id\":\"66ee25b1-1d67-4fa7-84c5-def0951bcce1\",\"type\":\"BoxAnnotation\"}},\"id\":\"a448ead5-8c8a-46e6-84f0-9ee897b08752\",\"type\":\"BoxZoomTool\"},{\"attributes\":{},\"id\":\"76fff003-b130-4c23-b7d0-77d2cd2aef81\",\"type\":\"SaveTool\"},{\"attributes\":{\"callback\":null,\"data\":{\"ID\":[\"I\",\"I\",\"I\",\"I\",\"I\",\"I\",\"I\",\"I\",\"I\",\"I\",\"I\",\"I\",\"I\",\"I\",\"I\",\"I\",\"I\",\"I\",\"I\",\"I\",\"II\",\"II\",\"II\",\"II\",\"II\",\"II\",\"II\",\"II\",\"II\",\"II\",\"II\",\"II\",\"II\",\"II\",\"II\",\"II\",\"II\",\"II\",\"II\",\"II\",\"III\",\"III\",\"III\",\"III\",\"III\",\"III\",\"III\",\"III\",\"III\",\"III\",\"III\",\"III\",\"III\",\"III\",\"III\",\"III\",\"III\",\"III\",\"III\",\"III\",\"IV\",\"IV\",\"IV\",\"IV\",\"IV\",\"IV\",\"IV\",\"IV\",\"IV\",\"IV\",\"IV\",\"IV\",\"IV\",\"IV\",\"IV\",\"IV\",\"IV\",\"IV\",\"IV\",\"IV\"],\"__label\":[\"I\",\"I\",\"I\",\"I\",\"I\",\"I\",\"I\",\"I\",\"I\",\"I\",\"I\",\"I\",\"I\",\"I\",\"I\",\"I\",\"I\",\"I\",\"I\",\"I\",\"II\",\"II\",\"II\",\"II\",\"II\",\"II\",\"II\",\"II\",\"II\",\"II\",\"II\",\"II\",\"II\",\"II\",\"II\",\"II\",\"II\",\"II\",\"II\",\"II\",\"III\",\"III\",\"III\",\"III\",\"III\",\"III\",\"III\",\"III\",\"III\",\"III\",\"III\",\"III\",\"III\",\"III\",\"III\",\"III\",\"III\",\"III\",\"III\",\"III\",\"IV\",\"IV\",\"IV\",\"IV\",\"IV\",\"IV\",\"IV\",\"IV\",\"IV\",\"IV\",\"IV\",\"IV\",\"IV\",\"IV\",\"IV\",\"IV\",\"IV\",\"IV\",\"IV\",\"IV\"],\"cat\":[\"I\",\"I\",\"I\",\"I\",\"I\",\"I\",\"I\",\"I\",\"I\",\"I\",\"I\",\"I\",\"I\",\"I\",\"I\",\"I\",\"I\",\"I\",\"I\",\"I\",\"II\",\"II\",\"II\",\"II\",\"II\",\"II\",\"II\",\"II\",\"II\",\"II\",\"II\",\"II\",\"II\",\"II\",\"II\",\"II\",\"II\",\"II\",\"II\",\"II\",\"III\",\"III\",\"III\",\"III\",\"III\",\"III\",\"III\",\"III\",\"III\",\"III\",\"III\",\"III\",\"III\",\"III\",\"III\",\"III\",\"III\",\"III\",\"III\",\"III\",\"IV\",\"IV\",\"IV\",\"IV\",\"IV\",\"IV\",\"IV\",\"IV\",\"IV\",\"IV\",\"IV\",\"IV\",\"IV\",\"IV\",\"IV\",\"IV\",\"IV\",\"IV\",\"IV\",\"IV\"],\"impact force (mN)\":[1205,2527,1745,1556,493,2276,556,1928,2641,1897,1891,1545,1307,1692,1543,1282,775,2032,1240,473,1612,605,327,946,541,1539,529,628,1453,297,703,269,751,245,1182,515,435,383,457,730,614,414,324,776,611,544,538,579,806,459,458,626,621,544,535,385,401,614,665,488,172,142,37,453,355,22,502,273,720,582,198,198,597,516,815,402,605,711,614,468]},\"selected\":{\"id\":\"2052b47a-687e-4fe7-bfe1-34f5cd9722c7\",\"type\":\"Selection\"},\"selection_policy\":{\"id\":\"89b6b58c-0741-4803-ac30-b3c3f7e26092\",\"type\":\"UnionRenderers\"}},\"id\":\"f5e3ddfd-d71a-43a1-8407-e3e3e571422d\",\"type\":\"ColumnDataSource\"},{\"attributes\":{},\"id\":\"1869e11b-667f-4925-87de-4351898a7e5c\",\"type\":\"ResetTool\"},{\"attributes\":{\"active_drag\":\"auto\",\"active_inspect\":\"auto\",\"active_multi\":null,\"active_scroll\":\"auto\",\"active_tap\":\"auto\",\"tools\":[{\"id\":\"ce738319-a7fd-4dd8-8227-550e4afc788c\",\"type\":\"PanTool\"},{\"id\":\"d0793e7a-75ee-4fd1-a624-5026dfc7a60e\",\"type\":\"WheelZoomTool\"},{\"id\":\"a448ead5-8c8a-46e6-84f0-9ee897b08752\",\"type\":\"BoxZoomTool\"},{\"id\":\"76fff003-b130-4c23-b7d0-77d2cd2aef81\",\"type\":\"SaveTool\"},{\"id\":\"1869e11b-667f-4925-87de-4351898a7e5c\",\"type\":\"ResetTool\"},{\"id\":\"3b6be870-8321-4e58-be36-ea2a04d2cb76\",\"type\":\"HelpTool\"}]},\"id\":\"c93beadf-c308-44c0-bff7-83ad3b6fe172\",\"type\":\"Toolbar\"},{\"attributes\":{\"axis_label\":\"impact force (mN)\",\"formatter\":{\"id\":\"8de7e52a-9afb-41c8-9b26-6183abd4f4ec\",\"type\":\"BasicTickFormatter\"},\"plot\":{\"id\":\"abf0dd7b-9fb5-4427-a6ac-96809172c7d3\",\"subtype\":\"Figure\",\"type\":\"Plot\"},\"ticker\":{\"id\":\"f3f43e92-7865-49a4-8569-a4a7b5b97259\",\"type\":\"BasicTicker\"}},\"id\":\"8e3dfd75-f53b-4623-9166-9b6eaba33616\",\"type\":\"LinearAxis\"},{\"attributes\":{\"data_source\":{\"id\":\"f5e3ddfd-d71a-43a1-8407-e3e3e571422d\",\"type\":\"ColumnDataSource\"},\"glyph\":{\"id\":\"1fa58654-3585-4d30-874c-8b4807e74544\",\"type\":\"Circle\"},\"hover_glyph\":null,\"muted_glyph\":null,\"nonselection_glyph\":{\"id\":\"a26b4de0-7f21-41ce-a0b7-02e316a4b2a0\",\"type\":\"Circle\"},\"selection_glyph\":null,\"view\":{\"id\":\"e06c90ff-2377-4d37-9223-21605d50aaaa\",\"type\":\"CDSView\"}},\"id\":\"b8616ec5-866d-47ba-8a7e-11e15a9bb6f1\",\"type\":\"GlyphRenderer\"},{\"attributes\":{},\"id\":\"8f67da44-6d7a-4038-91b0-f468affecc60\",\"type\":\"CategoricalScale\"},{\"attributes\":{\"source\":{\"id\":\"f5e3ddfd-d71a-43a1-8407-e3e3e571422d\",\"type\":\"ColumnDataSource\"}},\"id\":\"e06c90ff-2377-4d37-9223-21605d50aaaa\",\"type\":\"CDSView\"},{\"attributes\":{},\"id\":\"fe5e9941-64ce-4c38-9a4f-80614a06d49d\",\"type\":\"LinearScale\"},{\"attributes\":{\"axis_label\":\"ID\",\"formatter\":{\"id\":\"ba713a86-4bfd-4a55-8e31-4ebcfd58ced2\",\"type\":\"CategoricalTickFormatter\"},\"plot\":{\"id\":\"abf0dd7b-9fb5-4427-a6ac-96809172c7d3\",\"subtype\":\"Figure\",\"type\":\"Plot\"},\"ticker\":{\"id\":\"042a207c-f20c-4e12-bf72-e04d3b1e0821\",\"type\":\"CategoricalTicker\"}},\"id\":\"a9c565cd-f0eb-44fd-b2d9-d6596cd42d6e\",\"type\":\"CategoricalAxis\"},{\"attributes\":{\"range\":{\"id\":\"01b696fa-74d2-4f8e-90a7-649c76eac4b1\",\"type\":\"FactorRange\"},\"width\":0.4},\"id\":\"bdf65903-c4ba-4dbf-925d-ce0fd1a0fc7c\",\"type\":\"Jitter\"},{\"attributes\":{},\"id\":\"f3f43e92-7865-49a4-8569-a4a7b5b97259\",\"type\":\"BasicTicker\"},{\"attributes\":{\"callback\":null,\"factors\":[\"I\",\"II\",\"III\",\"IV\"]},\"id\":\"01b696fa-74d2-4f8e-90a7-649c76eac4b1\",\"type\":\"FactorRange\"},{\"attributes\":{},\"id\":\"89b6b58c-0741-4803-ac30-b3c3f7e26092\",\"type\":\"UnionRenderers\"},{\"attributes\":{},\"id\":\"3b6be870-8321-4e58-be36-ea2a04d2cb76\",\"type\":\"HelpTool\"},{\"attributes\":{},\"id\":\"2052b47a-687e-4fe7-bfe1-34f5cd9722c7\",\"type\":\"Selection\"},{\"attributes\":{},\"id\":\"ba713a86-4bfd-4a55-8e31-4ebcfd58ced2\",\"type\":\"CategoricalTickFormatter\"},{\"attributes\":{},\"id\":\"ce738319-a7fd-4dd8-8227-550e4afc788c\",\"type\":\"PanTool\"},{\"attributes\":{\"callback\":null},\"id\":\"765165fa-0243-4a00-84ef-2a6d9eda563d\",\"type\":\"DataRange1d\"},{\"attributes\":{\"factors\":[\"I\",\"II\",\"III\",\"IV\"],\"palette\":[\"#4e79a7\",\"#f28e2b\",\"#e15759\",\"#76b7b2\",\"#59a14f\",\"#edc948\",\"#b07aa1\",\"#ff9da7\",\"#9c755f\",\"#bab0ac\"]},\"id\":\"6a3f012a-58bc-4fd0-b3f9-2b9f9af8ed39\",\"type\":\"CategoricalColorMapper\"},{\"attributes\":{},\"id\":\"8de7e52a-9afb-41c8-9b26-6183abd4f4ec\",\"type\":\"BasicTickFormatter\"},{\"attributes\":{\"fill_alpha\":{\"value\":0.1},\"fill_color\":{\"value\":\"#1f77b4\"},\"line_alpha\":{\"value\":0.1},\"line_color\":{\"value\":\"#1f77b4\"},\"x\":{\"field\":\"cat\",\"transform\":{\"id\":\"bdf65903-c4ba-4dbf-925d-ce0fd1a0fc7c\",\"type\":\"Jitter\"}},\"y\":{\"field\":\"impact force (mN)\"}},\"id\":\"a26b4de0-7f21-41ce-a0b7-02e316a4b2a0\",\"type\":\"Circle\"},{\"attributes\":{\"bottom_units\":\"screen\",\"fill_alpha\":{\"value\":0.5},\"fill_color\":{\"value\":\"lightgrey\"},\"left_units\":\"screen\",\"level\":\"overlay\",\"line_alpha\":{\"value\":1.0},\"line_color\":{\"value\":\"black\"},\"line_dash\":[4,4],\"line_width\":{\"value\":2},\"plot\":null,\"render_mode\":\"css\",\"right_units\":\"screen\",\"top_units\":\"screen\"},\"id\":\"66ee25b1-1d67-4fa7-84c5-def0951bcce1\",\"type\":\"BoxAnnotation\"},{\"attributes\":{\"grid_line_color\":{\"value\":null},\"plot\":{\"id\":\"abf0dd7b-9fb5-4427-a6ac-96809172c7d3\",\"subtype\":\"Figure\",\"type\":\"Plot\"},\"ticker\":{\"id\":\"042a207c-f20c-4e12-bf72-e04d3b1e0821\",\"type\":\"CategoricalTicker\"}},\"id\":\"a6fac590-cca5-47b9-9620-f3c66e4daf44\",\"type\":\"Grid\"},{\"attributes\":{\"fill_color\":{\"field\":\"cat\",\"transform\":{\"id\":\"6a3f012a-58bc-4fd0-b3f9-2b9f9af8ed39\",\"type\":\"CategoricalColorMapper\"}},\"line_color\":{\"field\":\"cat\",\"transform\":{\"id\":\"6a3f012a-58bc-4fd0-b3f9-2b9f9af8ed39\",\"type\":\"CategoricalColorMapper\"}},\"x\":{\"field\":\"cat\",\"transform\":{\"id\":\"bdf65903-c4ba-4dbf-925d-ce0fd1a0fc7c\",\"type\":\"Jitter\"}},\"y\":{\"field\":\"impact force (mN)\"}},\"id\":\"1fa58654-3585-4d30-874c-8b4807e74544\",\"type\":\"Circle\"},{\"attributes\":{},\"id\":\"042a207c-f20c-4e12-bf72-e04d3b1e0821\",\"type\":\"CategoricalTicker\"}],\"root_ids\":[\"abf0dd7b-9fb5-4427-a6ac-96809172c7d3\"]},\"title\":\"Bokeh Application\",\"version\":\"0.13.0\"}};\n",
       "  var render_items = [{\"docid\":\"c16935fd-f972-4da0-94e4-359822d397ca\",\"roots\":{\"abf0dd7b-9fb5-4427-a6ac-96809172c7d3\":\"589c19ed-235e-4a22-aa6a-7bf8a4183c56\"}}];\n",
       "  root.Bokeh.embed.embed_items_notebook(docs_json, render_items);\n",
       "\n",
       "  }\n",
       "  if (root.Bokeh !== undefined) {\n",
       "    embed_document(root);\n",
       "  } else {\n",
       "    var attempts = 0;\n",
       "    var timer = setInterval(function(root) {\n",
       "      if (root.Bokeh !== undefined) {\n",
       "        embed_document(root);\n",
       "        clearInterval(timer);\n",
       "      }\n",
       "      attempts++;\n",
       "      if (attempts > 100) {\n",
       "        console.log(\"Bokeh: ERROR: Unable to run BokehJS code because BokehJS library is missing\")\n",
       "        clearInterval(timer);\n",
       "      }\n",
       "    }, 10, root)\n",
       "  }\n",
       "})(window);"
      ],
      "application/vnd.bokehjs_exec.v0+json": ""
     },
     "metadata": {
      "application/vnd.bokehjs_exec.v0+json": {
       "id": "abf0dd7b-9fb5-4427-a6ac-96809172c7d3"
      }
     },
     "output_type": "display_data"
    }
   ],
   "source": [
    "p = bebi103.viz.jitter( data=df, \n",
    "                        cats='ID', \n",
    "                        val='impact force (mN)', \n",
    "                        p=None, \n",
    "                        horizontal=False, \n",
    "                        x_axis_label='ID', \n",
    "                        y_axis_label='impact force (mN)', \n",
    "                        title=None, \n",
    "                        plot_height=300, \n",
    "                        plot_width=400, \n",
    "                        palette=['#4e79a7', '#f28e2b', '#e15759', '#76b7b2', '#59a14f',\n",
    "                                 '#edc948', '#b07aa1', '#ff9da7', '#9c755f', '#bab0ac'],\n",
    "                        width=0.4, \n",
    "                        order=None, \n",
    "                        val_axis_type='linear', \n",
    "                        show_legend=False,\n",
    "                        color_column=None, \n",
    "                        tooltips=None)\n",
    "bokeh.io.show(p) "
   ]
  },
  {
   "cell_type": "code",
   "execution_count": 47,
   "metadata": {},
   "outputs": [
    {
     "data": {
      "text/html": [
       "\n",
       "\n",
       "\n",
       "\n",
       "\n",
       "\n",
       "  <div class=\"bk-root\" id=\"1e8baf1d-bffb-462b-b24f-dc582b472a53\"></div>\n"
      ]
     },
     "metadata": {},
     "output_type": "display_data"
    },
    {
     "data": {
      "application/javascript": [
       "(function(root) {\n",
       "  function embed_document(root) {\n",
       "    \n",
       "  var docs_json = {\"dd8ccd8d-02fe-4b07-b67c-86cfebe529ec\":{\"roots\":{\"references\":[{\"attributes\":{},\"id\":\"cdbe57f1-ec67-4d9c-9743-3432b2688bf7\",\"type\":\"CategoricalTicker\"},{\"attributes\":{},\"id\":\"24f39534-df64-409d-a07d-09e0271b3633\",\"type\":\"SaveTool\"},{\"attributes\":{\"axis_label\":\"ID\",\"formatter\":{\"id\":\"cc173337-54c9-4647-8eb1-b2165a8e9876\",\"type\":\"CategoricalTickFormatter\"},\"plot\":{\"id\":\"b9af5d85-9ff2-40e8-aea4-8a6e626cd512\",\"subtype\":\"Figure\",\"type\":\"Plot\"},\"ticker\":{\"id\":\"cdbe57f1-ec67-4d9c-9743-3432b2688bf7\",\"type\":\"CategoricalTicker\"}},\"id\":\"2f717cb9-f8dd-45d4-a660-f7bc65d4554a\",\"type\":\"CategoricalAxis\"},{\"attributes\":{\"callback\":null},\"id\":\"f26be8e8-19ba-438b-bfab-f6341a2833c1\",\"type\":\"DataRange1d\"},{\"attributes\":{\"source\":{\"id\":\"2bb0d95e-a385-4a11-b5ae-63342107abab\",\"type\":\"ColumnDataSource\"}},\"id\":\"1f4a5417-1913-45fe-b7c3-d7fa45582bf5\",\"type\":\"CDSView\"},{\"attributes\":{\"grid_line_color\":{\"value\":null},\"plot\":{\"id\":\"b9af5d85-9ff2-40e8-aea4-8a6e626cd512\",\"subtype\":\"Figure\",\"type\":\"Plot\"},\"ticker\":{\"id\":\"cdbe57f1-ec67-4d9c-9743-3432b2688bf7\",\"type\":\"CategoricalTicker\"}},\"id\":\"96b8f4d0-0034-4aa4-9a25-a72ce9e0ca35\",\"type\":\"Grid\"},{\"attributes\":{\"axis_label\":\"impact force (mN)\",\"formatter\":{\"id\":\"7412ab2d-0430-4f8b-9c5b-80a84d4e7834\",\"type\":\"BasicTickFormatter\"},\"plot\":{\"id\":\"b9af5d85-9ff2-40e8-aea4-8a6e626cd512\",\"subtype\":\"Figure\",\"type\":\"Plot\"},\"ticker\":{\"id\":\"efe4bc13-141c-4632-bfcb-c4fbf857c6e4\",\"type\":\"BasicTicker\"}},\"id\":\"3aa6fbfb-17fc-49cd-91f8-794e386a4a66\",\"type\":\"LinearAxis\"},{\"attributes\":{},\"id\":\"5ae2e32e-b1b2-40e4-adce-2f20bdfdd9df\",\"type\":\"LinearScale\"},{\"attributes\":{\"bottom_units\":\"screen\",\"fill_alpha\":{\"value\":0.5},\"fill_color\":{\"value\":\"lightgrey\"},\"left_units\":\"screen\",\"level\":\"overlay\",\"line_alpha\":{\"value\":1.0},\"line_color\":{\"value\":\"black\"},\"line_dash\":[4,4],\"line_width\":{\"value\":2},\"plot\":null,\"render_mode\":\"css\",\"right_units\":\"screen\",\"top_units\":\"screen\"},\"id\":\"dada3dfc-c4db-45c6-a62f-8708e7e739a2\",\"type\":\"BoxAnnotation\"},{\"attributes\":{\"active_drag\":\"auto\",\"active_inspect\":\"auto\",\"active_multi\":null,\"active_scroll\":\"auto\",\"active_tap\":\"auto\",\"tools\":[{\"id\":\"20dd3685-0b4c-4c21-ad40-eb15155d1577\",\"type\":\"PanTool\"},{\"id\":\"d95ca70a-d712-4215-9174-ab2436697a8c\",\"type\":\"WheelZoomTool\"},{\"id\":\"19d42f70-5685-4049-b69f-d46328455da6\",\"type\":\"BoxZoomTool\"},{\"id\":\"24f39534-df64-409d-a07d-09e0271b3633\",\"type\":\"SaveTool\"},{\"id\":\"77a2f89f-c8f8-4ba1-9026-d6b325ba12bf\",\"type\":\"ResetTool\"},{\"id\":\"8274844f-f9f9-4132-95ce-4f5712f5a54c\",\"type\":\"HelpTool\"}]},\"id\":\"2c556503-1d1b-4532-be3f-afc8f1dcb0e2\",\"type\":\"Toolbar\"},{\"attributes\":{\"data_source\":{\"id\":\"2bb0d95e-a385-4a11-b5ae-63342107abab\",\"type\":\"ColumnDataSource\"},\"glyph\":{\"id\":\"5e360711-dea9-4118-be0a-ed464625a61b\",\"type\":\"Circle\"},\"hover_glyph\":null,\"muted_glyph\":null,\"nonselection_glyph\":{\"id\":\"a09961ad-faeb-482a-ad08-485fb3203a1b\",\"type\":\"Circle\"},\"selection_glyph\":null,\"view\":{\"id\":\"1f4a5417-1913-45fe-b7c3-d7fa45582bf5\",\"type\":\"CDSView\"}},\"id\":\"4736b1f7-ff32-4a39-930d-3e483365df9b\",\"type\":\"GlyphRenderer\"},{\"attributes\":{},\"id\":\"20dd3685-0b4c-4c21-ad40-eb15155d1577\",\"type\":\"PanTool\"},{\"attributes\":{},\"id\":\"8274844f-f9f9-4132-95ce-4f5712f5a54c\",\"type\":\"HelpTool\"},{\"attributes\":{\"below\":[{\"id\":\"2f717cb9-f8dd-45d4-a660-f7bc65d4554a\",\"type\":\"CategoricalAxis\"}],\"left\":[{\"id\":\"3aa6fbfb-17fc-49cd-91f8-794e386a4a66\",\"type\":\"LinearAxis\"}],\"plot_height\":300,\"plot_width\":400,\"renderers\":[{\"id\":\"2f717cb9-f8dd-45d4-a660-f7bc65d4554a\",\"type\":\"CategoricalAxis\"},{\"id\":\"96b8f4d0-0034-4aa4-9a25-a72ce9e0ca35\",\"type\":\"Grid\"},{\"id\":\"3aa6fbfb-17fc-49cd-91f8-794e386a4a66\",\"type\":\"LinearAxis\"},{\"id\":\"5614ff63-4c75-4108-8fae-a1828b0f0158\",\"type\":\"Grid\"},{\"id\":\"dada3dfc-c4db-45c6-a62f-8708e7e739a2\",\"type\":\"BoxAnnotation\"},{\"id\":\"4736b1f7-ff32-4a39-930d-3e483365df9b\",\"type\":\"GlyphRenderer\"}],\"title\":null,\"toolbar\":{\"id\":\"2c556503-1d1b-4532-be3f-afc8f1dcb0e2\",\"type\":\"Toolbar\"},\"x_range\":{\"id\":\"8c96ef57-e106-4d12-8948-cf772d453f43\",\"type\":\"FactorRange\"},\"x_scale\":{\"id\":\"c45d9dc0-991a-4096-894d-79a56398df0c\",\"type\":\"CategoricalScale\"},\"y_range\":{\"id\":\"f26be8e8-19ba-438b-bfab-f6341a2833c1\",\"type\":\"DataRange1d\"},\"y_scale\":{\"id\":\"5ae2e32e-b1b2-40e4-adce-2f20bdfdd9df\",\"type\":\"LinearScale\"}},\"id\":\"b9af5d85-9ff2-40e8-aea4-8a6e626cd512\",\"subtype\":\"Figure\",\"type\":\"Plot\"},{\"attributes\":{\"range\":{\"id\":\"8c96ef57-e106-4d12-8948-cf772d453f43\",\"type\":\"FactorRange\"},\"width\":0.4},\"id\":\"b6f933b4-a3c2-4dec-89d5-343a317b0021\",\"type\":\"Jitter\"},{\"attributes\":{},\"id\":\"cc173337-54c9-4647-8eb1-b2165a8e9876\",\"type\":\"CategoricalTickFormatter\"},{\"attributes\":{},\"id\":\"d95ca70a-d712-4215-9174-ab2436697a8c\",\"type\":\"WheelZoomTool\"},{\"attributes\":{},\"id\":\"efe4bc13-141c-4632-bfcb-c4fbf857c6e4\",\"type\":\"BasicTicker\"},{\"attributes\":{},\"id\":\"c45d9dc0-991a-4096-894d-79a56398df0c\",\"type\":\"CategoricalScale\"},{\"attributes\":{\"callback\":null,\"data\":{\"ID\":[\"I\",\"I\",\"I\",\"I\",\"I\",\"I\",\"I\",\"I\",\"I\",\"I\",\"I\",\"I\",\"I\",\"I\",\"I\",\"I\",\"I\",\"I\",\"I\",\"I\",\"II\",\"II\",\"II\",\"II\",\"II\",\"II\",\"II\",\"II\",\"II\",\"II\",\"II\",\"II\",\"II\",\"II\",\"II\",\"II\",\"II\",\"II\",\"II\",\"II\",\"III\",\"III\",\"III\",\"III\",\"III\",\"III\",\"III\",\"III\",\"III\",\"III\",\"III\",\"III\",\"III\",\"III\",\"III\",\"III\",\"III\",\"III\",\"III\",\"III\",\"IV\",\"IV\",\"IV\",\"IV\",\"IV\",\"IV\",\"IV\",\"IV\",\"IV\",\"IV\",\"IV\",\"IV\",\"IV\",\"IV\",\"IV\",\"IV\",\"IV\",\"IV\",\"IV\",\"IV\"],\"__label\":[\"adult\",\"adult\",\"adult\",\"adult\",\"adult\",\"adult\",\"adult\",\"adult\",\"adult\",\"adult\",\"adult\",\"adult\",\"adult\",\"adult\",\"adult\",\"adult\",\"adult\",\"adult\",\"adult\",\"adult\",\"adult\",\"adult\",\"adult\",\"adult\",\"adult\",\"adult\",\"adult\",\"adult\",\"adult\",\"adult\",\"adult\",\"adult\",\"adult\",\"adult\",\"adult\",\"adult\",\"adult\",\"adult\",\"adult\",\"adult\",\"juvenile\",\"juvenile\",\"juvenile\",\"juvenile\",\"juvenile\",\"juvenile\",\"juvenile\",\"juvenile\",\"juvenile\",\"juvenile\",\"juvenile\",\"juvenile\",\"juvenile\",\"juvenile\",\"juvenile\",\"juvenile\",\"juvenile\",\"juvenile\",\"juvenile\",\"juvenile\",\"juvenile\",\"juvenile\",\"juvenile\",\"juvenile\",\"juvenile\",\"juvenile\",\"juvenile\",\"juvenile\",\"juvenile\",\"juvenile\",\"juvenile\",\"juvenile\",\"juvenile\",\"juvenile\",\"juvenile\",\"juvenile\",\"juvenile\",\"juvenile\",\"juvenile\",\"juvenile\"],\"age\":[\"adult\",\"adult\",\"adult\",\"adult\",\"adult\",\"adult\",\"adult\",\"adult\",\"adult\",\"adult\",\"adult\",\"adult\",\"adult\",\"adult\",\"adult\",\"adult\",\"adult\",\"adult\",\"adult\",\"adult\",\"adult\",\"adult\",\"adult\",\"adult\",\"adult\",\"adult\",\"adult\",\"adult\",\"adult\",\"adult\",\"adult\",\"adult\",\"adult\",\"adult\",\"adult\",\"adult\",\"adult\",\"adult\",\"adult\",\"adult\",\"juvenile\",\"juvenile\",\"juvenile\",\"juvenile\",\"juvenile\",\"juvenile\",\"juvenile\",\"juvenile\",\"juvenile\",\"juvenile\",\"juvenile\",\"juvenile\",\"juvenile\",\"juvenile\",\"juvenile\",\"juvenile\",\"juvenile\",\"juvenile\",\"juvenile\",\"juvenile\",\"juvenile\",\"juvenile\",\"juvenile\",\"juvenile\",\"juvenile\",\"juvenile\",\"juvenile\",\"juvenile\",\"juvenile\",\"juvenile\",\"juvenile\",\"juvenile\",\"juvenile\",\"juvenile\",\"juvenile\",\"juvenile\",\"juvenile\",\"juvenile\",\"juvenile\",\"juvenile\"],\"cat\":[\"I\",\"I\",\"I\",\"I\",\"I\",\"I\",\"I\",\"I\",\"I\",\"I\",\"I\",\"I\",\"I\",\"I\",\"I\",\"I\",\"I\",\"I\",\"I\",\"I\",\"II\",\"II\",\"II\",\"II\",\"II\",\"II\",\"II\",\"II\",\"II\",\"II\",\"II\",\"II\",\"II\",\"II\",\"II\",\"II\",\"II\",\"II\",\"II\",\"II\",\"III\",\"III\",\"III\",\"III\",\"III\",\"III\",\"III\",\"III\",\"III\",\"III\",\"III\",\"III\",\"III\",\"III\",\"III\",\"III\",\"III\",\"III\",\"III\",\"III\",\"IV\",\"IV\",\"IV\",\"IV\",\"IV\",\"IV\",\"IV\",\"IV\",\"IV\",\"IV\",\"IV\",\"IV\",\"IV\",\"IV\",\"IV\",\"IV\",\"IV\",\"IV\",\"IV\",\"IV\"],\"impact force (mN)\":[1205,2527,1745,1556,493,2276,556,1928,2641,1897,1891,1545,1307,1692,1543,1282,775,2032,1240,473,1612,605,327,946,541,1539,529,628,1453,297,703,269,751,245,1182,515,435,383,457,730,614,414,324,776,611,544,538,579,806,459,458,626,621,544,535,385,401,614,665,488,172,142,37,453,355,22,502,273,720,582,198,198,597,516,815,402,605,711,614,468]},\"selected\":{\"id\":\"23760c34-019b-4877-bec8-9ac1bd62d423\",\"type\":\"Selection\"},\"selection_policy\":{\"id\":\"9e22b596-d26b-45f0-9f15-9c0b2c8d6014\",\"type\":\"UnionRenderers\"}},\"id\":\"2bb0d95e-a385-4a11-b5ae-63342107abab\",\"type\":\"ColumnDataSource\"},{\"attributes\":{\"dimension\":1,\"plot\":{\"id\":\"b9af5d85-9ff2-40e8-aea4-8a6e626cd512\",\"subtype\":\"Figure\",\"type\":\"Plot\"},\"ticker\":{\"id\":\"efe4bc13-141c-4632-bfcb-c4fbf857c6e4\",\"type\":\"BasicTicker\"}},\"id\":\"5614ff63-4c75-4108-8fae-a1828b0f0158\",\"type\":\"Grid\"},{\"attributes\":{\"overlay\":{\"id\":\"dada3dfc-c4db-45c6-a62f-8708e7e739a2\",\"type\":\"BoxAnnotation\"}},\"id\":\"19d42f70-5685-4049-b69f-d46328455da6\",\"type\":\"BoxZoomTool\"},{\"attributes\":{\"fill_color\":{\"field\":\"age\",\"transform\":{\"id\":\"539d7f93-43ad-42a2-a5fd-dd31702cca0e\",\"type\":\"CategoricalColorMapper\"}},\"line_color\":{\"field\":\"age\",\"transform\":{\"id\":\"539d7f93-43ad-42a2-a5fd-dd31702cca0e\",\"type\":\"CategoricalColorMapper\"}},\"x\":{\"field\":\"cat\",\"transform\":{\"id\":\"b6f933b4-a3c2-4dec-89d5-343a317b0021\",\"type\":\"Jitter\"}},\"y\":{\"field\":\"impact force (mN)\"}},\"id\":\"5e360711-dea9-4118-be0a-ed464625a61b\",\"type\":\"Circle\"},{\"attributes\":{},\"id\":\"7412ab2d-0430-4f8b-9c5b-80a84d4e7834\",\"type\":\"BasicTickFormatter\"},{\"attributes\":{\"fill_alpha\":{\"value\":0.1},\"fill_color\":{\"value\":\"#1f77b4\"},\"line_alpha\":{\"value\":0.1},\"line_color\":{\"value\":\"#1f77b4\"},\"x\":{\"field\":\"cat\",\"transform\":{\"id\":\"b6f933b4-a3c2-4dec-89d5-343a317b0021\",\"type\":\"Jitter\"}},\"y\":{\"field\":\"impact force (mN)\"}},\"id\":\"a09961ad-faeb-482a-ad08-485fb3203a1b\",\"type\":\"Circle\"},{\"attributes\":{\"callback\":null,\"factors\":[\"I\",\"II\",\"III\",\"IV\"]},\"id\":\"8c96ef57-e106-4d12-8948-cf772d453f43\",\"type\":\"FactorRange\"},{\"attributes\":{\"factors\":[\"adult\",\"juvenile\"],\"palette\":[\"#4e79a7\",\"#f28e2b\",\"#e15759\",\"#76b7b2\",\"#59a14f\",\"#edc948\",\"#b07aa1\",\"#ff9da7\",\"#9c755f\",\"#bab0ac\"]},\"id\":\"539d7f93-43ad-42a2-a5fd-dd31702cca0e\",\"type\":\"CategoricalColorMapper\"},{\"attributes\":{},\"id\":\"9e22b596-d26b-45f0-9f15-9c0b2c8d6014\",\"type\":\"UnionRenderers\"},{\"attributes\":{},\"id\":\"77a2f89f-c8f8-4ba1-9026-d6b325ba12bf\",\"type\":\"ResetTool\"},{\"attributes\":{},\"id\":\"23760c34-019b-4877-bec8-9ac1bd62d423\",\"type\":\"Selection\"}],\"root_ids\":[\"b9af5d85-9ff2-40e8-aea4-8a6e626cd512\"]},\"title\":\"Bokeh Application\",\"version\":\"0.13.0\"}};\n",
       "  var render_items = [{\"docid\":\"dd8ccd8d-02fe-4b07-b67c-86cfebe529ec\",\"roots\":{\"b9af5d85-9ff2-40e8-aea4-8a6e626cd512\":\"1e8baf1d-bffb-462b-b24f-dc582b472a53\"}}];\n",
       "  root.Bokeh.embed.embed_items_notebook(docs_json, render_items);\n",
       "\n",
       "  }\n",
       "  if (root.Bokeh !== undefined) {\n",
       "    embed_document(root);\n",
       "  } else {\n",
       "    var attempts = 0;\n",
       "    var timer = setInterval(function(root) {\n",
       "      if (root.Bokeh !== undefined) {\n",
       "        embed_document(root);\n",
       "        clearInterval(timer);\n",
       "      }\n",
       "      attempts++;\n",
       "      if (attempts > 100) {\n",
       "        console.log(\"Bokeh: ERROR: Unable to run BokehJS code because BokehJS library is missing\")\n",
       "        clearInterval(timer);\n",
       "      }\n",
       "    }, 10, root)\n",
       "  }\n",
       "})(window);"
      ],
      "application/vnd.bokehjs_exec.v0+json": ""
     },
     "metadata": {
      "application/vnd.bokehjs_exec.v0+json": {
       "id": "b9af5d85-9ff2-40e8-aea4-8a6e626cd512"
      }
     },
     "output_type": "display_data"
    }
   ],
   "source": [
    "p = bebi103.viz.jitter( data=df, \n",
    "                        cats='ID', \n",
    "                        val='impact force (mN)', \n",
    "                        p=None, \n",
    "                        horizontal=False, \n",
    "                        x_axis_label='ID', \n",
    "                        y_axis_label='impact force (mN)', \n",
    "                        title=None, \n",
    "                        plot_height=300, \n",
    "                        plot_width=400, \n",
    "                        palette=['#4e79a7', '#f28e2b', '#e15759', '#76b7b2', '#59a14f',\n",
    "                                 '#edc948', '#b07aa1', '#ff9da7', '#9c755f', '#bab0ac'],\n",
    "                        width=0.4, \n",
    "                        order=None, \n",
    "                        val_axis_type='linear', \n",
    "                        show_legend=False,\n",
    "                        color_column='age', \n",
    "                        tooltips=None)\n",
    "bokeh.io.show(p) "
   ]
  },
  {
   "cell_type": "code",
   "execution_count": 48,
   "metadata": {},
   "outputs": [
    {
     "data": {
      "text/html": [
       "\n",
       "\n",
       "\n",
       "\n",
       "\n",
       "\n",
       "  <div class=\"bk-root\" id=\"163c85c7-c4c3-4f3f-b806-ef77864a1284\"></div>\n"
      ]
     },
     "metadata": {},
     "output_type": "display_data"
    },
    {
     "data": {
      "application/javascript": [
       "(function(root) {\n",
       "  function embed_document(root) {\n",
       "    \n",
       "  var docs_json = {\"bca07ed9-9977-450c-9b4f-56d7eb88599e\":{\"roots\":{\"references\":[{\"attributes\":{\"axis_label\":\"ID\",\"formatter\":{\"id\":\"1fd4ea5e-9042-42e7-92b5-5aae0a8cd7ea\",\"type\":\"CategoricalTickFormatter\"},\"plot\":{\"id\":\"3bf7c6c1-def6-4937-8807-5ec488ccab09\",\"subtype\":\"Figure\",\"type\":\"Plot\"},\"ticker\":{\"id\":\"bbcffd14-b0d4-4ddb-9b5c-83195eca832d\",\"type\":\"CategoricalTicker\"}},\"id\":\"e00b4232-a3d1-4d19-bb0d-28aea2cc1f1f\",\"type\":\"CategoricalAxis\"},{\"attributes\":{},\"id\":\"bcf21750-16b7-419c-bf35-54a1a749b6ed\",\"type\":\"BasicTickFormatter\"},{\"attributes\":{},\"id\":\"1fd4ea5e-9042-42e7-92b5-5aae0a8cd7ea\",\"type\":\"CategoricalTickFormatter\"},{\"attributes\":{\"callback\":null,\"data\":{\"ID\":[\"I\",\"I\",\"I\",\"I\",\"I\",\"I\",\"I\",\"I\",\"I\",\"I\",\"I\",\"I\",\"I\",\"I\",\"I\",\"I\",\"I\",\"I\",\"I\",\"I\",\"II\",\"II\",\"II\",\"II\",\"II\",\"II\",\"II\",\"II\",\"II\",\"II\",\"II\",\"II\",\"II\",\"II\",\"II\",\"II\",\"II\",\"II\",\"II\",\"II\",\"III\",\"III\",\"III\",\"III\",\"III\",\"III\",\"III\",\"III\",\"III\",\"III\",\"III\",\"III\",\"III\",\"III\",\"III\",\"III\",\"III\",\"III\",\"III\",\"III\",\"IV\",\"IV\",\"IV\",\"IV\",\"IV\",\"IV\",\"IV\",\"IV\",\"IV\",\"IV\",\"IV\",\"IV\",\"IV\",\"IV\",\"IV\",\"IV\",\"IV\",\"IV\",\"IV\",\"IV\"],\"__label\":[\"I\",\"I\",\"I\",\"I\",\"I\",\"I\",\"I\",\"I\",\"I\",\"I\",\"I\",\"I\",\"I\",\"I\",\"I\",\"I\",\"I\",\"I\",\"I\",\"I\",\"II\",\"II\",\"II\",\"II\",\"II\",\"II\",\"II\",\"II\",\"II\",\"II\",\"II\",\"II\",\"II\",\"II\",\"II\",\"II\",\"II\",\"II\",\"II\",\"II\",\"III\",\"III\",\"III\",\"III\",\"III\",\"III\",\"III\",\"III\",\"III\",\"III\",\"III\",\"III\",\"III\",\"III\",\"III\",\"III\",\"III\",\"III\",\"III\",\"III\",\"IV\",\"IV\",\"IV\",\"IV\",\"IV\",\"IV\",\"IV\",\"IV\",\"IV\",\"IV\",\"IV\",\"IV\",\"IV\",\"IV\",\"IV\",\"IV\",\"IV\",\"IV\",\"IV\",\"IV\"],\"cat\":[\"I\",\"I\",\"I\",\"I\",\"I\",\"I\",\"I\",\"I\",\"I\",\"I\",\"I\",\"I\",\"I\",\"I\",\"I\",\"I\",\"I\",\"I\",\"I\",\"I\",\"II\",\"II\",\"II\",\"II\",\"II\",\"II\",\"II\",\"II\",\"II\",\"II\",\"II\",\"II\",\"II\",\"II\",\"II\",\"II\",\"II\",\"II\",\"II\",\"II\",\"III\",\"III\",\"III\",\"III\",\"III\",\"III\",\"III\",\"III\",\"III\",\"III\",\"III\",\"III\",\"III\",\"III\",\"III\",\"III\",\"III\",\"III\",\"III\",\"III\",\"IV\",\"IV\",\"IV\",\"IV\",\"IV\",\"IV\",\"IV\",\"IV\",\"IV\",\"IV\",\"IV\",\"IV\",\"IV\",\"IV\",\"IV\",\"IV\",\"IV\",\"IV\",\"IV\",\"IV\"],\"impact force (mN)\":[1205,2527,1745,1556,493,2276,556,1928,2641,1897,1891,1545,1307,1692,1543,1282,775,2032,1240,473,1612,605,327,946,541,1539,529,628,1453,297,703,269,751,245,1182,515,435,383,457,730,614,414,324,776,611,544,538,579,806,459,458,626,621,544,535,385,401,614,665,488,172,142,37,453,355,22,502,273,720,582,198,198,597,516,815,402,605,711,614,468]},\"selected\":{\"id\":\"d4879200-ceb1-4038-8cf2-350eeb7c10c9\",\"type\":\"Selection\"},\"selection_policy\":{\"id\":\"fdcf000c-4650-4058-a562-0f3e914d7f3e\",\"type\":\"UnionRenderers\"}},\"id\":\"85d6e64c-9b4e-45e8-aeb6-d935a0dc2504\",\"type\":\"ColumnDataSource\"},{\"attributes\":{\"data_source\":{\"id\":\"85d6e64c-9b4e-45e8-aeb6-d935a0dc2504\",\"type\":\"ColumnDataSource\"},\"glyph\":{\"id\":\"6f8b14f1-8c5d-47c1-82d8-f3b318d307c6\",\"type\":\"Circle\"},\"hover_glyph\":null,\"muted_glyph\":null,\"nonselection_glyph\":{\"id\":\"427f3d28-c670-404d-9626-66c6e2f0b217\",\"type\":\"Circle\"},\"selection_glyph\":null,\"view\":{\"id\":\"983ea6c7-c1e1-4e72-bf10-e40502f0ed45\",\"type\":\"CDSView\"}},\"id\":\"fbba3f6d-9e93-42bc-96c9-185b59e38477\",\"type\":\"GlyphRenderer\"},{\"attributes\":{\"factors\":[\"I\",\"II\",\"III\",\"IV\"],\"palette\":[\"#4e79a7\",\"#f28e2b\",\"#e15759\",\"#76b7b2\",\"#59a14f\",\"#edc948\",\"#b07aa1\",\"#ff9da7\",\"#9c755f\",\"#bab0ac\"]},\"id\":\"49b6ce1b-2841-4116-aaa4-c91f1589ba7e\",\"type\":\"CategoricalColorMapper\"},{\"attributes\":{\"dimension\":1,\"plot\":{\"id\":\"3bf7c6c1-def6-4937-8807-5ec488ccab09\",\"subtype\":\"Figure\",\"type\":\"Plot\"},\"ticker\":{\"id\":\"a050ce93-c0b5-41a2-a4fd-626bab7f967f\",\"type\":\"BasicTicker\"}},\"id\":\"3d3b2ea9-693c-4fbe-a892-4f5fbce1759c\",\"type\":\"Grid\"},{\"attributes\":{\"callback\":null},\"id\":\"3038e0f1-75b2-4697-ab15-a4306ab3ac96\",\"type\":\"DataRange1d\"},{\"attributes\":{\"fill_color\":{\"field\":\"cat\",\"transform\":{\"id\":\"49b6ce1b-2841-4116-aaa4-c91f1589ba7e\",\"type\":\"CategoricalColorMapper\"}},\"line_color\":{\"field\":\"cat\",\"transform\":{\"id\":\"49b6ce1b-2841-4116-aaa4-c91f1589ba7e\",\"type\":\"CategoricalColorMapper\"}},\"x\":{\"field\":\"cat\",\"transform\":{\"id\":\"1c9d03ba-1fb6-40ea-a2fc-36a5403a3860\",\"type\":\"Jitter\"}},\"y\":{\"field\":\"impact force (mN)\"}},\"id\":\"6f8b14f1-8c5d-47c1-82d8-f3b318d307c6\",\"type\":\"Circle\"},{\"attributes\":{\"label\":{\"field\":\"__label\"},\"renderers\":[{\"id\":\"fbba3f6d-9e93-42bc-96c9-185b59e38477\",\"type\":\"GlyphRenderer\"}]},\"id\":\"40361409-22d4-4188-a1a4-e807658059a9\",\"type\":\"LegendItem\"},{\"attributes\":{\"active_drag\":\"auto\",\"active_inspect\":\"auto\",\"active_multi\":null,\"active_scroll\":\"auto\",\"active_tap\":\"auto\",\"tools\":[{\"id\":\"a26142a6-c182-46eb-aff4-a9827467e814\",\"type\":\"PanTool\"},{\"id\":\"766ffe0b-4319-4502-a1a5-5be4c8e72f80\",\"type\":\"WheelZoomTool\"},{\"id\":\"a21378ea-6d90-4034-8d50-106f84501f02\",\"type\":\"BoxZoomTool\"},{\"id\":\"1d810c05-81af-455c-a8b0-cd254e86b927\",\"type\":\"SaveTool\"},{\"id\":\"f4085f4e-d973-4038-853b-ea8f55f3c811\",\"type\":\"ResetTool\"},{\"id\":\"70340154-a03c-4b4b-a459-4d226f0c86e5\",\"type\":\"HelpTool\"}]},\"id\":\"dfe0af66-0ef5-40fb-9247-b381067ba458\",\"type\":\"Toolbar\"},{\"attributes\":{\"source\":{\"id\":\"85d6e64c-9b4e-45e8-aeb6-d935a0dc2504\",\"type\":\"ColumnDataSource\"}},\"id\":\"983ea6c7-c1e1-4e72-bf10-e40502f0ed45\",\"type\":\"CDSView\"},{\"attributes\":{\"bottom_units\":\"screen\",\"fill_alpha\":{\"value\":0.5},\"fill_color\":{\"value\":\"lightgrey\"},\"left_units\":\"screen\",\"level\":\"overlay\",\"line_alpha\":{\"value\":1.0},\"line_color\":{\"value\":\"black\"},\"line_dash\":[4,4],\"line_width\":{\"value\":2},\"plot\":null,\"render_mode\":\"css\",\"right_units\":\"screen\",\"top_units\":\"screen\"},\"id\":\"4526abcd-30d7-465a-8739-0c3334b282aa\",\"type\":\"BoxAnnotation\"},{\"attributes\":{},\"id\":\"a26142a6-c182-46eb-aff4-a9827467e814\",\"type\":\"PanTool\"},{\"attributes\":{\"grid_line_color\":{\"value\":null},\"plot\":{\"id\":\"3bf7c6c1-def6-4937-8807-5ec488ccab09\",\"subtype\":\"Figure\",\"type\":\"Plot\"},\"ticker\":{\"id\":\"bbcffd14-b0d4-4ddb-9b5c-83195eca832d\",\"type\":\"CategoricalTicker\"}},\"id\":\"2763aa76-702c-4b96-bf75-63c58b61cc15\",\"type\":\"Grid\"},{\"attributes\":{\"axis_label\":\"impact force (mN)\",\"formatter\":{\"id\":\"bcf21750-16b7-419c-bf35-54a1a749b6ed\",\"type\":\"BasicTickFormatter\"},\"plot\":{\"id\":\"3bf7c6c1-def6-4937-8807-5ec488ccab09\",\"subtype\":\"Figure\",\"type\":\"Plot\"},\"ticker\":{\"id\":\"a050ce93-c0b5-41a2-a4fd-626bab7f967f\",\"type\":\"BasicTicker\"}},\"id\":\"daf75301-f674-49eb-bf00-11992180538d\",\"type\":\"LinearAxis\"},{\"attributes\":{\"below\":[{\"id\":\"e00b4232-a3d1-4d19-bb0d-28aea2cc1f1f\",\"type\":\"CategoricalAxis\"}],\"left\":[{\"id\":\"daf75301-f674-49eb-bf00-11992180538d\",\"type\":\"LinearAxis\"}],\"plot_height\":300,\"plot_width\":400,\"renderers\":[{\"id\":\"e00b4232-a3d1-4d19-bb0d-28aea2cc1f1f\",\"type\":\"CategoricalAxis\"},{\"id\":\"2763aa76-702c-4b96-bf75-63c58b61cc15\",\"type\":\"Grid\"},{\"id\":\"daf75301-f674-49eb-bf00-11992180538d\",\"type\":\"LinearAxis\"},{\"id\":\"3d3b2ea9-693c-4fbe-a892-4f5fbce1759c\",\"type\":\"Grid\"},{\"id\":\"4526abcd-30d7-465a-8739-0c3334b282aa\",\"type\":\"BoxAnnotation\"},{\"id\":\"80e1d245-33e7-4a60-b7a6-a1cb459468a7\",\"type\":\"Legend\"},{\"id\":\"fbba3f6d-9e93-42bc-96c9-185b59e38477\",\"type\":\"GlyphRenderer\"}],\"title\":null,\"toolbar\":{\"id\":\"dfe0af66-0ef5-40fb-9247-b381067ba458\",\"type\":\"Toolbar\"},\"x_range\":{\"id\":\"f8468fc6-3f6f-4ef2-8ace-9873e59e3ab7\",\"type\":\"FactorRange\"},\"x_scale\":{\"id\":\"7d36de08-dc4b-47dd-a154-8ff32a3c808f\",\"type\":\"CategoricalScale\"},\"y_range\":{\"id\":\"3038e0f1-75b2-4697-ab15-a4306ab3ac96\",\"type\":\"DataRange1d\"},\"y_scale\":{\"id\":\"c421736b-e975-497e-aba9-74f8f4e6518b\",\"type\":\"LinearScale\"}},\"id\":\"3bf7c6c1-def6-4937-8807-5ec488ccab09\",\"subtype\":\"Figure\",\"type\":\"Plot\"},{\"attributes\":{},\"id\":\"d4879200-ceb1-4038-8cf2-350eeb7c10c9\",\"type\":\"Selection\"},{\"attributes\":{},\"id\":\"a050ce93-c0b5-41a2-a4fd-626bab7f967f\",\"type\":\"BasicTicker\"},{\"attributes\":{},\"id\":\"c421736b-e975-497e-aba9-74f8f4e6518b\",\"type\":\"LinearScale\"},{\"attributes\":{},\"id\":\"7d36de08-dc4b-47dd-a154-8ff32a3c808f\",\"type\":\"CategoricalScale\"},{\"attributes\":{},\"id\":\"bbcffd14-b0d4-4ddb-9b5c-83195eca832d\",\"type\":\"CategoricalTicker\"},{\"attributes\":{\"range\":{\"id\":\"f8468fc6-3f6f-4ef2-8ace-9873e59e3ab7\",\"type\":\"FactorRange\"},\"width\":0.4},\"id\":\"1c9d03ba-1fb6-40ea-a2fc-36a5403a3860\",\"type\":\"Jitter\"},{\"attributes\":{},\"id\":\"1d810c05-81af-455c-a8b0-cd254e86b927\",\"type\":\"SaveTool\"},{\"attributes\":{},\"id\":\"f4085f4e-d973-4038-853b-ea8f55f3c811\",\"type\":\"ResetTool\"},{\"attributes\":{},\"id\":\"70340154-a03c-4b4b-a459-4d226f0c86e5\",\"type\":\"HelpTool\"},{\"attributes\":{\"items\":[{\"id\":\"40361409-22d4-4188-a1a4-e807658059a9\",\"type\":\"LegendItem\"}],\"plot\":{\"id\":\"3bf7c6c1-def6-4937-8807-5ec488ccab09\",\"subtype\":\"Figure\",\"type\":\"Plot\"}},\"id\":\"80e1d245-33e7-4a60-b7a6-a1cb459468a7\",\"type\":\"Legend\"},{\"attributes\":{\"overlay\":{\"id\":\"4526abcd-30d7-465a-8739-0c3334b282aa\",\"type\":\"BoxAnnotation\"}},\"id\":\"a21378ea-6d90-4034-8d50-106f84501f02\",\"type\":\"BoxZoomTool\"},{\"attributes\":{\"fill_alpha\":{\"value\":0.1},\"fill_color\":{\"value\":\"#1f77b4\"},\"line_alpha\":{\"value\":0.1},\"line_color\":{\"value\":\"#1f77b4\"},\"x\":{\"field\":\"cat\",\"transform\":{\"id\":\"1c9d03ba-1fb6-40ea-a2fc-36a5403a3860\",\"type\":\"Jitter\"}},\"y\":{\"field\":\"impact force (mN)\"}},\"id\":\"427f3d28-c670-404d-9626-66c6e2f0b217\",\"type\":\"Circle\"},{\"attributes\":{},\"id\":\"fdcf000c-4650-4058-a562-0f3e914d7f3e\",\"type\":\"UnionRenderers\"},{\"attributes\":{},\"id\":\"766ffe0b-4319-4502-a1a5-5be4c8e72f80\",\"type\":\"WheelZoomTool\"},{\"attributes\":{\"callback\":null,\"factors\":[\"I\",\"II\",\"III\",\"IV\"]},\"id\":\"f8468fc6-3f6f-4ef2-8ace-9873e59e3ab7\",\"type\":\"FactorRange\"}],\"root_ids\":[\"3bf7c6c1-def6-4937-8807-5ec488ccab09\"]},\"title\":\"Bokeh Application\",\"version\":\"0.13.0\"}};\n",
       "  var render_items = [{\"docid\":\"bca07ed9-9977-450c-9b4f-56d7eb88599e\",\"roots\":{\"3bf7c6c1-def6-4937-8807-5ec488ccab09\":\"163c85c7-c4c3-4f3f-b806-ef77864a1284\"}}];\n",
       "  root.Bokeh.embed.embed_items_notebook(docs_json, render_items);\n",
       "\n",
       "  }\n",
       "  if (root.Bokeh !== undefined) {\n",
       "    embed_document(root);\n",
       "  } else {\n",
       "    var attempts = 0;\n",
       "    var timer = setInterval(function(root) {\n",
       "      if (root.Bokeh !== undefined) {\n",
       "        embed_document(root);\n",
       "        clearInterval(timer);\n",
       "      }\n",
       "      attempts++;\n",
       "      if (attempts > 100) {\n",
       "        console.log(\"Bokeh: ERROR: Unable to run BokehJS code because BokehJS library is missing\")\n",
       "        clearInterval(timer);\n",
       "      }\n",
       "    }, 10, root)\n",
       "  }\n",
       "})(window);"
      ],
      "application/vnd.bokehjs_exec.v0+json": ""
     },
     "metadata": {
      "application/vnd.bokehjs_exec.v0+json": {
       "id": "3bf7c6c1-def6-4937-8807-5ec488ccab09"
      }
     },
     "output_type": "display_data"
    }
   ],
   "source": [
    "p = bebi103.viz.jitter( data=df, \n",
    "                        cats='ID', \n",
    "                        val='impact force (mN)', \n",
    "                        p=None, \n",
    "                        horizontal=False, \n",
    "                        x_axis_label='ID', \n",
    "                        y_axis_label='impact force (mN)', \n",
    "                        title=None, \n",
    "                        plot_height=300, \n",
    "                        plot_width=400, \n",
    "                        palette=['#4e79a7', '#f28e2b', '#e15759', '#76b7b2', '#59a14f',\n",
    "                                 '#edc948', '#b07aa1', '#ff9da7', '#9c755f', '#bab0ac'],\n",
    "                        width=0.4, \n",
    "                        order=None, \n",
    "                        val_axis_type='linear', \n",
    "                        show_legend=True,\n",
    "                        color_column=None, \n",
    "                        tooltips=None)\n",
    "bokeh.io.show(p) "
   ]
  },
  {
   "cell_type": "code",
   "execution_count": 49,
   "metadata": {},
   "outputs": [
    {
     "data": {
      "text/html": [
       "\n",
       "\n",
       "\n",
       "\n",
       "\n",
       "\n",
       "  <div class=\"bk-root\" id=\"3fce856e-4e57-4ad3-8e60-9e676461cfda\"></div>\n"
      ]
     },
     "metadata": {},
     "output_type": "display_data"
    },
    {
     "data": {
      "application/javascript": [
       "(function(root) {\n",
       "  function embed_document(root) {\n",
       "    \n",
       "  var docs_json = {\"f3f1a093-f945-4f7c-8eb6-be520457bdac\":{\"roots\":{\"references\":[{\"attributes\":{\"grid_line_color\":{\"value\":null},\"plot\":{\"id\":\"61cbe288-8d21-4d7e-8e6b-0f0d3f831f85\",\"subtype\":\"Figure\",\"type\":\"Plot\"},\"ticker\":{\"id\":\"585e3e47-8a5b-4877-aae5-c79a26aeee96\",\"type\":\"CategoricalTicker\"}},\"id\":\"909aa183-11a8-4ddb-bf33-2375919632b6\",\"type\":\"Grid\"},{\"attributes\":{\"axis_label\":\"impact force (mN)\",\"formatter\":{\"id\":\"83813b05-788c-4db3-a371-4c6ea55764c4\",\"type\":\"BasicTickFormatter\"},\"plot\":{\"id\":\"61cbe288-8d21-4d7e-8e6b-0f0d3f831f85\",\"subtype\":\"Figure\",\"type\":\"Plot\"},\"ticker\":{\"id\":\"11ddb330-c12c-477e-8ac0-eb7c6e194e71\",\"type\":\"BasicTicker\"}},\"id\":\"d01c170d-c3bb-4d87-8f9f-78a7c212fcef\",\"type\":\"LinearAxis\"},{\"attributes\":{\"callback\":null,\"data\":{\"ID\":[\"I\",\"I\",\"I\",\"I\",\"I\",\"I\",\"I\",\"I\",\"I\",\"I\",\"I\",\"I\",\"I\",\"I\",\"I\",\"I\",\"I\",\"I\",\"I\",\"I\",\"II\",\"II\",\"II\",\"II\",\"II\",\"II\",\"II\",\"II\",\"II\",\"II\",\"II\",\"II\",\"II\",\"II\",\"II\",\"II\",\"II\",\"II\",\"II\",\"II\",\"III\",\"III\",\"III\",\"III\",\"III\",\"III\",\"III\",\"III\",\"III\",\"III\",\"III\",\"III\",\"III\",\"III\",\"III\",\"III\",\"III\",\"III\",\"III\",\"III\",\"IV\",\"IV\",\"IV\",\"IV\",\"IV\",\"IV\",\"IV\",\"IV\",\"IV\",\"IV\",\"IV\",\"IV\",\"IV\",\"IV\",\"IV\",\"IV\",\"IV\",\"IV\",\"IV\",\"IV\"],\"__label\":[\"3\",\"4\",\"1\",\"2\",\"3\",\"4\",\"1\",\"2\",\"3\",\"4\",\"1\",\"2\",\"3\",\"4\",\"5\",\"1\",\"2\",\"3\",\"4\",\"5\",\"1\",\"2\",\"3\",\"4\",\"1\",\"2\",\"3\",\"4\",\"1\",\"2\",\"3\",\"4\",\"1\",\"2\",\"1\",\"2\",\"1\",\"2\",\"3\",\"1\",\"1\",\"2\",\"3\",\"1\",\"2\",\"3\",\"1\",\"2\",\"1\",\"2\",\"3\",\"4\",\"1\",\"2\",\"3\",\"4\",\"1\",\"2\",\"3\",\"4\",\"2\",\"3\",\"4\",\"1\",\"2\",\"3\",\"1\",\"1\",\"2\",\"3\",\"4\",\"1\",\"1\",\"2\",\"3\",\"4\",\"1\",\"2\",\"3\",\"4\"],\"cat\":[\"I\",\"I\",\"I\",\"I\",\"I\",\"I\",\"I\",\"I\",\"I\",\"I\",\"I\",\"I\",\"I\",\"I\",\"I\",\"I\",\"I\",\"I\",\"I\",\"I\",\"II\",\"II\",\"II\",\"II\",\"II\",\"II\",\"II\",\"II\",\"II\",\"II\",\"II\",\"II\",\"II\",\"II\",\"II\",\"II\",\"II\",\"II\",\"II\",\"II\",\"III\",\"III\",\"III\",\"III\",\"III\",\"III\",\"III\",\"III\",\"III\",\"III\",\"III\",\"III\",\"III\",\"III\",\"III\",\"III\",\"III\",\"III\",\"III\",\"III\",\"IV\",\"IV\",\"IV\",\"IV\",\"IV\",\"IV\",\"IV\",\"IV\",\"IV\",\"IV\",\"IV\",\"IV\",\"IV\",\"IV\",\"IV\",\"IV\",\"IV\",\"IV\",\"IV\",\"IV\"],\"impact force (mN)\":[1205,2527,1745,1556,493,2276,556,1928,2641,1897,1891,1545,1307,1692,1543,1282,775,2032,1240,473,1612,605,327,946,541,1539,529,628,1453,297,703,269,751,245,1182,515,435,383,457,730,614,414,324,776,611,544,538,579,806,459,458,626,621,544,535,385,401,614,665,488,172,142,37,453,355,22,502,273,720,582,198,198,597,516,815,402,605,711,614,468],\"trial number\":[\"3\",\"4\",\"1\",\"2\",\"3\",\"4\",\"1\",\"2\",\"3\",\"4\",\"1\",\"2\",\"3\",\"4\",\"5\",\"1\",\"2\",\"3\",\"4\",\"5\",\"1\",\"2\",\"3\",\"4\",\"1\",\"2\",\"3\",\"4\",\"1\",\"2\",\"3\",\"4\",\"1\",\"2\",\"1\",\"2\",\"1\",\"2\",\"3\",\"1\",\"1\",\"2\",\"3\",\"1\",\"2\",\"3\",\"1\",\"2\",\"1\",\"2\",\"3\",\"4\",\"1\",\"2\",\"3\",\"4\",\"1\",\"2\",\"3\",\"4\",\"2\",\"3\",\"4\",\"1\",\"2\",\"3\",\"1\",\"1\",\"2\",\"3\",\"4\",\"1\",\"1\",\"2\",\"3\",\"4\",\"1\",\"2\",\"3\",\"4\"]},\"selected\":{\"id\":\"a2291d89-dbb6-4bbc-9b0e-7b38bdfcf2ae\",\"type\":\"Selection\"},\"selection_policy\":{\"id\":\"ae8f2b36-7ecd-42e9-85d7-f46a920c20fb\",\"type\":\"UnionRenderers\"}},\"id\":\"41dfdb2b-6658-4618-bdce-3674fd25ef4b\",\"type\":\"ColumnDataSource\"},{\"attributes\":{\"items\":[{\"id\":\"8f4b3e58-98c6-433a-9bf5-d902c2dcebb9\",\"type\":\"LegendItem\"}],\"plot\":{\"id\":\"61cbe288-8d21-4d7e-8e6b-0f0d3f831f85\",\"subtype\":\"Figure\",\"type\":\"Plot\"}},\"id\":\"567f6f0d-76f6-48d8-8416-84ea9b11bb10\",\"type\":\"Legend\"},{\"attributes\":{},\"id\":\"11ddb330-c12c-477e-8ac0-eb7c6e194e71\",\"type\":\"BasicTicker\"},{\"attributes\":{},\"id\":\"3956a32a-5c32-41ec-8bd2-1fb17084ccbe\",\"type\":\"PanTool\"},{\"attributes\":{\"range\":{\"id\":\"8dc5f468-5d17-45bd-ae3f-1ffef7c1dfd0\",\"type\":\"FactorRange\"},\"width\":0.4},\"id\":\"a5e79409-f203-4566-be70-94c6122b6f4d\",\"type\":\"Jitter\"},{\"attributes\":{\"callback\":null,\"factors\":[\"I\",\"II\",\"III\",\"IV\"]},\"id\":\"8dc5f468-5d17-45bd-ae3f-1ffef7c1dfd0\",\"type\":\"FactorRange\"},{\"attributes\":{\"fill_color\":{\"field\":\"trial number\",\"transform\":{\"id\":\"005c0242-1dc4-42fd-956d-b7d1e7d6e4d2\",\"type\":\"CategoricalColorMapper\"}},\"line_color\":{\"field\":\"trial number\",\"transform\":{\"id\":\"005c0242-1dc4-42fd-956d-b7d1e7d6e4d2\",\"type\":\"CategoricalColorMapper\"}},\"x\":{\"field\":\"cat\",\"transform\":{\"id\":\"a5e79409-f203-4566-be70-94c6122b6f4d\",\"type\":\"Jitter\"}},\"y\":{\"field\":\"impact force (mN)\"}},\"id\":\"2c4d17e6-6afa-4993-80e1-25a7501d7770\",\"type\":\"Circle\"},{\"attributes\":{\"fill_alpha\":{\"value\":0.1},\"fill_color\":{\"value\":\"#1f77b4\"},\"line_alpha\":{\"value\":0.1},\"line_color\":{\"value\":\"#1f77b4\"},\"x\":{\"field\":\"cat\",\"transform\":{\"id\":\"a5e79409-f203-4566-be70-94c6122b6f4d\",\"type\":\"Jitter\"}},\"y\":{\"field\":\"impact force (mN)\"}},\"id\":\"f0fa0811-bdae-443b-847a-9a99fc70f179\",\"type\":\"Circle\"},{\"attributes\":{},\"id\":\"44bebae8-b9ec-449f-8bbb-54715a6fb443\",\"type\":\"WheelZoomTool\"},{\"attributes\":{\"data_source\":{\"id\":\"41dfdb2b-6658-4618-bdce-3674fd25ef4b\",\"type\":\"ColumnDataSource\"},\"glyph\":{\"id\":\"2c4d17e6-6afa-4993-80e1-25a7501d7770\",\"type\":\"Circle\"},\"hover_glyph\":null,\"muted_glyph\":null,\"nonselection_glyph\":{\"id\":\"f0fa0811-bdae-443b-847a-9a99fc70f179\",\"type\":\"Circle\"},\"selection_glyph\":null,\"view\":{\"id\":\"2ec1a951-ee43-4928-b2a9-cfb1df53ba3d\",\"type\":\"CDSView\"}},\"id\":\"6ab9940d-1394-4c80-9c0a-4c3089d1fe43\",\"type\":\"GlyphRenderer\"},{\"attributes\":{\"below\":[{\"id\":\"474cfbc2-cf8f-478e-a595-702109d0d262\",\"type\":\"CategoricalAxis\"}],\"left\":[{\"id\":\"d01c170d-c3bb-4d87-8f9f-78a7c212fcef\",\"type\":\"LinearAxis\"}],\"plot_height\":300,\"plot_width\":400,\"renderers\":[{\"id\":\"474cfbc2-cf8f-478e-a595-702109d0d262\",\"type\":\"CategoricalAxis\"},{\"id\":\"909aa183-11a8-4ddb-bf33-2375919632b6\",\"type\":\"Grid\"},{\"id\":\"d01c170d-c3bb-4d87-8f9f-78a7c212fcef\",\"type\":\"LinearAxis\"},{\"id\":\"d2e33ec6-2c35-4dee-b2d2-a3895cb3832b\",\"type\":\"Grid\"},{\"id\":\"ea6f287b-8441-4a40-937a-f245fd31d625\",\"type\":\"BoxAnnotation\"},{\"id\":\"567f6f0d-76f6-48d8-8416-84ea9b11bb10\",\"type\":\"Legend\"},{\"id\":\"6ab9940d-1394-4c80-9c0a-4c3089d1fe43\",\"type\":\"GlyphRenderer\"}],\"title\":null,\"toolbar\":{\"id\":\"645582b1-a1c6-415e-9ab4-34cc0d9716ff\",\"type\":\"Toolbar\"},\"x_range\":{\"id\":\"8dc5f468-5d17-45bd-ae3f-1ffef7c1dfd0\",\"type\":\"FactorRange\"},\"x_scale\":{\"id\":\"77d0d0e8-41fe-42da-bb00-1ef471a647a3\",\"type\":\"CategoricalScale\"},\"y_range\":{\"id\":\"6f2fd040-42d8-44e0-977f-1a19ff819d1a\",\"type\":\"DataRange1d\"},\"y_scale\":{\"id\":\"94ff19ee-97bd-4a3c-87bb-2d12fe957131\",\"type\":\"LinearScale\"}},\"id\":\"61cbe288-8d21-4d7e-8e6b-0f0d3f831f85\",\"subtype\":\"Figure\",\"type\":\"Plot\"},{\"attributes\":{\"source\":{\"id\":\"41dfdb2b-6658-4618-bdce-3674fd25ef4b\",\"type\":\"ColumnDataSource\"}},\"id\":\"2ec1a951-ee43-4928-b2a9-cfb1df53ba3d\",\"type\":\"CDSView\"},{\"attributes\":{},\"id\":\"7081429b-1201-44e1-b896-07f64ec5200a\",\"type\":\"CategoricalTickFormatter\"},{\"attributes\":{},\"id\":\"83813b05-788c-4db3-a371-4c6ea55764c4\",\"type\":\"BasicTickFormatter\"},{\"attributes\":{\"factors\":[\"1\",\"2\",\"3\",\"4\",\"5\"],\"palette\":[\"#4e79a7\",\"#f28e2b\",\"#e15759\",\"#76b7b2\",\"#59a14f\",\"#edc948\",\"#b07aa1\",\"#ff9da7\",\"#9c755f\",\"#bab0ac\"]},\"id\":\"005c0242-1dc4-42fd-956d-b7d1e7d6e4d2\",\"type\":\"CategoricalColorMapper\"},{\"attributes\":{\"label\":{\"field\":\"__label\"},\"renderers\":[{\"id\":\"6ab9940d-1394-4c80-9c0a-4c3089d1fe43\",\"type\":\"GlyphRenderer\"}]},\"id\":\"8f4b3e58-98c6-433a-9bf5-d902c2dcebb9\",\"type\":\"LegendItem\"},{\"attributes\":{},\"id\":\"ae8f2b36-7ecd-42e9-85d7-f46a920c20fb\",\"type\":\"UnionRenderers\"},{\"attributes\":{},\"id\":\"94ff19ee-97bd-4a3c-87bb-2d12fe957131\",\"type\":\"LinearScale\"},{\"attributes\":{},\"id\":\"10f9b9da-dd98-468a-813f-9801018126a3\",\"type\":\"SaveTool\"},{\"attributes\":{},\"id\":\"acfa488b-d17c-4782-a52d-116c74c1dff3\",\"type\":\"HelpTool\"},{\"attributes\":{\"bottom_units\":\"screen\",\"fill_alpha\":{\"value\":0.5},\"fill_color\":{\"value\":\"lightgrey\"},\"left_units\":\"screen\",\"level\":\"overlay\",\"line_alpha\":{\"value\":1.0},\"line_color\":{\"value\":\"black\"},\"line_dash\":[4,4],\"line_width\":{\"value\":2},\"plot\":null,\"render_mode\":\"css\",\"right_units\":\"screen\",\"top_units\":\"screen\"},\"id\":\"ea6f287b-8441-4a40-937a-f245fd31d625\",\"type\":\"BoxAnnotation\"},{\"attributes\":{\"overlay\":{\"id\":\"ea6f287b-8441-4a40-937a-f245fd31d625\",\"type\":\"BoxAnnotation\"}},\"id\":\"8c4ba0e8-c6e5-46b0-8847-94f845a9acc3\",\"type\":\"BoxZoomTool\"},{\"attributes\":{},\"id\":\"f79b4cd4-c81d-47bf-b150-fc8323de17d2\",\"type\":\"ResetTool\"},{\"attributes\":{},\"id\":\"a2291d89-dbb6-4bbc-9b0e-7b38bdfcf2ae\",\"type\":\"Selection\"},{\"attributes\":{\"active_drag\":\"auto\",\"active_inspect\":\"auto\",\"active_multi\":null,\"active_scroll\":\"auto\",\"active_tap\":\"auto\",\"tools\":[{\"id\":\"3956a32a-5c32-41ec-8bd2-1fb17084ccbe\",\"type\":\"PanTool\"},{\"id\":\"44bebae8-b9ec-449f-8bbb-54715a6fb443\",\"type\":\"WheelZoomTool\"},{\"id\":\"8c4ba0e8-c6e5-46b0-8847-94f845a9acc3\",\"type\":\"BoxZoomTool\"},{\"id\":\"10f9b9da-dd98-468a-813f-9801018126a3\",\"type\":\"SaveTool\"},{\"id\":\"f79b4cd4-c81d-47bf-b150-fc8323de17d2\",\"type\":\"ResetTool\"},{\"id\":\"acfa488b-d17c-4782-a52d-116c74c1dff3\",\"type\":\"HelpTool\"}]},\"id\":\"645582b1-a1c6-415e-9ab4-34cc0d9716ff\",\"type\":\"Toolbar\"},{\"attributes\":{\"callback\":null},\"id\":\"6f2fd040-42d8-44e0-977f-1a19ff819d1a\",\"type\":\"DataRange1d\"},{\"attributes\":{},\"id\":\"77d0d0e8-41fe-42da-bb00-1ef471a647a3\",\"type\":\"CategoricalScale\"},{\"attributes\":{\"dimension\":1,\"plot\":{\"id\":\"61cbe288-8d21-4d7e-8e6b-0f0d3f831f85\",\"subtype\":\"Figure\",\"type\":\"Plot\"},\"ticker\":{\"id\":\"11ddb330-c12c-477e-8ac0-eb7c6e194e71\",\"type\":\"BasicTicker\"}},\"id\":\"d2e33ec6-2c35-4dee-b2d2-a3895cb3832b\",\"type\":\"Grid\"},{\"attributes\":{},\"id\":\"585e3e47-8a5b-4877-aae5-c79a26aeee96\",\"type\":\"CategoricalTicker\"},{\"attributes\":{\"axis_label\":\"ID\",\"formatter\":{\"id\":\"7081429b-1201-44e1-b896-07f64ec5200a\",\"type\":\"CategoricalTickFormatter\"},\"plot\":{\"id\":\"61cbe288-8d21-4d7e-8e6b-0f0d3f831f85\",\"subtype\":\"Figure\",\"type\":\"Plot\"},\"ticker\":{\"id\":\"585e3e47-8a5b-4877-aae5-c79a26aeee96\",\"type\":\"CategoricalTicker\"}},\"id\":\"474cfbc2-cf8f-478e-a595-702109d0d262\",\"type\":\"CategoricalAxis\"}],\"root_ids\":[\"61cbe288-8d21-4d7e-8e6b-0f0d3f831f85\"]},\"title\":\"Bokeh Application\",\"version\":\"0.13.0\"}};\n",
       "  var render_items = [{\"docid\":\"f3f1a093-f945-4f7c-8eb6-be520457bdac\",\"roots\":{\"61cbe288-8d21-4d7e-8e6b-0f0d3f831f85\":\"3fce856e-4e57-4ad3-8e60-9e676461cfda\"}}];\n",
       "  root.Bokeh.embed.embed_items_notebook(docs_json, render_items);\n",
       "\n",
       "  }\n",
       "  if (root.Bokeh !== undefined) {\n",
       "    embed_document(root);\n",
       "  } else {\n",
       "    var attempts = 0;\n",
       "    var timer = setInterval(function(root) {\n",
       "      if (root.Bokeh !== undefined) {\n",
       "        embed_document(root);\n",
       "        clearInterval(timer);\n",
       "      }\n",
       "      attempts++;\n",
       "      if (attempts > 100) {\n",
       "        console.log(\"Bokeh: ERROR: Unable to run BokehJS code because BokehJS library is missing\")\n",
       "        clearInterval(timer);\n",
       "      }\n",
       "    }, 10, root)\n",
       "  }\n",
       "})(window);"
      ],
      "application/vnd.bokehjs_exec.v0+json": ""
     },
     "metadata": {
      "application/vnd.bokehjs_exec.v0+json": {
       "id": "61cbe288-8d21-4d7e-8e6b-0f0d3f831f85"
      }
     },
     "output_type": "display_data"
    }
   ],
   "source": [
    "p = bebi103.viz.jitter( data=df, \n",
    "                        cats='ID', \n",
    "                        val='impact force (mN)', \n",
    "                        p=None, \n",
    "                        horizontal=False, \n",
    "                        x_axis_label='ID', \n",
    "                        y_axis_label='impact force (mN)', \n",
    "                        title=None, \n",
    "                        plot_height=300, \n",
    "                        plot_width=400, \n",
    "                        palette=['#4e79a7', '#f28e2b', '#e15759', '#76b7b2', '#59a14f',\n",
    "                                 '#edc948', '#b07aa1', '#ff9da7', '#9c755f', '#bab0ac'],\n",
    "                        width=0.4, \n",
    "                        order=None, \n",
    "                        val_axis_type='linear', \n",
    "                        show_legend=True,\n",
    "                        color_column='trial number', \n",
    "                        tooltips=None)\n",
    "bokeh.io.show(p) "
   ]
  },
  {
   "cell_type": "code",
   "execution_count": 50,
   "metadata": {},
   "outputs": [
    {
     "data": {
      "text/html": [
       "\n",
       "\n",
       "\n",
       "\n",
       "\n",
       "\n",
       "  <div class=\"bk-root\" id=\"9f464e71-c947-4988-b75f-325fd879755b\"></div>\n"
      ]
     },
     "metadata": {},
     "output_type": "display_data"
    },
    {
     "data": {
      "application/javascript": [
       "(function(root) {\n",
       "  function embed_document(root) {\n",
       "    \n",
       "  var docs_json = {\"b5e33d90-24ef-4263-993b-d78388c8c1c2\":{\"roots\":{\"references\":[{\"attributes\":{},\"id\":\"33ea5c92-01ce-4565-baa5-d869ae889203\",\"type\":\"WheelZoomTool\"},{\"attributes\":{\"callback\":null,\"factors\":[\"IV\",\"III\",\"II\",\"I\"]},\"id\":\"a11cac15-69e7-4c17-b16d-47e85268fbbf\",\"type\":\"FactorRange\"},{\"attributes\":{\"data_source\":{\"id\":\"cea4382c-34fb-4737-82fd-de515fa17e31\",\"type\":\"ColumnDataSource\"},\"glyph\":{\"id\":\"99db4d08-5903-4161-b700-80bafb1e0aff\",\"type\":\"Circle\"},\"hover_glyph\":null,\"muted_glyph\":null,\"nonselection_glyph\":{\"id\":\"2b612401-edea-4360-a713-966624dd7fdb\",\"type\":\"Circle\"},\"selection_glyph\":null,\"view\":{\"id\":\"462d1808-eeec-48bd-a845-b95b3b50c8c6\",\"type\":\"CDSView\"}},\"id\":\"567d1ed4-dab5-4afd-b60c-5525d3d6de1c\",\"type\":\"GlyphRenderer\"},{\"attributes\":{\"dimension\":1,\"grid_line_color\":{\"value\":null},\"plot\":{\"id\":\"c9becc41-429e-406c-9385-512e3f0ee9a3\",\"subtype\":\"Figure\",\"type\":\"Plot\"},\"ticker\":{\"id\":\"82eaf441-9b74-49b1-921c-b9b921a410f3\",\"type\":\"CategoricalTicker\"}},\"id\":\"03b175f1-3216-4cde-bcd6-6801249bcf0a\",\"type\":\"Grid\"},{\"attributes\":{},\"id\":\"8dac885c-9ba5-4cc3-a870-758e2d5c2b86\",\"type\":\"UnionRenderers\"},{\"attributes\":{},\"id\":\"525df264-fdf8-4a09-81fe-7c5ccb73a7c9\",\"type\":\"ResetTool\"},{\"attributes\":{},\"id\":\"4b007a23-45b2-4882-ac8d-f0cbaf928bec\",\"type\":\"BasicTicker\"},{\"attributes\":{\"overlay\":{\"id\":\"e5c94570-4877-4b81-9dc6-4d497da920f6\",\"type\":\"BoxAnnotation\"}},\"id\":\"bc0ec064-53ab-45c8-bd99-5b1b7ea7e0b6\",\"type\":\"BoxZoomTool\"},{\"attributes\":{},\"id\":\"00140662-2247-4a30-ab2c-9ec8f352791c\",\"type\":\"Selection\"},{\"attributes\":{},\"id\":\"f1817999-fe8d-444c-b662-0deb8498ebdb\",\"type\":\"BasicTickFormatter\"},{\"attributes\":{\"axis_label\":\"impact force (mN)\",\"formatter\":{\"id\":\"b3746de8-dff9-490a-87e9-53fde5ea8fe7\",\"type\":\"CategoricalTickFormatter\"},\"plot\":{\"id\":\"c9becc41-429e-406c-9385-512e3f0ee9a3\",\"subtype\":\"Figure\",\"type\":\"Plot\"},\"ticker\":{\"id\":\"82eaf441-9b74-49b1-921c-b9b921a410f3\",\"type\":\"CategoricalTicker\"}},\"id\":\"c94662aa-51e6-4248-94f7-e26dbf14824b\",\"type\":\"CategoricalAxis\"},{\"attributes\":{},\"id\":\"b3746de8-dff9-490a-87e9-53fde5ea8fe7\",\"type\":\"CategoricalTickFormatter\"},{\"attributes\":{\"bottom_units\":\"screen\",\"fill_alpha\":{\"value\":0.5},\"fill_color\":{\"value\":\"lightgrey\"},\"left_units\":\"screen\",\"level\":\"overlay\",\"line_alpha\":{\"value\":1.0},\"line_color\":{\"value\":\"black\"},\"line_dash\":[4,4],\"line_width\":{\"value\":2},\"plot\":null,\"render_mode\":\"css\",\"right_units\":\"screen\",\"top_units\":\"screen\"},\"id\":\"e5c94570-4877-4b81-9dc6-4d497da920f6\",\"type\":\"BoxAnnotation\"},{\"attributes\":{},\"id\":\"8bfdef1f-6cd2-436f-89e1-ccde09a34a88\",\"type\":\"SaveTool\"},{\"attributes\":{\"callback\":null,\"data\":{\"ID\":[\"I\",\"I\",\"I\",\"I\",\"I\",\"I\",\"I\",\"I\",\"I\",\"I\",\"I\",\"I\",\"I\",\"I\",\"I\",\"I\",\"I\",\"I\",\"I\",\"I\",\"II\",\"II\",\"II\",\"II\",\"II\",\"II\",\"II\",\"II\",\"II\",\"II\",\"II\",\"II\",\"II\",\"II\",\"II\",\"II\",\"II\",\"II\",\"II\",\"II\",\"III\",\"III\",\"III\",\"III\",\"III\",\"III\",\"III\",\"III\",\"III\",\"III\",\"III\",\"III\",\"III\",\"III\",\"III\",\"III\",\"III\",\"III\",\"III\",\"III\",\"IV\",\"IV\",\"IV\",\"IV\",\"IV\",\"IV\",\"IV\",\"IV\",\"IV\",\"IV\",\"IV\",\"IV\",\"IV\",\"IV\",\"IV\",\"IV\",\"IV\",\"IV\",\"IV\",\"IV\"],\"__label\":[\"I\",\"I\",\"I\",\"I\",\"I\",\"I\",\"I\",\"I\",\"I\",\"I\",\"I\",\"I\",\"I\",\"I\",\"I\",\"I\",\"I\",\"I\",\"I\",\"I\",\"II\",\"II\",\"II\",\"II\",\"II\",\"II\",\"II\",\"II\",\"II\",\"II\",\"II\",\"II\",\"II\",\"II\",\"II\",\"II\",\"II\",\"II\",\"II\",\"II\",\"III\",\"III\",\"III\",\"III\",\"III\",\"III\",\"III\",\"III\",\"III\",\"III\",\"III\",\"III\",\"III\",\"III\",\"III\",\"III\",\"III\",\"III\",\"III\",\"III\",\"IV\",\"IV\",\"IV\",\"IV\",\"IV\",\"IV\",\"IV\",\"IV\",\"IV\",\"IV\",\"IV\",\"IV\",\"IV\",\"IV\",\"IV\",\"IV\",\"IV\",\"IV\",\"IV\",\"IV\"],\"adhesive force (mN)\":[-785,-983,-850,-455,-974,-592,-512,-804,-690,-462,-766,-715,-613,-677,-528,-452,-430,-652,-692,-536,-655,-292,-246,-245,-553,-664,-261,-691,-92,-566,-223,-512,-227,-573,-522,-599,-364,-469,-844,-648,-94,-163,-172,-225,-301,-93,-131,-289,-104,-229,-259,-231,-267,-178,-123,-151,-127,-372,-236,-390,-456,-193,-236,-225,-217,-161,-139,-264,-342,-231,-209,-292,-339,-371,-331,-302,-216,-163,-367,-218],\"cat\":[\"I\",\"I\",\"I\",\"I\",\"I\",\"I\",\"I\",\"I\",\"I\",\"I\",\"I\",\"I\",\"I\",\"I\",\"I\",\"I\",\"I\",\"I\",\"I\",\"I\",\"II\",\"II\",\"II\",\"II\",\"II\",\"II\",\"II\",\"II\",\"II\",\"II\",\"II\",\"II\",\"II\",\"II\",\"II\",\"II\",\"II\",\"II\",\"II\",\"II\",\"III\",\"III\",\"III\",\"III\",\"III\",\"III\",\"III\",\"III\",\"III\",\"III\",\"III\",\"III\",\"III\",\"III\",\"III\",\"III\",\"III\",\"III\",\"III\",\"III\",\"IV\",\"IV\",\"IV\",\"IV\",\"IV\",\"IV\",\"IV\",\"IV\",\"IV\",\"IV\",\"IV\",\"IV\",\"IV\",\"IV\",\"IV\",\"IV\",\"IV\",\"IV\",\"IV\",\"IV\"],\"impact force (mN)\":[1205,2527,1745,1556,493,2276,556,1928,2641,1897,1891,1545,1307,1692,1543,1282,775,2032,1240,473,1612,605,327,946,541,1539,529,628,1453,297,703,269,751,245,1182,515,435,383,457,730,614,414,324,776,611,544,538,579,806,459,458,626,621,544,535,385,401,614,665,488,172,142,37,453,355,22,502,273,720,582,198,198,597,516,815,402,605,711,614,468],\"trial number\":[3,4,1,2,3,4,1,2,3,4,1,2,3,4,5,1,2,3,4,5,1,2,3,4,1,2,3,4,1,2,3,4,1,2,1,2,1,2,3,1,1,2,3,1,2,3,1,2,1,2,3,4,1,2,3,4,1,2,3,4,2,3,4,1,2,3,1,1,2,3,4,1,1,2,3,4,1,2,3,4]},\"selected\":{\"id\":\"00140662-2247-4a30-ab2c-9ec8f352791c\",\"type\":\"Selection\"},\"selection_policy\":{\"id\":\"8dac885c-9ba5-4cc3-a870-758e2d5c2b86\",\"type\":\"UnionRenderers\"}},\"id\":\"cea4382c-34fb-4737-82fd-de515fa17e31\",\"type\":\"ColumnDataSource\"},{\"attributes\":{\"below\":[{\"id\":\"ae3aa433-7b99-4c4a-921e-07d99b8dcefe\",\"type\":\"LinearAxis\"}],\"left\":[{\"id\":\"c94662aa-51e6-4248-94f7-e26dbf14824b\",\"type\":\"CategoricalAxis\"}],\"plot_height\":300,\"plot_width\":400,\"renderers\":[{\"id\":\"ae3aa433-7b99-4c4a-921e-07d99b8dcefe\",\"type\":\"LinearAxis\"},{\"id\":\"86109536-8996-409b-8f62-fc04486d7436\",\"type\":\"Grid\"},{\"id\":\"c94662aa-51e6-4248-94f7-e26dbf14824b\",\"type\":\"CategoricalAxis\"},{\"id\":\"03b175f1-3216-4cde-bcd6-6801249bcf0a\",\"type\":\"Grid\"},{\"id\":\"e5c94570-4877-4b81-9dc6-4d497da920f6\",\"type\":\"BoxAnnotation\"},{\"id\":\"567d1ed4-dab5-4afd-b60c-5525d3d6de1c\",\"type\":\"GlyphRenderer\"}],\"title\":null,\"toolbar\":{\"id\":\"5883296c-00d8-4972-b033-d53ac6b7b815\",\"type\":\"Toolbar\"},\"x_range\":{\"id\":\"9edb51a9-a652-4980-ac83-f4ba49883b0d\",\"type\":\"DataRange1d\"},\"x_scale\":{\"id\":\"58e4e147-a40c-4947-b938-4af48dbd793a\",\"type\":\"LinearScale\"},\"y_range\":{\"id\":\"a11cac15-69e7-4c17-b16d-47e85268fbbf\",\"type\":\"FactorRange\"},\"y_scale\":{\"id\":\"56b35983-13e2-480d-a4c3-a5ee95869550\",\"type\":\"CategoricalScale\"}},\"id\":\"c9becc41-429e-406c-9385-512e3f0ee9a3\",\"subtype\":\"Figure\",\"type\":\"Plot\"},{\"attributes\":{\"fill_alpha\":{\"value\":0.1},\"fill_color\":{\"value\":\"#1f77b4\"},\"line_alpha\":{\"value\":0.1},\"line_color\":{\"value\":\"#1f77b4\"},\"x\":{\"field\":\"impact force (mN)\"},\"y\":{\"field\":\"cat\",\"transform\":{\"id\":\"8befa5bc-b404-4b3d-b706-9089024f9108\",\"type\":\"Jitter\"}}},\"id\":\"2b612401-edea-4360-a713-966624dd7fdb\",\"type\":\"Circle\"},{\"attributes\":{\"factors\":[\"I\",\"II\",\"III\",\"IV\"],\"palette\":[\"#4e79a7\",\"#f28e2b\",\"#e15759\",\"#76b7b2\",\"#59a14f\",\"#edc948\",\"#b07aa1\",\"#ff9da7\",\"#9c755f\",\"#bab0ac\"]},\"id\":\"a87b383a-7157-446f-a0af-bb82c582def2\",\"type\":\"CategoricalColorMapper\"},{\"attributes\":{\"callback\":null,\"renderers\":\"auto\",\"tooltips\":[[\"impact force (mN)\",\"@{impact force (mN)}\"],[\"trial number\",\"@{trial number}\"],[\"adhesive force (mN)\",\"@{adhesive force (mN)}\"]]},\"id\":\"68cfd08a-b9e7-4bd1-8839-3d99db013896\",\"type\":\"HoverTool\"},{\"attributes\":{\"active_drag\":\"auto\",\"active_inspect\":\"auto\",\"active_multi\":null,\"active_scroll\":\"auto\",\"active_tap\":\"auto\",\"tools\":[{\"id\":\"30c69a06-118f-4583-96eb-e136c6911fa5\",\"type\":\"PanTool\"},{\"id\":\"33ea5c92-01ce-4565-baa5-d869ae889203\",\"type\":\"WheelZoomTool\"},{\"id\":\"bc0ec064-53ab-45c8-bd99-5b1b7ea7e0b6\",\"type\":\"BoxZoomTool\"},{\"id\":\"8bfdef1f-6cd2-436f-89e1-ccde09a34a88\",\"type\":\"SaveTool\"},{\"id\":\"525df264-fdf8-4a09-81fe-7c5ccb73a7c9\",\"type\":\"ResetTool\"},{\"id\":\"7ee1c18a-7a9c-46ba-9d0c-b14c3a501fc2\",\"type\":\"HelpTool\"},{\"id\":\"68cfd08a-b9e7-4bd1-8839-3d99db013896\",\"type\":\"HoverTool\"}]},\"id\":\"5883296c-00d8-4972-b033-d53ac6b7b815\",\"type\":\"Toolbar\"},{\"attributes\":{},\"id\":\"7ee1c18a-7a9c-46ba-9d0c-b14c3a501fc2\",\"type\":\"HelpTool\"},{\"attributes\":{\"callback\":null},\"id\":\"9edb51a9-a652-4980-ac83-f4ba49883b0d\",\"type\":\"DataRange1d\"},{\"attributes\":{\"range\":{\"id\":\"a11cac15-69e7-4c17-b16d-47e85268fbbf\",\"type\":\"FactorRange\"},\"width\":0.4},\"id\":\"8befa5bc-b404-4b3d-b706-9089024f9108\",\"type\":\"Jitter\"},{\"attributes\":{\"source\":{\"id\":\"cea4382c-34fb-4737-82fd-de515fa17e31\",\"type\":\"ColumnDataSource\"}},\"id\":\"462d1808-eeec-48bd-a845-b95b3b50c8c6\",\"type\":\"CDSView\"},{\"attributes\":{\"fill_color\":{\"field\":\"cat\",\"transform\":{\"id\":\"a87b383a-7157-446f-a0af-bb82c582def2\",\"type\":\"CategoricalColorMapper\"}},\"line_color\":{\"field\":\"cat\",\"transform\":{\"id\":\"a87b383a-7157-446f-a0af-bb82c582def2\",\"type\":\"CategoricalColorMapper\"}},\"x\":{\"field\":\"impact force (mN)\"},\"y\":{\"field\":\"cat\",\"transform\":{\"id\":\"8befa5bc-b404-4b3d-b706-9089024f9108\",\"type\":\"Jitter\"}}},\"id\":\"99db4d08-5903-4161-b700-80bafb1e0aff\",\"type\":\"Circle\"},{\"attributes\":{},\"id\":\"56b35983-13e2-480d-a4c3-a5ee95869550\",\"type\":\"CategoricalScale\"},{\"attributes\":{},\"id\":\"30c69a06-118f-4583-96eb-e136c6911fa5\",\"type\":\"PanTool\"},{\"attributes\":{},\"id\":\"58e4e147-a40c-4947-b938-4af48dbd793a\",\"type\":\"LinearScale\"},{\"attributes\":{\"plot\":{\"id\":\"c9becc41-429e-406c-9385-512e3f0ee9a3\",\"subtype\":\"Figure\",\"type\":\"Plot\"},\"ticker\":{\"id\":\"4b007a23-45b2-4882-ac8d-f0cbaf928bec\",\"type\":\"BasicTicker\"}},\"id\":\"86109536-8996-409b-8f62-fc04486d7436\",\"type\":\"Grid\"},{\"attributes\":{},\"id\":\"82eaf441-9b74-49b1-921c-b9b921a410f3\",\"type\":\"CategoricalTicker\"},{\"attributes\":{\"axis_label\":\"ID\",\"formatter\":{\"id\":\"f1817999-fe8d-444c-b662-0deb8498ebdb\",\"type\":\"BasicTickFormatter\"},\"plot\":{\"id\":\"c9becc41-429e-406c-9385-512e3f0ee9a3\",\"subtype\":\"Figure\",\"type\":\"Plot\"},\"ticker\":{\"id\":\"4b007a23-45b2-4882-ac8d-f0cbaf928bec\",\"type\":\"BasicTicker\"}},\"id\":\"ae3aa433-7b99-4c4a-921e-07d99b8dcefe\",\"type\":\"LinearAxis\"}],\"root_ids\":[\"c9becc41-429e-406c-9385-512e3f0ee9a3\"]},\"title\":\"Bokeh Application\",\"version\":\"0.13.0\"}};\n",
       "  var render_items = [{\"docid\":\"b5e33d90-24ef-4263-993b-d78388c8c1c2\",\"roots\":{\"c9becc41-429e-406c-9385-512e3f0ee9a3\":\"9f464e71-c947-4988-b75f-325fd879755b\"}}];\n",
       "  root.Bokeh.embed.embed_items_notebook(docs_json, render_items);\n",
       "\n",
       "  }\n",
       "  if (root.Bokeh !== undefined) {\n",
       "    embed_document(root);\n",
       "  } else {\n",
       "    var attempts = 0;\n",
       "    var timer = setInterval(function(root) {\n",
       "      if (root.Bokeh !== undefined) {\n",
       "        embed_document(root);\n",
       "        clearInterval(timer);\n",
       "      }\n",
       "      attempts++;\n",
       "      if (attempts > 100) {\n",
       "        console.log(\"Bokeh: ERROR: Unable to run BokehJS code because BokehJS library is missing\")\n",
       "        clearInterval(timer);\n",
       "      }\n",
       "    }, 10, root)\n",
       "  }\n",
       "})(window);"
      ],
      "application/vnd.bokehjs_exec.v0+json": ""
     },
     "metadata": {
      "application/vnd.bokehjs_exec.v0+json": {
       "id": "c9becc41-429e-406c-9385-512e3f0ee9a3"
      }
     },
     "output_type": "display_data"
    }
   ],
   "source": [
    "p = bebi103.viz.jitter( data=df, \n",
    "                        cats='ID', \n",
    "                        val='impact force (mN)', \n",
    "                        p=None, \n",
    "                        horizontal=True, \n",
    "                        x_axis_label='ID', \n",
    "                        y_axis_label='impact force (mN)', \n",
    "                        title=None, \n",
    "                        plot_height=300, \n",
    "                        plot_width=400, \n",
    "                        palette=['#4e79a7', '#f28e2b', '#e15759', '#76b7b2', '#59a14f',\n",
    "                                 '#edc948', '#b07aa1', '#ff9da7', '#9c755f', '#bab0ac'],\n",
    "                        width=0.4, \n",
    "                        order=None, \n",
    "                        val_axis_type='linear', \n",
    "                        show_legend=False,\n",
    "                        color_column=None, \n",
    "                        tooltips=[('impact force (mN)', '@{impact force (mN)}'), \n",
    "                                  ('trial number', '@{trial number}'),\n",
    "                                  ('adhesive force (mN)', '@{adhesive force (mN)}')])\n",
    "bokeh.io.show(p) "
   ]
  },
  {
   "cell_type": "code",
   "execution_count": 51,
   "metadata": {},
   "outputs": [
    {
     "data": {
      "text/html": [
       "\n",
       "\n",
       "\n",
       "\n",
       "\n",
       "\n",
       "  <div class=\"bk-root\" id=\"2e9cb7ee-7be9-4772-8c2a-81c35863a933\"></div>\n"
      ]
     },
     "metadata": {},
     "output_type": "display_data"
    },
    {
     "data": {
      "application/javascript": [
       "(function(root) {\n",
       "  function embed_document(root) {\n",
       "    \n",
       "  var docs_json = {\"0c98ab4e-aa93-4641-830c-77a0f985e934\":{\"roots\":{\"references\":[{\"attributes\":{},\"id\":\"7b753a87-8563-45c2-b993-4891fda9243c\",\"type\":\"CategoricalScale\"},{\"attributes\":{\"overlay\":{\"id\":\"ef3b4a59-3682-49ac-9cab-5a8a41803f73\",\"type\":\"BoxAnnotation\"}},\"id\":\"1ccb0d00-1834-49a9-9064-14fa3ed79fb4\",\"type\":\"BoxZoomTool\"},{\"attributes\":{},\"id\":\"91d32a59-a32f-48f1-99a7-8d7e42bbc357\",\"type\":\"SaveTool\"},{\"attributes\":{\"below\":[{\"id\":\"c4e34edc-b11b-441e-ae65-4677272715fe\",\"type\":\"LogAxis\"}],\"left\":[{\"id\":\"0cfb59ba-4643-4f6b-b73a-874ee075916e\",\"type\":\"CategoricalAxis\"}],\"plot_height\":300,\"plot_width\":400,\"renderers\":[{\"id\":\"c4e34edc-b11b-441e-ae65-4677272715fe\",\"type\":\"LogAxis\"},{\"id\":\"b4a29e5d-1e1c-4206-9abc-a793ec7e99a7\",\"type\":\"Grid\"},{\"id\":\"0cfb59ba-4643-4f6b-b73a-874ee075916e\",\"type\":\"CategoricalAxis\"},{\"id\":\"4a6d5c3f-7aa4-49e1-a5ff-26a8eb1518a8\",\"type\":\"Grid\"},{\"id\":\"ef3b4a59-3682-49ac-9cab-5a8a41803f73\",\"type\":\"BoxAnnotation\"},{\"id\":\"4702a7ad-dc05-414a-bfb0-c517436b6294\",\"type\":\"GlyphRenderer\"}],\"title\":null,\"toolbar\":{\"id\":\"ecd9a1d7-d36b-4e8b-8701-f4c221c5a5d4\",\"type\":\"Toolbar\"},\"x_range\":{\"id\":\"f967b5a3-8e80-4627-9f78-5a7a09522abd\",\"type\":\"DataRange1d\"},\"x_scale\":{\"id\":\"b27bb804-d580-4453-a837-bbbf3716eb82\",\"type\":\"LogScale\"},\"y_range\":{\"id\":\"548f0b88-ec7b-4ca0-8dca-b8d67b2a0b5b\",\"type\":\"FactorRange\"},\"y_scale\":{\"id\":\"7b753a87-8563-45c2-b993-4891fda9243c\",\"type\":\"CategoricalScale\"}},\"id\":\"fe7eef68-4b1e-4c70-bb4e-b090d0aa5c4d\",\"subtype\":\"Figure\",\"type\":\"Plot\"},{\"attributes\":{},\"id\":\"631af9d7-d306-4084-a230-fa0916377212\",\"type\":\"ResetTool\"},{\"attributes\":{\"active_drag\":\"auto\",\"active_inspect\":\"auto\",\"active_multi\":null,\"active_scroll\":\"auto\",\"active_tap\":\"auto\",\"tools\":[{\"id\":\"d2c0e92a-68ed-4e6d-b2c1-7753cb69a4c8\",\"type\":\"PanTool\"},{\"id\":\"dfe3f6eb-c178-4363-8383-ce4c855792d9\",\"type\":\"WheelZoomTool\"},{\"id\":\"1ccb0d00-1834-49a9-9064-14fa3ed79fb4\",\"type\":\"BoxZoomTool\"},{\"id\":\"91d32a59-a32f-48f1-99a7-8d7e42bbc357\",\"type\":\"SaveTool\"},{\"id\":\"631af9d7-d306-4084-a230-fa0916377212\",\"type\":\"ResetTool\"},{\"id\":\"24aa8ede-b56d-451c-91ad-43e985e88c77\",\"type\":\"HelpTool\"},{\"id\":\"082aa06f-653f-4107-8b61-38109c721391\",\"type\":\"HoverTool\"}]},\"id\":\"ecd9a1d7-d36b-4e8b-8701-f4c221c5a5d4\",\"type\":\"Toolbar\"},{\"attributes\":{\"callback\":null},\"id\":\"f967b5a3-8e80-4627-9f78-5a7a09522abd\",\"type\":\"DataRange1d\"},{\"attributes\":{},\"id\":\"24aa8ede-b56d-451c-91ad-43e985e88c77\",\"type\":\"HelpTool\"},{\"attributes\":{\"range\":{\"id\":\"548f0b88-ec7b-4ca0-8dca-b8d67b2a0b5b\",\"type\":\"FactorRange\"},\"width\":0.4},\"id\":\"4c785777-3ad6-4423-b945-177f5956f5f1\",\"type\":\"Jitter\"},{\"attributes\":{\"callback\":null,\"renderers\":\"auto\",\"tooltips\":[[\"impact force (mN)\",\"@{impact force (mN)}\"],[\"trial number\",\"@{trial number}\"],[\"adhesive force (mN)\",\"@{adhesive force (mN)}\"]]},\"id\":\"082aa06f-653f-4107-8b61-38109c721391\",\"type\":\"HoverTool\"},{\"attributes\":{},\"id\":\"b27bb804-d580-4453-a837-bbbf3716eb82\",\"type\":\"LogScale\"},{\"attributes\":{\"fill_alpha\":{\"value\":0.1},\"fill_color\":{\"value\":\"#1f77b4\"},\"line_alpha\":{\"value\":0.1},\"line_color\":{\"value\":\"#1f77b4\"},\"x\":{\"field\":\"impact force (mN)\"},\"y\":{\"field\":\"cat\",\"transform\":{\"id\":\"4c785777-3ad6-4423-b945-177f5956f5f1\",\"type\":\"Jitter\"}}},\"id\":\"7422ce2b-182e-400d-91a7-87754986f2f9\",\"type\":\"Circle\"},{\"attributes\":{\"plot\":{\"id\":\"fe7eef68-4b1e-4c70-bb4e-b090d0aa5c4d\",\"subtype\":\"Figure\",\"type\":\"Plot\"},\"ticker\":{\"id\":\"bc43b97b-861e-490b-911d-e12a53cd9ecb\",\"type\":\"LogTicker\"}},\"id\":\"b4a29e5d-1e1c-4206-9abc-a793ec7e99a7\",\"type\":\"Grid\"},{\"attributes\":{\"source\":{\"id\":\"a4f2b7e9-84be-4aad-9d86-df402508b936\",\"type\":\"ColumnDataSource\"}},\"id\":\"0595b565-e200-4966-b54e-fcfc050ba03d\",\"type\":\"CDSView\"},{\"attributes\":{\"axis_label\":\"ID\",\"formatter\":{\"id\":\"b50052cd-5e22-4d52-ae7c-056d7275adc0\",\"type\":\"LogTickFormatter\"},\"plot\":{\"id\":\"fe7eef68-4b1e-4c70-bb4e-b090d0aa5c4d\",\"subtype\":\"Figure\",\"type\":\"Plot\"},\"ticker\":{\"id\":\"bc43b97b-861e-490b-911d-e12a53cd9ecb\",\"type\":\"LogTicker\"}},\"id\":\"c4e34edc-b11b-441e-ae65-4677272715fe\",\"type\":\"LogAxis\"},{\"attributes\":{\"data_source\":{\"id\":\"a4f2b7e9-84be-4aad-9d86-df402508b936\",\"type\":\"ColumnDataSource\"},\"glyph\":{\"id\":\"7721818a-66e0-489b-bddb-d109d28a22b4\",\"type\":\"Circle\"},\"hover_glyph\":null,\"muted_glyph\":null,\"nonselection_glyph\":{\"id\":\"7422ce2b-182e-400d-91a7-87754986f2f9\",\"type\":\"Circle\"},\"selection_glyph\":null,\"view\":{\"id\":\"0595b565-e200-4966-b54e-fcfc050ba03d\",\"type\":\"CDSView\"}},\"id\":\"4702a7ad-dc05-414a-bfb0-c517436b6294\",\"type\":\"GlyphRenderer\"},{\"attributes\":{\"num_minor_ticks\":10},\"id\":\"bc43b97b-861e-490b-911d-e12a53cd9ecb\",\"type\":\"LogTicker\"},{\"attributes\":{\"axis_label\":\"impact force (mN)\",\"formatter\":{\"id\":\"db4370f3-837a-426c-8de7-1b98631d02c0\",\"type\":\"CategoricalTickFormatter\"},\"plot\":{\"id\":\"fe7eef68-4b1e-4c70-bb4e-b090d0aa5c4d\",\"subtype\":\"Figure\",\"type\":\"Plot\"},\"ticker\":{\"id\":\"5160e952-5122-4e04-a51a-522e8a351f10\",\"type\":\"CategoricalTicker\"}},\"id\":\"0cfb59ba-4643-4f6b-b73a-874ee075916e\",\"type\":\"CategoricalAxis\"},{\"attributes\":{},\"id\":\"5160e952-5122-4e04-a51a-522e8a351f10\",\"type\":\"CategoricalTicker\"},{\"attributes\":{\"dimension\":1,\"grid_line_color\":{\"value\":null},\"plot\":{\"id\":\"fe7eef68-4b1e-4c70-bb4e-b090d0aa5c4d\",\"subtype\":\"Figure\",\"type\":\"Plot\"},\"ticker\":{\"id\":\"5160e952-5122-4e04-a51a-522e8a351f10\",\"type\":\"CategoricalTicker\"}},\"id\":\"4a6d5c3f-7aa4-49e1-a5ff-26a8eb1518a8\",\"type\":\"Grid\"},{\"attributes\":{\"callback\":null,\"factors\":[\"IV\",\"III\",\"II\",\"I\"]},\"id\":\"548f0b88-ec7b-4ca0-8dca-b8d67b2a0b5b\",\"type\":\"FactorRange\"},{\"attributes\":{\"callback\":null,\"data\":{\"ID\":[\"I\",\"I\",\"I\",\"I\",\"I\",\"I\",\"I\",\"I\",\"I\",\"I\",\"I\",\"I\",\"I\",\"I\",\"I\",\"I\",\"I\",\"I\",\"I\",\"I\",\"II\",\"II\",\"II\",\"II\",\"II\",\"II\",\"II\",\"II\",\"II\",\"II\",\"II\",\"II\",\"II\",\"II\",\"II\",\"II\",\"II\",\"II\",\"II\",\"II\",\"III\",\"III\",\"III\",\"III\",\"III\",\"III\",\"III\",\"III\",\"III\",\"III\",\"III\",\"III\",\"III\",\"III\",\"III\",\"III\",\"III\",\"III\",\"III\",\"III\",\"IV\",\"IV\",\"IV\",\"IV\",\"IV\",\"IV\",\"IV\",\"IV\",\"IV\",\"IV\",\"IV\",\"IV\",\"IV\",\"IV\",\"IV\",\"IV\",\"IV\",\"IV\",\"IV\",\"IV\"],\"__label\":[\"I\",\"I\",\"I\",\"I\",\"I\",\"I\",\"I\",\"I\",\"I\",\"I\",\"I\",\"I\",\"I\",\"I\",\"I\",\"I\",\"I\",\"I\",\"I\",\"I\",\"II\",\"II\",\"II\",\"II\",\"II\",\"II\",\"II\",\"II\",\"II\",\"II\",\"II\",\"II\",\"II\",\"II\",\"II\",\"II\",\"II\",\"II\",\"II\",\"II\",\"III\",\"III\",\"III\",\"III\",\"III\",\"III\",\"III\",\"III\",\"III\",\"III\",\"III\",\"III\",\"III\",\"III\",\"III\",\"III\",\"III\",\"III\",\"III\",\"III\",\"IV\",\"IV\",\"IV\",\"IV\",\"IV\",\"IV\",\"IV\",\"IV\",\"IV\",\"IV\",\"IV\",\"IV\",\"IV\",\"IV\",\"IV\",\"IV\",\"IV\",\"IV\",\"IV\",\"IV\"],\"adhesive force (mN)\":[-785,-983,-850,-455,-974,-592,-512,-804,-690,-462,-766,-715,-613,-677,-528,-452,-430,-652,-692,-536,-655,-292,-246,-245,-553,-664,-261,-691,-92,-566,-223,-512,-227,-573,-522,-599,-364,-469,-844,-648,-94,-163,-172,-225,-301,-93,-131,-289,-104,-229,-259,-231,-267,-178,-123,-151,-127,-372,-236,-390,-456,-193,-236,-225,-217,-161,-139,-264,-342,-231,-209,-292,-339,-371,-331,-302,-216,-163,-367,-218],\"cat\":[\"I\",\"I\",\"I\",\"I\",\"I\",\"I\",\"I\",\"I\",\"I\",\"I\",\"I\",\"I\",\"I\",\"I\",\"I\",\"I\",\"I\",\"I\",\"I\",\"I\",\"II\",\"II\",\"II\",\"II\",\"II\",\"II\",\"II\",\"II\",\"II\",\"II\",\"II\",\"II\",\"II\",\"II\",\"II\",\"II\",\"II\",\"II\",\"II\",\"II\",\"III\",\"III\",\"III\",\"III\",\"III\",\"III\",\"III\",\"III\",\"III\",\"III\",\"III\",\"III\",\"III\",\"III\",\"III\",\"III\",\"III\",\"III\",\"III\",\"III\",\"IV\",\"IV\",\"IV\",\"IV\",\"IV\",\"IV\",\"IV\",\"IV\",\"IV\",\"IV\",\"IV\",\"IV\",\"IV\",\"IV\",\"IV\",\"IV\",\"IV\",\"IV\",\"IV\",\"IV\"],\"impact force (mN)\":[1205,2527,1745,1556,493,2276,556,1928,2641,1897,1891,1545,1307,1692,1543,1282,775,2032,1240,473,1612,605,327,946,541,1539,529,628,1453,297,703,269,751,245,1182,515,435,383,457,730,614,414,324,776,611,544,538,579,806,459,458,626,621,544,535,385,401,614,665,488,172,142,37,453,355,22,502,273,720,582,198,198,597,516,815,402,605,711,614,468],\"trial number\":[3,4,1,2,3,4,1,2,3,4,1,2,3,4,5,1,2,3,4,5,1,2,3,4,1,2,3,4,1,2,3,4,1,2,1,2,1,2,3,1,1,2,3,1,2,3,1,2,1,2,3,4,1,2,3,4,1,2,3,4,2,3,4,1,2,3,1,1,2,3,4,1,1,2,3,4,1,2,3,4]},\"selected\":{\"id\":\"e2ddfdd3-cb15-4ffc-b2f4-19ea4ad5ec97\",\"type\":\"Selection\"},\"selection_policy\":{\"id\":\"18b1ef48-f4a2-43b4-86b1-793bb5ae3fca\",\"type\":\"UnionRenderers\"}},\"id\":\"a4f2b7e9-84be-4aad-9d86-df402508b936\",\"type\":\"ColumnDataSource\"},{\"attributes\":{},\"id\":\"18b1ef48-f4a2-43b4-86b1-793bb5ae3fca\",\"type\":\"UnionRenderers\"},{\"attributes\":{\"factors\":[\"I\",\"II\",\"III\",\"IV\"],\"palette\":[\"#4e79a7\",\"#f28e2b\",\"#e15759\",\"#76b7b2\",\"#59a14f\",\"#edc948\",\"#b07aa1\",\"#ff9da7\",\"#9c755f\",\"#bab0ac\"]},\"id\":\"d4edf2a2-9d1f-4c56-8085-17ed8ab23e4e\",\"type\":\"CategoricalColorMapper\"},{\"attributes\":{},\"id\":\"e2ddfdd3-cb15-4ffc-b2f4-19ea4ad5ec97\",\"type\":\"Selection\"},{\"attributes\":{\"bottom_units\":\"screen\",\"fill_alpha\":{\"value\":0.5},\"fill_color\":{\"value\":\"lightgrey\"},\"left_units\":\"screen\",\"level\":\"overlay\",\"line_alpha\":{\"value\":1.0},\"line_color\":{\"value\":\"black\"},\"line_dash\":[4,4],\"line_width\":{\"value\":2},\"plot\":null,\"render_mode\":\"css\",\"right_units\":\"screen\",\"top_units\":\"screen\"},\"id\":\"ef3b4a59-3682-49ac-9cab-5a8a41803f73\",\"type\":\"BoxAnnotation\"},{\"attributes\":{},\"id\":\"db4370f3-837a-426c-8de7-1b98631d02c0\",\"type\":\"CategoricalTickFormatter\"},{\"attributes\":{},\"id\":\"d2c0e92a-68ed-4e6d-b2c1-7753cb69a4c8\",\"type\":\"PanTool\"},{\"attributes\":{\"ticker\":null},\"id\":\"b50052cd-5e22-4d52-ae7c-056d7275adc0\",\"type\":\"LogTickFormatter\"},{\"attributes\":{\"fill_color\":{\"field\":\"cat\",\"transform\":{\"id\":\"d4edf2a2-9d1f-4c56-8085-17ed8ab23e4e\",\"type\":\"CategoricalColorMapper\"}},\"line_color\":{\"field\":\"cat\",\"transform\":{\"id\":\"d4edf2a2-9d1f-4c56-8085-17ed8ab23e4e\",\"type\":\"CategoricalColorMapper\"}},\"x\":{\"field\":\"impact force (mN)\"},\"y\":{\"field\":\"cat\",\"transform\":{\"id\":\"4c785777-3ad6-4423-b945-177f5956f5f1\",\"type\":\"Jitter\"}}},\"id\":\"7721818a-66e0-489b-bddb-d109d28a22b4\",\"type\":\"Circle\"},{\"attributes\":{},\"id\":\"dfe3f6eb-c178-4363-8383-ce4c855792d9\",\"type\":\"WheelZoomTool\"}],\"root_ids\":[\"fe7eef68-4b1e-4c70-bb4e-b090d0aa5c4d\"]},\"title\":\"Bokeh Application\",\"version\":\"0.13.0\"}};\n",
       "  var render_items = [{\"docid\":\"0c98ab4e-aa93-4641-830c-77a0f985e934\",\"roots\":{\"fe7eef68-4b1e-4c70-bb4e-b090d0aa5c4d\":\"2e9cb7ee-7be9-4772-8c2a-81c35863a933\"}}];\n",
       "  root.Bokeh.embed.embed_items_notebook(docs_json, render_items);\n",
       "\n",
       "  }\n",
       "  if (root.Bokeh !== undefined) {\n",
       "    embed_document(root);\n",
       "  } else {\n",
       "    var attempts = 0;\n",
       "    var timer = setInterval(function(root) {\n",
       "      if (root.Bokeh !== undefined) {\n",
       "        embed_document(root);\n",
       "        clearInterval(timer);\n",
       "      }\n",
       "      attempts++;\n",
       "      if (attempts > 100) {\n",
       "        console.log(\"Bokeh: ERROR: Unable to run BokehJS code because BokehJS library is missing\")\n",
       "        clearInterval(timer);\n",
       "      }\n",
       "    }, 10, root)\n",
       "  }\n",
       "})(window);"
      ],
      "application/vnd.bokehjs_exec.v0+json": ""
     },
     "metadata": {
      "application/vnd.bokehjs_exec.v0+json": {
       "id": "fe7eef68-4b1e-4c70-bb4e-b090d0aa5c4d"
      }
     },
     "output_type": "display_data"
    }
   ],
   "source": [
    "p = bebi103.viz.jitter( data=df, \n",
    "                        cats='ID', \n",
    "                        val='impact force (mN)', \n",
    "                        p=None, \n",
    "                        horizontal=True, \n",
    "                        x_axis_label='ID', \n",
    "                        y_axis_label='impact force (mN)', \n",
    "                        title=None, \n",
    "                        plot_height=300, \n",
    "                        plot_width=400, \n",
    "                        palette=['#4e79a7', '#f28e2b', '#e15759', '#76b7b2', '#59a14f',\n",
    "                                 '#edc948', '#b07aa1', '#ff9da7', '#9c755f', '#bab0ac'],\n",
    "                        width=0.4, \n",
    "                        order=None, \n",
    "                        val_axis_type='log', \n",
    "                        show_legend=False,\n",
    "                        color_column=None, \n",
    "                        tooltips=[('impact force (mN)', '@{impact force (mN)}'), \n",
    "                                  ('trial number', '@{trial number}'),\n",
    "                                  ('adhesive force (mN)', '@{adhesive force (mN)}')])\n",
    "bokeh.io.show(p) "
   ]
  },
  {
   "cell_type": "code",
   "execution_count": 52,
   "metadata": {},
   "outputs": [
    {
     "data": {
      "text/html": [
       "\n",
       "\n",
       "\n",
       "\n",
       "\n",
       "\n",
       "  <div class=\"bk-root\" id=\"597bd683-95f9-466f-b11c-85cc7045ad09\"></div>\n"
      ]
     },
     "metadata": {},
     "output_type": "display_data"
    },
    {
     "data": {
      "application/javascript": [
       "(function(root) {\n",
       "  function embed_document(root) {\n",
       "    \n",
       "  var docs_json = {\"874f6acc-040c-4aaf-9b1e-c4a2a79c6a8f\":{\"roots\":{\"references\":[{\"attributes\":{\"data_source\":{\"id\":\"465c4273-5abc-4c92-8462-aa4b753d6a46\",\"type\":\"ColumnDataSource\"},\"glyph\":{\"id\":\"793b3c95-1dda-4038-a668-31bca261b0a0\",\"type\":\"Circle\"},\"hover_glyph\":null,\"muted_glyph\":null,\"nonselection_glyph\":{\"id\":\"edb99568-4a68-4547-b00e-3f505933e5a0\",\"type\":\"Circle\"},\"selection_glyph\":null,\"view\":{\"id\":\"b7c438c3-3352-4240-a53b-2e887f5abe89\",\"type\":\"CDSView\"}},\"id\":\"3c95e832-9943-4721-a03a-a3bb9fffa194\",\"type\":\"GlyphRenderer\"},{\"attributes\":{\"fill_color\":{\"field\":\"cat\",\"transform\":{\"id\":\"845d5369-e43e-448c-8617-ad9a9f6b8e83\",\"type\":\"CategoricalColorMapper\"}},\"line_color\":{\"field\":\"cat\",\"transform\":{\"id\":\"845d5369-e43e-448c-8617-ad9a9f6b8e83\",\"type\":\"CategoricalColorMapper\"}},\"x\":{\"field\":\"cat\",\"transform\":{\"id\":\"3ea19843-be56-4d36-a113-bf51fcde69ce\",\"type\":\"Jitter\"}},\"y\":{\"field\":\"impact force (mN)\"}},\"id\":\"793b3c95-1dda-4038-a668-31bca261b0a0\",\"type\":\"Circle\"},{\"attributes\":{},\"id\":\"3d9032e9-5307-4fba-92e6-f53e11b85758\",\"type\":\"PanTool\"},{\"attributes\":{\"fill_alpha\":{\"value\":0.1},\"fill_color\":{\"value\":\"#1f77b4\"},\"line_alpha\":{\"value\":0.1},\"line_color\":{\"value\":\"#1f77b4\"},\"x\":{\"field\":\"cat\",\"transform\":{\"id\":\"3ea19843-be56-4d36-a113-bf51fcde69ce\",\"type\":\"Jitter\"}},\"y\":{\"field\":\"impact force (mN)\"}},\"id\":\"edb99568-4a68-4547-b00e-3f505933e5a0\",\"type\":\"Circle\"},{\"attributes\":{\"below\":[{\"id\":\"d1812d2c-72ea-43d9-9fc0-905cd3a77c28\",\"type\":\"CategoricalAxis\"}],\"left\":[{\"id\":\"2c4d502f-e9fb-4823-ad15-2be201d94858\",\"type\":\"LinearAxis\"}],\"plot_height\":300,\"plot_width\":400,\"renderers\":[{\"id\":\"d1812d2c-72ea-43d9-9fc0-905cd3a77c28\",\"type\":\"CategoricalAxis\"},{\"id\":\"3dc73f40-0298-4e41-a581-55c0968991c8\",\"type\":\"Grid\"},{\"id\":\"2c4d502f-e9fb-4823-ad15-2be201d94858\",\"type\":\"LinearAxis\"},{\"id\":\"635b1f16-1a13-4040-b681-1d80abcd2d8d\",\"type\":\"Grid\"},{\"id\":\"665dc94c-2358-4125-993e-dae8f8fa5fa1\",\"type\":\"BoxAnnotation\"},{\"id\":\"3c95e832-9943-4721-a03a-a3bb9fffa194\",\"type\":\"GlyphRenderer\"}],\"title\":null,\"toolbar\":{\"id\":\"bbfb9954-496e-4763-9eae-b2ca143805d0\",\"type\":\"Toolbar\"},\"x_range\":{\"id\":\"f711c252-5d6f-4214-9bf6-0d14f5911f81\",\"type\":\"FactorRange\"},\"x_scale\":{\"id\":\"19171bb1-2ba0-48cc-a78e-0ffdb9a8ca05\",\"type\":\"CategoricalScale\"},\"y_range\":{\"id\":\"6bf3e626-03a5-4f0d-be9e-d728009c1a57\",\"type\":\"DataRange1d\"},\"y_scale\":{\"id\":\"8c6740d7-f495-455a-be60-932cf1a20f15\",\"type\":\"LinearScale\"}},\"id\":\"d76929f5-8088-4b54-a937-a73b229f0aae\",\"subtype\":\"Figure\",\"type\":\"Plot\"},{\"attributes\":{},\"id\":\"458d1551-7a89-4c0b-8a04-b4437fcc8d7f\",\"type\":\"WheelZoomTool\"},{\"attributes\":{\"overlay\":{\"id\":\"665dc94c-2358-4125-993e-dae8f8fa5fa1\",\"type\":\"BoxAnnotation\"}},\"id\":\"b7af278c-a5de-452a-8b45-9d31d6c03f4a\",\"type\":\"BoxZoomTool\"},{\"attributes\":{\"active_drag\":\"auto\",\"active_inspect\":\"auto\",\"active_multi\":null,\"active_scroll\":\"auto\",\"active_tap\":\"auto\",\"tools\":[{\"id\":\"3d9032e9-5307-4fba-92e6-f53e11b85758\",\"type\":\"PanTool\"},{\"id\":\"458d1551-7a89-4c0b-8a04-b4437fcc8d7f\",\"type\":\"WheelZoomTool\"},{\"id\":\"b7af278c-a5de-452a-8b45-9d31d6c03f4a\",\"type\":\"BoxZoomTool\"},{\"id\":\"cae02d87-1049-48a1-a515-6c7b1ebc6fca\",\"type\":\"SaveTool\"},{\"id\":\"0b08b8ba-7a8d-46cb-a9f0-9f2d78162b99\",\"type\":\"ResetTool\"},{\"id\":\"55d30cce-b6cc-4839-bda2-a9a204b5c449\",\"type\":\"HelpTool\"}]},\"id\":\"bbfb9954-496e-4763-9eae-b2ca143805d0\",\"type\":\"Toolbar\"},{\"attributes\":{},\"id\":\"56153111-ace3-4854-a3bb-ddfc0b1ded5f\",\"type\":\"CategoricalTicker\"},{\"attributes\":{},\"id\":\"cae02d87-1049-48a1-a515-6c7b1ebc6fca\",\"type\":\"SaveTool\"},{\"attributes\":{\"axis_label\":\"impact force (mN)\",\"formatter\":{\"id\":\"7ed726f8-534b-4302-af92-c801698018ab\",\"type\":\"BasicTickFormatter\"},\"plot\":{\"id\":\"d76929f5-8088-4b54-a937-a73b229f0aae\",\"subtype\":\"Figure\",\"type\":\"Plot\"},\"ticker\":{\"id\":\"1423da69-b983-4b22-a82d-b0aa733cc563\",\"type\":\"BasicTicker\"}},\"id\":\"2c4d502f-e9fb-4823-ad15-2be201d94858\",\"type\":\"LinearAxis\"},{\"attributes\":{},\"id\":\"0b08b8ba-7a8d-46cb-a9f0-9f2d78162b99\",\"type\":\"ResetTool\"},{\"attributes\":{},\"id\":\"99531e13-c1d8-4e76-90e9-e69c37701b00\",\"type\":\"CategoricalTickFormatter\"},{\"attributes\":{\"callback\":null,\"data\":{\"ID\":[\"I\",\"I\",\"I\",\"I\",\"I\",\"I\",\"I\",\"I\",\"I\",\"I\",\"I\",\"I\",\"I\",\"I\",\"I\",\"I\",\"I\",\"I\",\"I\",\"I\",\"II\",\"II\",\"II\",\"II\",\"II\",\"II\",\"II\",\"II\",\"II\",\"II\",\"II\",\"II\",\"II\",\"II\",\"II\",\"II\",\"II\",\"II\",\"II\",\"II\",\"III\",\"III\",\"III\",\"III\",\"III\",\"III\",\"III\",\"III\",\"III\",\"III\",\"III\",\"III\",\"III\",\"III\",\"III\",\"III\",\"III\",\"III\",\"III\",\"III\",\"IV\",\"IV\",\"IV\",\"IV\",\"IV\",\"IV\",\"IV\",\"IV\",\"IV\",\"IV\",\"IV\",\"IV\",\"IV\",\"IV\",\"IV\",\"IV\",\"IV\",\"IV\",\"IV\",\"IV\"],\"__label\":[\"adult, I\",\"adult, I\",\"adult, I\",\"adult, I\",\"adult, I\",\"adult, I\",\"adult, I\",\"adult, I\",\"adult, I\",\"adult, I\",\"adult, I\",\"adult, I\",\"adult, I\",\"adult, I\",\"adult, I\",\"adult, I\",\"adult, I\",\"adult, I\",\"adult, I\",\"adult, I\",\"adult, II\",\"adult, II\",\"adult, II\",\"adult, II\",\"adult, II\",\"adult, II\",\"adult, II\",\"adult, II\",\"adult, II\",\"adult, II\",\"adult, II\",\"adult, II\",\"adult, II\",\"adult, II\",\"adult, II\",\"adult, II\",\"adult, II\",\"adult, II\",\"adult, II\",\"adult, II\",\"juvenile, III\",\"juvenile, III\",\"juvenile, III\",\"juvenile, III\",\"juvenile, III\",\"juvenile, III\",\"juvenile, III\",\"juvenile, III\",\"juvenile, III\",\"juvenile, III\",\"juvenile, III\",\"juvenile, III\",\"juvenile, III\",\"juvenile, III\",\"juvenile, III\",\"juvenile, III\",\"juvenile, III\",\"juvenile, III\",\"juvenile, III\",\"juvenile, III\",\"juvenile, IV\",\"juvenile, IV\",\"juvenile, IV\",\"juvenile, IV\",\"juvenile, IV\",\"juvenile, IV\",\"juvenile, IV\",\"juvenile, IV\",\"juvenile, IV\",\"juvenile, IV\",\"juvenile, IV\",\"juvenile, IV\",\"juvenile, IV\",\"juvenile, IV\",\"juvenile, IV\",\"juvenile, IV\",\"juvenile, IV\",\"juvenile, IV\",\"juvenile, IV\",\"juvenile, IV\"],\"age\":[\"adult\",\"adult\",\"adult\",\"adult\",\"adult\",\"adult\",\"adult\",\"adult\",\"adult\",\"adult\",\"adult\",\"adult\",\"adult\",\"adult\",\"adult\",\"adult\",\"adult\",\"adult\",\"adult\",\"adult\",\"adult\",\"adult\",\"adult\",\"adult\",\"adult\",\"adult\",\"adult\",\"adult\",\"adult\",\"adult\",\"adult\",\"adult\",\"adult\",\"adult\",\"adult\",\"adult\",\"adult\",\"adult\",\"adult\",\"adult\",\"juvenile\",\"juvenile\",\"juvenile\",\"juvenile\",\"juvenile\",\"juvenile\",\"juvenile\",\"juvenile\",\"juvenile\",\"juvenile\",\"juvenile\",\"juvenile\",\"juvenile\",\"juvenile\",\"juvenile\",\"juvenile\",\"juvenile\",\"juvenile\",\"juvenile\",\"juvenile\",\"juvenile\",\"juvenile\",\"juvenile\",\"juvenile\",\"juvenile\",\"juvenile\",\"juvenile\",\"juvenile\",\"juvenile\",\"juvenile\",\"juvenile\",\"juvenile\",\"juvenile\",\"juvenile\",\"juvenile\",\"juvenile\",\"juvenile\",\"juvenile\",\"juvenile\",\"juvenile\"],\"cat\":[[\"adult\",\"I\"],[\"adult\",\"I\"],[\"adult\",\"I\"],[\"adult\",\"I\"],[\"adult\",\"I\"],[\"adult\",\"I\"],[\"adult\",\"I\"],[\"adult\",\"I\"],[\"adult\",\"I\"],[\"adult\",\"I\"],[\"adult\",\"I\"],[\"adult\",\"I\"],[\"adult\",\"I\"],[\"adult\",\"I\"],[\"adult\",\"I\"],[\"adult\",\"I\"],[\"adult\",\"I\"],[\"adult\",\"I\"],[\"adult\",\"I\"],[\"adult\",\"I\"],[\"adult\",\"II\"],[\"adult\",\"II\"],[\"adult\",\"II\"],[\"adult\",\"II\"],[\"adult\",\"II\"],[\"adult\",\"II\"],[\"adult\",\"II\"],[\"adult\",\"II\"],[\"adult\",\"II\"],[\"adult\",\"II\"],[\"adult\",\"II\"],[\"adult\",\"II\"],[\"adult\",\"II\"],[\"adult\",\"II\"],[\"adult\",\"II\"],[\"adult\",\"II\"],[\"adult\",\"II\"],[\"adult\",\"II\"],[\"adult\",\"II\"],[\"adult\",\"II\"],[\"juvenile\",\"III\"],[\"juvenile\",\"III\"],[\"juvenile\",\"III\"],[\"juvenile\",\"III\"],[\"juvenile\",\"III\"],[\"juvenile\",\"III\"],[\"juvenile\",\"III\"],[\"juvenile\",\"III\"],[\"juvenile\",\"III\"],[\"juvenile\",\"III\"],[\"juvenile\",\"III\"],[\"juvenile\",\"III\"],[\"juvenile\",\"III\"],[\"juvenile\",\"III\"],[\"juvenile\",\"III\"],[\"juvenile\",\"III\"],[\"juvenile\",\"III\"],[\"juvenile\",\"III\"],[\"juvenile\",\"III\"],[\"juvenile\",\"III\"],[\"juvenile\",\"IV\"],[\"juvenile\",\"IV\"],[\"juvenile\",\"IV\"],[\"juvenile\",\"IV\"],[\"juvenile\",\"IV\"],[\"juvenile\",\"IV\"],[\"juvenile\",\"IV\"],[\"juvenile\",\"IV\"],[\"juvenile\",\"IV\"],[\"juvenile\",\"IV\"],[\"juvenile\",\"IV\"],[\"juvenile\",\"IV\"],[\"juvenile\",\"IV\"],[\"juvenile\",\"IV\"],[\"juvenile\",\"IV\"],[\"juvenile\",\"IV\"],[\"juvenile\",\"IV\"],[\"juvenile\",\"IV\"],[\"juvenile\",\"IV\"],[\"juvenile\",\"IV\"]],\"impact force (mN)\":[1205,2527,1745,1556,493,2276,556,1928,2641,1897,1891,1545,1307,1692,1543,1282,775,2032,1240,473,1612,605,327,946,541,1539,529,628,1453,297,703,269,751,245,1182,515,435,383,457,730,614,414,324,776,611,544,538,579,806,459,458,626,621,544,535,385,401,614,665,488,172,142,37,453,355,22,502,273,720,582,198,198,597,516,815,402,605,711,614,468]},\"selected\":{\"id\":\"21b84fba-2b67-43eb-96b1-96d89dd9a04c\",\"type\":\"Selection\"},\"selection_policy\":{\"id\":\"fb6de896-4569-4e43-ab76-98ba81c35173\",\"type\":\"UnionRenderers\"}},\"id\":\"465c4273-5abc-4c92-8462-aa4b753d6a46\",\"type\":\"ColumnDataSource\"},{\"attributes\":{},\"id\":\"55d30cce-b6cc-4839-bda2-a9a204b5c449\",\"type\":\"HelpTool\"},{\"attributes\":{\"axis_label\":\"ID\",\"formatter\":{\"id\":\"99531e13-c1d8-4e76-90e9-e69c37701b00\",\"type\":\"CategoricalTickFormatter\"},\"plot\":{\"id\":\"d76929f5-8088-4b54-a937-a73b229f0aae\",\"subtype\":\"Figure\",\"type\":\"Plot\"},\"ticker\":{\"id\":\"56153111-ace3-4854-a3bb-ddfc0b1ded5f\",\"type\":\"CategoricalTicker\"}},\"id\":\"d1812d2c-72ea-43d9-9fc0-905cd3a77c28\",\"type\":\"CategoricalAxis\"},{\"attributes\":{\"bottom_units\":\"screen\",\"fill_alpha\":{\"value\":0.5},\"fill_color\":{\"value\":\"lightgrey\"},\"left_units\":\"screen\",\"level\":\"overlay\",\"line_alpha\":{\"value\":1.0},\"line_color\":{\"value\":\"black\"},\"line_dash\":[4,4],\"line_width\":{\"value\":2},\"plot\":null,\"render_mode\":\"css\",\"right_units\":\"screen\",\"top_units\":\"screen\"},\"id\":\"665dc94c-2358-4125-993e-dae8f8fa5fa1\",\"type\":\"BoxAnnotation\"},{\"attributes\":{\"factors\":[[\"adult\",\"I\"],[\"adult\",\"II\"],[\"juvenile\",\"III\"],[\"juvenile\",\"IV\"]],\"palette\":[\"#4e79a7\",\"#f28e2b\",\"#e15759\",\"#76b7b2\",\"#59a14f\",\"#edc948\",\"#b07aa1\",\"#ff9da7\",\"#9c755f\",\"#bab0ac\"]},\"id\":\"845d5369-e43e-448c-8617-ad9a9f6b8e83\",\"type\":\"CategoricalColorMapper\"},{\"attributes\":{},\"id\":\"7ed726f8-534b-4302-af92-c801698018ab\",\"type\":\"BasicTickFormatter\"},{\"attributes\":{\"grid_line_color\":{\"value\":null},\"plot\":{\"id\":\"d76929f5-8088-4b54-a937-a73b229f0aae\",\"subtype\":\"Figure\",\"type\":\"Plot\"},\"ticker\":{\"id\":\"56153111-ace3-4854-a3bb-ddfc0b1ded5f\",\"type\":\"CategoricalTicker\"}},\"id\":\"3dc73f40-0298-4e41-a581-55c0968991c8\",\"type\":\"Grid\"},{\"attributes\":{\"callback\":null,\"factors\":[[\"adult\",\"I\"],[\"adult\",\"II\"],[\"juvenile\",\"III\"],[\"juvenile\",\"IV\"]]},\"id\":\"f711c252-5d6f-4214-9bf6-0d14f5911f81\",\"type\":\"FactorRange\"},{\"attributes\":{\"source\":{\"id\":\"465c4273-5abc-4c92-8462-aa4b753d6a46\",\"type\":\"ColumnDataSource\"}},\"id\":\"b7c438c3-3352-4240-a53b-2e887f5abe89\",\"type\":\"CDSView\"},{\"attributes\":{},\"id\":\"19171bb1-2ba0-48cc-a78e-0ffdb9a8ca05\",\"type\":\"CategoricalScale\"},{\"attributes\":{\"dimension\":1,\"plot\":{\"id\":\"d76929f5-8088-4b54-a937-a73b229f0aae\",\"subtype\":\"Figure\",\"type\":\"Plot\"},\"ticker\":{\"id\":\"1423da69-b983-4b22-a82d-b0aa733cc563\",\"type\":\"BasicTicker\"}},\"id\":\"635b1f16-1a13-4040-b681-1d80abcd2d8d\",\"type\":\"Grid\"},{\"attributes\":{},\"id\":\"8c6740d7-f495-455a-be60-932cf1a20f15\",\"type\":\"LinearScale\"},{\"attributes\":{},\"id\":\"1423da69-b983-4b22-a82d-b0aa733cc563\",\"type\":\"BasicTicker\"},{\"attributes\":{},\"id\":\"21b84fba-2b67-43eb-96b1-96d89dd9a04c\",\"type\":\"Selection\"},{\"attributes\":{\"range\":{\"id\":\"f711c252-5d6f-4214-9bf6-0d14f5911f81\",\"type\":\"FactorRange\"},\"width\":0.4},\"id\":\"3ea19843-be56-4d36-a113-bf51fcde69ce\",\"type\":\"Jitter\"},{\"attributes\":{\"callback\":null},\"id\":\"6bf3e626-03a5-4f0d-be9e-d728009c1a57\",\"type\":\"DataRange1d\"},{\"attributes\":{},\"id\":\"fb6de896-4569-4e43-ab76-98ba81c35173\",\"type\":\"UnionRenderers\"}],\"root_ids\":[\"d76929f5-8088-4b54-a937-a73b229f0aae\"]},\"title\":\"Bokeh Application\",\"version\":\"0.13.0\"}};\n",
       "  var render_items = [{\"docid\":\"874f6acc-040c-4aaf-9b1e-c4a2a79c6a8f\",\"roots\":{\"d76929f5-8088-4b54-a937-a73b229f0aae\":\"597bd683-95f9-466f-b11c-85cc7045ad09\"}}];\n",
       "  root.Bokeh.embed.embed_items_notebook(docs_json, render_items);\n",
       "\n",
       "  }\n",
       "  if (root.Bokeh !== undefined) {\n",
       "    embed_document(root);\n",
       "  } else {\n",
       "    var attempts = 0;\n",
       "    var timer = setInterval(function(root) {\n",
       "      if (root.Bokeh !== undefined) {\n",
       "        embed_document(root);\n",
       "        clearInterval(timer);\n",
       "      }\n",
       "      attempts++;\n",
       "      if (attempts > 100) {\n",
       "        console.log(\"Bokeh: ERROR: Unable to run BokehJS code because BokehJS library is missing\")\n",
       "        clearInterval(timer);\n",
       "      }\n",
       "    }, 10, root)\n",
       "  }\n",
       "})(window);"
      ],
      "application/vnd.bokehjs_exec.v0+json": ""
     },
     "metadata": {
      "application/vnd.bokehjs_exec.v0+json": {
       "id": "d76929f5-8088-4b54-a937-a73b229f0aae"
      }
     },
     "output_type": "display_data"
    }
   ],
   "source": [
    "p = bebi103.viz.jitter( data=df, \n",
    "                        cats=['age', 'ID'], \n",
    "                        val='impact force (mN)', \n",
    "                        p=None, \n",
    "                        horizontal=False, \n",
    "                        x_axis_label='ID', \n",
    "                        y_axis_label='impact force (mN)', \n",
    "                        title=None, \n",
    "                        plot_height=300, \n",
    "                        plot_width=400, \n",
    "                        palette=['#4e79a7', '#f28e2b', '#e15759', '#76b7b2', '#59a14f',\n",
    "                                 '#edc948', '#b07aa1', '#ff9da7', '#9c755f', '#bab0ac'],\n",
    "                        width=0.4, \n",
    "                        order=None, \n",
    "                        val_axis_type='linear', \n",
    "                        show_legend=False,\n",
    "                        color_column=None, \n",
    "                        tooltips=None)\n",
    "bokeh.io.show(p) "
   ]
  },
  {
   "cell_type": "code",
   "execution_count": 59,
   "metadata": {},
   "outputs": [
    {
     "data": {
      "text/html": [
       "\n",
       "\n",
       "\n",
       "\n",
       "\n",
       "\n",
       "  <div class=\"bk-root\" id=\"2730b2b2-f734-4193-b550-ce25df724951\"></div>\n"
      ]
     },
     "metadata": {},
     "output_type": "display_data"
    },
    {
     "data": {
      "application/javascript": [
       "(function(root) {\n",
       "  function embed_document(root) {\n",
       "    \n",
       "  var docs_json = {\"6bfbae05-15b7-4728-bf10-cf21a12f39da\":{\"roots\":{\"references\":[{\"attributes\":{\"callback\":null,\"data\":{\"ID\":[\"I\",\"I\",\"I\",\"I\",\"I\",\"I\",\"I\",\"I\",\"I\",\"I\",\"I\",\"I\",\"I\",\"I\",\"I\",\"I\",\"I\",\"I\",\"I\",\"I\",\"II\",\"II\",\"II\",\"II\",\"II\",\"II\",\"II\",\"II\",\"II\",\"II\",\"II\",\"II\",\"II\",\"II\",\"II\",\"II\",\"II\",\"II\",\"II\",\"II\",\"III\",\"III\",\"III\",\"III\",\"III\",\"III\",\"III\",\"III\",\"III\",\"III\",\"III\",\"III\",\"III\",\"III\",\"III\",\"III\",\"III\",\"III\",\"III\",\"III\",\"IV\",\"IV\",\"IV\",\"IV\",\"IV\",\"IV\",\"IV\",\"IV\",\"IV\",\"IV\",\"IV\",\"IV\",\"IV\",\"IV\",\"IV\",\"IV\",\"IV\",\"IV\",\"IV\",\"IV\"],\"__label\":[\"3\",\"4\",\"1\",\"2\",\"3\",\"4\",\"1\",\"2\",\"3\",\"4\",\"1\",\"2\",\"3\",\"4\",\"5\",\"1\",\"2\",\"3\",\"4\",\"5\",\"1\",\"2\",\"3\",\"4\",\"1\",\"2\",\"3\",\"4\",\"1\",\"2\",\"3\",\"4\",\"1\",\"2\",\"1\",\"2\",\"1\",\"2\",\"3\",\"1\",\"1\",\"2\",\"3\",\"1\",\"2\",\"3\",\"1\",\"2\",\"1\",\"2\",\"3\",\"4\",\"1\",\"2\",\"3\",\"4\",\"1\",\"2\",\"3\",\"4\",\"2\",\"3\",\"4\",\"1\",\"2\",\"3\",\"1\",\"1\",\"2\",\"3\",\"4\",\"1\",\"1\",\"2\",\"3\",\"4\",\"1\",\"2\",\"3\",\"4\"],\"age\":[\"adult\",\"adult\",\"adult\",\"adult\",\"adult\",\"adult\",\"adult\",\"adult\",\"adult\",\"adult\",\"adult\",\"adult\",\"adult\",\"adult\",\"adult\",\"adult\",\"adult\",\"adult\",\"adult\",\"adult\",\"adult\",\"adult\",\"adult\",\"adult\",\"adult\",\"adult\",\"adult\",\"adult\",\"adult\",\"adult\",\"adult\",\"adult\",\"adult\",\"adult\",\"adult\",\"adult\",\"adult\",\"adult\",\"adult\",\"adult\",\"juvenile\",\"juvenile\",\"juvenile\",\"juvenile\",\"juvenile\",\"juvenile\",\"juvenile\",\"juvenile\",\"juvenile\",\"juvenile\",\"juvenile\",\"juvenile\",\"juvenile\",\"juvenile\",\"juvenile\",\"juvenile\",\"juvenile\",\"juvenile\",\"juvenile\",\"juvenile\",\"juvenile\",\"juvenile\",\"juvenile\",\"juvenile\",\"juvenile\",\"juvenile\",\"juvenile\",\"juvenile\",\"juvenile\",\"juvenile\",\"juvenile\",\"juvenile\",\"juvenile\",\"juvenile\",\"juvenile\",\"juvenile\",\"juvenile\",\"juvenile\",\"juvenile\",\"juvenile\"],\"cat\":[[\"adult\",\"I\"],[\"adult\",\"I\"],[\"adult\",\"I\"],[\"adult\",\"I\"],[\"adult\",\"I\"],[\"adult\",\"I\"],[\"adult\",\"I\"],[\"adult\",\"I\"],[\"adult\",\"I\"],[\"adult\",\"I\"],[\"adult\",\"I\"],[\"adult\",\"I\"],[\"adult\",\"I\"],[\"adult\",\"I\"],[\"adult\",\"I\"],[\"adult\",\"I\"],[\"adult\",\"I\"],[\"adult\",\"I\"],[\"adult\",\"I\"],[\"adult\",\"I\"],[\"adult\",\"II\"],[\"adult\",\"II\"],[\"adult\",\"II\"],[\"adult\",\"II\"],[\"adult\",\"II\"],[\"adult\",\"II\"],[\"adult\",\"II\"],[\"adult\",\"II\"],[\"adult\",\"II\"],[\"adult\",\"II\"],[\"adult\",\"II\"],[\"adult\",\"II\"],[\"adult\",\"II\"],[\"adult\",\"II\"],[\"adult\",\"II\"],[\"adult\",\"II\"],[\"adult\",\"II\"],[\"adult\",\"II\"],[\"adult\",\"II\"],[\"adult\",\"II\"],[\"juvenile\",\"III\"],[\"juvenile\",\"III\"],[\"juvenile\",\"III\"],[\"juvenile\",\"III\"],[\"juvenile\",\"III\"],[\"juvenile\",\"III\"],[\"juvenile\",\"III\"],[\"juvenile\",\"III\"],[\"juvenile\",\"III\"],[\"juvenile\",\"III\"],[\"juvenile\",\"III\"],[\"juvenile\",\"III\"],[\"juvenile\",\"III\"],[\"juvenile\",\"III\"],[\"juvenile\",\"III\"],[\"juvenile\",\"III\"],[\"juvenile\",\"III\"],[\"juvenile\",\"III\"],[\"juvenile\",\"III\"],[\"juvenile\",\"III\"],[\"juvenile\",\"IV\"],[\"juvenile\",\"IV\"],[\"juvenile\",\"IV\"],[\"juvenile\",\"IV\"],[\"juvenile\",\"IV\"],[\"juvenile\",\"IV\"],[\"juvenile\",\"IV\"],[\"juvenile\",\"IV\"],[\"juvenile\",\"IV\"],[\"juvenile\",\"IV\"],[\"juvenile\",\"IV\"],[\"juvenile\",\"IV\"],[\"juvenile\",\"IV\"],[\"juvenile\",\"IV\"],[\"juvenile\",\"IV\"],[\"juvenile\",\"IV\"],[\"juvenile\",\"IV\"],[\"juvenile\",\"IV\"],[\"juvenile\",\"IV\"],[\"juvenile\",\"IV\"]],\"impact force (mN)\":[1205,2527,1745,1556,493,2276,556,1928,2641,1897,1891,1545,1307,1692,1543,1282,775,2032,1240,473,1612,605,327,946,541,1539,529,628,1453,297,703,269,751,245,1182,515,435,383,457,730,614,414,324,776,611,544,538,579,806,459,458,626,621,544,535,385,401,614,665,488,172,142,37,453,355,22,502,273,720,582,198,198,597,516,815,402,605,711,614,468],\"trial number\":[\"3\",\"4\",\"1\",\"2\",\"3\",\"4\",\"1\",\"2\",\"3\",\"4\",\"1\",\"2\",\"3\",\"4\",\"5\",\"1\",\"2\",\"3\",\"4\",\"5\",\"1\",\"2\",\"3\",\"4\",\"1\",\"2\",\"3\",\"4\",\"1\",\"2\",\"3\",\"4\",\"1\",\"2\",\"1\",\"2\",\"1\",\"2\",\"3\",\"1\",\"1\",\"2\",\"3\",\"1\",\"2\",\"3\",\"1\",\"2\",\"1\",\"2\",\"3\",\"4\",\"1\",\"2\",\"3\",\"4\",\"1\",\"2\",\"3\",\"4\",\"2\",\"3\",\"4\",\"1\",\"2\",\"3\",\"1\",\"1\",\"2\",\"3\",\"4\",\"1\",\"1\",\"2\",\"3\",\"4\",\"1\",\"2\",\"3\",\"4\"]},\"selected\":{\"id\":\"6cef95e3-c8d7-437f-8aec-5b31a602eea5\",\"type\":\"Selection\"},\"selection_policy\":{\"id\":\"c71a8ad6-76bd-484a-9569-cd9d177fb7cc\",\"type\":\"UnionRenderers\"}},\"id\":\"ead8d41a-ac4b-4a86-bf8a-208c712b5d2d\",\"type\":\"ColumnDataSource\"},{\"attributes\":{},\"id\":\"9c8489e7-4b46-4b00-919b-dc5150c51b6e\",\"type\":\"PanTool\"},{\"attributes\":{\"active_drag\":\"auto\",\"active_inspect\":\"auto\",\"active_multi\":null,\"active_scroll\":\"auto\",\"active_tap\":\"auto\",\"tools\":[{\"id\":\"9c8489e7-4b46-4b00-919b-dc5150c51b6e\",\"type\":\"PanTool\"},{\"id\":\"b8bcf01c-63f8-41cd-ab5d-5a6ef278f63a\",\"type\":\"WheelZoomTool\"},{\"id\":\"74d049a1-7e08-437e-92e0-fbd6d28a396d\",\"type\":\"BoxZoomTool\"},{\"id\":\"77f65eba-3a77-4761-b15b-54562e295a9b\",\"type\":\"SaveTool\"},{\"id\":\"bb00175f-b823-4ca8-81a6-f7de2332bf7f\",\"type\":\"ResetTool\"},{\"id\":\"cf9d439e-6e71-450f-aa5f-ef43855a9618\",\"type\":\"HelpTool\"}]},\"id\":\"f81a3fcb-bdbd-46a1-843a-c89f78301623\",\"type\":\"Toolbar\"},{\"attributes\":{\"plot\":{\"id\":\"7e5b58ea-3a73-4b2c-9168-d310f30d9ab9\",\"subtype\":\"Figure\",\"type\":\"Plot\"},\"ticker\":{\"id\":\"eea4b698-ef9a-4bb1-a23a-a21814395b0d\",\"type\":\"BasicTicker\"}},\"id\":\"ea507201-632b-439c-be8a-1e09f5b4d08c\",\"type\":\"Grid\"},{\"attributes\":{\"range\":{\"id\":\"1727baf2-775c-4419-802e-ed12cc6a45b3\",\"type\":\"FactorRange\"},\"width\":0.4},\"id\":\"7487ff04-3165-4547-9fa6-e0bad2dca279\",\"type\":\"Jitter\"},{\"attributes\":{},\"id\":\"b8bcf01c-63f8-41cd-ab5d-5a6ef278f63a\",\"type\":\"WheelZoomTool\"},{\"attributes\":{},\"id\":\"8201eee5-00ed-452c-93ad-09ff3e3b5924\",\"type\":\"BasicTickFormatter\"},{\"attributes\":{\"overlay\":{\"id\":\"288970ca-6320-4a0b-b979-03d89c1b570f\",\"type\":\"BoxAnnotation\"}},\"id\":\"74d049a1-7e08-437e-92e0-fbd6d28a396d\",\"type\":\"BoxZoomTool\"},{\"attributes\":{},\"id\":\"c71a8ad6-76bd-484a-9569-cd9d177fb7cc\",\"type\":\"UnionRenderers\"},{\"attributes\":{\"fill_color\":{\"field\":\"trial number\",\"transform\":{\"id\":\"067a5ce9-145c-43ef-854e-0a4165fba5a9\",\"type\":\"CategoricalColorMapper\"}},\"line_color\":{\"field\":\"trial number\",\"transform\":{\"id\":\"067a5ce9-145c-43ef-854e-0a4165fba5a9\",\"type\":\"CategoricalColorMapper\"}},\"x\":{\"field\":\"impact force (mN)\"},\"y\":{\"field\":\"cat\",\"transform\":{\"id\":\"7487ff04-3165-4547-9fa6-e0bad2dca279\",\"type\":\"Jitter\"}}},\"id\":\"73874e32-9ee6-4bdc-a275-df8ee02fc6a7\",\"type\":\"Circle\"},{\"attributes\":{},\"id\":\"77f65eba-3a77-4761-b15b-54562e295a9b\",\"type\":\"SaveTool\"},{\"attributes\":{},\"id\":\"6cef95e3-c8d7-437f-8aec-5b31a602eea5\",\"type\":\"Selection\"},{\"attributes\":{\"fill_alpha\":{\"value\":0.1},\"fill_color\":{\"value\":\"#1f77b4\"},\"line_alpha\":{\"value\":0.1},\"line_color\":{\"value\":\"#1f77b4\"},\"x\":{\"field\":\"impact force (mN)\"},\"y\":{\"field\":\"cat\",\"transform\":{\"id\":\"7487ff04-3165-4547-9fa6-e0bad2dca279\",\"type\":\"Jitter\"}}},\"id\":\"65d60e55-e20d-4a7f-87ad-090ba7c400d6\",\"type\":\"Circle\"},{\"attributes\":{},\"id\":\"bb00175f-b823-4ca8-81a6-f7de2332bf7f\",\"type\":\"ResetTool\"},{\"attributes\":{\"factors\":[\"1\",\"2\",\"3\",\"4\",\"5\"],\"palette\":[\"#4e79a7\",\"#f28e2b\",\"#e15759\",\"#76b7b2\",\"#59a14f\",\"#edc948\",\"#b07aa1\",\"#ff9da7\",\"#9c755f\",\"#bab0ac\"]},\"id\":\"067a5ce9-145c-43ef-854e-0a4165fba5a9\",\"type\":\"CategoricalColorMapper\"},{\"attributes\":{\"data_source\":{\"id\":\"ead8d41a-ac4b-4a86-bf8a-208c712b5d2d\",\"type\":\"ColumnDataSource\"},\"glyph\":{\"id\":\"73874e32-9ee6-4bdc-a275-df8ee02fc6a7\",\"type\":\"Circle\"},\"hover_glyph\":null,\"muted_glyph\":null,\"nonselection_glyph\":{\"id\":\"65d60e55-e20d-4a7f-87ad-090ba7c400d6\",\"type\":\"Circle\"},\"selection_glyph\":null,\"view\":{\"id\":\"b3af31e8-766c-4d3a-b8f5-f6b1435de89a\",\"type\":\"CDSView\"}},\"id\":\"69cfcc8d-73b3-4356-a953-027fc300bd5d\",\"type\":\"GlyphRenderer\"},{\"attributes\":{\"callback\":null,\"factors\":[[\"juvenile\",\"IV\"],[\"juvenile\",\"III\"],[\"adult\",\"II\"],[\"adult\",\"I\"]]},\"id\":\"1727baf2-775c-4419-802e-ed12cc6a45b3\",\"type\":\"FactorRange\"},{\"attributes\":{},\"id\":\"cf9d439e-6e71-450f-aa5f-ef43855a9618\",\"type\":\"HelpTool\"},{\"attributes\":{\"source\":{\"id\":\"ead8d41a-ac4b-4a86-bf8a-208c712b5d2d\",\"type\":\"ColumnDataSource\"}},\"id\":\"b3af31e8-766c-4d3a-b8f5-f6b1435de89a\",\"type\":\"CDSView\"},{\"attributes\":{\"callback\":null},\"id\":\"febbc03b-fe77-4584-974c-b5c0aba08df3\",\"type\":\"DataRange1d\"},{\"attributes\":{},\"id\":\"f98219db-8967-45e9-bd77-3f613ce92aa4\",\"type\":\"LinearScale\"},{\"attributes\":{\"bottom_units\":\"screen\",\"fill_alpha\":{\"value\":0.5},\"fill_color\":{\"value\":\"lightgrey\"},\"left_units\":\"screen\",\"level\":\"overlay\",\"line_alpha\":{\"value\":1.0},\"line_color\":{\"value\":\"black\"},\"line_dash\":[4,4],\"line_width\":{\"value\":2},\"plot\":null,\"render_mode\":\"css\",\"right_units\":\"screen\",\"top_units\":\"screen\"},\"id\":\"288970ca-6320-4a0b-b979-03d89c1b570f\",\"type\":\"BoxAnnotation\"},{\"attributes\":{},\"id\":\"5256782c-a67d-4bf0-bcd3-cea99da8cac4\",\"type\":\"CategoricalScale\"},{\"attributes\":{\"axis_label\":\"impact force (mN)\",\"formatter\":{\"id\":\"8201eee5-00ed-452c-93ad-09ff3e3b5924\",\"type\":\"BasicTickFormatter\"},\"plot\":{\"id\":\"7e5b58ea-3a73-4b2c-9168-d310f30d9ab9\",\"subtype\":\"Figure\",\"type\":\"Plot\"},\"ticker\":{\"id\":\"eea4b698-ef9a-4bb1-a23a-a21814395b0d\",\"type\":\"BasicTicker\"}},\"id\":\"3ee6dec2-acc3-4079-9087-985786bc8b6a\",\"type\":\"LinearAxis\"},{\"attributes\":{},\"id\":\"eea4b698-ef9a-4bb1-a23a-a21814395b0d\",\"type\":\"BasicTicker\"},{\"attributes\":{\"formatter\":{\"id\":\"ece6c244-684e-45da-a05a-26db879f5545\",\"type\":\"CategoricalTickFormatter\"},\"plot\":{\"id\":\"7e5b58ea-3a73-4b2c-9168-d310f30d9ab9\",\"subtype\":\"Figure\",\"type\":\"Plot\"},\"ticker\":{\"id\":\"6467aa62-e00f-4e9f-a852-d60e550dd7a7\",\"type\":\"CategoricalTicker\"}},\"id\":\"61665587-f8fd-4eaa-88be-da36f067e9d8\",\"type\":\"CategoricalAxis\"},{\"attributes\":{},\"id\":\"6467aa62-e00f-4e9f-a852-d60e550dd7a7\",\"type\":\"CategoricalTicker\"},{\"attributes\":{\"below\":[{\"id\":\"3ee6dec2-acc3-4079-9087-985786bc8b6a\",\"type\":\"LinearAxis\"}],\"left\":[{\"id\":\"61665587-f8fd-4eaa-88be-da36f067e9d8\",\"type\":\"CategoricalAxis\"}],\"plot_height\":300,\"plot_width\":400,\"renderers\":[{\"id\":\"3ee6dec2-acc3-4079-9087-985786bc8b6a\",\"type\":\"LinearAxis\"},{\"id\":\"ea507201-632b-439c-be8a-1e09f5b4d08c\",\"type\":\"Grid\"},{\"id\":\"61665587-f8fd-4eaa-88be-da36f067e9d8\",\"type\":\"CategoricalAxis\"},{\"id\":\"720686a6-8b55-48a8-8e77-27cea34e84a1\",\"type\":\"Grid\"},{\"id\":\"288970ca-6320-4a0b-b979-03d89c1b570f\",\"type\":\"BoxAnnotation\"},{\"id\":\"69cfcc8d-73b3-4356-a953-027fc300bd5d\",\"type\":\"GlyphRenderer\"}],\"title\":null,\"toolbar\":{\"id\":\"f81a3fcb-bdbd-46a1-843a-c89f78301623\",\"type\":\"Toolbar\"},\"x_range\":{\"id\":\"febbc03b-fe77-4584-974c-b5c0aba08df3\",\"type\":\"DataRange1d\"},\"x_scale\":{\"id\":\"f98219db-8967-45e9-bd77-3f613ce92aa4\",\"type\":\"LinearScale\"},\"y_range\":{\"id\":\"1727baf2-775c-4419-802e-ed12cc6a45b3\",\"type\":\"FactorRange\"},\"y_scale\":{\"id\":\"5256782c-a67d-4bf0-bcd3-cea99da8cac4\",\"type\":\"CategoricalScale\"}},\"id\":\"7e5b58ea-3a73-4b2c-9168-d310f30d9ab9\",\"subtype\":\"Figure\",\"type\":\"Plot\"},{\"attributes\":{\"dimension\":1,\"grid_line_color\":{\"value\":null},\"plot\":{\"id\":\"7e5b58ea-3a73-4b2c-9168-d310f30d9ab9\",\"subtype\":\"Figure\",\"type\":\"Plot\"},\"ticker\":{\"id\":\"6467aa62-e00f-4e9f-a852-d60e550dd7a7\",\"type\":\"CategoricalTicker\"}},\"id\":\"720686a6-8b55-48a8-8e77-27cea34e84a1\",\"type\":\"Grid\"},{\"attributes\":{},\"id\":\"ece6c244-684e-45da-a05a-26db879f5545\",\"type\":\"CategoricalTickFormatter\"}],\"root_ids\":[\"7e5b58ea-3a73-4b2c-9168-d310f30d9ab9\"]},\"title\":\"Bokeh Application\",\"version\":\"0.13.0\"}};\n",
       "  var render_items = [{\"docid\":\"6bfbae05-15b7-4728-bf10-cf21a12f39da\",\"roots\":{\"7e5b58ea-3a73-4b2c-9168-d310f30d9ab9\":\"2730b2b2-f734-4193-b550-ce25df724951\"}}];\n",
       "  root.Bokeh.embed.embed_items_notebook(docs_json, render_items);\n",
       "\n",
       "  }\n",
       "  if (root.Bokeh !== undefined) {\n",
       "    embed_document(root);\n",
       "  } else {\n",
       "    var attempts = 0;\n",
       "    var timer = setInterval(function(root) {\n",
       "      if (root.Bokeh !== undefined) {\n",
       "        embed_document(root);\n",
       "        clearInterval(timer);\n",
       "      }\n",
       "      attempts++;\n",
       "      if (attempts > 100) {\n",
       "        console.log(\"Bokeh: ERROR: Unable to run BokehJS code because BokehJS library is missing\")\n",
       "        clearInterval(timer);\n",
       "      }\n",
       "    }, 10, root)\n",
       "  }\n",
       "})(window);"
      ],
      "application/vnd.bokehjs_exec.v0+json": ""
     },
     "metadata": {
      "application/vnd.bokehjs_exec.v0+json": {
       "id": "7e5b58ea-3a73-4b2c-9168-d310f30d9ab9"
      }
     },
     "output_type": "display_data"
    }
   ],
   "source": [
    "p = bebi103.viz.jitter( data=df, \n",
    "                        cats=['age', 'ID'], \n",
    "                        val='impact force (mN)', \n",
    "                        p=None, \n",
    "                        horizontal=True, \n",
    "                        y_axis_label=None, \n",
    "                        x_axis_label='impact force (mN)', \n",
    "                        title=None, \n",
    "                        plot_height=300, \n",
    "                        plot_width=400, \n",
    "                        palette=['#4e79a7', '#f28e2b', '#e15759', '#76b7b2', '#59a14f',\n",
    "                                 '#edc948', '#b07aa1', '#ff9da7', '#9c755f', '#bab0ac'],\n",
    "                        width=0.4, \n",
    "                        order=None, \n",
    "                        val_axis_type='linear', \n",
    "                        show_legend=False,\n",
    "                        color_column='trial number', \n",
    "                        tooltips=None)\n",
    "bokeh.io.show(p) "
   ]
  },
  {
   "cell_type": "markdown",
   "metadata": {},
   "source": [
    "## ECDFs"
   ]
  },
  {
   "cell_type": "code",
   "execution_count": 53,
   "metadata": {},
   "outputs": [
    {
     "data": {
      "text/html": [
       "\n",
       "\n",
       "\n",
       "\n",
       "\n",
       "\n",
       "  <div class=\"bk-root\" id=\"4364d74c-27eb-4e4c-9d02-29b12e45d86c\"></div>\n"
      ]
     },
     "metadata": {},
     "output_type": "display_data"
    },
    {
     "data": {
      "application/javascript": [
       "(function(root) {\n",
       "  function embed_document(root) {\n",
       "    \n",
       "  var docs_json = {\"9e6a0f9e-fbf5-48cd-b052-5d10ec7436b7\":{\"roots\":{\"references\":[{\"attributes\":{},\"id\":\"712cf665-889c-4706-92ed-529a00139ec1\",\"type\":\"Selection\"},{\"attributes\":{\"dimension\":1,\"plot\":{\"id\":\"ccf71302-f5ae-4072-918c-a52331416145\",\"subtype\":\"Figure\",\"type\":\"Plot\"},\"ticker\":{\"id\":\"74c4e50f-c85c-4551-97d1-faef08317b4a\",\"type\":\"BasicTicker\"}},\"id\":\"3c27222f-43db-46b4-992e-4e394d7971e4\",\"type\":\"Grid\"},{\"attributes\":{\"fill_color\":{\"field\":\"cat\",\"transform\":{\"id\":\"4fba6d3d-db59-4832-bcdf-a651fbe7e5ec\",\"type\":\"CategoricalColorMapper\"}},\"line_color\":{\"field\":\"cat\",\"transform\":{\"id\":\"4fba6d3d-db59-4832-bcdf-a651fbe7e5ec\",\"type\":\"CategoricalColorMapper\"}},\"x\":{\"field\":\"impact force (mN)\"},\"y\":{\"field\":\"__ECDF\"}},\"id\":\"63b1e7c7-4eca-40cc-9e02-2f62e312122d\",\"type\":\"Circle\"},{\"attributes\":{},\"id\":\"74c4e50f-c85c-4551-97d1-faef08317b4a\",\"type\":\"BasicTicker\"},{\"attributes\":{\"source\":{\"id\":\"c76d7918-b1c0-41b4-a096-fbb19dde85c1\",\"type\":\"ColumnDataSource\"}},\"id\":\"ddc89d89-f892-495f-8599-19001008b68a\",\"type\":\"CDSView\"},{\"attributes\":{\"overlay\":{\"id\":\"3462d0a9-8b98-4e82-be59-5c9d4e3b0e2f\",\"type\":\"BoxAnnotation\"}},\"id\":\"4c508952-1ff3-41ca-a414-d87bfdd8b283\",\"type\":\"BoxZoomTool\"},{\"attributes\":{},\"id\":\"08e5837b-b15e-4052-bdd5-240e4b8d23a8\",\"type\":\"SaveTool\"},{\"attributes\":{\"callback\":null,\"data\":{\"ID\":[\"I\",\"I\",\"I\",\"I\",\"I\",\"I\",\"I\",\"I\",\"I\",\"I\",\"I\",\"I\",\"I\",\"I\",\"I\",\"I\",\"I\",\"I\",\"I\",\"I\",\"II\",\"II\",\"II\",\"II\",\"II\",\"II\",\"II\",\"II\",\"II\",\"II\",\"II\",\"II\",\"II\",\"II\",\"II\",\"II\",\"II\",\"II\",\"II\",\"II\",\"III\",\"III\",\"III\",\"III\",\"III\",\"III\",\"III\",\"III\",\"III\",\"III\",\"III\",\"III\",\"III\",\"III\",\"III\",\"III\",\"III\",\"III\",\"III\",\"III\",\"IV\",\"IV\",\"IV\",\"IV\",\"IV\",\"IV\",\"IV\",\"IV\",\"IV\",\"IV\",\"IV\",\"IV\",\"IV\",\"IV\",\"IV\",\"IV\",\"IV\",\"IV\",\"IV\",\"IV\"],\"__ECDF\":[0.25,0.95,0.65,0.55,0.1,0.9,0.15,0.8,1.0,0.75,0.7,0.5,0.4,0.6,0.45,0.35,0.2,0.85,0.3,0.05,1.0,0.55,0.2,0.8,0.5,0.95,0.45,0.6,0.9,0.15,0.65,0.1,0.75,0.05,0.85,0.4,0.3,0.25,0.35,0.7,0.7,0.2,0.05,0.95,0.65,0.5,0.45,0.6,1.0,0.3,0.25,0.85,0.8,0.55,0.4,0.1,0.15,0.75,0.9,0.35,0.2,0.15,0.1,0.5,0.4,0.05,0.6,0.35,0.95,0.7,0.25,0.3,0.75,0.65,1.0,0.45,0.8,0.9,0.85,0.55],\"__label\":[\"I\",\"I\",\"I\",\"I\",\"I\",\"I\",\"I\",\"I\",\"I\",\"I\",\"I\",\"I\",\"I\",\"I\",\"I\",\"I\",\"I\",\"I\",\"I\",\"I\",\"II\",\"II\",\"II\",\"II\",\"II\",\"II\",\"II\",\"II\",\"II\",\"II\",\"II\",\"II\",\"II\",\"II\",\"II\",\"II\",\"II\",\"II\",\"II\",\"II\",\"III\",\"III\",\"III\",\"III\",\"III\",\"III\",\"III\",\"III\",\"III\",\"III\",\"III\",\"III\",\"III\",\"III\",\"III\",\"III\",\"III\",\"III\",\"III\",\"III\",\"IV\",\"IV\",\"IV\",\"IV\",\"IV\",\"IV\",\"IV\",\"IV\",\"IV\",\"IV\",\"IV\",\"IV\",\"IV\",\"IV\",\"IV\",\"IV\",\"IV\",\"IV\",\"IV\",\"IV\"],\"adhesive force (mN)\":[-785,-983,-850,-455,-974,-592,-512,-804,-690,-462,-766,-715,-613,-677,-528,-452,-430,-652,-692,-536,-655,-292,-246,-245,-553,-664,-261,-691,-92,-566,-223,-512,-227,-573,-522,-599,-364,-469,-844,-648,-94,-163,-172,-225,-301,-93,-131,-289,-104,-229,-259,-231,-267,-178,-123,-151,-127,-372,-236,-390,-456,-193,-236,-225,-217,-161,-139,-264,-342,-231,-209,-292,-339,-371,-331,-302,-216,-163,-367,-218],\"cat\":[\"I\",\"I\",\"I\",\"I\",\"I\",\"I\",\"I\",\"I\",\"I\",\"I\",\"I\",\"I\",\"I\",\"I\",\"I\",\"I\",\"I\",\"I\",\"I\",\"I\",\"II\",\"II\",\"II\",\"II\",\"II\",\"II\",\"II\",\"II\",\"II\",\"II\",\"II\",\"II\",\"II\",\"II\",\"II\",\"II\",\"II\",\"II\",\"II\",\"II\",\"III\",\"III\",\"III\",\"III\",\"III\",\"III\",\"III\",\"III\",\"III\",\"III\",\"III\",\"III\",\"III\",\"III\",\"III\",\"III\",\"III\",\"III\",\"III\",\"III\",\"IV\",\"IV\",\"IV\",\"IV\",\"IV\",\"IV\",\"IV\",\"IV\",\"IV\",\"IV\",\"IV\",\"IV\",\"IV\",\"IV\",\"IV\",\"IV\",\"IV\",\"IV\",\"IV\",\"IV\"],\"impact force (mN)\":[1205,2527,1745,1556,493,2276,556,1928,2641,1897,1891,1545,1307,1692,1543,1282,775,2032,1240,473,1612,605,327,946,541,1539,529,628,1453,297,703,269,751,245,1182,515,435,383,457,730,614,414,324,776,611,544,538,579,806,459,458,626,621,544,535,385,401,614,665,488,172,142,37,453,355,22,502,273,720,582,198,198,597,516,815,402,605,711,614,468],\"trial number\":[3,4,1,2,3,4,1,2,3,4,1,2,3,4,5,1,2,3,4,5,1,2,3,4,1,2,3,4,1,2,3,4,1,2,1,2,1,2,3,1,1,2,3,1,2,3,1,2,1,2,3,4,1,2,3,4,1,2,3,4,2,3,4,1,2,3,1,1,2,3,4,1,1,2,3,4,1,2,3,4]},\"selected\":{\"id\":\"712cf665-889c-4706-92ed-529a00139ec1\",\"type\":\"Selection\"},\"selection_policy\":{\"id\":\"b38d2663-2a69-46d2-a3a8-92c92c41054e\",\"type\":\"UnionRenderers\"}},\"id\":\"c76d7918-b1c0-41b4-a096-fbb19dde85c1\",\"type\":\"ColumnDataSource\"},{\"attributes\":{},\"id\":\"f05650d5-1b34-4097-b046-12d6d9c034f9\",\"type\":\"BasicTicker\"},{\"attributes\":{},\"id\":\"c837a6c6-f2f5-4bea-8685-21d0196c74be\",\"type\":\"WheelZoomTool\"},{\"attributes\":{\"data_source\":{\"id\":\"c76d7918-b1c0-41b4-a096-fbb19dde85c1\",\"type\":\"ColumnDataSource\"},\"glyph\":{\"id\":\"63b1e7c7-4eca-40cc-9e02-2f62e312122d\",\"type\":\"Circle\"},\"hover_glyph\":null,\"muted_glyph\":null,\"nonselection_glyph\":{\"id\":\"3fd5e546-ea98-435d-b4aa-16477464d092\",\"type\":\"Circle\"},\"selection_glyph\":null,\"view\":{\"id\":\"ddc89d89-f892-495f-8599-19001008b68a\",\"type\":\"CDSView\"}},\"id\":\"92f71619-3eac-4c4f-b41d-08bef61c5540\",\"type\":\"GlyphRenderer\"},{\"attributes\":{\"bottom_units\":\"screen\",\"fill_alpha\":{\"value\":0.5},\"fill_color\":{\"value\":\"lightgrey\"},\"left_units\":\"screen\",\"level\":\"overlay\",\"line_alpha\":{\"value\":1.0},\"line_color\":{\"value\":\"black\"},\"line_dash\":[4,4],\"line_width\":{\"value\":2},\"plot\":null,\"render_mode\":\"css\",\"right_units\":\"screen\",\"top_units\":\"screen\"},\"id\":\"3462d0a9-8b98-4e82-be59-5c9d4e3b0e2f\",\"type\":\"BoxAnnotation\"},{\"attributes\":{\"items\":[{\"id\":\"ddde74e6-1f08-4183-80f6-0ef205e4eda2\",\"type\":\"LegendItem\"}],\"location\":\"bottom_right\",\"plot\":{\"id\":\"ccf71302-f5ae-4072-918c-a52331416145\",\"subtype\":\"Figure\",\"type\":\"Plot\"}},\"id\":\"06707f37-04ec-4bd4-9310-c8d3d4ac0843\",\"type\":\"Legend\"},{\"attributes\":{},\"id\":\"6e961135-4c09-412b-8a75-eb4c9dcdb063\",\"type\":\"LinearScale\"},{\"attributes\":{},\"id\":\"537d761c-0ad8-4ef1-bf09-21b28040488e\",\"type\":\"ResetTool\"},{\"attributes\":{},\"id\":\"b5e5bcfd-9b5e-4d41-b0c2-818aa765cfd4\",\"type\":\"HelpTool\"},{\"attributes\":{\"axis_label\":\"impact force (mN)\",\"formatter\":{\"id\":\"a68d254a-c0da-451b-af04-9b943816959e\",\"type\":\"BasicTickFormatter\"},\"plot\":{\"id\":\"ccf71302-f5ae-4072-918c-a52331416145\",\"subtype\":\"Figure\",\"type\":\"Plot\"},\"ticker\":{\"id\":\"f05650d5-1b34-4097-b046-12d6d9c034f9\",\"type\":\"BasicTicker\"}},\"id\":\"d3d1ef66-77e0-4944-bcf8-f391f38c68df\",\"type\":\"LinearAxis\"},{\"attributes\":{},\"id\":\"9204a752-fae1-453b-b6c1-f6c323a0a284\",\"type\":\"PanTool\"},{\"attributes\":{\"plot\":{\"id\":\"ccf71302-f5ae-4072-918c-a52331416145\",\"subtype\":\"Figure\",\"type\":\"Plot\"},\"ticker\":{\"id\":\"f05650d5-1b34-4097-b046-12d6d9c034f9\",\"type\":\"BasicTicker\"}},\"id\":\"3cb0c48e-07df-4f34-b5bd-bff49de7645f\",\"type\":\"Grid\"},{\"attributes\":{\"fill_alpha\":{\"value\":0.1},\"fill_color\":{\"value\":\"#1f77b4\"},\"line_alpha\":{\"value\":0.1},\"line_color\":{\"value\":\"#1f77b4\"},\"x\":{\"field\":\"impact force (mN)\"},\"y\":{\"field\":\"__ECDF\"}},\"id\":\"3fd5e546-ea98-435d-b4aa-16477464d092\",\"type\":\"Circle\"},{\"attributes\":{\"active_drag\":\"auto\",\"active_inspect\":\"auto\",\"active_multi\":null,\"active_scroll\":\"auto\",\"active_tap\":\"auto\",\"tools\":[{\"id\":\"9204a752-fae1-453b-b6c1-f6c323a0a284\",\"type\":\"PanTool\"},{\"id\":\"c837a6c6-f2f5-4bea-8685-21d0196c74be\",\"type\":\"WheelZoomTool\"},{\"id\":\"4c508952-1ff3-41ca-a414-d87bfdd8b283\",\"type\":\"BoxZoomTool\"},{\"id\":\"08e5837b-b15e-4052-bdd5-240e4b8d23a8\",\"type\":\"SaveTool\"},{\"id\":\"537d761c-0ad8-4ef1-bf09-21b28040488e\",\"type\":\"ResetTool\"},{\"id\":\"b5e5bcfd-9b5e-4d41-b0c2-818aa765cfd4\",\"type\":\"HelpTool\"},{\"id\":\"44aed933-04bf-4235-a7a3-fcfe42904bbb\",\"type\":\"HoverTool\"}]},\"id\":\"66834c6c-07a2-47da-82d1-f8b0ba14e0d3\",\"type\":\"Toolbar\"},{\"attributes\":{\"below\":[{\"id\":\"d3d1ef66-77e0-4944-bcf8-f391f38c68df\",\"type\":\"LinearAxis\"}],\"left\":[{\"id\":\"0aee3e51-df94-427c-9659-d1cf2923055e\",\"type\":\"LinearAxis\"}],\"plot_height\":300,\"plot_width\":400,\"renderers\":[{\"id\":\"d3d1ef66-77e0-4944-bcf8-f391f38c68df\",\"type\":\"LinearAxis\"},{\"id\":\"3cb0c48e-07df-4f34-b5bd-bff49de7645f\",\"type\":\"Grid\"},{\"id\":\"0aee3e51-df94-427c-9659-d1cf2923055e\",\"type\":\"LinearAxis\"},{\"id\":\"3c27222f-43db-46b4-992e-4e394d7971e4\",\"type\":\"Grid\"},{\"id\":\"3462d0a9-8b98-4e82-be59-5c9d4e3b0e2f\",\"type\":\"BoxAnnotation\"},{\"id\":\"06707f37-04ec-4bd4-9310-c8d3d4ac0843\",\"type\":\"Legend\"},{\"id\":\"92f71619-3eac-4c4f-b41d-08bef61c5540\",\"type\":\"GlyphRenderer\"}],\"title\":null,\"toolbar\":{\"id\":\"66834c6c-07a2-47da-82d1-f8b0ba14e0d3\",\"type\":\"Toolbar\"},\"x_range\":{\"id\":\"b19e6e64-f0eb-449b-b127-250d9e86b10e\",\"type\":\"DataRange1d\"},\"x_scale\":{\"id\":\"e54a098d-7f0a-4e27-a6ed-20f1067a600a\",\"type\":\"LinearScale\"},\"y_range\":{\"id\":\"fd6d312e-907f-4d46-ac33-752e49bb6f3c\",\"type\":\"DataRange1d\"},\"y_scale\":{\"id\":\"6e961135-4c09-412b-8a75-eb4c9dcdb063\",\"type\":\"LinearScale\"}},\"id\":\"ccf71302-f5ae-4072-918c-a52331416145\",\"subtype\":\"Figure\",\"type\":\"Plot\"},{\"attributes\":{\"callback\":null,\"renderers\":\"auto\",\"tooltips\":[[\"impact force (mN)\",\"@{impact force (mN)}\"],[\"trial number\",\"@{trial number}\"],[\"adhesive force (mN)\",\"@{adhesive force (mN)}\"]]},\"id\":\"44aed933-04bf-4235-a7a3-fcfe42904bbb\",\"type\":\"HoverTool\"},{\"attributes\":{\"factors\":[\"I\",\"III\",\"IV\",\"II\"],\"palette\":[\"#4e79a7\",\"#f28e2b\",\"#e15759\",\"#76b7b2\",\"#59a14f\",\"#edc948\",\"#b07aa1\",\"#ff9da7\",\"#9c755f\",\"#bab0ac\"]},\"id\":\"4fba6d3d-db59-4832-bcdf-a651fbe7e5ec\",\"type\":\"CategoricalColorMapper\"},{\"attributes\":{\"callback\":null},\"id\":\"b19e6e64-f0eb-449b-b127-250d9e86b10e\",\"type\":\"DataRange1d\"},{\"attributes\":{\"label\":{\"field\":\"__label\"},\"renderers\":[{\"id\":\"92f71619-3eac-4c4f-b41d-08bef61c5540\",\"type\":\"GlyphRenderer\"}]},\"id\":\"ddde74e6-1f08-4183-80f6-0ef205e4eda2\",\"type\":\"LegendItem\"},{\"attributes\":{},\"id\":\"b38d2663-2a69-46d2-a3a8-92c92c41054e\",\"type\":\"UnionRenderers\"},{\"attributes\":{\"callback\":null},\"id\":\"fd6d312e-907f-4d46-ac33-752e49bb6f3c\",\"type\":\"DataRange1d\"},{\"attributes\":{},\"id\":\"a68d254a-c0da-451b-af04-9b943816959e\",\"type\":\"BasicTickFormatter\"},{\"attributes\":{},\"id\":\"202792c9-7063-4b7c-a91c-cd5d200c880b\",\"type\":\"BasicTickFormatter\"},{\"attributes\":{\"axis_label\":\"ECDF\",\"formatter\":{\"id\":\"202792c9-7063-4b7c-a91c-cd5d200c880b\",\"type\":\"BasicTickFormatter\"},\"plot\":{\"id\":\"ccf71302-f5ae-4072-918c-a52331416145\",\"subtype\":\"Figure\",\"type\":\"Plot\"},\"ticker\":{\"id\":\"74c4e50f-c85c-4551-97d1-faef08317b4a\",\"type\":\"BasicTicker\"}},\"id\":\"0aee3e51-df94-427c-9659-d1cf2923055e\",\"type\":\"LinearAxis\"},{\"attributes\":{},\"id\":\"e54a098d-7f0a-4e27-a6ed-20f1067a600a\",\"type\":\"LinearScale\"}],\"root_ids\":[\"ccf71302-f5ae-4072-918c-a52331416145\"]},\"title\":\"Bokeh Application\",\"version\":\"0.13.0\"}};\n",
       "  var render_items = [{\"docid\":\"9e6a0f9e-fbf5-48cd-b052-5d10ec7436b7\",\"roots\":{\"ccf71302-f5ae-4072-918c-a52331416145\":\"4364d74c-27eb-4e4c-9d02-29b12e45d86c\"}}];\n",
       "  root.Bokeh.embed.embed_items_notebook(docs_json, render_items);\n",
       "\n",
       "  }\n",
       "  if (root.Bokeh !== undefined) {\n",
       "    embed_document(root);\n",
       "  } else {\n",
       "    var attempts = 0;\n",
       "    var timer = setInterval(function(root) {\n",
       "      if (root.Bokeh !== undefined) {\n",
       "        embed_document(root);\n",
       "        clearInterval(timer);\n",
       "      }\n",
       "      attempts++;\n",
       "      if (attempts > 100) {\n",
       "        console.log(\"Bokeh: ERROR: Unable to run BokehJS code because BokehJS library is missing\")\n",
       "        clearInterval(timer);\n",
       "      }\n",
       "    }, 10, root)\n",
       "  }\n",
       "})(window);"
      ],
      "application/vnd.bokehjs_exec.v0+json": ""
     },
     "metadata": {
      "application/vnd.bokehjs_exec.v0+json": {
       "id": "ccf71302-f5ae-4072-918c-a52331416145"
      }
     },
     "output_type": "display_data"
    }
   ],
   "source": [
    "p = bebi103.viz.ecdf_collection(data=df, \n",
    "                                cats='ID', \n",
    "                                val='impact force (mN)', \n",
    "                                p=None, \n",
    "                                x_axis_label='impact force (mN)', \n",
    "                                y_axis_label=None,\n",
    "                                title=None, \n",
    "                                plot_height=300, \n",
    "                                plot_width=400, \n",
    "                                palette=['#4e79a7', '#f28e2b', '#e15759', '#76b7b2', '#59a14f',\n",
    "                                         '#edc948', '#b07aa1', '#ff9da7', '#9c755f', '#bab0ac'],\n",
    "                                order=['I', 'III', 'IV', 'II'], \n",
    "                                val_axis_type='linear', \n",
    "                                show_legend=True,\n",
    "                                tooltips=[('impact force (mN)', '@{impact force (mN)}'), \n",
    "                                          ('trial number', '@{trial number}'),\n",
    "                                          ('adhesive force (mN)', '@{adhesive force (mN)}')])\n",
    "bokeh.io.show(p) "
   ]
  },
  {
   "cell_type": "code",
   "execution_count": 54,
   "metadata": {},
   "outputs": [
    {
     "data": {
      "text/html": [
       "\n",
       "\n",
       "\n",
       "\n",
       "\n",
       "\n",
       "  <div class=\"bk-root\" id=\"6c06c45e-bd03-4688-8a5a-fed0948ed8f4\"></div>\n"
      ]
     },
     "metadata": {},
     "output_type": "display_data"
    },
    {
     "data": {
      "application/javascript": [
       "(function(root) {\n",
       "  function embed_document(root) {\n",
       "    \n",
       "  var docs_json = {\"65e280a2-bf80-4a7b-833e-c57a79fcf2b3\":{\"roots\":{\"references\":[{\"attributes\":{\"callback\":null},\"id\":\"843931a1-5886-4556-8cd8-9bfbe5c26a4c\",\"type\":\"DataRange1d\"},{\"attributes\":{\"callback\":null,\"data\":{},\"selected\":{\"id\":\"dceede76-7f13-45eb-9af7-02004a2fff35\",\"type\":\"Selection\"},\"selection_policy\":{\"id\":\"bcf2088e-266a-4c9f-9b5e-a6cb9075ac67\",\"type\":\"UnionRenderers\"}},\"id\":\"688d20d2-8577-4be4-86d5-55c0341d6f02\",\"type\":\"ColumnDataSource\"},{\"attributes\":{},\"id\":\"f269969d-78ca-4029-a2c5-d7889cdf70e9\",\"type\":\"UnionRenderers\"},{\"attributes\":{},\"id\":\"e7b7c8f7-42b1-49b5-b611-4f95c3f4da0a\",\"type\":\"UnionRenderers\"},{\"attributes\":{\"line_alpha\":0.1,\"line_color\":\"#1f77b4\",\"x\":{\"field\":\"x\"},\"y\":{\"field\":\"y\"}},\"id\":\"09310de0-c377-44eb-b45a-491a10e02e9c\",\"type\":\"Line\"},{\"attributes\":{\"callback\":null,\"data\":{\"x\":{\"__ndarray__\":\"AAAAAAAANkAAAAAAAAA2QAAAAAAAgEJAAAAAAACAQkAAAAAAAMBhQAAAAAAAwGFAAAAAAACAZUAAAAAAAIBlQAAAAAAAwGhAAAAAAADAaEAAAAAAAMBoQAAAAAAAwGhAAAAAAAAQcUAAAAAAABBxQAAAAAAAMHZAAAAAAAAwdkAAAAAAACB5QAAAAAAAIHlAAAAAAABQfEAAAAAAAFB8QAAAAAAAQH1AAAAAAABAfUAAAAAAAGB/QAAAAAAAYH9AAAAAAAAggEAAAAAAACCAQAAAAAAAMIJAAAAAAAAwgkAAAAAAAKiCQAAAAAAAqIJAAAAAAADogkAAAAAAAOiCQAAAAAAAMINAAAAAAAAwg0AAAAAAADiGQAAAAAAAOIZAAAAAAACAhkAAAAAAAICGQAAAAAAAeIlAAAAAAAB4iUA=\",\"dtype\":\"float64\",\"shape\":[40]},\"y\":{\"__ndarray__\":\"AAAAAAAAAACamZmZmZmpP5qZmZmZmak/mpmZmZmZuT+amZmZmZm5PzMzMzMzM8M/MzMzMzMzwz+amZmZmZnJP5qZmZmZmck/AAAAAAAA0D8AAAAAAADQPzMzMzMzM9M/MzMzMzMz0z9mZmZmZmbWP2ZmZmZmZtY/mpmZmZmZ2T+amZmZmZnZP83MzMzMzNw/zczMzMzM3D8AAAAAAADgPwAAAAAAAOA/mpmZmZmZ4T+amZmZmZnhPzMzMzMzM+M/MzMzMzMz4z/NzMzMzMzkP83MzMzMzOQ/ZmZmZmZm5j9mZmZmZmbmPwAAAAAAAOg/AAAAAAAA6D+amZmZmZnpP5qZmZmZmek/MzMzMzMz6z8zMzMzMzPrP83MzMzMzOw/zczMzMzM7D9mZmZmZmbuP2ZmZmZmZu4/AAAAAAAA8D8=\",\"dtype\":\"float64\",\"shape\":[40]}},\"selected\":{\"id\":\"a01bb4b1-ee29-429b-b83b-cd9152647502\",\"type\":\"Selection\"},\"selection_policy\":{\"id\":\"14cf3493-b3f1-42c0-8cd1-ff813bfcc8bd\",\"type\":\"UnionRenderers\"}},\"id\":\"025af5ae-8ebc-4224-90fb-378e095fd82e\",\"type\":\"ColumnDataSource\"},{\"attributes\":{\"line_color\":\"#e15759\",\"x\":{\"field\":\"x\"},\"y\":{\"field\":\"y\"}},\"id\":\"de81b1fd-80a9-4e9a-af96-c3c1f03d572c\",\"type\":\"Line\"},{\"attributes\":{},\"id\":\"416ab943-a2ba-428b-a53b-94184db62e1c\",\"type\":\"UnionRenderers\"},{\"attributes\":{},\"id\":\"2ae6fae3-39f7-4a0a-b3d6-00759652aa79\",\"type\":\"LinearScale\"},{\"attributes\":{\"line_alpha\":0.1,\"line_color\":\"#1f77b4\",\"x\":{\"field\":\"x\"},\"y\":{\"field\":\"y\"}},\"id\":\"b9408eec-032b-45e7-81e0-940e6984aca0\",\"type\":\"Line\"},{\"attributes\":{\"data_source\":{\"id\":\"025af5ae-8ebc-4224-90fb-378e095fd82e\",\"type\":\"ColumnDataSource\"},\"glyph\":{\"id\":\"de81b1fd-80a9-4e9a-af96-c3c1f03d572c\",\"type\":\"Line\"},\"hover_glyph\":null,\"muted_glyph\":null,\"nonselection_glyph\":{\"id\":\"b9408eec-032b-45e7-81e0-940e6984aca0\",\"type\":\"Line\"},\"selection_glyph\":null,\"view\":{\"id\":\"95153dbc-c6f2-4ac1-8513-79a40bcf326f\",\"type\":\"CDSView\"}},\"id\":\"0f609d5e-099c-46e9-bc6f-8a0c278323e4\",\"type\":\"GlyphRenderer\"},{\"attributes\":{\"callback\":null},\"id\":\"6d483f3e-76c8-470c-aa9a-b425f267a378\",\"type\":\"DataRange1d\"},{\"attributes\":{},\"id\":\"5d94a743-5ca1-4707-9806-8d6c85e98416\",\"type\":\"LinearScale\"},{\"attributes\":{\"source\":{\"id\":\"025af5ae-8ebc-4224-90fb-378e095fd82e\",\"type\":\"ColumnDataSource\"}},\"id\":\"95153dbc-c6f2-4ac1-8513-79a40bcf326f\",\"type\":\"CDSView\"},{\"attributes\":{\"plot\":{\"id\":\"d0fb373e-1cee-49a7-b428-3fec7898c54f\",\"subtype\":\"Figure\",\"type\":\"Plot\"},\"ticker\":{\"id\":\"3581d847-d84b-4180-94a3-3a9efd04c7aa\",\"type\":\"BasicTicker\"}},\"id\":\"3cbbe16e-38e3-4ac7-a486-a7ef4144fe3e\",\"type\":\"Grid\"},{\"attributes\":{},\"id\":\"080650e1-592e-4908-9d09-7d37f6205b9e\",\"type\":\"Selection\"},{\"attributes\":{\"axis_label\":\"impact force (mN)\",\"formatter\":{\"id\":\"0e69fe1e-1d5f-497d-a26d-f86c09bc1f2d\",\"type\":\"BasicTickFormatter\"},\"plot\":{\"id\":\"d0fb373e-1cee-49a7-b428-3fec7898c54f\",\"subtype\":\"Figure\",\"type\":\"Plot\"},\"ticker\":{\"id\":\"3581d847-d84b-4180-94a3-3a9efd04c7aa\",\"type\":\"BasicTicker\"}},\"id\":\"e5027b4a-06de-4c1a-b26c-6984a1e6e381\",\"type\":\"LinearAxis\"},{\"attributes\":{},\"id\":\"6833ca89-9bfe-497c-a268-2ba20b750133\",\"type\":\"UnionRenderers\"},{\"attributes\":{},\"id\":\"3581d847-d84b-4180-94a3-3a9efd04c7aa\",\"type\":\"BasicTicker\"},{\"attributes\":{\"label\":{\"value\":\"IV\"},\"renderers\":[{\"id\":\"0f609d5e-099c-46e9-bc6f-8a0c278323e4\",\"type\":\"GlyphRenderer\"},{\"id\":\"5f85c9d0-4414-4488-a86d-c61395e9551f\",\"type\":\"GlyphRenderer\"},{\"id\":\"2c1564db-c675-47bc-9fd4-338b90c31831\",\"type\":\"GlyphRenderer\"}]},\"id\":\"b6457d6e-640f-426d-bb49-5d3f595931bf\",\"type\":\"LegendItem\"},{\"attributes\":{\"axis_label\":\"ECDF\",\"formatter\":{\"id\":\"d21aad9b-2a19-4f97-8337-e8569d4e6361\",\"type\":\"BasicTickFormatter\"},\"plot\":{\"id\":\"d0fb373e-1cee-49a7-b428-3fec7898c54f\",\"subtype\":\"Figure\",\"type\":\"Plot\"},\"ticker\":{\"id\":\"27e8424d-c090-401c-9a91-f9add0f6cfb4\",\"type\":\"BasicTicker\"}},\"id\":\"f5d9b840-e34a-4766-8732-3431b9b3286a\",\"type\":\"LinearAxis\"},{\"attributes\":{\"angle\":{\"units\":\"rad\",\"value\":0},\"line_color\":{\"value\":\"#e15759\"},\"x\":{\"value\":815.0},\"y\":{\"value\":1}},\"id\":\"d1feca6f-c5d2-4f5b-bf7c-4aa21039b305\",\"type\":\"Ray\"},{\"attributes\":{},\"id\":\"27e8424d-c090-401c-9a91-f9add0f6cfb4\",\"type\":\"BasicTicker\"},{\"attributes\":{\"angle\":{\"units\":\"rad\",\"value\":3.141592653589793},\"line_color\":{\"value\":\"#e15759\"},\"x\":{\"value\":22.0},\"y\":{\"value\":0}},\"id\":\"01a4fd94-c2b9-4182-885a-4e6d5e814061\",\"type\":\"Ray\"},{\"attributes\":{\"dimension\":1,\"plot\":{\"id\":\"d0fb373e-1cee-49a7-b428-3fec7898c54f\",\"subtype\":\"Figure\",\"type\":\"Plot\"},\"ticker\":{\"id\":\"27e8424d-c090-401c-9a91-f9add0f6cfb4\",\"type\":\"BasicTicker\"}},\"id\":\"8a67d3fc-dc5c-4592-8dc5-036120278a91\",\"type\":\"Grid\"},{\"attributes\":{\"angle\":{\"units\":\"rad\",\"value\":3.141592653589793},\"line_alpha\":{\"value\":0.1},\"line_color\":{\"value\":\"#1f77b4\"},\"x\":{\"value\":22.0},\"y\":{\"value\":0}},\"id\":\"7c64c9a2-93a9-4826-ba8a-6b753165ccd2\",\"type\":\"Ray\"},{\"attributes\":{\"data_source\":{\"id\":\"688d20d2-8577-4be4-86d5-55c0341d6f02\",\"type\":\"ColumnDataSource\"},\"glyph\":{\"id\":\"01a4fd94-c2b9-4182-885a-4e6d5e814061\",\"type\":\"Ray\"},\"hover_glyph\":null,\"muted_glyph\":null,\"nonselection_glyph\":{\"id\":\"7c64c9a2-93a9-4826-ba8a-6b753165ccd2\",\"type\":\"Ray\"},\"selection_glyph\":null,\"view\":{\"id\":\"66057b82-0966-447e-8c20-d0d085bf7d0c\",\"type\":\"CDSView\"}},\"id\":\"5f85c9d0-4414-4488-a86d-c61395e9551f\",\"type\":\"GlyphRenderer\"},{\"attributes\":{\"source\":{\"id\":\"688d20d2-8577-4be4-86d5-55c0341d6f02\",\"type\":\"ColumnDataSource\"}},\"id\":\"66057b82-0966-447e-8c20-d0d085bf7d0c\",\"type\":\"CDSView\"},{\"attributes\":{},\"id\":\"a01bb4b1-ee29-429b-b83b-cd9152647502\",\"type\":\"Selection\"},{\"attributes\":{},\"id\":\"14cf3493-b3f1-42c0-8cd1-ff813bfcc8bd\",\"type\":\"UnionRenderers\"},{\"attributes\":{\"callback\":null,\"data\":{\"x\":{\"__ndarray__\":\"AAAAAACQfUAAAAAAAJB9QAAAAAAA0H5AAAAAAADQfkAAAAAAAGCBQAAAAAAAYIFAAAAAAAA4iEAAAAAAADiIQAAAAAAA1JJAAAAAAADUkkAAAAAAAGCTQAAAAAAAYJNAAAAAAAAIlEAAAAAAAAiUQAAAAAAAbJRAAAAAAABslEAAAAAAAByYQAAAAAAAHJhAAAAAAAAkmEAAAAAAACSYQAAAAAAAUJhAAAAAAABQmEAAAAAAAHCaQAAAAAAAcJpAAAAAAABEm0AAAAAAAESbQAAAAAAAjJ1AAAAAAACMnUAAAAAAAKSdQAAAAAAApJ1AAAAAAAAgnkAAAAAAACCeQAAAAAAAwJ9AAAAAAADAn0AAAAAAAMihQAAAAAAAyKFAAAAAAAC+o0AAAAAAAL6jQAAAAAAAoqRAAAAAAACipEA=\",\"dtype\":\"float64\",\"shape\":[40]},\"y\":{\"__ndarray__\":\"AAAAAAAAAACamZmZmZmpP5qZmZmZmak/mpmZmZmZuT+amZmZmZm5PzMzMzMzM8M/MzMzMzMzwz+amZmZmZnJP5qZmZmZmck/AAAAAAAA0D8AAAAAAADQPzMzMzMzM9M/MzMzMzMz0z9mZmZmZmbWP2ZmZmZmZtY/mpmZmZmZ2T+amZmZmZnZP83MzMzMzNw/zczMzMzM3D8AAAAAAADgPwAAAAAAAOA/mpmZmZmZ4T+amZmZmZnhPzMzMzMzM+M/MzMzMzMz4z/NzMzMzMzkP83MzMzMzOQ/ZmZmZmZm5j9mZmZmZmbmPwAAAAAAAOg/AAAAAAAA6D+amZmZmZnpP5qZmZmZmek/MzMzMzMz6z8zMzMzMzPrP83MzMzMzOw/zczMzMzM7D9mZmZmZmbuP2ZmZmZmZu4/AAAAAAAA8D8=\",\"dtype\":\"float64\",\"shape\":[40]}},\"selected\":{\"id\":\"84ac9673-30cb-4fc7-a97d-98eacaa905e1\",\"type\":\"Selection\"},\"selection_policy\":{\"id\":\"f269969d-78ca-4029-a2c5-d7889cdf70e9\",\"type\":\"UnionRenderers\"}},\"id\":\"fd829a99-7e38-4fd1-b90f-171f9486a24b\",\"type\":\"ColumnDataSource\"},{\"attributes\":{\"callback\":null,\"data\":{},\"selected\":{\"id\":\"c9aaceda-ecf8-430b-8c5c-55bef5666239\",\"type\":\"Selection\"},\"selection_policy\":{\"id\":\"4d06e9c1-d339-417c-a5e4-73c9b5652ed2\",\"type\":\"UnionRenderers\"}},\"id\":\"3b686a58-06cd-4e3d-9416-52350d709e9c\",\"type\":\"ColumnDataSource\"},{\"attributes\":{},\"id\":\"43c70b7a-3966-47b2-bcd0-48a3b18d8730\",\"type\":\"PanTool\"},{\"attributes\":{\"callback\":null,\"data\":{},\"selected\":{\"id\":\"23a8684e-328e-4a38-8fa3-f01841589b93\",\"type\":\"Selection\"},\"selection_policy\":{\"id\":\"9b41570c-3770-49b5-9d2e-179462f32c3b\",\"type\":\"UnionRenderers\"}},\"id\":\"6405052c-f12c-4cec-9b07-5e8679814fc1\",\"type\":\"ColumnDataSource\"},{\"attributes\":{\"angle\":{\"units\":\"rad\",\"value\":0},\"line_alpha\":{\"value\":0.1},\"line_color\":{\"value\":\"#1f77b4\"},\"x\":{\"value\":815.0},\"y\":{\"value\":1}},\"id\":\"54affdea-6e88-44b3-b5eb-0c848d65a822\",\"type\":\"Ray\"},{\"attributes\":{},\"id\":\"f2eb3c02-ddc1-4632-9eaa-a31943b9e2a3\",\"type\":\"WheelZoomTool\"},{\"attributes\":{\"data_source\":{\"id\":\"3b686a58-06cd-4e3d-9416-52350d709e9c\",\"type\":\"ColumnDataSource\"},\"glyph\":{\"id\":\"d1feca6f-c5d2-4f5b-bf7c-4aa21039b305\",\"type\":\"Ray\"},\"hover_glyph\":null,\"muted_glyph\":null,\"nonselection_glyph\":{\"id\":\"54affdea-6e88-44b3-b5eb-0c848d65a822\",\"type\":\"Ray\"},\"selection_glyph\":null,\"view\":{\"id\":\"0aa79a7c-642c-4608-9ea8-b26f67415841\",\"type\":\"CDSView\"}},\"id\":\"2c1564db-c675-47bc-9fd4-338b90c31831\",\"type\":\"GlyphRenderer\"},{\"attributes\":{\"overlay\":{\"id\":\"bec11759-7d82-4e5e-b9af-385f6836f884\",\"type\":\"BoxAnnotation\"}},\"id\":\"37a7dbc4-727f-4458-a775-4cd3fe55c845\",\"type\":\"BoxZoomTool\"},{\"attributes\":{\"source\":{\"id\":\"3b686a58-06cd-4e3d-9416-52350d709e9c\",\"type\":\"ColumnDataSource\"}},\"id\":\"0aa79a7c-642c-4608-9ea8-b26f67415841\",\"type\":\"CDSView\"},{\"attributes\":{},\"id\":\"c8a8e3e2-a2a8-4cf6-8b02-05d97e2bc46c\",\"type\":\"SaveTool\"},{\"attributes\":{\"below\":[{\"id\":\"e5027b4a-06de-4c1a-b26c-6984a1e6e381\",\"type\":\"LinearAxis\"}],\"left\":[{\"id\":\"f5d9b840-e34a-4766-8732-3431b9b3286a\",\"type\":\"LinearAxis\"}],\"plot_height\":300,\"plot_width\":400,\"renderers\":[{\"id\":\"e5027b4a-06de-4c1a-b26c-6984a1e6e381\",\"type\":\"LinearAxis\"},{\"id\":\"3cbbe16e-38e3-4ac7-a486-a7ef4144fe3e\",\"type\":\"Grid\"},{\"id\":\"f5d9b840-e34a-4766-8732-3431b9b3286a\",\"type\":\"LinearAxis\"},{\"id\":\"8a67d3fc-dc5c-4592-8dc5-036120278a91\",\"type\":\"Grid\"},{\"id\":\"bec11759-7d82-4e5e-b9af-385f6836f884\",\"type\":\"BoxAnnotation\"},{\"id\":\"4932f625-896d-4df6-b83e-517991c88791\",\"type\":\"Legend\"},{\"id\":\"e0041784-47f0-4a01-bfbc-ce97d8fbbe1e\",\"type\":\"GlyphRenderer\"},{\"id\":\"adc52c9e-3a4c-4a8d-b749-3f1a8404b9e3\",\"type\":\"GlyphRenderer\"},{\"id\":\"f8ec2420-da63-4e4a-9681-4d79600a436b\",\"type\":\"GlyphRenderer\"},{\"id\":\"51a811cf-aeab-4697-87e1-50ca65628fbc\",\"type\":\"GlyphRenderer\"},{\"id\":\"f7a9682f-6870-40b5-9dd7-ec57b20ce1d1\",\"type\":\"GlyphRenderer\"},{\"id\":\"0eecd175-0999-42a0-8919-e1553bb784f7\",\"type\":\"GlyphRenderer\"},{\"id\":\"0f609d5e-099c-46e9-bc6f-8a0c278323e4\",\"type\":\"GlyphRenderer\"},{\"id\":\"5f85c9d0-4414-4488-a86d-c61395e9551f\",\"type\":\"GlyphRenderer\"},{\"id\":\"2c1564db-c675-47bc-9fd4-338b90c31831\",\"type\":\"GlyphRenderer\"},{\"id\":\"e800d3d0-2e0e-4e3f-b926-9b60695f7429\",\"type\":\"GlyphRenderer\"},{\"id\":\"e64d81df-ccce-4d4b-a812-d7525b9477a2\",\"type\":\"GlyphRenderer\"},{\"id\":\"b5db3ec5-c594-4193-9234-2a3327f1d1f3\",\"type\":\"GlyphRenderer\"}],\"title\":null,\"toolbar\":{\"id\":\"a4f80a9a-46fe-4c09-a3d9-cbede8503af0\",\"type\":\"Toolbar\"},\"x_range\":{\"id\":\"843931a1-5886-4556-8cd8-9bfbe5c26a4c\",\"type\":\"DataRange1d\"},\"x_scale\":{\"id\":\"2ae6fae3-39f7-4a0a-b3d6-00759652aa79\",\"type\":\"LinearScale\"},\"y_range\":{\"id\":\"6d483f3e-76c8-470c-aa9a-b425f267a378\",\"type\":\"DataRange1d\"},\"y_scale\":{\"id\":\"5d94a743-5ca1-4707-9806-8d6c85e98416\",\"type\":\"LinearScale\"}},\"id\":\"d0fb373e-1cee-49a7-b428-3fec7898c54f\",\"subtype\":\"Figure\",\"type\":\"Plot\"},{\"attributes\":{},\"id\":\"b1074187-7938-4444-a470-a1740c07d31a\",\"type\":\"ResetTool\"},{\"attributes\":{},\"id\":\"dceede76-7f13-45eb-9af7-02004a2fff35\",\"type\":\"Selection\"},{\"attributes\":{},\"id\":\"93237ae3-51da-45f3-bdbf-126a35f16a3b\",\"type\":\"HelpTool\"},{\"attributes\":{},\"id\":\"bcf2088e-266a-4c9f-9b5e-a6cb9075ac67\",\"type\":\"UnionRenderers\"},{\"attributes\":{\"bottom_units\":\"screen\",\"fill_alpha\":{\"value\":0.5},\"fill_color\":{\"value\":\"lightgrey\"},\"left_units\":\"screen\",\"level\":\"overlay\",\"line_alpha\":{\"value\":1.0},\"line_color\":{\"value\":\"black\"},\"line_dash\":[4,4],\"line_width\":{\"value\":2},\"plot\":null,\"render_mode\":\"css\",\"right_units\":\"screen\",\"top_units\":\"screen\"},\"id\":\"bec11759-7d82-4e5e-b9af-385f6836f884\",\"type\":\"BoxAnnotation\"},{\"attributes\":{\"active_drag\":\"auto\",\"active_inspect\":\"auto\",\"active_multi\":null,\"active_scroll\":\"auto\",\"active_tap\":\"auto\",\"tools\":[{\"id\":\"43c70b7a-3966-47b2-bcd0-48a3b18d8730\",\"type\":\"PanTool\"},{\"id\":\"f2eb3c02-ddc1-4632-9eaa-a31943b9e2a3\",\"type\":\"WheelZoomTool\"},{\"id\":\"37a7dbc4-727f-4458-a775-4cd3fe55c845\",\"type\":\"BoxZoomTool\"},{\"id\":\"c8a8e3e2-a2a8-4cf6-8b02-05d97e2bc46c\",\"type\":\"SaveTool\"},{\"id\":\"b1074187-7938-4444-a470-a1740c07d31a\",\"type\":\"ResetTool\"},{\"id\":\"93237ae3-51da-45f3-bdbf-126a35f16a3b\",\"type\":\"HelpTool\"}]},\"id\":\"a4f80a9a-46fe-4c09-a3d9-cbede8503af0\",\"type\":\"Toolbar\"},{\"attributes\":{\"callback\":null,\"data\":{\"x\":{\"__ndarray__\":\"AAAAAACgbkAAAAAAAKBuQAAAAAAA0HBAAAAAAADQcEAAAAAAAJByQAAAAAAAkHJAAAAAAABwdEAAAAAAAHB0QAAAAAAA8HdAAAAAAADwd0AAAAAAADB7QAAAAAAAMHtAAAAAAACQfEAAAAAAAJB8QAAAAAAAGIBAAAAAAAAYgEAAAAAAAIiAQAAAAAAAiIBAAAAAAADogEAAAAAAAOiAQAAAAAAA6IJAAAAAAADogkAAAAAAAKCDQAAAAAAAoINAAAAAAAD4hUAAAAAAAPiFQAAAAAAA0IZAAAAAAADQhkAAAAAAAHiHQAAAAAAAeIdAAAAAAACQjUAAAAAAAJCNQAAAAAAAeJJAAAAAAAB4kkAAAAAAALSWQAAAAAAAtJZAAAAAAAAMmEAAAAAAAAyYQAAAAAAAMJlAAAAAAAAwmUA=\",\"dtype\":\"float64\",\"shape\":[40]},\"y\":{\"__ndarray__\":\"AAAAAAAAAACamZmZmZmpP5qZmZmZmak/mpmZmZmZuT+amZmZmZm5PzMzMzMzM8M/MzMzMzMzwz+amZmZmZnJP5qZmZmZmck/AAAAAAAA0D8AAAAAAADQPzMzMzMzM9M/MzMzMzMz0z9mZmZmZmbWP2ZmZmZmZtY/mpmZmZmZ2T+amZmZmZnZP83MzMzMzNw/zczMzMzM3D8AAAAAAADgPwAAAAAAAOA/mpmZmZmZ4T+amZmZmZnhPzMzMzMzM+M/MzMzMzMz4z/NzMzMzMzkP83MzMzMzOQ/ZmZmZmZm5j9mZmZmZmbmPwAAAAAAAOg/AAAAAAAA6D+amZmZmZnpP5qZmZmZmek/MzMzMzMz6z8zMzMzMzPrP83MzMzMzOw/zczMzMzM7D9mZmZmZmbuP2ZmZmZmZu4/AAAAAAAA8D8=\",\"dtype\":\"float64\",\"shape\":[40]}},\"selected\":{\"id\":\"3d406e0e-bd2f-41ca-aec0-36ff067182e1\",\"type\":\"Selection\"},\"selection_policy\":{\"id\":\"234fa209-a169-4c09-8ac4-ab512861980d\",\"type\":\"UnionRenderers\"}},\"id\":\"5376caca-3b80-4eaa-9c6d-a751082c0850\",\"type\":\"ColumnDataSource\"},{\"attributes\":{\"line_color\":\"#76b7b2\",\"x\":{\"field\":\"x\"},\"y\":{\"field\":\"y\"}},\"id\":\"334c7f59-2009-48ac-b097-ba2fe65e9846\",\"type\":\"Line\"},{\"attributes\":{\"line_alpha\":0.1,\"line_color\":\"#1f77b4\",\"x\":{\"field\":\"x\"},\"y\":{\"field\":\"y\"}},\"id\":\"e0257e50-3dce-432b-aee3-393026836c63\",\"type\":\"Line\"},{\"attributes\":{\"data_source\":{\"id\":\"5376caca-3b80-4eaa-9c6d-a751082c0850\",\"type\":\"ColumnDataSource\"},\"glyph\":{\"id\":\"334c7f59-2009-48ac-b097-ba2fe65e9846\",\"type\":\"Line\"},\"hover_glyph\":null,\"muted_glyph\":null,\"nonselection_glyph\":{\"id\":\"e0257e50-3dce-432b-aee3-393026836c63\",\"type\":\"Line\"},\"selection_glyph\":null,\"view\":{\"id\":\"5866eccd-63e4-4d59-8ea9-cb54c4d66145\",\"type\":\"CDSView\"}},\"id\":\"e800d3d0-2e0e-4e3f-b926-9b60695f7429\",\"type\":\"GlyphRenderer\"},{\"attributes\":{\"source\":{\"id\":\"5376caca-3b80-4eaa-9c6d-a751082c0850\",\"type\":\"ColumnDataSource\"}},\"id\":\"5866eccd-63e4-4d59-8ea9-cb54c4d66145\",\"type\":\"CDSView\"},{\"attributes\":{},\"id\":\"c9aaceda-ecf8-430b-8c5c-55bef5666239\",\"type\":\"Selection\"},{\"attributes\":{},\"id\":\"4d06e9c1-d339-417c-a5e4-73c9b5652ed2\",\"type\":\"UnionRenderers\"},{\"attributes\":{\"angle\":{\"units\":\"rad\",\"value\":0},\"line_color\":{\"value\":\"#4e79a7\"},\"x\":{\"value\":2641.0},\"y\":{\"value\":1}},\"id\":\"04d36566-649c-4c6d-96d8-165078edef58\",\"type\":\"Ray\"},{\"attributes\":{\"label\":{\"value\":\"II\"},\"renderers\":[{\"id\":\"e800d3d0-2e0e-4e3f-b926-9b60695f7429\",\"type\":\"GlyphRenderer\"},{\"id\":\"e64d81df-ccce-4d4b-a812-d7525b9477a2\",\"type\":\"GlyphRenderer\"},{\"id\":\"b5db3ec5-c594-4193-9234-2a3327f1d1f3\",\"type\":\"GlyphRenderer\"}]},\"id\":\"5b6f3c2a-09be-4363-9544-21fa724b204e\",\"type\":\"LegendItem\"},{\"attributes\":{\"angle\":{\"units\":\"rad\",\"value\":0},\"line_color\":{\"value\":\"#76b7b2\"},\"x\":{\"value\":1612.0},\"y\":{\"value\":1}},\"id\":\"1059884e-1319-4ad6-976c-9130bfdafd0a\",\"type\":\"Ray\"},{\"attributes\":{\"line_color\":\"#4e79a7\",\"x\":{\"field\":\"x\"},\"y\":{\"field\":\"y\"}},\"id\":\"b6f27b94-3f07-4f8e-91fc-31718d133382\",\"type\":\"Line\"},{\"attributes\":{\"angle\":{\"units\":\"rad\",\"value\":3.141592653589793},\"line_color\":{\"value\":\"#76b7b2\"},\"x\":{\"value\":245.0},\"y\":{\"value\":0}},\"id\":\"190727f3-9a22-47f8-8c28-bbbc994fc10f\",\"type\":\"Ray\"},{\"attributes\":{\"data_source\":{\"id\":\"fd829a99-7e38-4fd1-b90f-171f9486a24b\",\"type\":\"ColumnDataSource\"},\"glyph\":{\"id\":\"b6f27b94-3f07-4f8e-91fc-31718d133382\",\"type\":\"Line\"},\"hover_glyph\":null,\"muted_glyph\":null,\"nonselection_glyph\":{\"id\":\"09310de0-c377-44eb-b45a-491a10e02e9c\",\"type\":\"Line\"},\"selection_glyph\":null,\"view\":{\"id\":\"597bc629-8fe9-45b0-bc65-20f4023510f5\",\"type\":\"CDSView\"}},\"id\":\"e0041784-47f0-4a01-bfbc-ce97d8fbbe1e\",\"type\":\"GlyphRenderer\"},{\"attributes\":{\"source\":{\"id\":\"fd829a99-7e38-4fd1-b90f-171f9486a24b\",\"type\":\"ColumnDataSource\"}},\"id\":\"597bc629-8fe9-45b0-bc65-20f4023510f5\",\"type\":\"CDSView\"},{\"attributes\":{\"angle\":{\"units\":\"rad\",\"value\":3.141592653589793},\"line_alpha\":{\"value\":0.1},\"line_color\":{\"value\":\"#1f77b4\"},\"x\":{\"value\":245.0},\"y\":{\"value\":0}},\"id\":\"06ec2d6b-0996-412b-bbfd-c6d395717c7b\",\"type\":\"Ray\"},{\"attributes\":{\"data_source\":{\"id\":\"6405052c-f12c-4cec-9b07-5e8679814fc1\",\"type\":\"ColumnDataSource\"},\"glyph\":{\"id\":\"190727f3-9a22-47f8-8c28-bbbc994fc10f\",\"type\":\"Ray\"},\"hover_glyph\":null,\"muted_glyph\":null,\"nonselection_glyph\":{\"id\":\"06ec2d6b-0996-412b-bbfd-c6d395717c7b\",\"type\":\"Ray\"},\"selection_glyph\":null,\"view\":{\"id\":\"0409129f-e828-4de3-ab33-15d3e941cf1a\",\"type\":\"CDSView\"}},\"id\":\"e64d81df-ccce-4d4b-a812-d7525b9477a2\",\"type\":\"GlyphRenderer\"},{\"attributes\":{},\"id\":\"0e69fe1e-1d5f-497d-a26d-f86c09bc1f2d\",\"type\":\"BasicTickFormatter\"},{\"attributes\":{},\"id\":\"d21aad9b-2a19-4f97-8337-e8569d4e6361\",\"type\":\"BasicTickFormatter\"},{\"attributes\":{\"source\":{\"id\":\"6405052c-f12c-4cec-9b07-5e8679814fc1\",\"type\":\"ColumnDataSource\"}},\"id\":\"0409129f-e828-4de3-ab33-15d3e941cf1a\",\"type\":\"CDSView\"},{\"attributes\":{\"angle\":{\"units\":\"rad\",\"value\":3.141592653589793},\"line_color\":{\"value\":\"#4e79a7\"},\"x\":{\"value\":473.0},\"y\":{\"value\":0}},\"id\":\"b692e3a0-a01f-4768-87f1-0381009ed32b\",\"type\":\"Ray\"},{\"attributes\":{},\"id\":\"3d406e0e-bd2f-41ca-aec0-36ff067182e1\",\"type\":\"Selection\"},{\"attributes\":{\"angle\":{\"units\":\"rad\",\"value\":3.141592653589793},\"line_alpha\":{\"value\":0.1},\"line_color\":{\"value\":\"#1f77b4\"},\"x\":{\"value\":473.0},\"y\":{\"value\":0}},\"id\":\"f673b935-0d5b-47fb-a72a-388f82d1e316\",\"type\":\"Ray\"},{\"attributes\":{},\"id\":\"234fa209-a169-4c09-8ac4-ab512861980d\",\"type\":\"UnionRenderers\"},{\"attributes\":{\"data_source\":{\"id\":\"5cbd7ac9-9f03-44c0-8fa8-9826294bd7d1\",\"type\":\"ColumnDataSource\"},\"glyph\":{\"id\":\"b692e3a0-a01f-4768-87f1-0381009ed32b\",\"type\":\"Ray\"},\"hover_glyph\":null,\"muted_glyph\":null,\"nonselection_glyph\":{\"id\":\"f673b935-0d5b-47fb-a72a-388f82d1e316\",\"type\":\"Ray\"},\"selection_glyph\":null,\"view\":{\"id\":\"9ad56163-9bfa-443b-abf8-4064641b756e\",\"type\":\"CDSView\"}},\"id\":\"adc52c9e-3a4c-4a8d-b749-3f1a8404b9e3\",\"type\":\"GlyphRenderer\"},{\"attributes\":{\"callback\":null,\"data\":{},\"selected\":{\"id\":\"3f8df569-0734-4c11-9a84-6a5d9e4d89d1\",\"type\":\"Selection\"},\"selection_policy\":{\"id\":\"416ab943-a2ba-428b-a53b-94184db62e1c\",\"type\":\"UnionRenderers\"}},\"id\":\"5cc481b3-48af-42c8-8aad-be494167c238\",\"type\":\"ColumnDataSource\"},{\"attributes\":{\"source\":{\"id\":\"5cbd7ac9-9f03-44c0-8fa8-9826294bd7d1\",\"type\":\"ColumnDataSource\"}},\"id\":\"9ad56163-9bfa-443b-abf8-4064641b756e\",\"type\":\"CDSView\"},{\"attributes\":{\"angle\":{\"units\":\"rad\",\"value\":0},\"line_alpha\":{\"value\":0.1},\"line_color\":{\"value\":\"#1f77b4\"},\"x\":{\"value\":1612.0},\"y\":{\"value\":1}},\"id\":\"3c649772-b0e3-4465-93ef-e740412c9be5\",\"type\":\"Ray\"},{\"attributes\":{},\"id\":\"84ac9673-30cb-4fc7-a97d-98eacaa905e1\",\"type\":\"Selection\"},{\"attributes\":{\"data_source\":{\"id\":\"5cc481b3-48af-42c8-8aad-be494167c238\",\"type\":\"ColumnDataSource\"},\"glyph\":{\"id\":\"1059884e-1319-4ad6-976c-9130bfdafd0a\",\"type\":\"Ray\"},\"hover_glyph\":null,\"muted_glyph\":null,\"nonselection_glyph\":{\"id\":\"3c649772-b0e3-4465-93ef-e740412c9be5\",\"type\":\"Ray\"},\"selection_glyph\":null,\"view\":{\"id\":\"44108b7c-5915-4c57-b838-ddc6695a1388\",\"type\":\"CDSView\"}},\"id\":\"b5db3ec5-c594-4193-9234-2a3327f1d1f3\",\"type\":\"GlyphRenderer\"},{\"attributes\":{\"callback\":null,\"data\":{\"x\":{\"__ndarray__\":\"AAAAAABAdEAAAAAAAEB0QAAAAAAAEHhAAAAAAAAQeEAAAAAAABB5QAAAAAAAEHlAAAAAAADgeUAAAAAAAOB5QAAAAAAAoHxAAAAAAACgfEAAAAAAALB8QAAAAAAAsHxAAAAAAACAfkAAAAAAAIB+QAAAAAAAuIBAAAAAAAC4gEAAAAAAANCAQAAAAAAA0IBAAAAAAAAAgUAAAAAAAACBQAAAAAAAAIFAAAAAAAAAgUAAAAAAABiCQAAAAAAAGIJAAAAAAAAYg0AAAAAAABiDQAAAAAAAMINAAAAAAAAwg0AAAAAAADCDQAAAAAAAMINAAAAAAABog0AAAAAAAGiDQAAAAAAAkINAAAAAAACQg0AAAAAAAMiEQAAAAAAAyIRAAAAAAABAiEAAAAAAAECIQAAAAAAAMIlAAAAAAAAwiUA=\",\"dtype\":\"float64\",\"shape\":[40]},\"y\":{\"__ndarray__\":\"AAAAAAAAAACamZmZmZmpP5qZmZmZmak/mpmZmZmZuT+amZmZmZm5PzMzMzMzM8M/MzMzMzMzwz+amZmZmZnJP5qZmZmZmck/AAAAAAAA0D8AAAAAAADQPzMzMzMzM9M/MzMzMzMz0z9mZmZmZmbWP2ZmZmZmZtY/mpmZmZmZ2T+amZmZmZnZP83MzMzMzNw/zczMzMzM3D8AAAAAAADgPwAAAAAAAOA/mpmZmZmZ4T+amZmZmZnhPzMzMzMzM+M/MzMzMzMz4z/NzMzMzMzkP83MzMzMzOQ/ZmZmZmZm5j9mZmZmZmbmPwAAAAAAAOg/AAAAAAAA6D+amZmZmZnpP5qZmZmZmek/MzMzMzMz6z8zMzMzMzPrP83MzMzMzOw/zczMzMzM7D9mZmZmZmbuP2ZmZmZmZu4/AAAAAAAA8D8=\",\"dtype\":\"float64\",\"shape\":[40]}},\"selected\":{\"id\":\"5483a571-de71-47c0-91bf-e673cfbf9b5e\",\"type\":\"Selection\"},\"selection_policy\":{\"id\":\"aa4d0783-f879-472f-90fd-183628972cd1\",\"type\":\"UnionRenderers\"}},\"id\":\"17b1c62e-ad22-4e38-b182-dc076805c98a\",\"type\":\"ColumnDataSource\"},{\"attributes\":{\"callback\":null,\"data\":{},\"selected\":{\"id\":\"98146583-f1c4-4286-88e1-52829c5ac0a5\",\"type\":\"Selection\"},\"selection_policy\":{\"id\":\"5b0aee03-8e38-47dd-8bdd-78bfa42586b2\",\"type\":\"UnionRenderers\"}},\"id\":\"75587901-f41d-4ee5-82bd-9c598fde2feb\",\"type\":\"ColumnDataSource\"},{\"attributes\":{\"source\":{\"id\":\"5cc481b3-48af-42c8-8aad-be494167c238\",\"type\":\"ColumnDataSource\"}},\"id\":\"44108b7c-5915-4c57-b838-ddc6695a1388\",\"type\":\"CDSView\"},{\"attributes\":{\"line_color\":\"#f28e2b\",\"x\":{\"field\":\"x\"},\"y\":{\"field\":\"y\"}},\"id\":\"2fad1128-3cc5-4438-b017-37fde19366e4\",\"type\":\"Line\"},{\"attributes\":{},\"id\":\"23a8684e-328e-4a38-8fa3-f01841589b93\",\"type\":\"Selection\"},{\"attributes\":{\"angle\":{\"units\":\"rad\",\"value\":0},\"line_alpha\":{\"value\":0.1},\"line_color\":{\"value\":\"#1f77b4\"},\"x\":{\"value\":2641.0},\"y\":{\"value\":1}},\"id\":\"a7f81d57-e494-4cea-9913-56f94fcdf64b\",\"type\":\"Ray\"},{\"attributes\":{},\"id\":\"9b41570c-3770-49b5-9d2e-179462f32c3b\",\"type\":\"UnionRenderers\"},{\"attributes\":{\"data_source\":{\"id\":\"75587901-f41d-4ee5-82bd-9c598fde2feb\",\"type\":\"ColumnDataSource\"},\"glyph\":{\"id\":\"04d36566-649c-4c6d-96d8-165078edef58\",\"type\":\"Ray\"},\"hover_glyph\":null,\"muted_glyph\":null,\"nonselection_glyph\":{\"id\":\"a7f81d57-e494-4cea-9913-56f94fcdf64b\",\"type\":\"Ray\"},\"selection_glyph\":null,\"view\":{\"id\":\"2637ffc1-8786-4ecc-aed5-d2dece7d6221\",\"type\":\"CDSView\"}},\"id\":\"f8ec2420-da63-4e4a-9681-4d79600a436b\",\"type\":\"GlyphRenderer\"},{\"attributes\":{\"source\":{\"id\":\"75587901-f41d-4ee5-82bd-9c598fde2feb\",\"type\":\"ColumnDataSource\"}},\"id\":\"2637ffc1-8786-4ecc-aed5-d2dece7d6221\",\"type\":\"CDSView\"},{\"attributes\":{},\"id\":\"ea4a4f3c-dbeb-413d-b372-4a4a4f8816a5\",\"type\":\"Selection\"},{\"attributes\":{\"callback\":null,\"data\":{},\"selected\":{\"id\":\"ea4a4f3c-dbeb-413d-b372-4a4a4f8816a5\",\"type\":\"Selection\"},\"selection_policy\":{\"id\":\"8e9b7fdc-32e4-4817-a93e-bd4ffc7f9ce3\",\"type\":\"UnionRenderers\"}},\"id\":\"5cbd7ac9-9f03-44c0-8fa8-9826294bd7d1\",\"type\":\"ColumnDataSource\"},{\"attributes\":{},\"id\":\"8e9b7fdc-32e4-4817-a93e-bd4ffc7f9ce3\",\"type\":\"UnionRenderers\"},{\"attributes\":{\"callback\":null,\"data\":{},\"selected\":{\"id\":\"b2b1c3d9-e1ff-4fd1-9d4f-597a7a498a7b\",\"type\":\"Selection\"},\"selection_policy\":{\"id\":\"e7b7c8f7-42b1-49b5-b611-4f95c3f4da0a\",\"type\":\"UnionRenderers\"}},\"id\":\"35a00421-6f08-4e22-bf2e-658df017d731\",\"type\":\"ColumnDataSource\"},{\"attributes\":{\"line_alpha\":0.1,\"line_color\":\"#1f77b4\",\"x\":{\"field\":\"x\"},\"y\":{\"field\":\"y\"}},\"id\":\"44504488-1938-4d54-bc33-eccb7fb2453f\",\"type\":\"Line\"},{\"attributes\":{\"data_source\":{\"id\":\"17b1c62e-ad22-4e38-b182-dc076805c98a\",\"type\":\"ColumnDataSource\"},\"glyph\":{\"id\":\"2fad1128-3cc5-4438-b017-37fde19366e4\",\"type\":\"Line\"},\"hover_glyph\":null,\"muted_glyph\":null,\"nonselection_glyph\":{\"id\":\"44504488-1938-4d54-bc33-eccb7fb2453f\",\"type\":\"Line\"},\"selection_glyph\":null,\"view\":{\"id\":\"8e2161f1-182a-49f5-b3be-3a6d5c5707e9\",\"type\":\"CDSView\"}},\"id\":\"51a811cf-aeab-4697-87e1-50ca65628fbc\",\"type\":\"GlyphRenderer\"},{\"attributes\":{\"source\":{\"id\":\"17b1c62e-ad22-4e38-b182-dc076805c98a\",\"type\":\"ColumnDataSource\"}},\"id\":\"8e2161f1-182a-49f5-b3be-3a6d5c5707e9\",\"type\":\"CDSView\"},{\"attributes\":{},\"id\":\"98146583-f1c4-4286-88e1-52829c5ac0a5\",\"type\":\"Selection\"},{\"attributes\":{\"label\":{\"value\":\"I\"},\"renderers\":[{\"id\":\"e0041784-47f0-4a01-bfbc-ce97d8fbbe1e\",\"type\":\"GlyphRenderer\"},{\"id\":\"adc52c9e-3a4c-4a8d-b749-3f1a8404b9e3\",\"type\":\"GlyphRenderer\"},{\"id\":\"f8ec2420-da63-4e4a-9681-4d79600a436b\",\"type\":\"GlyphRenderer\"}]},\"id\":\"57c9d2a3-3182-4a44-a22a-4b61403d309f\",\"type\":\"LegendItem\"},{\"attributes\":{},\"id\":\"5b0aee03-8e38-47dd-8bdd-78bfa42586b2\",\"type\":\"UnionRenderers\"},{\"attributes\":{\"label\":{\"value\":\"III\"},\"renderers\":[{\"id\":\"51a811cf-aeab-4697-87e1-50ca65628fbc\",\"type\":\"GlyphRenderer\"},{\"id\":\"f7a9682f-6870-40b5-9dd7-ec57b20ce1d1\",\"type\":\"GlyphRenderer\"},{\"id\":\"0eecd175-0999-42a0-8919-e1553bb784f7\",\"type\":\"GlyphRenderer\"}]},\"id\":\"8918b90e-335a-4589-b263-29681a41dfe0\",\"type\":\"LegendItem\"},{\"attributes\":{\"angle\":{\"units\":\"rad\",\"value\":0},\"line_color\":{\"value\":\"#f28e2b\"},\"x\":{\"value\":806.0},\"y\":{\"value\":1}},\"id\":\"8f6d7e01-b379-43dd-a01e-e61ea3868402\",\"type\":\"Ray\"},{\"attributes\":{\"angle\":{\"units\":\"rad\",\"value\":3.141592653589793},\"line_color\":{\"value\":\"#f28e2b\"},\"x\":{\"value\":324.0},\"y\":{\"value\":0}},\"id\":\"cebf2501-de5f-425b-9f11-8ff416742159\",\"type\":\"Ray\"},{\"attributes\":{\"angle\":{\"units\":\"rad\",\"value\":3.141592653589793},\"line_alpha\":{\"value\":0.1},\"line_color\":{\"value\":\"#1f77b4\"},\"x\":{\"value\":324.0},\"y\":{\"value\":0}},\"id\":\"6971bcf6-eda8-4f19-bf73-c91f4fb3117a\",\"type\":\"Ray\"},{\"attributes\":{\"data_source\":{\"id\":\"35a00421-6f08-4e22-bf2e-658df017d731\",\"type\":\"ColumnDataSource\"},\"glyph\":{\"id\":\"cebf2501-de5f-425b-9f11-8ff416742159\",\"type\":\"Ray\"},\"hover_glyph\":null,\"muted_glyph\":null,\"nonselection_glyph\":{\"id\":\"6971bcf6-eda8-4f19-bf73-c91f4fb3117a\",\"type\":\"Ray\"},\"selection_glyph\":null,\"view\":{\"id\":\"6d9c641a-e81c-4572-87c7-171e3bc10db0\",\"type\":\"CDSView\"}},\"id\":\"f7a9682f-6870-40b5-9dd7-ec57b20ce1d1\",\"type\":\"GlyphRenderer\"},{\"attributes\":{\"items\":[{\"id\":\"57c9d2a3-3182-4a44-a22a-4b61403d309f\",\"type\":\"LegendItem\"},{\"id\":\"8918b90e-335a-4589-b263-29681a41dfe0\",\"type\":\"LegendItem\"},{\"id\":\"b6457d6e-640f-426d-bb49-5d3f595931bf\",\"type\":\"LegendItem\"},{\"id\":\"5b6f3c2a-09be-4363-9544-21fa724b204e\",\"type\":\"LegendItem\"}],\"location\":\"bottom_right\",\"plot\":{\"id\":\"d0fb373e-1cee-49a7-b428-3fec7898c54f\",\"subtype\":\"Figure\",\"type\":\"Plot\"}},\"id\":\"4932f625-896d-4df6-b83e-517991c88791\",\"type\":\"Legend\"},{\"attributes\":{\"source\":{\"id\":\"35a00421-6f08-4e22-bf2e-658df017d731\",\"type\":\"ColumnDataSource\"}},\"id\":\"6d9c641a-e81c-4572-87c7-171e3bc10db0\",\"type\":\"CDSView\"},{\"attributes\":{},\"id\":\"5483a571-de71-47c0-91bf-e673cfbf9b5e\",\"type\":\"Selection\"},{\"attributes\":{},\"id\":\"aa4d0783-f879-472f-90fd-183628972cd1\",\"type\":\"UnionRenderers\"},{\"attributes\":{\"callback\":null,\"data\":{},\"selected\":{\"id\":\"080650e1-592e-4908-9d09-7d37f6205b9e\",\"type\":\"Selection\"},\"selection_policy\":{\"id\":\"6833ca89-9bfe-497c-a268-2ba20b750133\",\"type\":\"UnionRenderers\"}},\"id\":\"5e3130b6-1a8d-4675-9fbd-32514957b3dd\",\"type\":\"ColumnDataSource\"},{\"attributes\":{},\"id\":\"b2b1c3d9-e1ff-4fd1-9d4f-597a7a498a7b\",\"type\":\"Selection\"},{\"attributes\":{\"angle\":{\"units\":\"rad\",\"value\":0},\"line_alpha\":{\"value\":0.1},\"line_color\":{\"value\":\"#1f77b4\"},\"x\":{\"value\":806.0},\"y\":{\"value\":1}},\"id\":\"ad087c99-f75e-466c-9951-59dcf3f724bc\",\"type\":\"Ray\"},{\"attributes\":{},\"id\":\"3f8df569-0734-4c11-9a84-6a5d9e4d89d1\",\"type\":\"Selection\"},{\"attributes\":{\"data_source\":{\"id\":\"5e3130b6-1a8d-4675-9fbd-32514957b3dd\",\"type\":\"ColumnDataSource\"},\"glyph\":{\"id\":\"8f6d7e01-b379-43dd-a01e-e61ea3868402\",\"type\":\"Ray\"},\"hover_glyph\":null,\"muted_glyph\":null,\"nonselection_glyph\":{\"id\":\"ad087c99-f75e-466c-9951-59dcf3f724bc\",\"type\":\"Ray\"},\"selection_glyph\":null,\"view\":{\"id\":\"3f7aa246-3518-4069-976d-a89ae855c401\",\"type\":\"CDSView\"}},\"id\":\"0eecd175-0999-42a0-8919-e1553bb784f7\",\"type\":\"GlyphRenderer\"},{\"attributes\":{\"source\":{\"id\":\"5e3130b6-1a8d-4675-9fbd-32514957b3dd\",\"type\":\"ColumnDataSource\"}},\"id\":\"3f7aa246-3518-4069-976d-a89ae855c401\",\"type\":\"CDSView\"}],\"root_ids\":[\"d0fb373e-1cee-49a7-b428-3fec7898c54f\"]},\"title\":\"Bokeh Application\",\"version\":\"0.13.0\"}};\n",
       "  var render_items = [{\"docid\":\"65e280a2-bf80-4a7b-833e-c57a79fcf2b3\",\"roots\":{\"d0fb373e-1cee-49a7-b428-3fec7898c54f\":\"6c06c45e-bd03-4688-8a5a-fed0948ed8f4\"}}];\n",
       "  root.Bokeh.embed.embed_items_notebook(docs_json, render_items);\n",
       "\n",
       "  }\n",
       "  if (root.Bokeh !== undefined) {\n",
       "    embed_document(root);\n",
       "  } else {\n",
       "    var attempts = 0;\n",
       "    var timer = setInterval(function(root) {\n",
       "      if (root.Bokeh !== undefined) {\n",
       "        embed_document(root);\n",
       "        clearInterval(timer);\n",
       "      }\n",
       "      attempts++;\n",
       "      if (attempts > 100) {\n",
       "        console.log(\"Bokeh: ERROR: Unable to run BokehJS code because BokehJS library is missing\")\n",
       "        clearInterval(timer);\n",
       "      }\n",
       "    }, 10, root)\n",
       "  }\n",
       "})(window);"
      ],
      "application/vnd.bokehjs_exec.v0+json": ""
     },
     "metadata": {
      "application/vnd.bokehjs_exec.v0+json": {
       "id": "d0fb373e-1cee-49a7-b428-3fec7898c54f"
      }
     },
     "output_type": "display_data"
    }
   ],
   "source": [
    "p = bebi103.viz.ecdf_collection(data=df, \n",
    "                                cats='ID', \n",
    "                                val='impact force (mN)', \n",
    "                                p=None, \n",
    "                                formal=True,\n",
    "                                x_axis_label='impact force (mN)', \n",
    "                                y_axis_label=None,\n",
    "                                title=None, \n",
    "                                plot_height=300, \n",
    "                                plot_width=400, \n",
    "                                palette=['#4e79a7', '#f28e2b', '#e15759', '#76b7b2', '#59a14f',\n",
    "                                         '#edc948', '#b07aa1', '#ff9da7', '#9c755f', '#bab0ac'],\n",
    "                                order=['I', 'III', 'IV', 'II'], \n",
    "                                val_axis_type='linear', \n",
    "                                show_legend=True,\n",
    "                                tooltips=[('impact force (mN)', '@{impact force (mN)}'), \n",
    "                                          ('trial number', '@{trial number}'),\n",
    "                                          ('adhesive force (mN)', '@{adhesive force (mN)}')])\n",
    "bokeh.io.show(p) "
   ]
  },
  {
   "cell_type": "markdown",
   "metadata": {},
   "source": [
    "## Box plots"
   ]
  },
  {
   "cell_type": "code",
   "execution_count": 60,
   "metadata": {},
   "outputs": [
    {
     "data": {
      "text/html": [
       "\n",
       "\n",
       "\n",
       "\n",
       "\n",
       "\n",
       "  <div class=\"bk-root\" id=\"680e7cad-7ac1-488c-90eb-b9ef9cb365ef\"></div>\n"
      ]
     },
     "metadata": {},
     "output_type": "display_data"
    },
    {
     "data": {
      "application/javascript": [
       "(function(root) {\n",
       "  function embed_document(root) {\n",
       "    \n",
       "  var docs_json = {\"8b834904-4b50-4af0-8dd6-afde1aa8bb47\":{\"roots\":{\"references\":[{\"attributes\":{\"data_source\":{\"id\":\"917e5499-d5b2-48e5-961d-21be1621610e\",\"type\":\"ColumnDataSource\"},\"glyph\":{\"id\":\"d2984adf-0ae1-4013-8f15-18cf891cc0a4\",\"type\":\"Segment\"},\"hover_glyph\":null,\"muted_glyph\":null,\"nonselection_glyph\":{\"id\":\"1dd316c9-faa5-4a53-8adc-9da959fd5b87\",\"type\":\"Segment\"},\"selection_glyph\":null,\"view\":{\"id\":\"68378278-b714-4a8b-9c0b-2d5f175ae11c\",\"type\":\"CDSView\"}},\"id\":\"33f11fd7-e3a8-42ff-8ad5-6d6af0da0246\",\"type\":\"GlyphRenderer\"},{\"attributes\":{\"fill_color\":{\"field\":\"cat\",\"transform\":{\"id\":\"22ba4246-f99a-420c-958e-a80c26fba89f\",\"type\":\"CategoricalColorMapper\"}},\"line_color\":{\"field\":\"cat\",\"transform\":{\"id\":\"186269e7-df14-4ee8-99a5-89a517ae9090\",\"type\":\"CategoricalColorMapper\"}},\"x\":{\"field\":\"impact force (mN)\"},\"y\":{\"field\":\"cat\"}},\"id\":\"70692550-1a14-4863-832d-1efb4fff52be\",\"type\":\"Circle\"},{\"attributes\":{\"bottom_units\":\"screen\",\"fill_alpha\":{\"value\":0.5},\"fill_color\":{\"value\":\"lightgrey\"},\"left_units\":\"screen\",\"level\":\"overlay\",\"line_alpha\":{\"value\":1.0},\"line_color\":{\"value\":\"black\"},\"line_dash\":[4,4],\"line_width\":{\"value\":2},\"plot\":null,\"render_mode\":\"css\",\"right_units\":\"screen\",\"top_units\":\"screen\"},\"id\":\"5b9d96f0-bc2a-409d-8d01-86044df2b557\",\"type\":\"BoxAnnotation\"},{\"attributes\":{\"overlay\":{\"id\":\"5b9d96f0-bc2a-409d-8d01-86044df2b557\",\"type\":\"BoxAnnotation\"}},\"id\":\"44ce0820-45b2-4007-a4f1-58f10cd99f3a\",\"type\":\"BoxZoomTool\"},{\"attributes\":{\"fill_color\":{\"value\":\"#1f77b4\"},\"height\":{\"value\":0.1},\"left\":{\"field\":\"top_whisker\"},\"right\":{\"field\":\"top_whisker\"},\"y\":{\"field\":\"cat\"}},\"id\":\"d94071ad-de0f-4e5c-9736-5bfede5b6154\",\"type\":\"HBar\"},{\"attributes\":{\"fill_alpha\":{\"value\":0.1},\"fill_color\":{\"value\":\"#1f77b4\"},\"line_alpha\":{\"value\":0.1},\"line_color\":{\"value\":\"#1f77b4\"},\"x\":{\"field\":\"impact force (mN)\"},\"y\":{\"field\":\"cat\"}},\"id\":\"9786f025-ea5d-4ad2-b994-3d223f1101f9\",\"type\":\"Circle\"},{\"attributes\":{\"line_alpha\":{\"value\":0.1},\"line_color\":{\"value\":\"#1f77b4\"},\"x0\":{\"field\":\"bottom\"},\"x1\":{\"field\":\"bottom_whisker\"},\"y0\":{\"field\":\"cat\"},\"y1\":{\"field\":\"cat\"}},\"id\":\"1dd316c9-faa5-4a53-8adc-9da959fd5b87\",\"type\":\"Segment\"},{\"attributes\":{\"axis_label\":\"impact force (mN)\",\"formatter\":{\"id\":\"674d26be-cfa3-4c32-b8fe-b37a7c4d443f\",\"type\":\"LogTickFormatter\"},\"plot\":{\"id\":\"bee217a4-fc8c-4ecf-b50c-743877400d89\",\"subtype\":\"Figure\",\"type\":\"Plot\"},\"ticker\":{\"id\":\"3d1671f3-5b21-427d-8ce5-0c0b800389e1\",\"type\":\"LogTicker\"}},\"id\":\"50260980-f0b6-494d-bbcf-a4ad4c91cc05\",\"type\":\"LogAxis\"},{\"attributes\":{\"data_source\":{\"id\":\"47744ca7-577a-4ae7-8699-a86868b6c1f2\",\"type\":\"ColumnDataSource\"},\"glyph\":{\"id\":\"70692550-1a14-4863-832d-1efb4fff52be\",\"type\":\"Circle\"},\"hover_glyph\":null,\"muted_glyph\":null,\"nonselection_glyph\":{\"id\":\"9786f025-ea5d-4ad2-b994-3d223f1101f9\",\"type\":\"Circle\"},\"selection_glyph\":null,\"view\":{\"id\":\"415ff00a-4b66-4363-a539-e4f193fde6e9\",\"type\":\"CDSView\"}},\"id\":\"e7d11225-c584-41b4-9f95-47118f1149f0\",\"type\":\"GlyphRenderer\"},{\"attributes\":{},\"id\":\"8bd0d09c-75f9-4516-a900-296edd3f315b\",\"type\":\"WheelZoomTool\"},{\"attributes\":{},\"id\":\"f824aedd-5614-4e6b-ba69-ce8b367235b9\",\"type\":\"SaveTool\"},{\"attributes\":{\"axis_label\":\"ID\",\"formatter\":{\"id\":\"b53c243c-155f-4c32-a38b-4e492daa4482\",\"type\":\"CategoricalTickFormatter\"},\"plot\":{\"id\":\"bee217a4-fc8c-4ecf-b50c-743877400d89\",\"subtype\":\"Figure\",\"type\":\"Plot\"},\"ticker\":{\"id\":\"4585231e-7887-4e21-a0c1-a3142d75d032\",\"type\":\"CategoricalTicker\"}},\"id\":\"62986194-552b-408e-bd61-68f039d9de5b\",\"type\":\"CategoricalAxis\"},{\"attributes\":{\"source\":{\"id\":\"47744ca7-577a-4ae7-8699-a86868b6c1f2\",\"type\":\"ColumnDataSource\"}},\"id\":\"415ff00a-4b66-4363-a539-e4f193fde6e9\",\"type\":\"CDSView\"},{\"attributes\":{\"source\":{\"id\":\"917e5499-d5b2-48e5-961d-21be1621610e\",\"type\":\"ColumnDataSource\"}},\"id\":\"3d144ff1-b881-4bb4-b219-a61cf5ef21eb\",\"type\":\"CDSView\"},{\"attributes\":{\"factors\":[\"I\",\"II\",\"III\",\"IV\"],\"palette\":[\"#4e79a7\",\"#f28e2b\",\"#e15759\",\"#76b7b2\",\"#59a14f\",\"#edc948\",\"#b07aa1\",\"#ff9da7\",\"#9c755f\",\"#bab0ac\"]},\"id\":\"186269e7-df14-4ee8-99a5-89a517ae9090\",\"type\":\"CategoricalColorMapper\"},{\"attributes\":{\"data_source\":{\"id\":\"917e5499-d5b2-48e5-961d-21be1621610e\",\"type\":\"ColumnDataSource\"},\"glyph\":{\"id\":\"476982d2-86ee-49a4-b4d1-a73a24382cb5\",\"type\":\"HBar\"},\"hover_glyph\":null,\"muted_glyph\":null,\"nonselection_glyph\":{\"id\":\"463991f2-a22d-405b-9cff-080470b11106\",\"type\":\"HBar\"},\"selection_glyph\":null,\"view\":{\"id\":\"085569f3-c070-42cd-bc9d-92d745950cd4\",\"type\":\"CDSView\"}},\"id\":\"1fd45a59-f7aa-4084-8684-70ea61a019ad\",\"type\":\"GlyphRenderer\"},{\"attributes\":{\"callback\":null,\"data\":{\"__label\":[\"I\",\"II\",\"III\",\"IV\"],\"bottom\":[1231.25,422.0,458.75,198.0],\"bottom_whisker\":[473.0,245.0,324.0,22.0],\"cat\":[\"I\",\"II\",\"III\",\"IV\"],\"middle\":[1550.5,573.0,544.0,460.5],\"top\":[1904.75,799.75,615.75,599.0],\"top_whisker\":[2641.0,1366.375,806.0,815.0]},\"selected\":{\"id\":\"6a4fef1a-51d1-4140-9d75-c4a00a892157\",\"type\":\"Selection\"},\"selection_policy\":{\"id\":\"e9962470-a45f-454a-ab69-ec765ad74361\",\"type\":\"UnionRenderers\"}},\"id\":\"917e5499-d5b2-48e5-961d-21be1621610e\",\"type\":\"ColumnDataSource\"},{\"attributes\":{\"data_source\":{\"id\":\"917e5499-d5b2-48e5-961d-21be1621610e\",\"type\":\"ColumnDataSource\"},\"glyph\":{\"id\":\"02ebaf7e-e309-4349-85bd-46e8109f7db2\",\"type\":\"Segment\"},\"hover_glyph\":null,\"muted_glyph\":null,\"nonselection_glyph\":{\"id\":\"69043308-dfef-489c-8d4d-8780133b9e56\",\"type\":\"Segment\"},\"selection_glyph\":null,\"view\":{\"id\":\"51988f18-177d-4369-a882-542d4e5f0df9\",\"type\":\"CDSView\"}},\"id\":\"924e83ad-8f65-44c8-9941-78c694ba5b91\",\"type\":\"GlyphRenderer\"},{\"attributes\":{\"fill_alpha\":{\"value\":0.1},\"fill_color\":{\"value\":\"#1f77b4\"},\"height\":{\"value\":0.1},\"left\":{\"field\":\"bottom_whisker\"},\"line_alpha\":{\"value\":0.1},\"line_color\":{\"value\":\"#1f77b4\"},\"right\":{\"field\":\"bottom_whisker\"},\"y\":{\"field\":\"cat\"}},\"id\":\"ba7d27ee-e535-4abc-b90b-43c0aae0909d\",\"type\":\"HBar\"},{\"attributes\":{\"data_source\":{\"id\":\"917e5499-d5b2-48e5-961d-21be1621610e\",\"type\":\"ColumnDataSource\"},\"glyph\":{\"id\":\"8a83a387-c522-4abd-bce0-0c384c9da5ec\",\"type\":\"HBar\"},\"hover_glyph\":null,\"muted_glyph\":null,\"nonselection_glyph\":{\"id\":\"dc764259-50f3-494b-a3d1-4210ae8c89d0\",\"type\":\"HBar\"},\"selection_glyph\":null,\"view\":{\"id\":\"3d144ff1-b881-4bb4-b219-a61cf5ef21eb\",\"type\":\"CDSView\"}},\"id\":\"308a8887-585f-488a-9ccd-06096b4aaf8f\",\"type\":\"GlyphRenderer\"},{\"attributes\":{},\"id\":\"4585231e-7887-4e21-a0c1-a3142d75d032\",\"type\":\"CategoricalTicker\"},{\"attributes\":{\"x0\":{\"field\":\"top\"},\"x1\":{\"field\":\"top_whisker\"},\"y0\":{\"field\":\"cat\"},\"y1\":{\"field\":\"cat\"}},\"id\":\"02ebaf7e-e309-4349-85bd-46e8109f7db2\",\"type\":\"Segment\"},{\"attributes\":{\"num_minor_ticks\":10},\"id\":\"3d1671f3-5b21-427d-8ce5-0c0b800389e1\",\"type\":\"LogTicker\"},{\"attributes\":{\"source\":{\"id\":\"917e5499-d5b2-48e5-961d-21be1621610e\",\"type\":\"ColumnDataSource\"}},\"id\":\"68378278-b714-4a8b-9c0b-2d5f175ae11c\",\"type\":\"CDSView\"},{\"attributes\":{\"plot\":{\"id\":\"bee217a4-fc8c-4ecf-b50c-743877400d89\",\"subtype\":\"Figure\",\"type\":\"Plot\"},\"ticker\":{\"id\":\"3d1671f3-5b21-427d-8ce5-0c0b800389e1\",\"type\":\"LogTicker\"}},\"id\":\"a95aff98-b455-49c9-a095-3bede9f5abe2\",\"type\":\"Grid\"},{\"attributes\":{},\"id\":\"894cd5dd-c504-48b7-abe9-e9235887a4ec\",\"type\":\"Selection\"},{\"attributes\":{\"factors\":[\"I\",\"II\",\"III\",\"IV\"],\"palette\":[\"#4e79a7\",\"#f28e2b\",\"#e15759\",\"#76b7b2\",\"#59a14f\",\"#edc948\",\"#b07aa1\",\"#ff9da7\",\"#9c755f\",\"#bab0ac\"]},\"id\":\"22ba4246-f99a-420c-958e-a80c26fba89f\",\"type\":\"CategoricalColorMapper\"},{\"attributes\":{\"data_source\":{\"id\":\"917e5499-d5b2-48e5-961d-21be1621610e\",\"type\":\"ColumnDataSource\"},\"glyph\":{\"id\":\"d94071ad-de0f-4e5c-9736-5bfede5b6154\",\"type\":\"HBar\"},\"hover_glyph\":null,\"muted_glyph\":null,\"nonselection_glyph\":{\"id\":\"94679370-c435-4c07-a5e3-153e6c0fa48d\",\"type\":\"HBar\"},\"selection_glyph\":null,\"view\":{\"id\":\"c4ccfb43-c04b-4a82-a6ab-7f88c2d3e130\",\"type\":\"CDSView\"}},\"id\":\"b8d4e729-d088-4372-8aa2-0efcc11e2bf9\",\"type\":\"GlyphRenderer\"},{\"attributes\":{\"callback\":null,\"data\":{\"ID\":[\"II\",\"II\",\"II\"],\"__label\":[\"II\",\"II\",\"II\"],\"cat\":[\"II\",\"II\",\"II\"],\"impact force (mN)\":[1612,1539,1453]},\"selected\":{\"id\":\"894cd5dd-c504-48b7-abe9-e9235887a4ec\",\"type\":\"Selection\"},\"selection_policy\":{\"id\":\"834bf7c1-c793-45d0-823b-a1166ea99c4c\",\"type\":\"UnionRenderers\"}},\"id\":\"47744ca7-577a-4ae7-8699-a86868b6c1f2\",\"type\":\"ColumnDataSource\"},{\"attributes\":{\"callback\":null},\"id\":\"9f6b2827-b6b6-48de-9371-5d80da244426\",\"type\":\"DataRange1d\"},{\"attributes\":{\"source\":{\"id\":\"917e5499-d5b2-48e5-961d-21be1621610e\",\"type\":\"ColumnDataSource\"}},\"id\":\"c4ccfb43-c04b-4a82-a6ab-7f88c2d3e130\",\"type\":\"CDSView\"},{\"attributes\":{},\"id\":\"5b045c91-e461-43ec-b603-5722424db9c6\",\"type\":\"LogScale\"},{\"attributes\":{\"fill_alpha\":{\"value\":0.1},\"fill_color\":{\"value\":\"#1f77b4\"},\"height\":{\"value\":0.4},\"left\":{\"field\":\"middle\"},\"line_alpha\":{\"value\":0.1},\"line_color\":{\"value\":\"#1f77b4\"},\"right\":{\"field\":\"middle\"},\"y\":{\"field\":\"cat\"}},\"id\":\"463991f2-a22d-405b-9cff-080470b11106\",\"type\":\"HBar\"},{\"attributes\":{\"fill_alpha\":{\"value\":0.1},\"fill_color\":{\"value\":\"#1f77b4\"},\"height\":{\"value\":0.1},\"left\":{\"field\":\"top_whisker\"},\"line_alpha\":{\"value\":0.1},\"line_color\":{\"value\":\"#1f77b4\"},\"right\":{\"field\":\"top_whisker\"},\"y\":{\"field\":\"cat\"}},\"id\":\"94679370-c435-4c07-a5e3-153e6c0fa48d\",\"type\":\"HBar\"},{\"attributes\":{},\"id\":\"e1c062ee-ff05-473a-a4e8-cae90548fd52\",\"type\":\"ResetTool\"},{\"attributes\":{\"dimension\":1,\"grid_line_color\":{\"value\":null},\"plot\":{\"id\":\"bee217a4-fc8c-4ecf-b50c-743877400d89\",\"subtype\":\"Figure\",\"type\":\"Plot\"},\"ticker\":{\"id\":\"4585231e-7887-4e21-a0c1-a3142d75d032\",\"type\":\"CategoricalTicker\"}},\"id\":\"ed17cbbe-4b0f-4708-b7d1-3b1b428fdc79\",\"type\":\"Grid\"},{\"attributes\":{},\"id\":\"4780bf79-9cd2-4b11-ac95-db90cda0ccf3\",\"type\":\"PanTool\"},{\"attributes\":{\"source\":{\"id\":\"917e5499-d5b2-48e5-961d-21be1621610e\",\"type\":\"ColumnDataSource\"}},\"id\":\"77b73b91-e8fa-41f9-ba03-ef69d1fe1426\",\"type\":\"CDSView\"},{\"attributes\":{},\"id\":\"4903824d-0e67-4444-82be-4d12129c9078\",\"type\":\"HelpTool\"},{\"attributes\":{\"x0\":{\"field\":\"bottom\"},\"x1\":{\"field\":\"bottom_whisker\"},\"y0\":{\"field\":\"cat\"},\"y1\":{\"field\":\"cat\"}},\"id\":\"d2984adf-0ae1-4013-8f15-18cf891cc0a4\",\"type\":\"Segment\"},{\"attributes\":{\"below\":[{\"id\":\"50260980-f0b6-494d-bbcf-a4ad4c91cc05\",\"type\":\"LogAxis\"}],\"left\":[{\"id\":\"62986194-552b-408e-bd61-68f039d9de5b\",\"type\":\"CategoricalAxis\"}],\"plot_height\":300,\"plot_width\":400,\"renderers\":[{\"id\":\"50260980-f0b6-494d-bbcf-a4ad4c91cc05\",\"type\":\"LogAxis\"},{\"id\":\"a95aff98-b455-49c9-a095-3bede9f5abe2\",\"type\":\"Grid\"},{\"id\":\"62986194-552b-408e-bd61-68f039d9de5b\",\"type\":\"CategoricalAxis\"},{\"id\":\"ed17cbbe-4b0f-4708-b7d1-3b1b428fdc79\",\"type\":\"Grid\"},{\"id\":\"5b9d96f0-bc2a-409d-8d01-86044df2b557\",\"type\":\"BoxAnnotation\"},{\"id\":\"924e83ad-8f65-44c8-9941-78c694ba5b91\",\"type\":\"GlyphRenderer\"},{\"id\":\"33f11fd7-e3a8-42ff-8ad5-6d6af0da0246\",\"type\":\"GlyphRenderer\"},{\"id\":\"b8d4e729-d088-4372-8aa2-0efcc11e2bf9\",\"type\":\"GlyphRenderer\"},{\"id\":\"a9a894bc-3bd7-4a83-9daf-976d3f4ac060\",\"type\":\"GlyphRenderer\"},{\"id\":\"308a8887-585f-488a-9ccd-06096b4aaf8f\",\"type\":\"GlyphRenderer\"},{\"id\":\"1fd45a59-f7aa-4084-8684-70ea61a019ad\",\"type\":\"GlyphRenderer\"},{\"id\":\"e7d11225-c584-41b4-9f95-47118f1149f0\",\"type\":\"GlyphRenderer\"}],\"title\":null,\"toolbar\":{\"id\":\"83d013c2-596c-4992-96cb-63f588083179\",\"type\":\"Toolbar\"},\"x_range\":{\"id\":\"9f6b2827-b6b6-48de-9371-5d80da244426\",\"type\":\"DataRange1d\"},\"x_scale\":{\"id\":\"5b045c91-e461-43ec-b603-5722424db9c6\",\"type\":\"LogScale\"},\"y_range\":{\"id\":\"2494ef22-b931-4109-bbe6-1d3afb7748ce\",\"type\":\"FactorRange\"},\"y_scale\":{\"id\":\"dca9061c-c4da-4635-a203-6bb56619f179\",\"type\":\"CategoricalScale\"}},\"id\":\"bee217a4-fc8c-4ecf-b50c-743877400d89\",\"subtype\":\"Figure\",\"type\":\"Plot\"},{\"attributes\":{\"fill_color\":{\"field\":\"cat\",\"transform\":{\"id\":\"dd064ab2-e8fa-4f16-b6d9-161aad570770\",\"type\":\"CategoricalColorMapper\"}},\"height\":{\"value\":0.4},\"left\":{\"field\":\"middle\"},\"right\":{\"field\":\"middle\"},\"y\":{\"field\":\"cat\"}},\"id\":\"476982d2-86ee-49a4-b4d1-a73a24382cb5\",\"type\":\"HBar\"},{\"attributes\":{\"active_drag\":\"auto\",\"active_inspect\":\"auto\",\"active_multi\":null,\"active_scroll\":\"auto\",\"active_tap\":\"auto\",\"tools\":[{\"id\":\"4780bf79-9cd2-4b11-ac95-db90cda0ccf3\",\"type\":\"PanTool\"},{\"id\":\"8bd0d09c-75f9-4516-a900-296edd3f315b\",\"type\":\"WheelZoomTool\"},{\"id\":\"44ce0820-45b2-4007-a4f1-58f10cd99f3a\",\"type\":\"BoxZoomTool\"},{\"id\":\"f824aedd-5614-4e6b-ba69-ce8b367235b9\",\"type\":\"SaveTool\"},{\"id\":\"e1c062ee-ff05-473a-a4e8-cae90548fd52\",\"type\":\"ResetTool\"},{\"id\":\"4903824d-0e67-4444-82be-4d12129c9078\",\"type\":\"HelpTool\"}]},\"id\":\"83d013c2-596c-4992-96cb-63f588083179\",\"type\":\"Toolbar\"},{\"attributes\":{\"source\":{\"id\":\"917e5499-d5b2-48e5-961d-21be1621610e\",\"type\":\"ColumnDataSource\"}},\"id\":\"51988f18-177d-4369-a882-542d4e5f0df9\",\"type\":\"CDSView\"},{\"attributes\":{\"line_alpha\":{\"value\":0.1},\"line_color\":{\"value\":\"#1f77b4\"},\"x0\":{\"field\":\"top\"},\"x1\":{\"field\":\"top_whisker\"},\"y0\":{\"field\":\"cat\"},\"y1\":{\"field\":\"cat\"}},\"id\":\"69043308-dfef-489c-8d4d-8780133b9e56\",\"type\":\"Segment\"},{\"attributes\":{\"data_source\":{\"id\":\"917e5499-d5b2-48e5-961d-21be1621610e\",\"type\":\"ColumnDataSource\"},\"glyph\":{\"id\":\"70be1359-bcb9-4f9f-bf18-3caa496f65e0\",\"type\":\"HBar\"},\"hover_glyph\":null,\"muted_glyph\":null,\"nonselection_glyph\":{\"id\":\"ba7d27ee-e535-4abc-b90b-43c0aae0909d\",\"type\":\"HBar\"},\"selection_glyph\":null,\"view\":{\"id\":\"77b73b91-e8fa-41f9-ba03-ef69d1fe1426\",\"type\":\"CDSView\"}},\"id\":\"a9a894bc-3bd7-4a83-9daf-976d3f4ac060\",\"type\":\"GlyphRenderer\"},{\"attributes\":{\"ticker\":null},\"id\":\"674d26be-cfa3-4c32-b8fe-b37a7c4d443f\",\"type\":\"LogTickFormatter\"},{\"attributes\":{\"fill_color\":{\"field\":\"cat\",\"transform\":{\"id\":\"dd064ab2-e8fa-4f16-b6d9-161aad570770\",\"type\":\"CategoricalColorMapper\"}},\"height\":{\"value\":0.4},\"left\":{\"field\":\"bottom\"},\"right\":{\"field\":\"top\"},\"y\":{\"field\":\"cat\"}},\"id\":\"8a83a387-c522-4abd-bce0-0c384c9da5ec\",\"type\":\"HBar\"},{\"attributes\":{},\"id\":\"dca9061c-c4da-4635-a203-6bb56619f179\",\"type\":\"CategoricalScale\"},{\"attributes\":{\"fill_color\":{\"value\":\"#1f77b4\"},\"height\":{\"value\":0.1},\"left\":{\"field\":\"bottom_whisker\"},\"right\":{\"field\":\"bottom_whisker\"},\"y\":{\"field\":\"cat\"}},\"id\":\"70be1359-bcb9-4f9f-bf18-3caa496f65e0\",\"type\":\"HBar\"},{\"attributes\":{},\"id\":\"6a4fef1a-51d1-4140-9d75-c4a00a892157\",\"type\":\"Selection\"},{\"attributes\":{},\"id\":\"834bf7c1-c793-45d0-823b-a1166ea99c4c\",\"type\":\"UnionRenderers\"},{\"attributes\":{},\"id\":\"b53c243c-155f-4c32-a38b-4e492daa4482\",\"type\":\"CategoricalTickFormatter\"},{\"attributes\":{\"fill_alpha\":{\"value\":0.1},\"fill_color\":{\"value\":\"#1f77b4\"},\"height\":{\"value\":0.4},\"left\":{\"field\":\"bottom\"},\"line_alpha\":{\"value\":0.1},\"line_color\":{\"value\":\"#1f77b4\"},\"right\":{\"field\":\"top\"},\"y\":{\"field\":\"cat\"}},\"id\":\"dc764259-50f3-494b-a3d1-4210ae8c89d0\",\"type\":\"HBar\"},{\"attributes\":{\"source\":{\"id\":\"917e5499-d5b2-48e5-961d-21be1621610e\",\"type\":\"ColumnDataSource\"}},\"id\":\"085569f3-c070-42cd-bc9d-92d745950cd4\",\"type\":\"CDSView\"},{\"attributes\":{\"callback\":null,\"factors\":[\"IV\",\"III\",\"II\",\"I\"]},\"id\":\"2494ef22-b931-4109-bbe6-1d3afb7748ce\",\"type\":\"FactorRange\"},{\"attributes\":{},\"id\":\"e9962470-a45f-454a-ab69-ec765ad74361\",\"type\":\"UnionRenderers\"},{\"attributes\":{\"factors\":[\"I\",\"II\",\"III\",\"IV\"],\"palette\":[\"#4e79a7\",\"#f28e2b\",\"#e15759\",\"#76b7b2\",\"#59a14f\",\"#edc948\",\"#b07aa1\",\"#ff9da7\",\"#9c755f\",\"#bab0ac\"]},\"id\":\"dd064ab2-e8fa-4f16-b6d9-161aad570770\",\"type\":\"CategoricalColorMapper\"}],\"root_ids\":[\"bee217a4-fc8c-4ecf-b50c-743877400d89\"]},\"title\":\"Bokeh Application\",\"version\":\"0.13.0\"}};\n",
       "  var render_items = [{\"docid\":\"8b834904-4b50-4af0-8dd6-afde1aa8bb47\",\"roots\":{\"bee217a4-fc8c-4ecf-b50c-743877400d89\":\"680e7cad-7ac1-488c-90eb-b9ef9cb365ef\"}}];\n",
       "  root.Bokeh.embed.embed_items_notebook(docs_json, render_items);\n",
       "\n",
       "  }\n",
       "  if (root.Bokeh !== undefined) {\n",
       "    embed_document(root);\n",
       "  } else {\n",
       "    var attempts = 0;\n",
       "    var timer = setInterval(function(root) {\n",
       "      if (root.Bokeh !== undefined) {\n",
       "        embed_document(root);\n",
       "        clearInterval(timer);\n",
       "      }\n",
       "      attempts++;\n",
       "      if (attempts > 100) {\n",
       "        console.log(\"Bokeh: ERROR: Unable to run BokehJS code because BokehJS library is missing\")\n",
       "        clearInterval(timer);\n",
       "      }\n",
       "    }, 10, root)\n",
       "  }\n",
       "})(window);"
      ],
      "application/vnd.bokehjs_exec.v0+json": ""
     },
     "metadata": {
      "application/vnd.bokehjs_exec.v0+json": {
       "id": "bee217a4-fc8c-4ecf-b50c-743877400d89"
      }
     },
     "output_type": "display_data"
    }
   ],
   "source": [
    "p = bebi103.viz.box(data=df, \n",
    "                    cats='ID', \n",
    "                    val='impact force (mN)', \n",
    "                    p=None, \n",
    "                    horizontal=True, \n",
    "                    y_axis_label='ID', \n",
    "                    x_axis_label='impact force (mN)', \n",
    "                    title=None, \n",
    "                    plot_height=300, \n",
    "                    plot_width=400, \n",
    "                    palette=['#4e79a7', '#f28e2b', '#e15759', '#76b7b2', '#59a14f',\n",
    "                             '#edc948', '#b07aa1', '#ff9da7', '#9c755f', '#bab0ac'],\n",
    "                    width=0.4, \n",
    "                    order=None, \n",
    "                    val_axis_type='log')\n",
    "bokeh.io.show(p) "
   ]
  },
  {
   "cell_type": "code",
   "execution_count": 63,
   "metadata": {},
   "outputs": [
    {
     "data": {
      "text/html": [
       "\n",
       "\n",
       "\n",
       "\n",
       "\n",
       "\n",
       "  <div class=\"bk-root\" id=\"34da97fc-3189-4805-9c21-8855b492a06d\"></div>\n"
      ]
     },
     "metadata": {},
     "output_type": "display_data"
    },
    {
     "data": {
      "application/javascript": [
       "(function(root) {\n",
       "  function embed_document(root) {\n",
       "    \n",
       "  var docs_json = {\"b1a9c025-f1cf-4499-82dc-a855ece5b6f2\":{\"roots\":{\"references\":[{\"attributes\":{\"source\":{\"id\":\"3fd28135-62c7-459e-a0ae-7d715eb81559\",\"type\":\"ColumnDataSource\"}},\"id\":\"ba953ad6-774e-4663-a8d0-f92bed8b43a2\",\"type\":\"CDSView\"},{\"attributes\":{\"below\":[{\"id\":\"bab2ba78-64a3-4d9e-b03d-0be02fa278d1\",\"type\":\"LinearAxis\"}],\"left\":[{\"id\":\"33b821b5-2d25-455b-b287-fc3922ae2097\",\"type\":\"CategoricalAxis\"}],\"plot_height\":300,\"plot_width\":400,\"renderers\":[{\"id\":\"bab2ba78-64a3-4d9e-b03d-0be02fa278d1\",\"type\":\"LinearAxis\"},{\"id\":\"e53cab08-bdbe-43e2-9917-c4940fa8fe74\",\"type\":\"Grid\"},{\"id\":\"33b821b5-2d25-455b-b287-fc3922ae2097\",\"type\":\"CategoricalAxis\"},{\"id\":\"c2e0d1e1-f15a-46b3-8286-36e5ba28cb9c\",\"type\":\"Grid\"},{\"id\":\"fc15465f-b17d-48da-a86a-1fb104ab4aec\",\"type\":\"BoxAnnotation\"},{\"id\":\"18c3a90f-c572-4a8b-87b0-603381171f6a\",\"type\":\"GlyphRenderer\"},{\"id\":\"33c51bb6-b367-4add-9901-234f80df5a0b\",\"type\":\"GlyphRenderer\"},{\"id\":\"41fe49ed-61be-483a-bf0c-0a696b0cf979\",\"type\":\"GlyphRenderer\"},{\"id\":\"c15e9716-a56b-4491-b078-b7eb73afcffa\",\"type\":\"GlyphRenderer\"},{\"id\":\"7b504505-6be1-4fe4-8cb8-cd82df20e060\",\"type\":\"GlyphRenderer\"},{\"id\":\"7fb917b0-7054-47e9-928f-279999f1b598\",\"type\":\"GlyphRenderer\"},{\"id\":\"10b60150-f8e4-413d-ae01-c92273924fb6\",\"type\":\"GlyphRenderer\"}],\"title\":null,\"toolbar\":{\"id\":\"86405050-2a32-4d98-9cbc-e4d056167c39\",\"type\":\"Toolbar\"},\"x_range\":{\"id\":\"f3982179-71e2-481d-b92e-f8b2ec8274fe\",\"type\":\"DataRange1d\"},\"x_scale\":{\"id\":\"217198bc-df7c-4ee6-bfad-f35799b24aef\",\"type\":\"LinearScale\"},\"y_range\":{\"id\":\"c2bd1eb5-1b3f-495b-823a-c71378423976\",\"type\":\"FactorRange\"},\"y_scale\":{\"id\":\"b49ccd86-baaf-4b25-a821-0edf46b0cab0\",\"type\":\"CategoricalScale\"}},\"id\":\"b8d3b582-8026-4423-9442-d268c28f652f\",\"subtype\":\"Figure\",\"type\":\"Plot\"},{\"attributes\":{\"factors\":[[\"adult\",\"I\"],[\"adult\",\"II\"],[\"juvenile\",\"III\"],[\"juvenile\",\"IV\"]],\"palette\":[\"#4e79a7\",\"#f28e2b\",\"#e15759\",\"#76b7b2\",\"#59a14f\",\"#edc948\",\"#b07aa1\",\"#ff9da7\",\"#9c755f\",\"#bab0ac\"]},\"id\":\"d631a404-df0b-4e7b-8b61-61f65985b74d\",\"type\":\"CategoricalColorMapper\"},{\"attributes\":{\"data_source\":{\"id\":\"3fd28135-62c7-459e-a0ae-7d715eb81559\",\"type\":\"ColumnDataSource\"},\"glyph\":{\"id\":\"b4243ac5-e106-433f-b058-a7098560d4d4\",\"type\":\"Segment\"},\"hover_glyph\":null,\"muted_glyph\":null,\"nonselection_glyph\":{\"id\":\"098bd513-31f8-4c66-bc19-c74d43f44a48\",\"type\":\"Segment\"},\"selection_glyph\":null,\"view\":{\"id\":\"25b0070a-a355-4504-b700-da29d33b0eba\",\"type\":\"CDSView\"}},\"id\":\"18c3a90f-c572-4a8b-87b0-603381171f6a\",\"type\":\"GlyphRenderer\"},{\"attributes\":{},\"id\":\"01a49874-1b44-4f8a-b2bd-03faaea02618\",\"type\":\"BasicTickFormatter\"},{\"attributes\":{\"source\":{\"id\":\"3fd28135-62c7-459e-a0ae-7d715eb81559\",\"type\":\"ColumnDataSource\"}},\"id\":\"901f6a11-3ee9-4936-95ca-d51b8e58969a\",\"type\":\"CDSView\"},{\"attributes\":{\"line_alpha\":{\"value\":0.1},\"line_color\":{\"value\":\"#1f77b4\"},\"x0\":{\"field\":\"top\"},\"x1\":{\"field\":\"top_whisker\"},\"y0\":{\"field\":\"cat\"},\"y1\":{\"field\":\"cat\"}},\"id\":\"098bd513-31f8-4c66-bc19-c74d43f44a48\",\"type\":\"Segment\"},{\"attributes\":{\"data_source\":{\"id\":\"3fd28135-62c7-459e-a0ae-7d715eb81559\",\"type\":\"ColumnDataSource\"},\"glyph\":{\"id\":\"cfce3445-1168-4d5b-abc5-b278b9f2c2a2\",\"type\":\"HBar\"},\"hover_glyph\":null,\"muted_glyph\":null,\"nonselection_glyph\":{\"id\":\"9ad22129-1137-440c-bfec-d803baa29232\",\"type\":\"HBar\"},\"selection_glyph\":null,\"view\":{\"id\":\"901f6a11-3ee9-4936-95ca-d51b8e58969a\",\"type\":\"CDSView\"}},\"id\":\"c15e9716-a56b-4491-b078-b7eb73afcffa\",\"type\":\"GlyphRenderer\"},{\"attributes\":{},\"id\":\"a02ae5f2-ec29-4997-9570-137fc8721dfa\",\"type\":\"Selection\"},{\"attributes\":{\"axis_label\":\"impact force (mN)\",\"formatter\":{\"id\":\"01a49874-1b44-4f8a-b2bd-03faaea02618\",\"type\":\"BasicTickFormatter\"},\"plot\":{\"id\":\"b8d3b582-8026-4423-9442-d268c28f652f\",\"subtype\":\"Figure\",\"type\":\"Plot\"},\"ticker\":{\"id\":\"9a4b6fb6-1dd8-4ae7-be3e-4df4ce89fc11\",\"type\":\"BasicTicker\"}},\"id\":\"bab2ba78-64a3-4d9e-b03d-0be02fa278d1\",\"type\":\"LinearAxis\"},{\"attributes\":{\"plot\":{\"id\":\"b8d3b582-8026-4423-9442-d268c28f652f\",\"subtype\":\"Figure\",\"type\":\"Plot\"},\"ticker\":{\"id\":\"9a4b6fb6-1dd8-4ae7-be3e-4df4ce89fc11\",\"type\":\"BasicTicker\"}},\"id\":\"e53cab08-bdbe-43e2-9917-c4940fa8fe74\",\"type\":\"Grid\"},{\"attributes\":{\"fill_color\":{\"field\":\"cat\",\"transform\":{\"id\":\"c0d0341e-9f7a-48c5-8919-7a303f009241\",\"type\":\"CategoricalColorMapper\"}},\"height\":{\"value\":0.4},\"left\":{\"field\":\"middle\"},\"right\":{\"field\":\"middle\"},\"y\":{\"field\":\"cat\"}},\"id\":\"d0a7e36d-da29-4a4d-897b-74320dfa80c9\",\"type\":\"HBar\"},{\"attributes\":{\"line_alpha\":{\"value\":0.1},\"line_color\":{\"value\":\"#1f77b4\"},\"x0\":{\"field\":\"bottom\"},\"x1\":{\"field\":\"bottom_whisker\"},\"y0\":{\"field\":\"cat\"},\"y1\":{\"field\":\"cat\"}},\"id\":\"d1a01c86-a288-4a46-86dd-63602a37bd83\",\"type\":\"Segment\"},{\"attributes\":{},\"id\":\"03cab303-4965-4fc2-ac71-e67dff7b073e\",\"type\":\"UnionRenderers\"},{\"attributes\":{\"callback\":null,\"data\":{\"__label\":[\"adult, I\",\"adult, II\",\"juvenile, III\",\"juvenile, IV\"],\"bottom\":[1231.25,422.0,458.75,198.0],\"bottom_whisker\":[473.0,245.0,324.0,22.0],\"cat\":[[\"adult\",\"I\"],[\"adult\",\"II\"],[\"juvenile\",\"III\"],[\"juvenile\",\"IV\"]],\"middle\":[1550.5,573.0,544.0,460.5],\"top\":[1904.75,799.75,615.75,599.0],\"top_whisker\":[2641.0,1366.375,806.0,815.0]},\"selected\":{\"id\":\"a02ae5f2-ec29-4997-9570-137fc8721dfa\",\"type\":\"Selection\"},\"selection_policy\":{\"id\":\"264a74c2-95b1-4107-9ca0-da91f41260e2\",\"type\":\"UnionRenderers\"}},\"id\":\"3fd28135-62c7-459e-a0ae-7d715eb81559\",\"type\":\"ColumnDataSource\"},{\"attributes\":{\"fill_alpha\":{\"value\":0.1},\"fill_color\":{\"value\":\"#1f77b4\"},\"height\":{\"value\":0.4},\"left\":{\"field\":\"middle\"},\"line_alpha\":{\"value\":0.1},\"line_color\":{\"value\":\"#1f77b4\"},\"right\":{\"field\":\"middle\"},\"y\":{\"field\":\"cat\"}},\"id\":\"cc349772-52a3-4fee-832a-c70b4d51c52f\",\"type\":\"HBar\"},{\"attributes\":{\"active_drag\":\"auto\",\"active_inspect\":\"auto\",\"active_multi\":null,\"active_scroll\":\"auto\",\"active_tap\":\"auto\",\"tools\":[{\"id\":\"334c44bd-bcd4-4f5f-b98c-c015d63f7859\",\"type\":\"PanTool\"},{\"id\":\"c1ad67dd-1fdf-4f14-a3d0-48747d61ab77\",\"type\":\"WheelZoomTool\"},{\"id\":\"431fc731-05c2-45f3-a388-375e9e5cc465\",\"type\":\"BoxZoomTool\"},{\"id\":\"8f16a339-9d28-4236-80ed-fc9a9b8eb237\",\"type\":\"SaveTool\"},{\"id\":\"a8c42b02-640d-4d9f-be2e-adc05eca4f21\",\"type\":\"ResetTool\"},{\"id\":\"1c05093e-8a9d-49e9-8b93-7629fc79de8c\",\"type\":\"HelpTool\"}]},\"id\":\"86405050-2a32-4d98-9cbc-e4d056167c39\",\"type\":\"Toolbar\"},{\"attributes\":{\"data_source\":{\"id\":\"3fd28135-62c7-459e-a0ae-7d715eb81559\",\"type\":\"ColumnDataSource\"},\"glyph\":{\"id\":\"d0a7e36d-da29-4a4d-897b-74320dfa80c9\",\"type\":\"HBar\"},\"hover_glyph\":null,\"muted_glyph\":null,\"nonselection_glyph\":{\"id\":\"cc349772-52a3-4fee-832a-c70b4d51c52f\",\"type\":\"HBar\"},\"selection_glyph\":null,\"view\":{\"id\":\"7bea84b3-25f4-4148-a1de-464a26c037ed\",\"type\":\"CDSView\"}},\"id\":\"7fb917b0-7054-47e9-928f-279999f1b598\",\"type\":\"GlyphRenderer\"},{\"attributes\":{\"fill_color\":{\"value\":\"#1f77b4\"},\"height\":{\"value\":0.1},\"left\":{\"field\":\"bottom_whisker\"},\"right\":{\"field\":\"bottom_whisker\"},\"y\":{\"field\":\"cat\"}},\"id\":\"cfce3445-1168-4d5b-abc5-b278b9f2c2a2\",\"type\":\"HBar\"},{\"attributes\":{\"callback\":null},\"id\":\"f3982179-71e2-481d-b92e-f8b2ec8274fe\",\"type\":\"DataRange1d\"},{\"attributes\":{},\"id\":\"4f3593b7-aada-45a4-afef-219f6d968fcc\",\"type\":\"CategoricalTickFormatter\"},{\"attributes\":{\"source\":{\"id\":\"3fd28135-62c7-459e-a0ae-7d715eb81559\",\"type\":\"ColumnDataSource\"}},\"id\":\"a12b38c2-e5eb-43eb-85c6-f97e806a0027\",\"type\":\"CDSView\"},{\"attributes\":{\"source\":{\"id\":\"3fd28135-62c7-459e-a0ae-7d715eb81559\",\"type\":\"ColumnDataSource\"}},\"id\":\"7bea84b3-25f4-4148-a1de-464a26c037ed\",\"type\":\"CDSView\"},{\"attributes\":{},\"id\":\"b49ccd86-baaf-4b25-a821-0edf46b0cab0\",\"type\":\"CategoricalScale\"},{\"attributes\":{\"callback\":null,\"factors\":[[\"juvenile\",\"IV\"],[\"juvenile\",\"III\"],[\"adult\",\"II\"],[\"adult\",\"I\"]]},\"id\":\"c2bd1eb5-1b3f-495b-823a-c71378423976\",\"type\":\"FactorRange\"},{\"attributes\":{\"fill_color\":{\"field\":\"cat\",\"transform\":{\"id\":\"5f018774-5315-4b9a-ad5d-d34106ae9e25\",\"type\":\"CategoricalColorMapper\"}},\"line_color\":{\"field\":\"cat\",\"transform\":{\"id\":\"d631a404-df0b-4e7b-8b61-61f65985b74d\",\"type\":\"CategoricalColorMapper\"}},\"x\":{\"field\":\"impact force (mN)\"},\"y\":{\"field\":\"cat\"}},\"id\":\"50a94c36-3022-4ffd-9bf2-03eeeced1fdc\",\"type\":\"Circle\"},{\"attributes\":{},\"id\":\"217198bc-df7c-4ee6-bfad-f35799b24aef\",\"type\":\"LinearScale\"},{\"attributes\":{\"fill_alpha\":{\"value\":0.1},\"fill_color\":{\"value\":\"#1f77b4\"},\"line_alpha\":{\"value\":0.1},\"line_color\":{\"value\":\"#1f77b4\"},\"x\":{\"field\":\"impact force (mN)\"},\"y\":{\"field\":\"cat\"}},\"id\":\"c10d6a70-5a08-4f06-9ce1-7c0b2e06e6de\",\"type\":\"Circle\"},{\"attributes\":{\"axis_label\":\"ID\",\"formatter\":{\"id\":\"4f3593b7-aada-45a4-afef-219f6d968fcc\",\"type\":\"CategoricalTickFormatter\"},\"plot\":{\"id\":\"b8d3b582-8026-4423-9442-d268c28f652f\",\"subtype\":\"Figure\",\"type\":\"Plot\"},\"ticker\":{\"id\":\"086e4602-7cbf-4551-b3fb-119825f661d9\",\"type\":\"CategoricalTicker\"}},\"id\":\"33b821b5-2d25-455b-b287-fc3922ae2097\",\"type\":\"CategoricalAxis\"},{\"attributes\":{\"data_source\":{\"id\":\"cc4b22fc-f1fc-4176-ba9c-bbd86c117d71\",\"type\":\"ColumnDataSource\"},\"glyph\":{\"id\":\"50a94c36-3022-4ffd-9bf2-03eeeced1fdc\",\"type\":\"Circle\"},\"hover_glyph\":null,\"muted_glyph\":null,\"nonselection_glyph\":{\"id\":\"c10d6a70-5a08-4f06-9ce1-7c0b2e06e6de\",\"type\":\"Circle\"},\"selection_glyph\":null,\"view\":{\"id\":\"664253e5-6c93-44f0-9818-19598714a570\",\"type\":\"CDSView\"}},\"id\":\"10b60150-f8e4-413d-ae01-c92273924fb6\",\"type\":\"GlyphRenderer\"},{\"attributes\":{},\"id\":\"264a74c2-95b1-4107-9ca0-da91f41260e2\",\"type\":\"UnionRenderers\"},{\"attributes\":{},\"id\":\"9a4b6fb6-1dd8-4ae7-be3e-4df4ce89fc11\",\"type\":\"BasicTicker\"},{\"attributes\":{\"source\":{\"id\":\"cc4b22fc-f1fc-4176-ba9c-bbd86c117d71\",\"type\":\"ColumnDataSource\"}},\"id\":\"664253e5-6c93-44f0-9818-19598714a570\",\"type\":\"CDSView\"},{\"attributes\":{},\"id\":\"6db48917-4b63-4152-846e-5d7c84b035f2\",\"type\":\"Selection\"},{\"attributes\":{},\"id\":\"086e4602-7cbf-4551-b3fb-119825f661d9\",\"type\":\"CategoricalTicker\"},{\"attributes\":{\"dimension\":1,\"grid_line_color\":{\"value\":null},\"plot\":{\"id\":\"b8d3b582-8026-4423-9442-d268c28f652f\",\"subtype\":\"Figure\",\"type\":\"Plot\"},\"ticker\":{\"id\":\"086e4602-7cbf-4551-b3fb-119825f661d9\",\"type\":\"CategoricalTicker\"}},\"id\":\"c2e0d1e1-f15a-46b3-8286-36e5ba28cb9c\",\"type\":\"Grid\"},{\"attributes\":{\"x0\":{\"field\":\"bottom\"},\"x1\":{\"field\":\"bottom_whisker\"},\"y0\":{\"field\":\"cat\"},\"y1\":{\"field\":\"cat\"}},\"id\":\"8d909de8-c6db-4f01-8863-0f20c92c3c11\",\"type\":\"Segment\"},{\"attributes\":{\"fill_color\":{\"field\":\"cat\",\"transform\":{\"id\":\"c0d0341e-9f7a-48c5-8919-7a303f009241\",\"type\":\"CategoricalColorMapper\"}},\"height\":{\"value\":0.4},\"left\":{\"field\":\"bottom\"},\"right\":{\"field\":\"top\"},\"y\":{\"field\":\"cat\"}},\"id\":\"645ffca3-e5e8-4e7d-b695-7c2e48f33c5b\",\"type\":\"HBar\"},{\"attributes\":{\"source\":{\"id\":\"3fd28135-62c7-459e-a0ae-7d715eb81559\",\"type\":\"ColumnDataSource\"}},\"id\":\"25337d67-b575-4861-832a-1ed25df18766\",\"type\":\"CDSView\"},{\"attributes\":{},\"id\":\"c1ad67dd-1fdf-4f14-a3d0-48747d61ab77\",\"type\":\"WheelZoomTool\"},{\"attributes\":{\"fill_alpha\":{\"value\":0.1},\"fill_color\":{\"value\":\"#1f77b4\"},\"height\":{\"value\":0.1},\"left\":{\"field\":\"top_whisker\"},\"line_alpha\":{\"value\":0.1},\"line_color\":{\"value\":\"#1f77b4\"},\"right\":{\"field\":\"top_whisker\"},\"y\":{\"field\":\"cat\"}},\"id\":\"b1fe4505-06be-4039-9ed8-46556943da68\",\"type\":\"HBar\"},{\"attributes\":{\"factors\":[[\"adult\",\"I\"],[\"adult\",\"II\"],[\"juvenile\",\"III\"],[\"juvenile\",\"IV\"]],\"palette\":[\"#4e79a7\",\"#f28e2b\",\"#e15759\",\"#76b7b2\",\"#59a14f\",\"#edc948\",\"#b07aa1\",\"#ff9da7\",\"#9c755f\",\"#bab0ac\"]},\"id\":\"c0d0341e-9f7a-48c5-8919-7a303f009241\",\"type\":\"CategoricalColorMapper\"},{\"attributes\":{},\"id\":\"334c44bd-bcd4-4f5f-b98c-c015d63f7859\",\"type\":\"PanTool\"},{\"attributes\":{\"overlay\":{\"id\":\"fc15465f-b17d-48da-a86a-1fb104ab4aec\",\"type\":\"BoxAnnotation\"}},\"id\":\"431fc731-05c2-45f3-a388-375e9e5cc465\",\"type\":\"BoxZoomTool\"},{\"attributes\":{},\"id\":\"8f16a339-9d28-4236-80ed-fc9a9b8eb237\",\"type\":\"SaveTool\"},{\"attributes\":{},\"id\":\"a8c42b02-640d-4d9f-be2e-adc05eca4f21\",\"type\":\"ResetTool\"},{\"attributes\":{},\"id\":\"1c05093e-8a9d-49e9-8b93-7629fc79de8c\",\"type\":\"HelpTool\"},{\"attributes\":{\"factors\":[[\"adult\",\"I\"],[\"adult\",\"II\"],[\"juvenile\",\"III\"],[\"juvenile\",\"IV\"]],\"palette\":[\"#4e79a7\",\"#f28e2b\",\"#e15759\",\"#76b7b2\",\"#59a14f\",\"#edc948\",\"#b07aa1\",\"#ff9da7\",\"#9c755f\",\"#bab0ac\"]},\"id\":\"5f018774-5315-4b9a-ad5d-d34106ae9e25\",\"type\":\"CategoricalColorMapper\"},{\"attributes\":{\"bottom_units\":\"screen\",\"fill_alpha\":{\"value\":0.5},\"fill_color\":{\"value\":\"lightgrey\"},\"left_units\":\"screen\",\"level\":\"overlay\",\"line_alpha\":{\"value\":1.0},\"line_color\":{\"value\":\"black\"},\"line_dash\":[4,4],\"line_width\":{\"value\":2},\"plot\":null,\"render_mode\":\"css\",\"right_units\":\"screen\",\"top_units\":\"screen\"},\"id\":\"fc15465f-b17d-48da-a86a-1fb104ab4aec\",\"type\":\"BoxAnnotation\"},{\"attributes\":{\"fill_alpha\":{\"value\":0.1},\"fill_color\":{\"value\":\"#1f77b4\"},\"height\":{\"value\":0.1},\"left\":{\"field\":\"bottom_whisker\"},\"line_alpha\":{\"value\":0.1},\"line_color\":{\"value\":\"#1f77b4\"},\"right\":{\"field\":\"bottom_whisker\"},\"y\":{\"field\":\"cat\"}},\"id\":\"9ad22129-1137-440c-bfec-d803baa29232\",\"type\":\"HBar\"},{\"attributes\":{\"data_source\":{\"id\":\"3fd28135-62c7-459e-a0ae-7d715eb81559\",\"type\":\"ColumnDataSource\"},\"glyph\":{\"id\":\"b103e445-15d2-4668-8006-841173e4e881\",\"type\":\"HBar\"},\"hover_glyph\":null,\"muted_glyph\":null,\"nonselection_glyph\":{\"id\":\"b1fe4505-06be-4039-9ed8-46556943da68\",\"type\":\"HBar\"},\"selection_glyph\":null,\"view\":{\"id\":\"a12b38c2-e5eb-43eb-85c6-f97e806a0027\",\"type\":\"CDSView\"}},\"id\":\"41fe49ed-61be-483a-bf0c-0a696b0cf979\",\"type\":\"GlyphRenderer\"},{\"attributes\":{\"data_source\":{\"id\":\"3fd28135-62c7-459e-a0ae-7d715eb81559\",\"type\":\"ColumnDataSource\"},\"glyph\":{\"id\":\"8d909de8-c6db-4f01-8863-0f20c92c3c11\",\"type\":\"Segment\"},\"hover_glyph\":null,\"muted_glyph\":null,\"nonselection_glyph\":{\"id\":\"d1a01c86-a288-4a46-86dd-63602a37bd83\",\"type\":\"Segment\"},\"selection_glyph\":null,\"view\":{\"id\":\"25337d67-b575-4861-832a-1ed25df18766\",\"type\":\"CDSView\"}},\"id\":\"33c51bb6-b367-4add-9901-234f80df5a0b\",\"type\":\"GlyphRenderer\"},{\"attributes\":{\"fill_color\":{\"value\":\"#1f77b4\"},\"height\":{\"value\":0.1},\"left\":{\"field\":\"top_whisker\"},\"right\":{\"field\":\"top_whisker\"},\"y\":{\"field\":\"cat\"}},\"id\":\"b103e445-15d2-4668-8006-841173e4e881\",\"type\":\"HBar\"},{\"attributes\":{\"source\":{\"id\":\"3fd28135-62c7-459e-a0ae-7d715eb81559\",\"type\":\"ColumnDataSource\"}},\"id\":\"25b0070a-a355-4504-b700-da29d33b0eba\",\"type\":\"CDSView\"},{\"attributes\":{\"callback\":null,\"data\":{\"ID\":[\"II\",\"II\",\"II\"],\"__label\":[\"adult, II\",\"adult, II\",\"adult, II\"],\"age\":[\"adult\",\"adult\",\"adult\"],\"cat\":[[\"adult\",\"II\"],[\"adult\",\"II\"],[\"adult\",\"II\"]],\"impact force (mN)\":[1612,1539,1453]},\"selected\":{\"id\":\"6db48917-4b63-4152-846e-5d7c84b035f2\",\"type\":\"Selection\"},\"selection_policy\":{\"id\":\"03cab303-4965-4fc2-ac71-e67dff7b073e\",\"type\":\"UnionRenderers\"}},\"id\":\"cc4b22fc-f1fc-4176-ba9c-bbd86c117d71\",\"type\":\"ColumnDataSource\"},{\"attributes\":{\"x0\":{\"field\":\"top\"},\"x1\":{\"field\":\"top_whisker\"},\"y0\":{\"field\":\"cat\"},\"y1\":{\"field\":\"cat\"}},\"id\":\"b4243ac5-e106-433f-b058-a7098560d4d4\",\"type\":\"Segment\"},{\"attributes\":{\"data_source\":{\"id\":\"3fd28135-62c7-459e-a0ae-7d715eb81559\",\"type\":\"ColumnDataSource\"},\"glyph\":{\"id\":\"645ffca3-e5e8-4e7d-b695-7c2e48f33c5b\",\"type\":\"HBar\"},\"hover_glyph\":null,\"muted_glyph\":null,\"nonselection_glyph\":{\"id\":\"9023a81a-26f5-414d-927e-3b2676c6c9ec\",\"type\":\"HBar\"},\"selection_glyph\":null,\"view\":{\"id\":\"ba953ad6-774e-4663-a8d0-f92bed8b43a2\",\"type\":\"CDSView\"}},\"id\":\"7b504505-6be1-4fe4-8cb8-cd82df20e060\",\"type\":\"GlyphRenderer\"},{\"attributes\":{\"fill_alpha\":{\"value\":0.1},\"fill_color\":{\"value\":\"#1f77b4\"},\"height\":{\"value\":0.4},\"left\":{\"field\":\"bottom\"},\"line_alpha\":{\"value\":0.1},\"line_color\":{\"value\":\"#1f77b4\"},\"right\":{\"field\":\"top\"},\"y\":{\"field\":\"cat\"}},\"id\":\"9023a81a-26f5-414d-927e-3b2676c6c9ec\",\"type\":\"HBar\"}],\"root_ids\":[\"b8d3b582-8026-4423-9442-d268c28f652f\"]},\"title\":\"Bokeh Application\",\"version\":\"0.13.0\"}};\n",
       "  var render_items = [{\"docid\":\"b1a9c025-f1cf-4499-82dc-a855ece5b6f2\",\"roots\":{\"b8d3b582-8026-4423-9442-d268c28f652f\":\"34da97fc-3189-4805-9c21-8855b492a06d\"}}];\n",
       "  root.Bokeh.embed.embed_items_notebook(docs_json, render_items);\n",
       "\n",
       "  }\n",
       "  if (root.Bokeh !== undefined) {\n",
       "    embed_document(root);\n",
       "  } else {\n",
       "    var attempts = 0;\n",
       "    var timer = setInterval(function(root) {\n",
       "      if (root.Bokeh !== undefined) {\n",
       "        embed_document(root);\n",
       "        clearInterval(timer);\n",
       "      }\n",
       "      attempts++;\n",
       "      if (attempts > 100) {\n",
       "        console.log(\"Bokeh: ERROR: Unable to run BokehJS code because BokehJS library is missing\")\n",
       "        clearInterval(timer);\n",
       "      }\n",
       "    }, 10, root)\n",
       "  }\n",
       "})(window);"
      ],
      "application/vnd.bokehjs_exec.v0+json": ""
     },
     "metadata": {
      "application/vnd.bokehjs_exec.v0+json": {
       "id": "b8d3b582-8026-4423-9442-d268c28f652f"
      }
     },
     "output_type": "display_data"
    }
   ],
   "source": [
    "p = bebi103.viz.box(data=df, \n",
    "                    cats=['age', 'ID'], \n",
    "                    val='impact force (mN)', \n",
    "                    p=None, \n",
    "                    horizontal=True, \n",
    "                    y_axis_label='ID', \n",
    "                    x_axis_label='impact force (mN)', \n",
    "                    title=None, \n",
    "                    plot_height=300, \n",
    "                    plot_width=400, \n",
    "                    palette=['#4e79a7', '#f28e2b', '#e15759', '#76b7b2', '#59a14f',\n",
    "                             '#edc948', '#b07aa1', '#ff9da7', '#9c755f', '#bab0ac'],\n",
    "                    width=0.4, \n",
    "                    order=None, \n",
    "                    val_axis_type='linear')\n",
    "bokeh.io.show(p) "
   ]
  },
  {
   "cell_type": "code",
   "execution_count": 64,
   "metadata": {},
   "outputs": [
    {
     "data": {
      "text/html": [
       "\n",
       "\n",
       "\n",
       "\n",
       "\n",
       "\n",
       "  <div class=\"bk-root\" id=\"6753ee35-dea2-4298-aa2c-b2b900946f05\"></div>\n"
      ]
     },
     "metadata": {},
     "output_type": "display_data"
    },
    {
     "data": {
      "application/javascript": [
       "(function(root) {\n",
       "  function embed_document(root) {\n",
       "    \n",
       "  var docs_json = {\"e2e85164-f60a-4ad2-b5ff-888951ab849f\":{\"roots\":{\"references\":[{\"attributes\":{\"data_source\":{\"id\":\"1ad6220d-1ad5-4c0d-a6b8-b3fea3c5c780\",\"type\":\"ColumnDataSource\"},\"glyph\":{\"id\":\"bdbf5587-d779-465d-806b-3bd971e4adb2\",\"type\":\"HBar\"},\"hover_glyph\":null,\"muted_glyph\":null,\"nonselection_glyph\":{\"id\":\"0a3a509e-1b29-4c29-a0b1-477ca5a33b20\",\"type\":\"HBar\"},\"selection_glyph\":null,\"view\":{\"id\":\"1f99520f-1e63-4767-ac7e-cc0d98baf0e2\",\"type\":\"CDSView\"}},\"id\":\"30bc5620-01e1-4a83-86e3-f9db3aba2e11\",\"type\":\"GlyphRenderer\"},{\"attributes\":{\"active_drag\":\"auto\",\"active_inspect\":\"auto\",\"active_multi\":null,\"active_scroll\":\"auto\",\"active_tap\":\"auto\",\"tools\":[{\"id\":\"1b2ca00b-49ca-40d4-afa0-866d8e8bb846\",\"type\":\"PanTool\"},{\"id\":\"68956a51-be9e-49f1-988c-d90dbae32c4a\",\"type\":\"WheelZoomTool\"},{\"id\":\"21e9b381-8bdb-4535-9348-90feed76d5bf\",\"type\":\"BoxZoomTool\"},{\"id\":\"61b3147b-818d-465a-84c8-c882cd1886a8\",\"type\":\"SaveTool\"},{\"id\":\"66ab8a9b-8d18-4082-8854-6e2b40710f94\",\"type\":\"ResetTool\"},{\"id\":\"c915ebd3-befc-4ead-9d53-14a726d6e0ef\",\"type\":\"HelpTool\"}]},\"id\":\"4462ef12-9f6d-46af-9296-826454e93674\",\"type\":\"Toolbar\"},{\"attributes\":{\"x0\":{\"field\":\"top\"},\"x1\":{\"field\":\"top_whisker\"},\"y0\":{\"field\":\"cat\"},\"y1\":{\"field\":\"cat\"}},\"id\":\"4bbf3690-7cbe-41a9-9b83-6a8f77a21f1a\",\"type\":\"Segment\"},{\"attributes\":{},\"id\":\"ebddcccc-797e-4cca-b4d5-ff4061659a55\",\"type\":\"Selection\"},{\"attributes\":{\"callback\":null},\"id\":\"46333660-65e8-44ba-8abb-b64e7f11e0b4\",\"type\":\"DataRange1d\"},{\"attributes\":{\"fill_color\":{\"field\":\"cat\",\"transform\":{\"id\":\"6740e5d8-e485-43ed-b7ec-81e96c4cf573\",\"type\":\"CategoricalColorMapper\"}},\"height\":{\"value\":0.4},\"left\":{\"field\":\"bottom\"},\"right\":{\"field\":\"top\"},\"y\":{\"field\":\"cat\"}},\"id\":\"7f7038c8-5024-47b3-b998-77518a24d612\",\"type\":\"HBar\"},{\"attributes\":{\"source\":{\"id\":\"1ad6220d-1ad5-4c0d-a6b8-b3fea3c5c780\",\"type\":\"ColumnDataSource\"}},\"id\":\"1f99520f-1e63-4767-ac7e-cc0d98baf0e2\",\"type\":\"CDSView\"},{\"attributes\":{\"x0\":{\"field\":\"bottom\"},\"x1\":{\"field\":\"bottom_whisker\"},\"y0\":{\"field\":\"cat\"},\"y1\":{\"field\":\"cat\"}},\"id\":\"86246eea-65f1-4a02-a267-a57892ca0406\",\"type\":\"Segment\"},{\"attributes\":{\"source\":{\"id\":\"1ad6220d-1ad5-4c0d-a6b8-b3fea3c5c780\",\"type\":\"ColumnDataSource\"}},\"id\":\"a9b754e5-9553-4b85-bba7-092dadda3d46\",\"type\":\"CDSView\"},{\"attributes\":{\"fill_alpha\":{\"value\":0.1},\"fill_color\":{\"value\":\"#1f77b4\"},\"height\":{\"value\":0.4},\"left\":{\"field\":\"bottom\"},\"line_alpha\":{\"value\":0.1},\"line_color\":{\"value\":\"#1f77b4\"},\"right\":{\"field\":\"top\"},\"y\":{\"field\":\"cat\"}},\"id\":\"b9e47a99-442a-41bf-9b78-e4db10098049\",\"type\":\"HBar\"},{\"attributes\":{},\"id\":\"64ea9110-d062-48d2-87c2-7c90e16119bf\",\"type\":\"CategoricalScale\"},{\"attributes\":{\"data_source\":{\"id\":\"1ad6220d-1ad5-4c0d-a6b8-b3fea3c5c780\",\"type\":\"ColumnDataSource\"},\"glyph\":{\"id\":\"7f7038c8-5024-47b3-b998-77518a24d612\",\"type\":\"HBar\"},\"hover_glyph\":null,\"muted_glyph\":null,\"nonselection_glyph\":{\"id\":\"b9e47a99-442a-41bf-9b78-e4db10098049\",\"type\":\"HBar\"},\"selection_glyph\":null,\"view\":{\"id\":\"05f4e89c-38ef-42a4-ae57-3a44dd6b1524\",\"type\":\"CDSView\"}},\"id\":\"b19e5935-7d7d-4029-9c23-34f6cf3cca7a\",\"type\":\"GlyphRenderer\"},{\"attributes\":{\"fill_color\":{\"field\":\"cat\",\"transform\":{\"id\":\"476711d3-b7cb-43e3-9032-6f21782519da\",\"type\":\"CategoricalColorMapper\"}},\"line_color\":{\"field\":\"cat\",\"transform\":{\"id\":\"b489c7e5-8582-4a52-8dd5-19913d4d9b31\",\"type\":\"CategoricalColorMapper\"}},\"x\":{\"field\":\"impact force (mN)\"},\"y\":{\"field\":\"cat\"}},\"id\":\"8947d211-1d20-49b5-888e-62b2a05bd870\",\"type\":\"Circle\"},{\"attributes\":{},\"id\":\"72a55ff6-ad67-4bd0-afe6-5e094c9b7835\",\"type\":\"LinearScale\"},{\"attributes\":{\"fill_alpha\":{\"value\":0.1},\"fill_color\":{\"value\":\"#1f77b4\"},\"height\":{\"value\":0.4},\"left\":{\"field\":\"middle\"},\"line_alpha\":{\"value\":0.1},\"line_color\":{\"value\":\"#1f77b4\"},\"right\":{\"field\":\"middle\"},\"y\":{\"field\":\"cat\"}},\"id\":\"0a3a509e-1b29-4c29-a0b1-477ca5a33b20\",\"type\":\"HBar\"},{\"attributes\":{},\"id\":\"5057185f-d4eb-4cee-a0d2-92b13d725185\",\"type\":\"UnionRenderers\"},{\"attributes\":{\"plot\":{\"id\":\"971b4701-87fe-4d88-8f82-9e8b15467fe7\",\"subtype\":\"Figure\",\"type\":\"Plot\"},\"ticker\":{\"id\":\"6f7603de-03d9-4b64-9ff3-5621d0da2fdb\",\"type\":\"BasicTicker\"}},\"id\":\"d12f84fb-b6ac-4e34-99c8-eb49602630b3\",\"type\":\"Grid\"},{\"attributes\":{\"axis_label\":\"impact force (mN)\",\"formatter\":{\"id\":\"3487dc28-ff13-4a01-bd9d-5533d901a554\",\"type\":\"BasicTickFormatter\"},\"plot\":{\"id\":\"971b4701-87fe-4d88-8f82-9e8b15467fe7\",\"subtype\":\"Figure\",\"type\":\"Plot\"},\"ticker\":{\"id\":\"6f7603de-03d9-4b64-9ff3-5621d0da2fdb\",\"type\":\"BasicTicker\"}},\"id\":\"2f371442-7190-4f5e-b41d-c7fcdec18398\",\"type\":\"LinearAxis\"},{\"attributes\":{\"fill_alpha\":{\"value\":0.1},\"fill_color\":{\"value\":\"#1f77b4\"},\"line_alpha\":{\"value\":0.1},\"line_color\":{\"value\":\"#1f77b4\"},\"x\":{\"field\":\"impact force (mN)\"},\"y\":{\"field\":\"cat\"}},\"id\":\"f54e92df-0121-4b2a-b2d9-9c02934ddd8f\",\"type\":\"Circle\"},{\"attributes\":{},\"id\":\"6f7603de-03d9-4b64-9ff3-5621d0da2fdb\",\"type\":\"BasicTicker\"},{\"attributes\":{\"axis_label\":\"ID\",\"formatter\":{\"id\":\"346041c8-3837-4f5e-bca4-612cec32e395\",\"type\":\"CategoricalTickFormatter\"},\"plot\":{\"id\":\"971b4701-87fe-4d88-8f82-9e8b15467fe7\",\"subtype\":\"Figure\",\"type\":\"Plot\"},\"ticker\":{\"id\":\"527596a0-31df-4af6-8fe8-2b8a55e49904\",\"type\":\"CategoricalTicker\"}},\"id\":\"13934d04-ef87-4b66-bf59-84a6ca40ddbe\",\"type\":\"CategoricalAxis\"},{\"attributes\":{},\"id\":\"527596a0-31df-4af6-8fe8-2b8a55e49904\",\"type\":\"CategoricalTicker\"},{\"attributes\":{\"dimension\":1,\"grid_line_color\":{\"value\":null},\"plot\":{\"id\":\"971b4701-87fe-4d88-8f82-9e8b15467fe7\",\"subtype\":\"Figure\",\"type\":\"Plot\"},\"ticker\":{\"id\":\"527596a0-31df-4af6-8fe8-2b8a55e49904\",\"type\":\"CategoricalTicker\"}},\"id\":\"1161768b-081d-41d9-907c-50b86d2697d4\",\"type\":\"Grid\"},{\"attributes\":{\"fill_color\":{\"field\":\"cat\",\"transform\":{\"id\":\"6740e5d8-e485-43ed-b7ec-81e96c4cf573\",\"type\":\"CategoricalColorMapper\"}},\"height\":{\"value\":0.4},\"left\":{\"field\":\"middle\"},\"right\":{\"field\":\"middle\"},\"y\":{\"field\":\"cat\"}},\"id\":\"bdbf5587-d779-465d-806b-3bd971e4adb2\",\"type\":\"HBar\"},{\"attributes\":{\"source\":{\"id\":\"1ad6220d-1ad5-4c0d-a6b8-b3fea3c5c780\",\"type\":\"ColumnDataSource\"}},\"id\":\"05f4e89c-38ef-42a4-ae57-3a44dd6b1524\",\"type\":\"CDSView\"},{\"attributes\":{\"fill_color\":{\"value\":\"#1f77b4\"},\"height\":{\"value\":0.1},\"left\":{\"field\":\"top_whisker\"},\"right\":{\"field\":\"top_whisker\"},\"y\":{\"field\":\"cat\"}},\"id\":\"72856a79-2e69-421e-9dc0-c1438717ab85\",\"type\":\"HBar\"},{\"attributes\":{},\"id\":\"1b2ca00b-49ca-40d4-afa0-866d8e8bb846\",\"type\":\"PanTool\"},{\"attributes\":{\"source\":{\"id\":\"1ad6220d-1ad5-4c0d-a6b8-b3fea3c5c780\",\"type\":\"ColumnDataSource\"}},\"id\":\"3b2f3afc-a3e5-4939-959b-fcdb6027f574\",\"type\":\"CDSView\"},{\"attributes\":{\"data_source\":{\"id\":\"1ad6220d-1ad5-4c0d-a6b8-b3fea3c5c780\",\"type\":\"ColumnDataSource\"},\"glyph\":{\"id\":\"86246eea-65f1-4a02-a267-a57892ca0406\",\"type\":\"Segment\"},\"hover_glyph\":null,\"muted_glyph\":null,\"nonselection_glyph\":{\"id\":\"7b42fc2e-07ed-44fc-a4fb-ec5437062b3d\",\"type\":\"Segment\"},\"selection_glyph\":null,\"view\":{\"id\":\"30d809bc-3452-4fd8-9e88-d1853b2664fb\",\"type\":\"CDSView\"}},\"id\":\"605c9e69-0685-40ec-ba83-0a622613c8cf\",\"type\":\"GlyphRenderer\"},{\"attributes\":{},\"id\":\"61b3147b-818d-465a-84c8-c882cd1886a8\",\"type\":\"SaveTool\"},{\"attributes\":{\"factors\":[[\"adult\",\"I\",\"63\"],[\"adult\",\"II\",\"70\"],[\"juvenile\",\"III\",\"28\"],[\"juvenile\",\"IV\",\"31\"]],\"palette\":[\"#4e79a7\",\"#f28e2b\",\"#e15759\",\"#76b7b2\",\"#59a14f\",\"#edc948\",\"#b07aa1\",\"#ff9da7\",\"#9c755f\",\"#bab0ac\"]},\"id\":\"476711d3-b7cb-43e3-9032-6f21782519da\",\"type\":\"CategoricalColorMapper\"},{\"attributes\":{},\"id\":\"66ab8a9b-8d18-4082-8854-6e2b40710f94\",\"type\":\"ResetTool\"},{\"attributes\":{},\"id\":\"346041c8-3837-4f5e-bca4-612cec32e395\",\"type\":\"CategoricalTickFormatter\"},{\"attributes\":{\"below\":[{\"id\":\"2f371442-7190-4f5e-b41d-c7fcdec18398\",\"type\":\"LinearAxis\"}],\"left\":[{\"id\":\"13934d04-ef87-4b66-bf59-84a6ca40ddbe\",\"type\":\"CategoricalAxis\"}],\"plot_height\":300,\"plot_width\":400,\"renderers\":[{\"id\":\"2f371442-7190-4f5e-b41d-c7fcdec18398\",\"type\":\"LinearAxis\"},{\"id\":\"d12f84fb-b6ac-4e34-99c8-eb49602630b3\",\"type\":\"Grid\"},{\"id\":\"13934d04-ef87-4b66-bf59-84a6ca40ddbe\",\"type\":\"CategoricalAxis\"},{\"id\":\"1161768b-081d-41d9-907c-50b86d2697d4\",\"type\":\"Grid\"},{\"id\":\"6a03d56e-67a4-4c0e-8bb1-6b1227eee624\",\"type\":\"BoxAnnotation\"},{\"id\":\"d7765555-e24c-4834-981d-1e0efdc5435e\",\"type\":\"GlyphRenderer\"},{\"id\":\"605c9e69-0685-40ec-ba83-0a622613c8cf\",\"type\":\"GlyphRenderer\"},{\"id\":\"ff277d48-c2a8-4755-ad97-ae3acdebe1a6\",\"type\":\"GlyphRenderer\"},{\"id\":\"c7d6bd85-e50b-4970-b91a-c3e677f3077f\",\"type\":\"GlyphRenderer\"},{\"id\":\"b19e5935-7d7d-4029-9c23-34f6cf3cca7a\",\"type\":\"GlyphRenderer\"},{\"id\":\"30bc5620-01e1-4a83-86e3-f9db3aba2e11\",\"type\":\"GlyphRenderer\"},{\"id\":\"dba0fd3a-7105-4e9b-81fe-49f41f16e5c9\",\"type\":\"GlyphRenderer\"}],\"title\":null,\"toolbar\":{\"id\":\"4462ef12-9f6d-46af-9296-826454e93674\",\"type\":\"Toolbar\"},\"x_range\":{\"id\":\"46333660-65e8-44ba-8abb-b64e7f11e0b4\",\"type\":\"DataRange1d\"},\"x_scale\":{\"id\":\"72a55ff6-ad67-4bd0-afe6-5e094c9b7835\",\"type\":\"LinearScale\"},\"y_range\":{\"id\":\"c0b9824a-17fe-4550-b03a-7169f03d4432\",\"type\":\"FactorRange\"},\"y_scale\":{\"id\":\"64ea9110-d062-48d2-87c2-7c90e16119bf\",\"type\":\"CategoricalScale\"}},\"id\":\"971b4701-87fe-4d88-8f82-9e8b15467fe7\",\"subtype\":\"Figure\",\"type\":\"Plot\"},{\"attributes\":{},\"id\":\"c915ebd3-befc-4ead-9d53-14a726d6e0ef\",\"type\":\"HelpTool\"},{\"attributes\":{},\"id\":\"f315ac68-0b8e-4975-a0d8-52fc4a9e812e\",\"type\":\"Selection\"},{\"attributes\":{\"bottom_units\":\"screen\",\"fill_alpha\":{\"value\":0.5},\"fill_color\":{\"value\":\"lightgrey\"},\"left_units\":\"screen\",\"level\":\"overlay\",\"line_alpha\":{\"value\":1.0},\"line_color\":{\"value\":\"black\"},\"line_dash\":[4,4],\"line_width\":{\"value\":2},\"plot\":null,\"render_mode\":\"css\",\"right_units\":\"screen\",\"top_units\":\"screen\"},\"id\":\"6a03d56e-67a4-4c0e-8bb1-6b1227eee624\",\"type\":\"BoxAnnotation\"},{\"attributes\":{\"data_source\":{\"id\":\"57ba3de9-5ea6-4c2c-9722-be712c743eaf\",\"type\":\"ColumnDataSource\"},\"glyph\":{\"id\":\"8947d211-1d20-49b5-888e-62b2a05bd870\",\"type\":\"Circle\"},\"hover_glyph\":null,\"muted_glyph\":null,\"nonselection_glyph\":{\"id\":\"f54e92df-0121-4b2a-b2d9-9c02934ddd8f\",\"type\":\"Circle\"},\"selection_glyph\":null,\"view\":{\"id\":\"2352d278-e8fd-4dea-a935-85d04579c677\",\"type\":\"CDSView\"}},\"id\":\"dba0fd3a-7105-4e9b-81fe-49f41f16e5c9\",\"type\":\"GlyphRenderer\"},{\"attributes\":{\"fill_alpha\":{\"value\":0.1},\"fill_color\":{\"value\":\"#1f77b4\"},\"height\":{\"value\":0.1},\"left\":{\"field\":\"top_whisker\"},\"line_alpha\":{\"value\":0.1},\"line_color\":{\"value\":\"#1f77b4\"},\"right\":{\"field\":\"top_whisker\"},\"y\":{\"field\":\"cat\"}},\"id\":\"c4086f7f-318f-4462-9dfd-066ae804e0c1\",\"type\":\"HBar\"},{\"attributes\":{\"source\":{\"id\":\"57ba3de9-5ea6-4c2c-9722-be712c743eaf\",\"type\":\"ColumnDataSource\"}},\"id\":\"2352d278-e8fd-4dea-a935-85d04579c677\",\"type\":\"CDSView\"},{\"attributes\":{\"line_alpha\":{\"value\":0.1},\"line_color\":{\"value\":\"#1f77b4\"},\"x0\":{\"field\":\"bottom\"},\"x1\":{\"field\":\"bottom_whisker\"},\"y0\":{\"field\":\"cat\"},\"y1\":{\"field\":\"cat\"}},\"id\":\"7b42fc2e-07ed-44fc-a4fb-ec5437062b3d\",\"type\":\"Segment\"},{\"attributes\":{},\"id\":\"3487dc28-ff13-4a01-bd9d-5533d901a554\",\"type\":\"BasicTickFormatter\"},{\"attributes\":{\"source\":{\"id\":\"1ad6220d-1ad5-4c0d-a6b8-b3fea3c5c780\",\"type\":\"ColumnDataSource\"}},\"id\":\"30d809bc-3452-4fd8-9e88-d1853b2664fb\",\"type\":\"CDSView\"},{\"attributes\":{},\"id\":\"68956a51-be9e-49f1-988c-d90dbae32c4a\",\"type\":\"WheelZoomTool\"},{\"attributes\":{\"data_source\":{\"id\":\"1ad6220d-1ad5-4c0d-a6b8-b3fea3c5c780\",\"type\":\"ColumnDataSource\"},\"glyph\":{\"id\":\"72856a79-2e69-421e-9dc0-c1438717ab85\",\"type\":\"HBar\"},\"hover_glyph\":null,\"muted_glyph\":null,\"nonselection_glyph\":{\"id\":\"c4086f7f-318f-4462-9dfd-066ae804e0c1\",\"type\":\"HBar\"},\"selection_glyph\":null,\"view\":{\"id\":\"a9b754e5-9553-4b85-bba7-092dadda3d46\",\"type\":\"CDSView\"}},\"id\":\"ff277d48-c2a8-4755-ad97-ae3acdebe1a6\",\"type\":\"GlyphRenderer\"},{\"attributes\":{\"callback\":null,\"data\":{\"ID\":[\"II\",\"II\",\"II\"],\"SVL (mm)\":[70,70,70],\"__label\":[\"adult, II, 70\",\"adult, II, 70\",\"adult, II, 70\"],\"age\":[\"adult\",\"adult\",\"adult\"],\"cat\":[[\"adult\",\"II\",\"70\"],[\"adult\",\"II\",\"70\"],[\"adult\",\"II\",\"70\"]],\"impact force (mN)\":[1612,1539,1453]},\"selected\":{\"id\":\"ebddcccc-797e-4cca-b4d5-ff4061659a55\",\"type\":\"Selection\"},\"selection_policy\":{\"id\":\"5057185f-d4eb-4cee-a0d2-92b13d725185\",\"type\":\"UnionRenderers\"}},\"id\":\"57ba3de9-5ea6-4c2c-9722-be712c743eaf\",\"type\":\"ColumnDataSource\"},{\"attributes\":{\"overlay\":{\"id\":\"6a03d56e-67a4-4c0e-8bb1-6b1227eee624\",\"type\":\"BoxAnnotation\"}},\"id\":\"21e9b381-8bdb-4535-9348-90feed76d5bf\",\"type\":\"BoxZoomTool\"},{\"attributes\":{\"data_source\":{\"id\":\"1ad6220d-1ad5-4c0d-a6b8-b3fea3c5c780\",\"type\":\"ColumnDataSource\"},\"glyph\":{\"id\":\"4bbf3690-7cbe-41a9-9b83-6a8f77a21f1a\",\"type\":\"Segment\"},\"hover_glyph\":null,\"muted_glyph\":null,\"nonselection_glyph\":{\"id\":\"e4bd8c62-aec9-416a-ae53-802dde80f8de\",\"type\":\"Segment\"},\"selection_glyph\":null,\"view\":{\"id\":\"586ae45e-b4cd-4b80-8afb-39a09283790b\",\"type\":\"CDSView\"}},\"id\":\"d7765555-e24c-4834-981d-1e0efdc5435e\",\"type\":\"GlyphRenderer\"},{\"attributes\":{\"factors\":[[\"adult\",\"I\",\"63\"],[\"adult\",\"II\",\"70\"],[\"juvenile\",\"III\",\"28\"],[\"juvenile\",\"IV\",\"31\"]],\"palette\":[\"#4e79a7\",\"#f28e2b\",\"#e15759\",\"#76b7b2\",\"#59a14f\",\"#edc948\",\"#b07aa1\",\"#ff9da7\",\"#9c755f\",\"#bab0ac\"]},\"id\":\"6740e5d8-e485-43ed-b7ec-81e96c4cf573\",\"type\":\"CategoricalColorMapper\"},{\"attributes\":{},\"id\":\"11843b2f-4b34-4c46-875c-f5c4471eae09\",\"type\":\"UnionRenderers\"},{\"attributes\":{\"factors\":[[\"adult\",\"I\",\"63\"],[\"adult\",\"II\",\"70\"],[\"juvenile\",\"III\",\"28\"],[\"juvenile\",\"IV\",\"31\"]],\"palette\":[\"#4e79a7\",\"#f28e2b\",\"#e15759\",\"#76b7b2\",\"#59a14f\",\"#edc948\",\"#b07aa1\",\"#ff9da7\",\"#9c755f\",\"#bab0ac\"]},\"id\":\"b489c7e5-8582-4a52-8dd5-19913d4d9b31\",\"type\":\"CategoricalColorMapper\"},{\"attributes\":{\"fill_color\":{\"value\":\"#1f77b4\"},\"height\":{\"value\":0.1},\"left\":{\"field\":\"bottom_whisker\"},\"right\":{\"field\":\"bottom_whisker\"},\"y\":{\"field\":\"cat\"}},\"id\":\"658bd20c-3d4d-4529-92a6-ad4888b2ff34\",\"type\":\"HBar\"},{\"attributes\":{\"fill_alpha\":{\"value\":0.1},\"fill_color\":{\"value\":\"#1f77b4\"},\"height\":{\"value\":0.1},\"left\":{\"field\":\"bottom_whisker\"},\"line_alpha\":{\"value\":0.1},\"line_color\":{\"value\":\"#1f77b4\"},\"right\":{\"field\":\"bottom_whisker\"},\"y\":{\"field\":\"cat\"}},\"id\":\"ccc1f4ba-8acd-426f-88d3-82547297175f\",\"type\":\"HBar\"},{\"attributes\":{\"callback\":null,\"data\":{\"__label\":[\"adult, I, 63\",\"adult, II, 70\",\"juvenile, III, 28\",\"juvenile, IV, 31\"],\"bottom\":[1231.25,422.0,458.75,198.0],\"bottom_whisker\":[473.0,245.0,324.0,22.0],\"cat\":[[\"adult\",\"I\",\"63\"],[\"adult\",\"II\",\"70\"],[\"juvenile\",\"III\",\"28\"],[\"juvenile\",\"IV\",\"31\"]],\"middle\":[1550.5,573.0,544.0,460.5],\"top\":[1904.75,799.75,615.75,599.0],\"top_whisker\":[2641.0,1366.375,806.0,815.0]},\"selected\":{\"id\":\"f315ac68-0b8e-4975-a0d8-52fc4a9e812e\",\"type\":\"Selection\"},\"selection_policy\":{\"id\":\"11843b2f-4b34-4c46-875c-f5c4471eae09\",\"type\":\"UnionRenderers\"}},\"id\":\"1ad6220d-1ad5-4c0d-a6b8-b3fea3c5c780\",\"type\":\"ColumnDataSource\"},{\"attributes\":{\"callback\":null,\"factors\":[[\"juvenile\",\"IV\",\"31\"],[\"juvenile\",\"III\",\"28\"],[\"adult\",\"II\",\"70\"],[\"adult\",\"I\",\"63\"]]},\"id\":\"c0b9824a-17fe-4550-b03a-7169f03d4432\",\"type\":\"FactorRange\"},{\"attributes\":{\"data_source\":{\"id\":\"1ad6220d-1ad5-4c0d-a6b8-b3fea3c5c780\",\"type\":\"ColumnDataSource\"},\"glyph\":{\"id\":\"658bd20c-3d4d-4529-92a6-ad4888b2ff34\",\"type\":\"HBar\"},\"hover_glyph\":null,\"muted_glyph\":null,\"nonselection_glyph\":{\"id\":\"ccc1f4ba-8acd-426f-88d3-82547297175f\",\"type\":\"HBar\"},\"selection_glyph\":null,\"view\":{\"id\":\"3b2f3afc-a3e5-4939-959b-fcdb6027f574\",\"type\":\"CDSView\"}},\"id\":\"c7d6bd85-e50b-4970-b91a-c3e677f3077f\",\"type\":\"GlyphRenderer\"},{\"attributes\":{\"line_alpha\":{\"value\":0.1},\"line_color\":{\"value\":\"#1f77b4\"},\"x0\":{\"field\":\"top\"},\"x1\":{\"field\":\"top_whisker\"},\"y0\":{\"field\":\"cat\"},\"y1\":{\"field\":\"cat\"}},\"id\":\"e4bd8c62-aec9-416a-ae53-802dde80f8de\",\"type\":\"Segment\"},{\"attributes\":{\"source\":{\"id\":\"1ad6220d-1ad5-4c0d-a6b8-b3fea3c5c780\",\"type\":\"ColumnDataSource\"}},\"id\":\"586ae45e-b4cd-4b80-8afb-39a09283790b\",\"type\":\"CDSView\"}],\"root_ids\":[\"971b4701-87fe-4d88-8f82-9e8b15467fe7\"]},\"title\":\"Bokeh Application\",\"version\":\"0.13.0\"}};\n",
       "  var render_items = [{\"docid\":\"e2e85164-f60a-4ad2-b5ff-888951ab849f\",\"roots\":{\"971b4701-87fe-4d88-8f82-9e8b15467fe7\":\"6753ee35-dea2-4298-aa2c-b2b900946f05\"}}];\n",
       "  root.Bokeh.embed.embed_items_notebook(docs_json, render_items);\n",
       "\n",
       "  }\n",
       "  if (root.Bokeh !== undefined) {\n",
       "    embed_document(root);\n",
       "  } else {\n",
       "    var attempts = 0;\n",
       "    var timer = setInterval(function(root) {\n",
       "      if (root.Bokeh !== undefined) {\n",
       "        embed_document(root);\n",
       "        clearInterval(timer);\n",
       "      }\n",
       "      attempts++;\n",
       "      if (attempts > 100) {\n",
       "        console.log(\"Bokeh: ERROR: Unable to run BokehJS code because BokehJS library is missing\")\n",
       "        clearInterval(timer);\n",
       "      }\n",
       "    }, 10, root)\n",
       "  }\n",
       "})(window);"
      ],
      "application/vnd.bokehjs_exec.v0+json": ""
     },
     "metadata": {
      "application/vnd.bokehjs_exec.v0+json": {
       "id": "971b4701-87fe-4d88-8f82-9e8b15467fe7"
      }
     },
     "output_type": "display_data"
    }
   ],
   "source": [
    "p = bebi103.viz.box(data=df, \n",
    "                    cats=['age', 'ID', 'SVL (mm)'], \n",
    "                    val='impact force (mN)', \n",
    "                    p=None, \n",
    "                    horizontal=True, \n",
    "                    y_axis_label='ID', \n",
    "                    x_axis_label='impact force (mN)', \n",
    "                    title=None, \n",
    "                    plot_height=300, \n",
    "                    plot_width=400, \n",
    "                    palette=['#4e79a7', '#f28e2b', '#e15759', '#76b7b2', '#59a14f',\n",
    "                             '#edc948', '#b07aa1', '#ff9da7', '#9c755f', '#bab0ac'],\n",
    "                    width=0.4, \n",
    "                    order=None, \n",
    "                    val_axis_type='linear')\n",
    "bokeh.io.show(p) "
   ]
  }
 ],
 "metadata": {
  "kernelspec": {
   "display_name": "Python 3",
   "language": "python",
   "name": "python3"
  },
  "language_info": {
   "codemirror_mode": {
    "name": "ipython",
    "version": 3
   },
   "file_extension": ".py",
   "mimetype": "text/x-python",
   "name": "python",
   "nbconvert_exporter": "python",
   "pygments_lexer": "ipython3",
   "version": "3.7.0"
  }
 },
 "nbformat": 4,
 "nbformat_minor": 2
}
