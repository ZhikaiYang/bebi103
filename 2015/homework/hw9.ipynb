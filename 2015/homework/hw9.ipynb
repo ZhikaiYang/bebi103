{
 "cells": [
  {
   "cell_type": "markdown",
   "metadata": {},
   "source": [
    "# BE/Bi 103, Fall 2015: Homework 9\n",
    "## Due 1pm, Friday, December 11\n",
    "\n",
    "*This document was generated from a Jupyter notebook.  You can download the notebook [here](hw9.ipynb).*"
   ]
  },
  {
   "cell_type": "markdown",
   "metadata": {},
   "source": [
    "This homework is to be done individually, not in groups.  You do not need to use a Jupyter notebook to do the problem.  Instead, you should submit your responses either as a PDF or just as text in an email.  Do not submit a MS Word document.  Please email your responses to `bebi103 at caltech dot edu` **and** to `bois at caltech dot edu`.\n",
    "\n",
    "A total of 20 points will be awarded for thoughtful responses for this homework.  I am not expecting a paragraph for each question, but if you have detailed comments on something you have a strong or insightful opinion about, I would like to hear them."
   ]
  },
  {
   "cell_type": "markdown",
   "metadata": {},
   "source": [
    "### Problem 9.1: Topical coverage\n",
    "**a)** Are there topics you would like covered that were not?\n",
    "\n",
    "**b)** Were there topics you think we spent too much time on?\n",
    "\n",
    "**c)** Which topics did you find most interesting?\n",
    "\n",
    "**d)** Which did you find most pertinent?\n",
    "\n",
    "**e)** Were there topics you think would benefit from a slower treatment?"
   ]
  },
  {
   "cell_type": "markdown",
   "metadata": {},
   "source": [
    "<br />"
   ]
  },
  {
   "cell_type": "markdown",
   "metadata": {},
   "source": [
    "### Problem 9.2: Data sets\n",
    "\n",
    "**a)** Which data sets did you find most enjoyable to work with?\n",
    "\n",
    "**b)** Which were you less enthused about?\n",
    "\n",
    "**c)** Did you like that we kept revisiting data sets throughout the term?  (We can always do less of that, but we can do even more of that.  E.g., we can do image processing on the Singer, et al., mRNA FISH images.)"
   ]
  },
  {
   "cell_type": "markdown",
   "metadata": {},
   "source": [
    "<br />"
   ]
  },
  {
   "cell_type": "markdown",
   "metadata": {},
   "source": [
    "### Problem 9.3: Course structure\n",
    "**a)** Did you like that homework was done in groups?  Do you have suggestions on how to better set this up?\n",
    "\n",
    "**b)** Did you find the recitations useful?  Do you have general suggestions for that?\n",
    "\n",
    "**c)** Do you have suggestions on how to improve the tutorial sessions?  (See also related question, below.)\n",
    "\n",
    "**d)** What are your opinions on Piazza?"
   ]
  },
  {
   "cell_type": "markdown",
   "metadata": {},
   "source": [
    "<br />"
   ]
  },
  {
   "cell_type": "markdown",
   "metadata": {},
   "source": [
    "### Problem 9.4: Ideas for next year\n",
    "The TAs and I have been thinking about how to improve the course for next year.  I would like to run a few ideas by you.\n",
    "\n",
    "**a)** Would you like to have an individual final project, perhaps based on your own research.  This would be in lieu of one or two homeworks.\n",
    "\n",
    "**b)** I am considering the following format change.\n",
    "\n",
    ">The course will feature two lectures per week that cover the theory (and some basic programming stuff for the first two weeks of the term).  The (required) three-hour sessions will involve working on homework problems with the help of TAs and me.  The homework will then be due one week after the three-hour session.  Tutorials that contain all the material necessary to do the homework will be available a week before the three-hour session.  \n",
    "\n",
    "What are your thoughts on this idea?\n",
    "\n",
    "**c)** Do you have suggestions on how to improve the format?"
   ]
  },
  {
   "cell_type": "markdown",
   "metadata": {},
   "source": [
    "<br />"
   ]
  },
  {
   "cell_type": "markdown",
   "metadata": {},
   "source": [
    "### Problem 9.5: The future\n",
    "Would you be interested in a second term?  If so, what topics would you like to see covered?  Bear in mind that if we did do a second term, as would probably slow down the first term a bit as well."
   ]
  },
  {
   "cell_type": "markdown",
   "metadata": {},
   "source": [
    "<br />"
   ]
  },
  {
   "cell_type": "markdown",
   "metadata": {},
   "source": [
    "### Problem 9.6: Miscellany\n",
    "Please include any comments you have that I have not asked about."
   ]
  }
 ],
 "metadata": {
  "kernelspec": {
   "display_name": "Python 3",
   "language": "python",
   "name": "python3"
  },
  "language_info": {
   "codemirror_mode": {
    "name": "ipython",
    "version": 3
   },
   "file_extension": ".py",
   "mimetype": "text/x-python",
   "name": "python",
   "nbconvert_exporter": "python",
   "pygments_lexer": "ipython3",
   "version": "3.4.3"
  }
 },
 "nbformat": 4,
 "nbformat_minor": 0
}
