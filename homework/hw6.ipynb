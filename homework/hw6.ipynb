{
 "metadata": {
  "name": "",
  "signature": "sha256:bf158a12d1a684929124475e99cf1ff8d112c4aa792cae6383f7224337c80dd7"
 },
 "nbformat": 3,
 "nbformat_minor": 0,
 "worksheets": [
  {
   "cells": [
    {
     "cell_type": "markdown",
     "metadata": {},
     "source": [
      "BE/Bi 103, Fall 2014: Homework 6\n",
      "================================\n",
      "Due 1pm, Monday, November 24\n",
      "---------------------------"
     ]
    },
    {
     "cell_type": "markdown",
     "metadata": {},
     "source": [
      "*This document was generated from an IPython notebook.  You can download the notebook [here](hw6.ipynb).*"
     ]
    },
    {
     "cell_type": "heading",
     "level": 3,
     "metadata": {},
     "source": [
      "Problem 6.1 (FRAP analysis, 40 pts)"
     ]
    },
    {
     "cell_type": "markdown",
     "metadata": {},
     "source": [
      "Using [Tutorial 6](http://bebi103.caltech.edu/2014/tutorials/t6b_frap.html) as a reference, compute $k_\\mathrm{off}$ and $D$ for the GFP fusion of PH-PLC$\\delta$1 for all eight trials in the directory `goehring_FRAP_data` from the data set you downloaded via Dropbox for Tutorial 6.  Report your final estimate for these parameters (with error bars) considering all trials."
     ]
    },
    {
     "cell_type": "markdown",
     "metadata": {},
     "source": [
      "<br />\n",
      "<br />"
     ]
    },
    {
     "cell_type": "heading",
     "level": 3,
     "metadata": {},
     "source": [
      "Problem 6.2 ($\\sigma$ factor activity, 60 pts)"
     ]
    },
    {
     "cell_type": "markdown",
     "metadata": {},
     "source": [
      "In this problem, we will fully work up the data we studied in [Tutorial 7b](http://bebi103.caltech.edu/2014/protected/tutorials/t7b_segmentation.html).  You downloaded the data via Dropbox.  We will consider all images starting with `snaps001`, `snaps002`, and `snaps003`.  Be sure to read the `README.pdf` file from Jin Park describing the data set.\n",
      "\n",
      "**a)** Segment all images using the RFP channel, and then compute the mean intensity of each bacterium in the CFP and YFP channels. Show a representative segmentation (one each for the `001`, `002`, and `003` sets) by overlaying your binary segemented image on a phase image.\n",
      "\n",
      "**b)** As discussed in class, we are not entirely sure of how to analyze the correlation or lack thereof of the two different $\\sigma$ factors.  Generate plots that you think may be useful and/or develop metrics for correlation among the samples.  This question is very open-ended and is your chance to experience thinking about real results with the members of your group."
     ]
    }
   ],
   "metadata": {}
  }
 ]
}