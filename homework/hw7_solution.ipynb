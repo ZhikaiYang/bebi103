{
 "cells": [
  {
   "cell_type": "markdown",
   "metadata": {},
   "source": [
    "BE/Bi 103, Fall 2014: Homework 7\n",
    "================================\n",
    "Due 1pm, Monday, December 8\n",
    "---------------------------"
   ]
  },
  {
   "cell_type": "markdown",
   "metadata": {},
   "source": [
    "*This document was generated from an IPython notebook.  You can download the notebook [here](hw7.ipynb).*"
   ]
  },
  {
   "cell_type": "code",
   "execution_count": 49,
   "metadata": {
    "collapsed": false
   },
   "outputs": [],
   "source": [
    "# As usual, import modules\n",
    "from __future__ import division, absolute_import, print_function\n",
    "\n",
    "import os\n",
    "    \n",
    "import numpy as np\n",
    "import scipy.optimize\n",
    "import scipy.stats\n",
    "import matplotlib.pyplot as plt\n",
    "import matplotlib.cm as cm\n",
    "import pandas as pd\n",
    "\n",
    "import scipy.ndimage\n",
    "import skimage.io\n",
    "import skimage.filter\n",
    "import skimage.morphology\n",
    "import skimage.segmentation\n",
    "\n",
    "import seaborn as sns\n",
    "sns.set()\n",
    "\n",
    "# Utilities from JB\n",
    "import jb_utils as jb\n",
    "\n",
    "# Necessary to display plots in this IPython notebook\n",
    "%matplotlib inline    "
   ]
  },
  {
   "cell_type": "markdown",
   "metadata": {},
   "source": [
    "### Problem 7.1 (Caulobacter growth, 60 pts)"
   ]
  },
  {
   "cell_type": "markdown",
   "metadata": {},
   "source": [
    "In this problem, we will study the growth and division of *Caulobacter crescentus* over time.  The lab of [Norbert Scherer](http://schererlab.uchicago.edu) at the University of Chicago acquired these data and recently published the work in PNAS, which you can download [here](http://bebi103.caltech.edu/2014/protected/papers/iyer-biswas_2014.pdf).\n",
    "\n",
    "The clever experimental set-up allows imaging of single dividing cells in conditions that are identical through time.  This is accomplished by taking advantage of a unique morphological feature of *Caulobacter*.  The mother cell is adherent to the a surface through its stalk.  Upon division, one of the daughter cells does not have a stalk and is mobile.  The system is part of a microfluidic device that gives a constant flow.  So, every time a mother cell divides, the un-stalked daughter cell gets washed away.  In such a way, the dividing cells are never in a crowded environment and the buffer is always fresh.  This also allows for easier segmentation.\n",
    "\n",
    "The data were sent to you via Dropbox.  They were kindly provided by Charlie Wright in the Scherer lab.  The frame rate is 1 frame per minute.  The interpixel spacing is 0.052 µm.  All images were acquired at 24 $^\\circ$C.\n",
    "\n",
    "As with any of the problems in this class, you are encouraged to explore the data beyond what is asked for specifically in the problems statements.  The paper is also a very interesting read.\n",
    "\n",
    "**a)** The directory `sequential_full_field` contains 10 sequential frames of a full field of bacteria in the microfluidic device.  From these frames, choose which bacteria would be good to use to gather long time course imaging.  I.e., choose those that you think will give minimal errors in segmentation.  Give your reasoning, including images demonstrating segmentation.\n",
    "\n",
    "**b)** The files `bacterium_1.tif` and `bacterium_2.tif` are TIFF stacks of time courses for specific cells in from the full field images.  From these time courses, compute the time scale of division of the cells.  In other words, compute the time between divisions for each division for each cell and plot the results.  Comment on any interesting aspects of these data.\n",
    "\n",
    "**c)** In their paper, the authors argue that the growth rate of the cell is exponential.  I.e.,\n",
    "\n",
    "\\begin{align}\n",
    "a(t) = a_0 \\mathrm{e}^{\\kappa t},\n",
    "\\end{align}\n",
    "\n",
    "where $a(t)$ is the area of the cell in the image as a function of time and $a_0$ is the area of the cell right after a division has been completed, which we mark as $t = 0$.\n",
    "\n",
    "As an alternative model, the authors consider a linear growth model, in which\n",
    "\n",
    "\\begin{align}\n",
    "a(t) = a_0 + b t.\n",
    "\\end{align}\n",
    "\n",
    "An exponential curve is approximately linear (with $b = a_0\\kappa$) for short time scales.  So, it is often difficult to distinguish between a linear and an exponential growth rate.  Use the model selection methods we learned in class to assess the relative probabilites that the growth rate is exponential versus linear."
   ]
  },
  {
   "cell_type": "markdown",
   "metadata": {},
   "source": [
    "### Problem 7.1 solution"
   ]
  },
  {
   "cell_type": "code",
   "execution_count": 58,
   "metadata": {
    "collapsed": false
   },
   "outputs": [],
   "source": [
    "data_dir = '../data/iyer-biswas_et_al/hw7_data_1'\n",
    "fname = os.path.join(data_dir, 'bacterium_2.tif')\n",
    "calo_xyt = jb.XYTStack(fname, dt=1.0, physical_size_x=0.052, \n",
    "                       physical_size_y=0.052)"
   ]
  },
  {
   "cell_type": "code",
   "execution_count": 20,
   "metadata": {
    "collapsed": false
   },
   "outputs": [],
   "source": [
    "def our_thresh(im, selem, white_true=True, k_range=(0.5, 1.5), min_size=100):\n",
    "    \"\"\"\n",
    "    Threshold image as described above.  Morphological mean filter is \n",
    "    applied using selem.\n",
    "    \"\"\"\n",
    "    \n",
    "    # Determine comparison operator\n",
    "    if white_true:\n",
    "        compare = np.greater\n",
    "        sign = -1\n",
    "    else:\n",
    "        compare = np.less\n",
    "        sign = 1\n",
    "    \n",
    "    # Do the mean filter\n",
    "    im_mean = skimage.filter.rank.mean(im, selem)\n",
    "\n",
    "    # Compute number of pixels in binary image as a function of k\n",
    "    k = np.linspace(k_range[0], k_range[1], 100)\n",
    "    n_pix = np.empty_like(k)\n",
    "    for i in range(len(k)):\n",
    "        n_pix[i] = compare(im, k[i] * im_mean).sum() \n",
    "\n",
    "    # Compute rough second derivative\n",
    "    dn_pix_dk2 = np.diff(np.diff(n_pix))\n",
    "\n",
    "    # Find index of maximal second derivative\n",
    "    max_ind = np.argmax(sign * dn_pix_dk2)\n",
    "\n",
    "    # Use this index to set k\n",
    "    k_opt = k[max_ind - sign * 2]\n",
    "\n",
    "    # Threshold with this k\n",
    "    im_bw = compare(im, k_opt * im_mean)\n",
    "\n",
    "    # Remove all the small objects\n",
    "    im_bw = skimage.morphology.remove_small_objects(im_bw, min_size=min_size)\n",
    "   \n",
    "    return im_bw, k_opt"
   ]
  },
  {
   "cell_type": "code",
   "execution_count": 48,
   "metadata": {
    "collapsed": false
   },
   "outputs": [],
   "source": [
    "def zero_crossing_filter(im, thresh):\n",
    "    \"\"\"\n",
    "    Returns image with 1 if there is a zero crossing and 0 otherwise.\n",
    "    \n",
    "    thresh is the the minimal value of the gradient, as computed by Sobel\n",
    "    filter, at crossing to count as a crossing.\n",
    "    \"\"\"\n",
    "    # Square structuring element\n",
    "    selem = skimage.morphology.square(3)\n",
    "    \n",
    "    # Do max filter and min filter\n",
    "    im_max = scipy.ndimage.filters.maximum_filter(im, footprint=selem)\n",
    "    im_min = scipy.ndimage.filters.minimum_filter(im, footprint=selem)\n",
    "    \n",
    "    # Compute gradients using Sobel filter\n",
    "    im_grad = skimage.filter.sobel(im)\n",
    "    \n",
    "    # Return edges\n",
    "    return (((im >= 0) & (im_min < 0)) | ((im <= 0) & (im_max > 0))) \\\n",
    "                & (im_grad >= thresh)\n"
   ]
  },
  {
   "cell_type": "code",
   "execution_count": 59,
   "metadata": {
    "collapsed": false
   },
   "outputs": [
    {
     "name": "stdout",
     "output_type": "stream",
     "text": [
      "Processing 1 of 8699...\n",
      "Processing 101 of 8699...\n",
      "Processing 201 of 8699...\n",
      "Processing 301 of 8699...\n",
      "Processing 401 of 8699...\n",
      "Processing 501 of 8699...\n",
      "Processing 601 of 8699...\n",
      "Processing 701 of 8699...\n",
      "Processing 801 of 8699...\n",
      "Processing 901 of 8699...\n",
      "Processing 1001 of 8699...\n",
      "Processing 1101 of 8699...\n",
      "Processing 1201 of 8699...\n",
      "Processing 1301 of 8699...\n",
      "Processing 1401 of 8699...\n",
      "Processing 1501 of 8699...\n",
      "Processing 1601 of 8699...\n",
      "Processing 1701 of 8699...\n",
      "Processing 1801 of 8699...\n",
      "Processing 1901 of 8699...\n",
      "Processing 2001 of 8699...\n",
      "Processing 2101 of 8699...\n",
      "Processing 2201 of 8699...\n",
      "Processing 2301 of 8699...\n",
      "Processing 2401 of 8699...\n",
      "Processing 2501 of 8699...\n",
      "Processing 2601 of 8699...\n",
      "Processing 2701 of 8699...\n",
      "Processing 2801 of 8699...\n",
      "Processing 2901 of 8699...\n",
      "Processing 3001 of 8699...\n",
      "Processing 3101 of 8699...\n",
      "Processing 3201 of 8699...\n",
      "Processing 3301 of 8699...\n",
      "Processing 3401 of 8699...\n",
      "Processing 3501 of 8699...\n",
      "Processing 3601 of 8699...\n",
      "Processing 3701 of 8699...\n",
      "Processing 3801 of 8699...\n",
      "Processing 3901 of 8699...\n",
      "Processing 4001 of 8699...\n",
      "Processing 4101 of 8699...\n",
      "Processing 4201 of 8699...\n",
      "Processing 4301 of 8699...\n",
      "Processing 4401 of 8699...\n",
      "Processing 4501 of 8699...\n",
      "Processing 4601 of 8699...\n",
      "Processing 4701 of 8699...\n",
      "Processing 4801 of 8699...\n",
      "Processing 4901 of 8699...\n",
      "Processing 5001 of 8699...\n",
      "Processing 5101 of 8699...\n",
      "Processing 5201 of 8699...\n",
      "Processing 5301 of 8699...\n",
      "Processing 5401 of 8699...\n",
      "Processing 5501 of 8699...\n",
      "Processing 5601 of 8699...\n",
      "Processing 5701 of 8699...\n",
      "Processing 5801 of 8699...\n",
      "Processing 5901 of 8699...\n",
      "Processing 6001 of 8699...\n",
      "Processing 6101 of 8699...\n",
      "Processing 6201 of 8699...\n",
      "Processing 6301 of 8699...\n",
      "Processing 6401 of 8699...\n",
      "Processing 6501 of 8699...\n",
      "Processing 6601 of 8699...\n",
      "Processing 6701 of 8699...\n",
      "Processing 6801 of 8699...\n",
      "Processing 6901 of 8699...\n",
      "Processing 7001 of 8699...\n",
      "Processing 7101 of 8699...\n",
      "Processing 7201 of 8699...\n",
      "Processing 7301 of 8699...\n",
      "Processing 7401 of 8699...\n",
      "Processing 7501 of 8699...\n",
      "Processing 7601 of 8699...\n",
      "Processing 7701 of 8699...\n",
      "Processing 7801 of 8699...\n",
      "Processing 7901 of 8699...\n",
      "Processing 8001 of 8699...\n",
      "Processing 8101 of 8699...\n",
      "Processing 8201 of 8699...\n",
      "Processing 8301 of 8699...\n",
      "Processing 8401 of 8699...\n",
      "Processing 8501 of 8699...\n",
      "Processing 8601 of 8699...\n"
     ]
    },
    {
     "data": {
      "image/png": "[encoded data removed]",
      "text/plain": [
       "<matplotlib.figure.Figure at 0x1136b96d0>"
      ]
     },
     "metadata": {},
     "output_type": "display_data"
    }
   ],
   "source": [
    "# Use JB thresholding to get areas\n",
    "areas = np.empty(calo_xyt.size_t)\n",
    "for i in range(calo_xyt.size_t):\n",
    "    if i % 100 == 0:\n",
    "        print('Processing %d of %d...' % (i+1, calo_xyt.size_t))\n",
    "    \n",
    "    im = calo_xyt.im(i)\n",
    "    # Using JB filter (problem with stalk\n",
    "#    im_bw, k_opt = our_thresh(im, skimage.morphology.disk(25), \n",
    "#                              white_true=False, min_size=300)\n",
    "\n",
    "    # Straight up Otsu\n",
    "    im_bw = im < skimage.filter.threshold_otsu(im)\n",
    "\n",
    "    im_bw = skimage.segmentation.clear_border(im_bw, buffer_size=5)\n",
    "    areas[i] = im_bw.sum() * calo_xyt.physical_size_x**2\n",
    "\n",
    "    # Label binary image; backward kwarg says value in im_bw to consider backgr.\n",
    "    im_labeled, n_labels = skimage.measure.label(\n",
    "                            im_bw, background=0, return_num=True)\n",
    "    \n",
    "\n",
    "skimage.io.imshow(im_bw, cmap=cm.gray)"
   ]
  },
  {
   "cell_type": "code",
   "execution_count": 60,
   "metadata": {
    "collapsed": false
   },
   "outputs": [
    {
     "data": {
      "image/png": "[encoded data removed]",
      "text/plain": [
       "<matplotlib.figure.Figure at 0x1174d9410>"
      ]
     },
     "metadata": {},
     "output_type": "display_data"
    }
   ],
   "source": [
    "plt.plot(calo_xyt.t, areas, 'k.', markersize=2)\n",
    "plt.savefig('areas.pdf')"
   ]
  },
  {
   "cell_type": "code",
   "execution_count": 105,
   "metadata": {
    "collapsed": false
   },
   "outputs": [
    {
     "data": {
      "image/png": "[encoded data removed]",
      "text/plain": [
       "<matplotlib.figure.Figure at 0x1136c0590>"
      ]
     },
     "metadata": {},
     "output_type": "display_data"
    }
   ],
   "source": [
    "import numpy as np\n",
    "import matplotlib.pyplot as plt\n",
    "import seaborn as sns\n",
    "from skimage.filter import threshold_otsu\n",
    "from skimage.segmentation import clear_border\n",
    "import jb_utils as jb\n",
    "sns.set()\n",
    "\n",
    "# Load XYT tiff stack\n",
    "xyt = jb.XYTStack('bacterium.tif', dt=1.0, physical_size_x=0.052)\n",
    "\n",
    "# Threshold and compute cell areas\n",
    "areas = np.empty(xyt.size_t)\n",
    "for i in range(xyt.size_t):\n",
    "    im_bw = clear_border(xyt.im(i) < threshold_otsu(xyt.im(i)), buffer_size=9)\n",
    "    areas[i] = im_bw.sum() * xyt.physical_size_x**2\n",
    "\n",
    "# Detect outliers and division events\n",
    "good_points = (areas[1:] < 5.0) & (areas[1:] > 1.0) & (np.diff(areas) < 0.1)\n",
    "div_events = np.nonzero(np.diff(areas[1:][good_points]) < -0.6)[0]\n",
    "\n",
    "# Plot results\n",
    "fig = plt.figure(figsize=(10, 3))\n",
    "plt.plot(xyt.t[good_points], areas[good_points], '.', color='#6A3D9A')\n",
    "for i in range(len(div_events)):\n",
    "    plt.axvline(xyt.t[good_points][div_events[i]] - 0.5, lw=1)\n",
    "plt.xlabel('time (min)', fontsize=18)\n",
    "plt.ylabel(u'cell area (µm)', fontsize=18)\n",
    "plt.savefig('caulo_growth.pdf', bbox_inches='tight')"
   ]
  },
  {
   "cell_type": "code",
   "execution_count": 109,
   "metadata": {
    "collapsed": false
   },
   "outputs": [
    {
     "data": {
      "text/plain": [
       "19.23076923076923"
      ]
     },
     "execution_count": 109,
     "metadata": {},
     "output_type": "execute_result"
    }
   ],
   "source": [
    "1 / 0.052"
   ]
  },
  {
   "cell_type": "markdown",
   "metadata": {},
   "source": [
    "<br />\n",
    "<br />"
   ]
  },
  {
   "cell_type": "markdown",
   "metadata": {},
   "source": [
    "### Problem 7.2 (Colocalization of piRNA-related proteins, 40 pts)"
   ]
  },
  {
   "cell_type": "markdown",
   "metadata": {},
   "source": [
    "Alex Webster from Alexei Aravin's lab discussed his study of colocalization of key proteins with Aubergine, a protein involved in the selective silencing of transposons in germ cells in the *Drosophila* egg chamber via piRNA pathways.  Among the three proteins he talked about are Krimper, Tudor, and Zucchini.  The former two are implicated in the ping-pong cycle that optimizes piRNA response.  It is thought that Zucchini is a nuclease that aids in constructing piRNA complexes.\n",
    "\n",
    "In this problem, we will quantify the colocalization of these three proteins with Aubergine.  Aubergine is labeled with mKate2, a deep red fluorophore, and Krimper, Tudor, and Zucchini are labeled with GFP.  Alex has kindly provided us with three sets of images for each of the three constructs.  The data set can be downloaded [here](http://bebi103.caltech.edu/2014/protected/data/webster_et_al.zip).  The interpixel distance in these images is 0.162 µm.\n",
    "\n",
    "Perform a colocalization analysis on these images and compare the colocalization between Aubergine and each the three proteins."
   ]
  },
  {
   "cell_type": "markdown",
   "metadata": {},
   "source": [
    "<br />\n",
    "<br />"
   ]
  },
  {
   "cell_type": "markdown",
   "metadata": {},
   "source": [
    "### Problem 7.3 (Your eyes are not as good as your computer, 5 pts extra credit)"
   ]
  },
  {
   "cell_type": "markdown",
   "metadata": {},
   "source": [
    "Download the image below.  Use the basic image processing tools we learned in class to replace the beige and magenta colors with white and save the resulting image.  Display the original image and the altered image side by side.  (This problem was inspired by Dan White.)"
   ]
  },
  {
   "cell_type": "markdown",
   "metadata": {},
   "source": [
    "[<img src=\"images/swirl.png\">](http://bebi103.caltech.edu/2014/data/swirl.png)"
   ]
  }
 ],
 "metadata": {
  "kernelspec": {
   "display_name": "Python 3",
   "language": "python",
   "name": "python3"
  },
  "language_info": {
   "codemirror_mode": {
    "name": "ipython",
    "version": 3
   },
   "file_extension": ".py",
   "mimetype": "text/x-python",
   "name": "python",
   "nbconvert_exporter": "python",
   "pygments_lexer": "ipython3",
   "version": "3.4.3"
  }
 },
 "nbformat": 4,
 "nbformat_minor": 0
}
