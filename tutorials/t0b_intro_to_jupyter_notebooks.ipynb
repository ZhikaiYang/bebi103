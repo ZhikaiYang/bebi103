{
 "cells": [
  {
   "cell_type": "markdown",
   "metadata": {},
   "source": [
    "# Tutuorial 0b: Introduction to Jupyter notebooks"
   ]
  },
  {
   "cell_type": "markdown",
   "metadata": {},
   "source": [
    "*This tutorial was generated from an IPython notebook.  You can download the notebook [here](t0b_intro_to_jupyter_notebooks.ipynb).*"
   ]
  },
  {
   "cell_type": "markdown",
   "metadata": {},
   "source": [
    "In this tutorial, you will learn the basics on how to use Jupyter notebooks.  All of your homework will be submitted as Jupyter notebooks, so this is something you will need to master.  This tutorial also presents some basic syntax for $\\LaTeX$, which you will use to render mathematics in your assignments."
   ]
  },
  {
   "cell_type": "markdown",
   "metadata": {},
   "source": [
    "##What is Jupyter?\n",
    "[Jupyter](http://jupyter.org) is a way to combine text (with math!) and code (which runs and can display graphic output!) in an easy-to-read document that renders in a web browser.\n",
    "\n",
    "It is language agnostic as its name suggests.  The name \"Jupyter\" is a combination of [Julia](http://julialang.org/) (a new language for scientific computing), [Python](http://python.org/) (which you know and love, or at least will when the course is over), and [R](https://www.r-project.org) (the dominant tool for statistical computation).  However, you currently can run over 40 different languages in a Jupyter notebook, not just Julia, Python, and R."
   ]
  },
  {
   "cell_type": "markdown",
   "metadata": {},
   "source": [
    "##Launching a Jupyter notebook\n",
    "A Jupyter was spawned from the IPython project, Jupyter notebooks are still launched under the old name, \"IPython notebook.\"  To launch a Jupyter notebook, you can do the following.\n",
    "* **Mac**: Use the Anacondona launcher and select IPython notebook.\n",
    "* **Windows**: Under \"Search programs and files\" from the Start menu, type `ipython notebook` and select \"IPython notebook.\"\n",
    "\n",
    "A Jupyter notebook will then launch in your default web browser.\n",
    "\n",
    "You can also launch Jupyter from the command line.  To do this, simply enter\n",
    "\n",
    "    ipython notebook\n",
    "\n",
    "on the command line and hit enter.  This also allows for greater flexibility, as you can launch Jupyter with command line flags.  For example, I launch Jupyter using\n",
    "\n",
    "    ipython notebook --profile=custom --browser=safari\n",
    "\n",
    "This loads my custom formatting (more on that later) and uses Safari as the browser.  If you launch Jupyter from the command line, your shell will be occupied with Jupyter and will occasionally print information to the screen.  After you are finished with your Jupyter session (and have saved everything), you can kill Jupyter by hitting `ctrl-C` in the terminal/PowerShell window.\n",
    "\n",
    "When you launch  Jupyter, you will be presented with a menu of files in your current working directory to choose to edit.  You can also navigate around the files on your computer to find a file you wish to edit by clicking the \"Upload\" button in the upper right corner.  You can also click \"New\" in the upper right corner to get a new Jupyter notebook.  After selecting the file you wish to edit, it will appear in a new window in your browser, beautifully formatted and ready to edit."
   ]
  },
  {
   "cell_type": "markdown",
   "metadata": {},
   "source": [
    "##Cells\n",
    "A Jupyter notebook consists of **cells**.  The two main types of cells you will use are **code cells** and **markdown cells**, and we will go into their properties in depth momentarily.  First, an overview.\n",
    "\n",
    "A code cell contains actual code that you want to run.  You can specify a cell as a code cell using the pulldown menu in the toolbar in your Jupyter notebook.  Otherwise, you can can hit `esc` and then `y` (denoted \"`esc, y`\") while a cell is selected to specify that it is a code cell.  Note that you will have to hit enter after doing this to start editing it.\n",
    "\n",
    "If you want to execute the code in a code cell, hit `shift + enter`.  Note that code cells are executed in the order you execute them.  That is to say, the ordering of the cells for which you hit `shift + enter` is the order in which the code is executed.  If you did not explicitly execute a cell early in the document, its results are now known to the Python interpreter.\n",
    "\n",
    "Markdown cells contain text.  The text is written in **markdown**, a lightweight markup language.  You can read about its syntax [here](http://daringfireball.net/projects/markdown/syntax).  Note that you can also insert HTML into markdown cells, and this will be rendered properly.  As you are typing the contents of these cells, the results appear as text.  Hitting `shift + enter` renders the text in the formatting you specify.\n",
    "\n",
    "You can specify a cell as being a markdown cell in the Jupyter toolbar, or by hitting `esc, m` in the cell.  Again, you have to hit enter after using the quick keys to bring the cell into edit mode.\n",
    "\n",
    "In general, when you want to add a new cell, you can use the \"Insert\" pulldown menu from the Jupyter toolbar.  The shortcut to insert a cell below is `esc, b` and to insert a cell above is `esc, a`.  Alternatively, you  can execute a cell and automatically add a new one below it by hitting `alt + enter`."
   ]
  },
  {
   "cell_type": "markdown",
   "metadata": {},
   "source": [
    "##Code cells\n",
    "Below is an example of a code cell printing `hello, world.`  Notice that the output of the print statement appears in the same cell, though separate from the code block."
   ]
  },
  {
   "cell_type": "code",
   "execution_count": 3,
   "metadata": {
    "collapsed": false
   },
   "outputs": [
    {
     "name": "stdout",
     "output_type": "stream",
     "text": [
      "hello, world.\n"
     ]
    }
   ],
   "source": [
    "# Say hello to the world.\n",
    "print('hello, world.')"
   ]
  },
  {
   "cell_type": "markdown",
   "metadata": {},
   "source": [
    "If you evaluate a Python expression that returns a value, that value is displayed as output of the code cell.  This only happens, however, for the last line of the code cell."
   ]
  },
  {
   "cell_type": "code",
   "execution_count": 5,
   "metadata": {
    "collapsed": false
   },
   "outputs": [
    {
     "data": {
      "text/plain": [
       "11"
      ]
     },
     "execution_count": 5,
     "metadata": {},
     "output_type": "execute_result"
    }
   ],
   "source": [
    "# Would show 9 if this were the last line, but it is not, so shows nothing\n",
    "4 + 5\n",
    "\n",
    "# I hope we see 11.\n",
    "5 + 6"
   ]
  },
  {
   "cell_type": "markdown",
   "metadata": {},
   "source": [
    "Note, however, if the last line does not return a value, such as if we assigned a variable, there is no visible output from the code cell."
   ]
  },
  {
   "cell_type": "code",
   "execution_count": 6,
   "metadata": {
    "collapsed": true
   },
   "outputs": [],
   "source": [
    "# Variable assignment, so no visible output.\n",
    "a = 5 + 6"
   ]
  },
  {
   "cell_type": "code",
   "execution_count": 7,
   "metadata": {
    "collapsed": false
   },
   "outputs": [
    {
     "data": {
      "text/plain": [
       "11"
      ]
     },
     "execution_count": 7,
     "metadata": {},
     "output_type": "execute_result"
    }
   ],
   "source": [
    "# However, now if we ask for a, its value will be displayed\n",
    "a"
   ]
  },
  {
   "cell_type": "markdown",
   "metadata": {},
   "source": [
    "###Display of graphics"
   ]
  },
  {
   "cell_type": "markdown",
   "metadata": {},
   "source": [
    "###Best practices for code cells\n",
    "Here are some general rules for composing and formatting your code cells.\n",
    "1. Do not exceed the width of the code cell.  If the cells are rendered with my CSS (as discussed below), that width is 80 characters.\n",
    "2. Keep your code cells short.  If you find yourself having one massive code cell, break it up.\n",
    "3. Always properly comment your code.\n",
    "4. Do all of your imports in the first code cell.  Import one module per line.\n",
    "5. For submitting assignments, **always** display your graphics inline.  You can render the graphics as PNGs, but SVG is preferred."
   ]
  },
  {
   "cell_type": "markdown",
   "metadata": {},
   "source": [
    "##Markdown cells\n",
    "Markdown cells contain text.  The text is written in **markdown**, a lightweight markup language.  You can read about its syntax [here](http://daringfireball.net/projects/markdown/syntax).  Note that you can also insert HTML into markdown cells, and this will be rendered properly.  As you are typing the contents of these cells, the results appear as text.  Hitting `shift + enter` renders the text in the formatting you specify.\n",
    "\n",
    "You can specify a cell as being a markdown cell in the Jupyter toolbar, or by hitting `esc, m` in the cell.  Again, you have to hit enter after using the quick keys to bring the cell into edit mode.\n",
    "\n",
    "In addition to HTML, some $\\LaTeX$ expressions may be inserted into markdown cells.  $\\LaTeX$ (pronounced \"lah-tech\" or \"lay-tech\") is a document markup language that uses the $\\TeX$ typesetting software.  It is particularly well-suited for beautiful typesetting of mathematical expressions.  In Jupyter notebooks, the $\\LaTeX$  mathematical input is rendered using software called MathJax.  This is run off of a server, so if you are not connected to the internet, your equations will not be rendered.  You will use $\\LaTeX$ extensively in preparation of your assignments.  There are plenty of resources on the internet for getting started with $\\LaTeX$, but you will only need a tiny subset of its functionality in your assignments, and this tutorial, plus cheat sheets you may find by Google (such as [this one](http://users.dickinson.edu/~richesod/latex/latexcheatsheet.pdf)) are useful."
   ]
  },
  {
   "cell_type": "code",
   "execution_count": null,
   "metadata": {
    "collapsed": true
   },
   "outputs": [],
   "source": []
  },
  {
   "cell_type": "markdown",
   "metadata": {},
   "source": [
    "##$\\LaTeX$ basics\n",
    "To embed $\\LaTeX$ within text, simple encapsulate the $\\LaTeX$ portions in dollar signs (`$`).  As an example, consider the sentence below and the markdown/$\\LaTeX$ code to render it.\n",
    "\n",
    ">Einstein told us that $E = mc^2$.\n",
    ">\n",
    ">`Einstein told us that $E = mc^2$.`\n",
    "\n",
    "Notice how the equation is properly rendered, with mathematical variables in italics.  Not also how the `^2` was used to exponentiate.  If the exponential has more than one character in it, it should be enclosed in braces (`{}`).  In fact, braces are used to generally used group symbols in $\\LaTeX$.\n",
    "\n",
    ">Euler told us that $\\mathrm{e}^{i\\pi} - 1 = 0$.\n",
    ">\n",
    ">`Euler told us that $\\mathrm{e}^{i\\pi} - 1 = 0$.`\n",
    "\n",
    "Note that I used \"`\\mathrm{e}` for the base of the natural logarithm.  I was signalling to $\\LaTeX$ that I wanted the character written in Roman font, and not italics.  Note the difference.\n",
    "\n",
    ">This is $e$.  This is $\\mathrm{e}$.\n",
    ">\n",
    ">`This is $e$.  This is $\\mathrm{e}$.`\n",
    "\n",
    "We can do similar groupings using braces with with subscripts.\n",
    "\n",
    ">The dot product of two n-vectors is $\\mathbf{a} \\cdot \\mathbf{b} = \\sum_{i=1}^n a_i b_i$.\n",
    ">\n",
    ">`The dot product of two n-vectors is $\\mathbf{a} \\cdot \\mathbf{b} = \\sum_{i=1}^n a_i b_i$.`\n",
    "\n",
    "Here, I have used `$\\mathbf{a}$` to make the character `a` boldface, denoting a vector.  Note that we denote subscripts with an underscore.  Notice also that the bounds of the sum use the same underscore and caret notation as for subscripts and superscripts.  The bounds may look a little funny to you because they are not above and below the summation symbol.  This is because this particular equation is written inline.  If we had separated it from the text, it renders differently.\n",
    "\n",
    ">We can make an equation appear centered on a new line, like \n",
    ">\n",
    "\\begin{align}\n",
    "\\mathbf{a} \\cdot \\mathbf{b} = \\sum_{i=1}^n a_i b_i.\n",
    "\\end{align}\n",
    ">\n",
    ">`We can make an equation appear centered on a new line, like `\n",
    ">\n",
    ">`\\begin{align}\n",
    "\\mathbf{a} \\cdot \\mathbf{b} = \\sum_{i=1}^n a_i b_i.\n",
    "\\end{align}`\n",
    "\n",
    "The `align` environment in $\\LaTeX$ specifies that you want centered equations, separated from the text.  It is called `align` because it allows you to align the equations.  You separate lines in the equations with a double backslash (`//`).  Insert an ampersand (`&`) in each line at the alignment point.  All equations will be aligned at the location of the ampersand symbols (and, of course, the ampersands will not appear in the rendered equations).\n",
    "\n",
    ">For a three-vector consisting of $x$, $y$, and $z$ components,\n",
    ">\n",
    "\\begin{align}\n",
    "\\mathbf{a} \\cdot \\mathbf{b} &= \\sum_{i=1}^n a_i b_i \\\\\n",
    "&= a_x b_x + a_y b_y + a_z b_z.\n",
    "\\end{align}\n",
    ">\n",
    ">`For a three-vector consisting of $x$, $y$, and $z$ components,`\n",
    ">\n",
    ">`\\begin{align}\n",
    "\\mathbf{a} \\cdot \\mathbf{b} &= \\sum_{i=1}^n a_i b_i \\\\\n",
    "&= a_x b_x + a_y b_y + a_z b_z.\n",
    "\\end{align}`\n",
    "\n",
    "Note that I always put an extra blank line before the `\\begin{align}` statement.  This is not necessary, but I think things look better with the extra space."
   ]
  },
  {
   "cell_type": "code",
   "execution_count": null,
   "metadata": {
    "collapsed": true
   },
   "outputs": [],
   "source": []
  }
 ],
 "metadata": {
  "kernelspec": {
   "display_name": "Python 3",
   "language": "python",
   "name": "python3"
  },
  "language_info": {
   "codemirror_mode": {
    "name": "ipython",
    "version": 3
   },
   "file_extension": ".py",
   "mimetype": "text/x-python",
   "name": "python",
   "nbconvert_exporter": "python",
   "pygments_lexer": "ipython3",
   "version": "3.4.3"
  }
 },
 "nbformat": 4,
 "nbformat_minor": 0
}
