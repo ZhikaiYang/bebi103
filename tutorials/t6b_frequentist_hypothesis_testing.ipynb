{
 "cells": [
  {
   "cell_type": "markdown",
   "metadata": {},
   "source": [
    "# Tutorial 6b: Frequentist hypothesis testing\n",
    "\n",
    "*This tutorial was generated from an Jupyter notebook.  You can download the notebook [here](t6b_frequentist_hypothesis_testing.ipynb).*"
   ]
  },
  {
   "cell_type": "code",
   "execution_count": 1,
   "metadata": {
    "collapsed": true
   },
   "outputs": [],
   "source": [
    "import warnings\n",
    "\n",
    "# Our numerical workhorses\n",
    "import numpy as np\n",
    "import pandas as pd\n",
    "\n",
    "# Import plotting tools\n",
    "import matplotlib.pyplot as plt\n",
    "import seaborn as sns\n",
    "\n",
    "# Magic function to make matplotlib inline; other style specs must come AFTER\n",
    "%matplotlib inline\n",
    "\n",
    "# This enables high res graphics inline (only use with static plots (non-Bokeh))\n",
    "# SVG is preferred, but there is a bug in Jupyter with vertical lines\n",
    "%config InlineBackend.figure_formats = {'png', 'retina'}\n",
    "\n",
    "# JB's favorite Seaborn settings for notebooks\n",
    "rc = {'lines.linewidth': 2, \n",
    "      'axes.labelsize': 18, \n",
    "      'axes.titlesize': 18, \n",
    "      'axes.facecolor': 'DFDFE5'}\n",
    "sns.set_context('notebook', rc=rc)\n",
    "sns.set_style('darkgrid', rc=rc)\n",
    "\n",
    "# Suppress future warnings\n",
    "warnings.simplefilter(action='ignore', category=FutureWarning)"
   ]
  },
  {
   "cell_type": "markdown",
   "metadata": {},
   "source": [
    "In the [previous tutorial](t6a_frequentist_parameter_estimation.html), we studied parameter estimation from a frequentist perspective.  We saw that if we are trying to estimate a parameter from a probability distribution, we should try to define an unbiased estimator for that parameter based on the expectation values of the distribution.  Beyond that, we saw that we can do computational \"experiments\" to get samples from the repeated hypothetical experiments that define frequentist probability.\n",
    "\n",
    "In this tutorial, we will apply this same computational experimental approach to do hypothesis testing.  It is important to note that frequentist hypothesis testing is different from Bayesian model selection, in that in the frequentist hypothesis tests, we will only consider how probable it is to get the observed data under a specific hypothesis, often called the **null hypothesis**.  We will not assess other hypotheses or compare them.  Remember that the probability of a hypothesis being true is not something that makes any sense to a frequentist."
   ]
  },
  {
   "cell_type": "markdown",
   "metadata": {},
   "source": [
    "## The data set\n",
    "We will again use the data from Reeves, et al. for this tutorial.  Let's load them in again."
   ]
  },
  {
   "cell_type": "code",
   "execution_count": 2,
   "metadata": {
    "collapsed": false
   },
   "outputs": [],
   "source": [
    "# Load data into DataFrame\n",
    "file_name = '../data/reeves_et_al/reeves_gradient_width_various_methods.csv'\n",
    "df_fly = pd.read_csv(file_name, comment='#', header=[0, 1])\n",
    "\n",
    "# Get columns we want\n",
    "fly_wt = df_fly['wt']['cross-sections'].dropna().values \n",
    "fly_venus = df_fly['dl1/+; dl-venus/+']['anti-Dorsal'].dropna().values"
   ]
  },
  {
   "cell_type": "markdown",
   "metadata": {},
   "source": [
    "## Hypothesis tests\n",
    "Though there are many kind of frequentist hypothesis tests, we will focus on the most often used type of test.  The idea here is to quantify the size of the effect of an experiment with some test statistic (such as a mean).  Then we propose a **null hypothesis** which says that the effect is not real.  We then compute the probability of observing a value of the test statistic that is more extreme that the one we measured if the null hypothesis is true.  This is called a **p-value**.  If the p-value is small, the effect is said to be **statistically significant**.\n",
    "\n",
    "We will go through this process first to test if the dorsal gradient width in wild type is different from that in the Venus fusion.  The strategy is to computationally do the experiment many times over with according to the null hypothesis and count the results that show the effect size we observed experimentally."
   ]
  },
  {
   "cell_type": "markdown",
   "metadata": {},
   "source": [
    "### Are the means different?\n",
    "For our test statistic, we will use the mean of the gradient width.  We estimated the means in [the last tutorial](t6a_frequentist_parameter_estimation.html)."
   ]
  },
  {
   "cell_type": "code",
   "execution_count": 3,
   "metadata": {
    "collapsed": false
   },
   "outputs": [
    {
     "name": "stdout",
     "output_type": "stream",
     "text": [
      "\n",
      "           µ         σ          n\n",
      "        ---------------------------\n",
      "WT      0.1485     0.0161      152\n",
      "Venus   0.1605     0.0108       29\n",
      "\n"
     ]
    }
   ],
   "source": [
    "# Mean and variance of Dorsal gradient widths\n",
    "mu_wt = fly_wt.mean()\n",
    "var_wt = fly_wt.var(ddof=1)\n",
    "\n",
    "mu_venus = fly_venus.mean()\n",
    "var_venus = fly_venus.var(ddof=1)\n",
    "\n",
    "# Print results\n",
    "print(\"\"\"\n",
    "           µ         σ          n\n",
    "        ---------------------------\n",
    "WT      {0:.4f}     {2:.4f}      {4:d}\n",
    "Venus   {1:.4f}     {3:.4f}       {5:d}\n",
    "\"\"\".format(mu_wt, mu_venus, np.sqrt(var_wt), np.sqrt(var_venus), \n",
    "           len(fly_wt), len(fly_venus)))"
   ]
  },
  {
   "cell_type": "markdown",
   "metadata": {},
   "source": [
    "The question now is whether we could get a mean that is so different if the WT and Venus were exactly the same.  So, our null hypothesis is that there is no difference between WT and Venus fusion flies.  We then repeat the experiment under this hypothesis.  To do this, we put all them measurements together, scramble them, and then choose 152 to be in one set and 29 in the other.  We compute the absolute value of the difference of the means.  We do this over and over again."
   ]
  },
  {
   "cell_type": "code",
   "execution_count": 4,
   "metadata": {
    "collapsed": true
   },
   "outputs": [],
   "source": [
    "def permute_sample(x, y, stat_fun, args=(), n_trials=1000):\n",
    "    \"\"\"\n",
    "    Considered two arrays `x` and `y` as one and then selects\n",
    "    random samples out of the combined array the same size as\n",
    "    the original `x` and `y`.  The computes test statistic for each\n",
    "    sample.\n",
    "    \"\"\"\n",
    "    # Array to store samples\n",
    "    samples = np.empty(n_trials)\n",
    "\n",
    "    # Put the two data sets together\n",
    "    vals = np.concatenate((x, y))\n",
    "    \n",
    "    for i in range(n_trials):\n",
    "        # Permute and compute difference in means\n",
    "        vals = np.random.permutation(vals)\n",
    "        samples[i] = stat_fun(vals[:len(x)], vals[len(x):], *args)\n",
    "        \n",
    "    return samples\n",
    "\n",
    "def p_value_from_samples(samples, actual, greater_or_less='greater'):\n",
    "    \"\"\"\n",
    "    Compute probability that actual values if either greater than\n",
    "    or less than samples value.\n",
    "    \"\"\"\n",
    "    \n",
    "    # Compute p-value\n",
    "    if greater_or_less == 'greater':\n",
    "        return np.sum(samples >= actual) / len(samples)\n",
    "    else:\n",
    "        return np.sum(samples <= actual) / len(samples)"
   ]
  },
  {
   "cell_type": "markdown",
   "metadata": {},
   "source": [
    "Let's do the test to see what the probability of getting the observed absolute difference in means is."
   ]
  },
  {
   "cell_type": "code",
   "execution_count": 5,
   "metadata": {
    "collapsed": false
   },
   "outputs": [
    {
     "name": "stdout",
     "output_type": "stream",
     "text": [
      "p-value = 0.00017\n"
     ]
    }
   ],
   "source": [
    "# Function for absolute value of difference in means\n",
    "def mean_diff(x, y, return_abs=False):\n",
    "    diff = y.mean() - x.mean()\n",
    "    if return_abs:\n",
    "        return np.abs(diff)\n",
    "    return diff\n",
    "\n",
    "# Get samples\n",
    "samples = permute_sample(fly_wt, fly_venus, mean_diff, args=(True,), \n",
    "                         n_trials=100000)\n",
    "\n",
    "# Compute p-value\n",
    "p = p_value_from_samples(samples, mean_diff(fly_wt, fly_venus, True))\n",
    "print('p-value =', p)"
   ]
  },
  {
   "cell_type": "markdown",
   "metadata": {},
   "source": [
    "So, we get a p-value of about 0.0002, which suggests that there is a low chance of observing the same mean under the null hypothesis, which again is that the same process is generating the gradients.  This p-value is low, so we would say there is a statistically significant difference between the two means.\n",
    "\n",
    "We can see this more clearly by plotting the CDF of the samples."
   ]
  },
  {
   "cell_type": "code",
   "execution_count": 6,
   "metadata": {
    "collapsed": false
   },
   "outputs": [
    {
     "data": {
      "text/plain": [
       "[<matplotlib.lines.Line2D at 0x11427d2b0>]"
      ]
     },
     "execution_count": 6,
     "metadata": {},
     "output_type": "execute_result"
    },
    {
     "data": {
      "image/png": "[encoded data removed]",
      "text/plain": [
       "<matplotlib.figure.Figure at 0x11427d278>"
      ]
     },
     "metadata": {
      "image/png": {
       "height": 363,
       "width": 502
      }
     },
     "output_type": "display_data"
    }
   ],
   "source": [
    "# Make the CDF\n",
    "x = np.sort(samples)\n",
    "y = np.arange(len(samples)) / len(samples)\n",
    "plt.plot(x, y, '.')\n",
    "plt.margins(0.02)\n",
    "plt.xlabel(r'$|\\mu_\\mathrm{wt} - \\mu_{\\mathrm{Venus}}|$')\n",
    "plt.ylabel('cdf')\n",
    "\n",
    "# Plot the true difference\n",
    "plt.plot(mean_diff(fly_wt, fly_venus, True) * np.array([1, 1]),\n",
    "         plt.gca().axes.get_ylim(), '-', color=sns.color_palette()[2])"
   ]
  },
  {
   "cell_type": "markdown",
   "metadata": {},
   "source": [
    "We see that very few samples occur with a mean as big as we are seeing, suggesting that this is very unlikely under the null hypothesis."
   ]
  },
  {
   "cell_type": "markdown",
   "metadata": {},
   "source": [
    "### Are the fill-in-the-blank different?\n",
    "We can perform this type of permutation test with any statistic we are interested in.  Let's try medians."
   ]
  },
  {
   "cell_type": "code",
   "execution_count": 7,
   "metadata": {
    "collapsed": false
   },
   "outputs": [
    {
     "name": "stdout",
     "output_type": "stream",
     "text": [
      "median p-value = 0.00333\n"
     ]
    }
   ],
   "source": [
    "def median_diff(x, y, return_abs=False):\n",
    "    diff = np.median(y) - np.median(x)\n",
    "    if return_abs:\n",
    "        return np.abs(diff)\n",
    "    return diff\n",
    "   \n",
    "# Get samples\n",
    "samples_median = permute_sample(fly_wt, fly_venus, median_diff, args=(True,),\n",
    "                                n_trials=100000)\n",
    "\n",
    "# Compute p-value\n",
    "p = p_value_from_samples(samples_median, median_diff(fly_wt, fly_venus, True))\n",
    "print('median p-value =', p)"
   ]
  },
  {
   "cell_type": "markdown",
   "metadata": {},
   "source": [
    "Or with the variance."
   ]
  },
  {
   "cell_type": "code",
   "execution_count": 8,
   "metadata": {
    "collapsed": false
   },
   "outputs": [
    {
     "name": "stdout",
     "output_type": "stream",
     "text": [
      "variance p-value = 0.02594\n"
     ]
    }
   ],
   "source": [
    "def variance_diff(x, y, return_abs=False):\n",
    "    diff = y.var() - x.var()\n",
    "    if return_abs:\n",
    "        return np.abs(diff)\n",
    "    return diff\n",
    "\n",
    "# Get samples\n",
    "samples_var = permute_sample(fly_wt, fly_venus, variance_diff, args=(True,),\\\n",
    "                             n_trials=100000)\n",
    "\n",
    "# Compute p-value\n",
    "p = p_value_from_samples(samples_var, variance_diff(fly_wt, fly_venus, True))\n",
    "print('variance p-value =', p)"
   ]
  },
  {
   "cell_type": "markdown",
   "metadata": {},
   "source": [
    "We see that while it is unlikely to get the same difference in median under the null hypothesis, there is some chance we could get difference in variance.\n",
    "\n",
    "We can also check **Cohen's d**, a standard deviation weighted effect size we discussed in class."
   ]
  },
  {
   "cell_type": "code",
   "execution_count": 9,
   "metadata": {
    "collapsed": false
   },
   "outputs": [
    {
     "name": "stdout",
     "output_type": "stream",
     "text": [
      "variance p-value = 0.00017\n"
     ]
    }
   ],
   "source": [
    "def cohen_d(x, y, return_abs=False):\n",
    "    \"\"\"\n",
    "    Cohen's d\n",
    "    \"\"\"\n",
    "    diff = y.mean() - x.mean()\n",
    "    pooled_variance = (len(x) * x.var() + len(y) * y.var()) / (len(x) + len(y))\n",
    "\n",
    "    if return_abs:\n",
    "        return np.abs(diff) / np.sqrt(pooled_variance)\n",
    "    return diff / np.sqrt(pooled_variance)\n",
    "\n",
    "# Get samples\n",
    "samples_d = permute_sample(fly_wt, fly_venus, cohen_d, args=(True,), \n",
    "                           n_trials=100000)\n",
    "\n",
    "# Compute p-value\n",
    "p = p_value_from_samples(samples_d, cohen_d(fly_wt, fly_venus))\n",
    "print('variance p-value =', p)"
   ]
  },
  {
   "cell_type": "markdown",
   "metadata": {},
   "source": [
    "Again, we would report this results as \"statistically significant.\""
   ]
  },
  {
   "cell_type": "markdown",
   "metadata": {},
   "source": [
    "### One-sided versus two-sided\n",
    "So far, we have looked at the absolute value of the difference between parameters.  We could just look at the difference of the respective statistics.  We might get different results."
   ]
  },
  {
   "cell_type": "code",
   "execution_count": 10,
   "metadata": {
    "collapsed": false
   },
   "outputs": [
    {
     "name": "stdout",
     "output_type": "stream",
     "text": [
      "Mean p-value = 6e-05\n",
      "Median p-value = 0.0\n",
      "Variance p-value = 0.00756\n",
      "Cohen-d p-value = 4e-05\n"
     ]
    }
   ],
   "source": [
    "# Compute p-values\n",
    "samples = permute_sample(fly_wt, fly_venus, mean_diff, n_trials=100000)\n",
    "p = p_value_from_samples(samples, mean_diff(fly_wt, fly_venus))\n",
    "print('Mean p-value =', p)\n",
    "\n",
    "samples = permute_sample(fly_wt, fly_wt, median_diff, n_trials=100000)\n",
    "p = p_value_from_samples(samples, median_diff(fly_wt, fly_venus))\n",
    "print('Median p-value =', p)\n",
    "\n",
    "samples = permute_sample(fly_venus, fly_wt, variance_diff, n_trials=100000)\n",
    "p = p_value_from_samples(samples, variance_diff(fly_venus, fly_wt))\n",
    "print('Variance p-value =', p)\n",
    "\n",
    "samples = permute_sample(fly_wt, fly_venus, cohen_d, n_trials=100000)\n",
    "p = p_value_from_samples(samples, cohen_d(fly_wt, fly_venus))\n",
    "print('Cohen-d p-value =', p)"
   ]
  },
  {
   "cell_type": "markdown",
   "metadata": {},
   "source": [
    "The p-values have done down when we are not looking at absolute values.  I.e., we are not looking just to see if the effect magnitude is expected from the null hypothesis, but also the sign of the effect."
   ]
  },
  {
   "cell_type": "markdown",
   "metadata": {},
   "source": [
    "### Warnings about hypothesis tests\n",
    "There are many.\n",
    "\n",
    "1. An effect being statistically significant does not mean the effect is significant in practice or even important.  It only means exactly what it is defined to mean: an effect is unlikely to have happened by chance under the null hypothesis.  Far more important is the **effect size**.\n",
    "2. The p-value is **not** the probability that the null hypothesis is true.  It is the probability of observing the test statistic being more extreme than what was measured if the null hypothesis is true.  I.e., it is  $P(\\text{more extreme than observed test stat}\\mid H_0)$ and **not** $P(H_0\\mid \\text{more extreme than observed test stat})$.  We actually want the latter, and the p-value is often erroneously interpreted as the latter to great peril.\n",
    "3. Null hypothesis significance testing does not say anything about alternative hypotheses.  Rejection of the null hypothesis does not mean acceptance of any other hypotheses.\n",
    "4. P-values are not very reproducible, as we will see in the homework when we do \"dance of the p-values.\"\n",
    "5. Rejecting a null hypothesis is also kind of odd, considering you computed $P(\\text{observed test statistic value}\\mid H_0)$.  This, along with point 4, means that the p-value better really low for you to reject the null hypothesis.\n",
    "6. Throughout the literature, you will see null hypothesis testing when the null hypothesis is not relevant at all.  People compute p-values because that's what they are supposed to do.  The Dorsal gradient might be an example: of course the gradients will be different; we have made a big perturbation.  Again, it gets to the point that **effect size** is waaaaay more important that a null hypothesis significance test."
   ]
  },
  {
   "cell_type": "markdown",
   "metadata": {},
   "source": [
    "I should also mention that there are names for many of the tests we did in this tutorial, and there are countless other tests.  Many of these tests have analytical forms and can be rapidly computed.  Most are included in `scipy.stats`.  I have chosen to present a method of hypothesis testing that is intuitive with the frequentist definition of probability front and center.  It also allows you to design your own tests that fit a null hypothesis that you are interested in that might not be \"off-the-shelf.\"\n",
    "\n",
    "That said, given all these problems with p-values, I generally advocate for their abandonment.  They seldom answer the question scientists are asking and lead to great confusion."
   ]
  }
 ],
 "metadata": {
  "kernelspec": {
   "display_name": "Python 3",
   "language": "python",
   "name": "python3"
  },
  "language_info": {
   "codemirror_mode": {
    "name": "ipython",
    "version": 3
   },
   "file_extension": ".py",
   "mimetype": "text/x-python",
   "name": "python",
   "nbconvert_exporter": "python",
   "pygments_lexer": "ipython3",
   "version": "3.4.3"
  }
 },
 "nbformat": 4,
 "nbformat_minor": 0
}
