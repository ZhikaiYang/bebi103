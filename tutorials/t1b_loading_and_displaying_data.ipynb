{
 "metadata": {
  "name": "",
  "signature": "sha256:4857ba2cbb6886623a9bdae476ce5017608505ae2f8d971f2b5812bbb8e97016"
 },
 "nbformat": 3,
 "nbformat_minor": 0,
 "worksheets": [
  {
   "cells": [
    {
     "cell_type": "heading",
     "level": 1,
     "metadata": {},
     "source": [
      "Tutorial 1b: Loading and displaying data"
     ]
    },
    {
     "cell_type": "heading",
     "level": 2,
     "metadata": {},
     "source": [
      "Loading a data set"
     ]
    },
    {
     "cell_type": "code",
     "collapsed": false,
     "input": [
      "import numpy as np\n",
      "import pandas as pd\n",
      "\n",
      "# Use pd.read_csv to read in the data and store in a DataFrame\n",
      "fname = '../data/gardner_et_al/time_to_catastrophe_labeled_and_unlabeled.csv'\n",
      "df = pd.read_csv(fname, comment='#')\n",
      "\n",
      "# Look at the contents (first 10 indices)\n",
      "df[:10]"
     ],
     "language": "python",
     "metadata": {},
     "outputs": []
    },
    {
     "cell_type": "code",
     "collapsed": false,
     "input": [
      "# Look at last 10 entries, and see that we have NaN's because\n",
      "# unequal size of labeled and unlabeled.\n",
      "df[-10:]"
     ],
     "language": "python",
     "metadata": {},
     "outputs": []
    },
    {
     "cell_type": "code",
     "collapsed": false,
     "input": [
      "plt.plot(df.labeled, 'ko')"
     ],
     "language": "python",
     "metadata": {},
     "outputs": []
    },
    {
     "cell_type": "code",
     "collapsed": false,
     "input": [
      "# Pull Series out of DataFrame\n",
      "labeled = np.array(df.labeled.dropna())\n",
      "unlabeled = np.array(df.unlabeled.dropna())\n",
      "\n",
      "# Do an in-place sort\n",
      "labeled.sort()\n",
      "unlabeled.sort()\n",
      "\n",
      "# Take a look\n",
      "print(labeled[:5], '...', labeled[-5:])"
     ],
     "language": "python",
     "metadata": {},
     "outputs": []
    },
    {
     "cell_type": "code",
     "collapsed": false,
     "input": [
      "# Compute the cumulative histograms\n",
      "cum_labeled = np.arange(1, len(labeled)+1) / len(labeled)\n",
      "cum_unlabeled = np.arange(1, len(unlabeled)+1) / len(unlabeled)\n",
      "\n",
      "# Import Matplotlib and set it for inline\n",
      "import matplotlib.pyplot as plt\n",
      "%matplotlib inline\n",
      "\n",
      "# Make the plot\n",
      "plt.plot(unlabeled, cum_unlabeled, '.', markersize=6)\n",
      "plt.plot(labeled, cum_labeled, '.', markersize=6)\n",
      "plt.margins(y=0.02)\n",
      "plt.xlim((0.0, 2000))\n",
      "plt.xlabel('time to catstrophe (s)')\n",
      "plt.ylabel('cumulative probability density', fontsize=14)"
     ],
     "language": "python",
     "metadata": {},
     "outputs": []
    },
    {
     "cell_type": "code",
     "collapsed": false,
     "input": [
      "# We can plot a histogram using pyplot\n",
      "n, bin_edges, patches = plt.hist(labeled, bins=20, normed=True)\n",
      "plt.xlabel('time to catastrophe (s)')\n",
      "plt.ylabel('probability density')"
     ],
     "language": "python",
     "metadata": {},
     "outputs": []
    },
    {
     "cell_type": "code",
     "collapsed": false,
     "input": [
      "# Sometimes a step-filled histogram looks better\n",
      "n, bin_edges, patches = plt.hist(labeled, bins=20, normed=True,\n",
      "                            histtype='stepfilled')\n",
      "plt.xlabel('time to catastrophe (s)')\n",
      "plt.ylabel('probability density')"
     ],
     "language": "python",
     "metadata": {},
     "outputs": []
    },
    {
     "cell_type": "code",
     "collapsed": false,
     "input": [
      "# Plot the two histograms together\n",
      "n, bin_edges, patches = plt.hist([unlabeled, labeled], bins=20, normed=True)"
     ],
     "language": "python",
     "metadata": {},
     "outputs": []
    },
    {
     "cell_type": "code",
     "collapsed": false,
     "input": [
      "# Try another way\n",
      "n, bin_edges, patches = plt.hist([unlabeled, labeled], bins=20, normed=True,\n",
      "                                 histtype='step')"
     ],
     "language": "python",
     "metadata": {},
     "outputs": []
    }
   ],
   "metadata": {}
  }
 ]
}