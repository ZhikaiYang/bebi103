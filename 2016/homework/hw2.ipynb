{
 "cells": [
  {
   "cell_type": "markdown",
   "metadata": {},
   "source": [
    "# BE/Bi 103, Fall 2016: Homework 2\n",
    "\n",
    "## Due 1pm, Sunday, October 9\n",
    "\n",
    "(c) 2016 Justin Bois. Problem 2.2 is licensed under a [Creative Commons Attribution License CC-BY 4.0](https://creativecommons.org/licenses/by/4.0/). All code contained therein is licensed under an [MIT license](https://opensource.org/licenses/MIT). Problem 2.1 may not be shared.\n",
    "\n",
    "*This homework was generated from an Jupyter notebook.  You can download the notebook [here](hw2.ipynb).*"
   ]
  },
  {
   "cell_type": "markdown",
   "metadata": {},
   "source": [
    "### Problem 2.1 (20 pts)\n",
    "\n",
    "*This problem features unpublished research, which the authors wish to remain private until their work it published. BE/Bi 103 students may access the password-protected homework [here](http://bebi103.caltech.edu/2016_protected/homework/hw2_protected.html).*"
   ]
  },
  {
   "cell_type": "markdown",
   "metadata": {},
   "source": [
    "<br />"
   ]
  },
  {
   "cell_type": "markdown",
   "metadata": {},
   "source": [
    "### Problem 2.2 (Exploring fish sleep data, 80 pts) \n",
    "\n",
    "In [Tutorial 2](../tutorials/t2b_defining_and_estimating_parameters.html), we investigated sleeping states of zebrafish larvae.  We had a discussion about what are the best metrics for a sleepful states based on the one-minute interval activity data we have.  I think we agree that it is far from obvious how to define a sleepful state.  In this problem, you will work with your group to come up with some good ways to parametrize sleep behavior and estimate the values of these parameters.\n",
    "\n",
    "Choose two different ways to parametrize sleep behavior.  You can use sleep metrics from the [Prober, et al. paper](http://bebi103.caltech.edu/2016_protected/papers/prober_2006.pdf), ones we discussed in [Tutorial 2](../tutorials/t2b_defining_and_estimating_parameters.html), or (preferably, and for more fun) invent your own.  For each of the ways of parametrizing sleep, provide instructive plots and estimate the values of the parameters.  Compare the relative strengths and weaknesses of the sleep metrics you propose and give a discussion on which parametrization(s) you prefer."
   ]
  }
 ],
 "metadata": {
  "anaconda-cloud": {},
  "kernelspec": {
   "display_name": "Python [default]",
   "language": "python",
   "name": "python3"
  },
  "language_info": {
   "codemirror_mode": {
    "name": "ipython",
    "version": 3
   },
   "file_extension": ".py",
   "mimetype": "text/x-python",
   "name": "python",
   "nbconvert_exporter": "python",
   "pygments_lexer": "ipython3",
   "version": "3.5.2"
  }
 },
 "nbformat": 4,
 "nbformat_minor": 0
}
