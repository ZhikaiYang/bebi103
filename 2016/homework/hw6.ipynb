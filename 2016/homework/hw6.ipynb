{
 "cells": [
  {
   "cell_type": "markdown",
   "metadata": {},
   "source": [
    "# BE/Bi 103, Fall 2016: Homework 6\n",
    "## Due 1pm, Sunday, November 6\n",
    "\n",
    "(c) 2016 Justin Bois. This work is licensed under a [Creative Commons Attribution License CC-BY 4.0](https://creativecommons.org/licenses/by/4.0/). All code contained therein is licensed under an [MIT license](https://opensource.org/licenses/MIT).\n",
    "\n",
    "*This homework was generated from an Jupyter notebook.  You can download the notebook [here](hw6.ipynb). You can also view it [here](https://nbviewer.jupyter.org/url/bebi103.caltech.edu/2016/homework/hw6.ipynb).*"
   ]
  },
  {
   "cell_type": "markdown",
   "metadata": {},
   "source": [
    "### Problem 6.1: Microtubule catastrophe, 50 pts + 20 pts extra credit\n",
    "\n",
    "In [Homework 1](hw1.html), we plotted data of microtubule catastrophe times.  In this problem, we return to the data from the [Gardner, Zanic, et al. paper](../protected/papers/gardner_2011.pdf)  We will carefully analyze the data and make some conclusions about the processes underlying microtubule catastrophe.\n",
    "\n",
    "In the file `gardner_mt_catastrophe_only_tubulin.csv` (which you can download [here](../data/gardner_mt_catastrophe_only_tubulin.csv)), we have observed catastrophe times of microtubules with different concentrations of tubulin. To start with, we will consider the experiment run with a tubulin concentration of 12 µM. So, our data set $D$ consists of a set of measurements of the amount of time to catastrophe; $D=\\{t_i\\}$. We will consider three models for microtubule catastrophe. In the first model ($M_1$), our likelihood is\n",
    "\n",
    "\\begin{align}\n",
    "P(D\\mid \\tau, M_1, I) = \\prod_{i\\in D} \\frac{\\mathrm{e}^{-t_i/\\tau}}{\\tau}\n",
    "\\end{align}\n",
    "\n",
    "In the second model  ($M_2$), the likelihood is\n",
    "\n",
    "\\begin{align}\n",
    "P(D\\mid \\tau, a, M_2, I) = \\prod_{i\\in D} \\frac{\\left(t_i/\\tau\\right)^a}{t_i\\Gamma(a)}\\,\\mathrm{e}^{-t_i/\\tau},\n",
    "\\end{align}\n",
    "\n",
    "where $\\Gamma(a)$ is the gamma function. Finally, in the third model  ($M_3$), the likelihood is\n",
    "\n",
    "\\begin{align}\n",
    "P(D\\mid \\tau, \\beta, M_3, I) = \\prod_{i\\in D} \\frac{\\beta}{\\tau}\\left(\\frac{t_i}{\\tau}\\right)^{\\beta-1}\\mathrm{e}^{-(t_i/\\tau)^\\beta}.\n",
    "\\end{align}\n",
    "\n",
    "\n",
    "**a)** I have given you the models mathematically as expressions of the likelihoods. Describe the three models in words. Give physical descriptions of the meanings of the parameters $\\tau$, $a$, and $\\beta$. [Tutorial 3b](http://bebi103.caltech.edu/2016/tutorials/t3b_probability_stories.html) might be useful.\n",
    "\n",
    "**b)** Use optimization to estimate the parameter values for the respective models.\n",
    "\n",
    "**c)** Plot the ECDF of the time to microtubule catastrophe. Overlay the theoretical CDFs for the three models and comment on what you see.\n",
    "\n",
    "**d)** Compute the approximate odds ratios among the models using the results from your parameter estimation calculation done by optimization.\n",
    "\n",
    "**e)** Repeat steps (b) through (d) using PTMCMC. Be sure to display relevant plots.\n",
    "\n",
    "**f)** Using whichever model you found most probable when you computed odds ratios, compute $\\tau$ along with $a$ or $\\beta$ as appropriate for the other tubulin concentrations. Given that microtubules polymerize faster with higher tubulin concentrations, is there anything you can say about the occurrence of catastrophe by looking at the values of the parameters versus tubulin concentration?\n",
    "\n",
    "**g)** *(20 pts extra credit)* The files `gardner_mt_catastrophe_kip3.csv` ([download](../data/gardner_mt_catastrophe_kip3.csv)) and `gardner_mt_catastrophe_mcak.csv` ([download](../data/gardner_mt_catastrophe_mcak.csv)), contain measurements of catastrophe times in the presence of the kinesins Kip3 and MCAK with 12 µM tubulin. Analyze these data and discuss conclusions about their respective roles in microtubule catastrophe. Note: This part of the problem is intentionally open-ended. You should think carefully, and perform a complete analysis to draw your conclusions."
   ]
  }
 ],
 "metadata": {
  "anaconda-cloud": {},
  "kernelspec": {
   "display_name": "Python [default]",
   "language": "python",
   "name": "python3"
  },
  "language_info": {
   "codemirror_mode": {
    "name": "ipython",
    "version": 3
   },
   "file_extension": ".py",
   "mimetype": "text/x-python",
   "name": "python",
   "nbconvert_exporter": "python",
   "pygments_lexer": "ipython3",
   "version": "3.5.2"
  }
 },
 "nbformat": 4,
 "nbformat_minor": 0
}
