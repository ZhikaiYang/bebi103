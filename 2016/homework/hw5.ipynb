{
 "cells": [
  {
   "cell_type": "markdown",
   "metadata": {},
   "source": [
    "# BE/Bi 103, Fall 2016: Homework 5\n",
    "## Due 1pm, Sunday, October 30\n",
    "\n",
    "(c) 2016 Justin Bois. This work is licensed under a [Creative Commons Attribution License CC-BY 4.0](https://creativecommons.org/licenses/by/4.0/). All code contained therein is licensed under an [MIT license](https://opensource.org/licenses/MIT).\n",
    "\n",
    "*This homework was generated from an Jupyter notebook.  You can download the notebook [here](hw5.ipynb). You can also view it [here](https://nbviewer.jupyter.org/url/bebi103.caltech.edu/2016/homework/hw5.ipynb).*"
   ]
  },
  {
   "cell_type": "markdown",
   "metadata": {},
   "source": [
    "### Problem 5.1: Outliers in FRET binding curve (20 pts)\n",
    "\n",
    "We often want to ascertain how tightly two proteins are bound by measuring their dissociation constant, $K_d$.  This is usually done by doing a titration experiment and then performing a regression.  For example, imagine two proteins, $a$ and $b$ may bind to each other in the reaction\n",
    "\n",
    "\\begin{align}\n",
    "ab \\rightleftharpoons a + b\n",
    "\\end{align}\n",
    "\n",
    "with dissociation constant $K_d$.  At equilibrium\n",
    "\n",
    "\\begin{align}\n",
    "K_d = \\frac{c_a\\,c_b}{c_{ab}},\n",
    "\\end{align}\n",
    "\n",
    "were $c_i$ is the concentration of species $i$.  If we add known amounts of $a$ and $b$ to a solution such that the total concentration of a is $c_a^0$ and the total concentration of b is $c_b^0$, we can compute the equilibrium concentrations of all species.  Specifically, in addition to the equation above, we have conservation of mass equations,\n",
    "\n",
    "\\begin{align}\n",
    "c_a^0 &= c_a + c_{ab}\\\\[1em]\n",
    "c_b^0 &= c_b + c_{ab},\n",
    "\\end{align}\n",
    "\n",
    "fully specifying the problem.  We can solve the three equations for $c_{ab}$ in terms of the known quantities $c_a^0$ and $c_b^0$, along with the parameter we are trying to measure, $K_d$.  We get\n",
    "\n",
    "\\begin{align}\n",
    "c_{ab} = \\frac{2c_a^0\\,c_b^0}{K_d+c_a^0+c_b^0 + \\sqrt{\\left(K_d+c_a^0+c_b^0\\right)^2 - 4c_a^0\\,c_b^0}}.\n",
    "\\end{align}\n",
    "\n",
    "The technique, then, is to hold $c_a^0$ fixed and measure $c_{ab}$ for various $c_b^0$.  We can then perform a regression to get $K_d$.\n",
    "\n",
    "In order to do this, though, we need some readout of $c_{ab}$.  For this problem, we will use FRET (fluorescence resonance energy transfer) to monitor how much of $a$ is bound to $b$.  Specifically, we consider $a$ to have a fluorophore and $b$ to be its receptor.  When the two are unbound, we get a fluorescence signal per molecule of $f_0$.  When they are bound, the receptor absorbs the light coming out of the fluorophore, so we get less fluorescence per molecule, which we will call $f_q$ (for \"quenched\").  Let $f$ be the total per-fluorophore fluorescence signal.  Then, the measured fluorescence signal, $F$, is\n",
    "\n",
    "\\begin{align}\n",
    "F = c_a^0\\,V f = \\left(c_a \\,f_0 + c_{ab}\\, f_q\\right)V,\n",
    "\\end{align}\n",
    "\n",
    "where $V$ is the reaction volume.  We define by $e$ the FRET efficiency,\n",
    "\n",
    "\\begin{align}\n",
    "e = 1 - \\frac{f}{f_0}.\n",
    "\\end{align}\n",
    "\n",
    "If we measure $F_0$, the measured fluorescence when there is no b protein in the sample, we can compute the FRET efficiency from  the measured values $F$ and $F_0$\n",
    "\n",
    "\\begin{align}\n",
    "e =  1 - \\frac{c_a^0\\,V f}{c_a^0\\,Vf_0} = 1 - \\frac{F}{F_0}.\n",
    "\\end{align}\n",
    "\n",
    "Substituting in our expressions for $F$ and $F_0$, we get\n",
    "\n",
    "\\begin{align}\n",
    "e = 1 - \\frac{\\left(c_a \\,f_0 + c_{ab}\\, f_q\\right)V}{c_a^0\\,V f_0}\n",
    "= 1 - \\frac{c_a}{c_a^0} - \\frac{c_{ab}}{c_a^0}\\,\\frac{f_q}{f_0}.\n",
    "\\end{align}\n",
    "\n",
    "Using the fact that $c_a^0 = c_a + c_{ab}$, this becomes\n",
    "\n",
    "\\begin{align}\n",
    "e = \\left(1-\\frac{f_q}{f_0}\\right)\\frac{c_{ab}}{c_a^0}.\n",
    "\\end{align}\n",
    "\n",
    "In other words, the FRET efficiency is proportional to the fraction of a that is bound, or\n",
    "\n",
    "\\begin{align}\n",
    "e = \\alpha \\, \\frac{c_{ab}}{c_a^0} = \\frac{2\\alpha\\,c_b^0}{K_d+c_a^0+c_b^0 + \\sqrt{\\left(K_d+c_a^0+c_b^0\\right)^2 - 4c_a^0\\,c_b^0}},\n",
    "\\end{align}\n",
    "\n",
    "where $\\alpha = 1-f_q/f_0$.  So, we perform a regression with two phenomenological parameters to fit, $\\alpha$ and $K_d$.  Note that $0 \\le \\alpha \\le 1$.\n",
    "\n",
    "**a)** Load in the data for one of these FRET efficiency titration curves.  You can download the data set [here](../data/fret_binding_curve.csv).  Compute the background-subtracted fluorescence and the FRET efficiency.  *These are real data, but they are from an unpublished experiment here on campus.  If you are interested in the proteins we are studying, please ask me and we can discuss.*\n",
    "\n",
    "**b)** Perform regressions to find $K_d$ with and without an outlier detection scheme. You should present the results of your regression both graphically and with numerical summaries (e.g., mode with HPD). How do the results differ depending on whether or not you were trying to detect outliers?"
   ]
  },
  {
   "cell_type": "markdown",
   "metadata": {},
   "source": [
    "<br />"
   ]
  },
  {
   "cell_type": "markdown",
   "metadata": {},
   "source": [
    "### Problem 5.2: Ritonavir revisited with MCMC (10 pts)\n",
    "\n",
    "In [Problem 3.2b](http://bebi103.caltech.edu/2016/homework/hw3.html), we plotted the posterior distribution for a regression of viral load in an HIV patient doing a contour plot. Use MCMC to make a similar plot. You do not need to make the contours (though you can if you like, e.g., using `corner`); you can use the density of your MCMC samples to illustrate the posterior. Remember, the data set may be downloaded [here](http://bebi103.caltech.edu/2016/data/hiv_data.csv)."
   ]
  },
  {
   "cell_type": "markdown",
   "metadata": {},
   "source": [
    "<br />"
   ]
  },
  {
   "cell_type": "markdown",
   "metadata": {},
   "source": [
    "### Problem 5.3 (70 pts + 40 pts extra credit)\n",
    "\n",
    "*This problem features unpublished research, which the authors wish to remain private until their work is published. BE/Bi 103 students may access the password-protected homework [here](../protected/homework/hw5_protected.html).*"
   ]
  }
 ],
 "metadata": {
  "anaconda-cloud": {},
  "kernelspec": {
   "display_name": "Python 3",
   "language": "python",
   "name": "python3"
  },
  "language_info": {
   "codemirror_mode": {
    "name": "ipython",
    "version": 3
   },
   "file_extension": ".py",
   "mimetype": "text/x-python",
   "name": "python",
   "nbconvert_exporter": "python",
   "pygments_lexer": "ipython3",
   "version": "3.5.2"
  }
 },
 "nbformat": 4,
 "nbformat_minor": 0
}
