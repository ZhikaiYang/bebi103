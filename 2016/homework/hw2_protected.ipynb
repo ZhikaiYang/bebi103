{
 "cells": [
  {
   "cell_type": "markdown",
   "metadata": {},
   "source": [
    "# BE/Bi 103, Fall 2016: Homework 2\n",
    "\n",
    "## Due 1pm, Sunday, October 9\n",
    "\n",
    "(c) 2016 Justin Bois. Problem 2.2 is licensed under a [Creative Commons Attribution License CC-BY 4.0](https://creativecommons.org/licenses/by/4.0/). All code contained therein is licensed under an [MIT license](https://opensource.org/licenses/MIT). Problem 2.1 may not be shared.\n",
    "\n",
    "*This homework was generated from an Jupyter notebook.  You can download the notebook [here](hw2.ipynb).*"
   ]
  },
  {
   "cell_type": "markdown",
   "metadata": {},
   "source": [
    "### Problem 2.1 (A temperature controlled Gal4-UAS system, 20 pts)\n",
    "\n",
    "*This problem contains unpublished results. Please do not discuss or redistribute outside of class.*\n",
    "\n",
    "One of the students in the class, Han Wang from the Sternberg lab, is working on an imporoved [Gal4/UAS system](https://en.wikipedia.org/wiki/GAL4/UAS_system) in *C. elegans*. Briefly, the Gal4-UAS system was hijacked from budding yeast and incorporated into the genomes of other organisms, *Drosophila* being first. The idea is to insert the Gal4 gene into the genome such that it is under control of a driver that is native to the organism. When Gal4 is expressed, it binds to UAS (upstream activation sequence) and it is activating, leading to expression of the UAS target gene.\n",
    "\n",
    "Han is using the system with UAS activating production of green fluorescent protein (GFP). The Gal4 production is driven by Pmyo-2, which is only expressed in the pharynx of the worm.\n",
    "\n",
    "The Gal4/UAS system typically works only at high temperatures. This does not work as well in worms that are stored at lower temperatures. Han therefore has been engineering \"cool\" Gal4, which will work at lower temperatures. To test how they are working, he measures the GFP flourescent signal in the pharynx of worms.\n",
    "\n",
    "He generously donated his data set for us to work with. He sent me a MS Excel file with the data, along with some comments via email. Here is what he said about the data set:\n",
    "\n",
    ">SC (orignal Gal4)\n",
    "\n",
    ">SK (cool Gal4)\n",
    "\n",
    ">m3 Pmyo-3::GFP fusion (control; measure of driver expression)\n",
    "\n",
    ">15 20 and 25 at the end for the name of each column shows the experimental temperature.\n",
    "\n",
    "You can download the MS Excel file [here](../data/han_wang_gal4_temperature.xlsx).\n",
    "\n",
    "**a)** Load the data into a Pandas `DataFrame` using `pd.read_excel()`. That's right, Pandas can read Excel files! You might want to read the Pandas documentation to see how it works.\n",
    "\n",
    "**b)** Tidy the `DataFrame`. Be sure to remove any NaNs.\n",
    "\n",
    "**c)** Do some exploratory data analysis of the data set. That is, make some instructive plots. What can you say about Han's cool Gal4 just by looking at the plots?"
   ]
  },
  {
   "cell_type": "markdown",
   "metadata": {},
   "source": [
    "<br />"
   ]
  },
  {
   "cell_type": "markdown",
   "metadata": {},
   "source": [
    "### Problem 2.2 (Exploring fish sleep data, 80 pts) \n",
    "\n",
    "In [Tutorial 2](../../tutorials/t2b_defining_and_estimating_parameters.html), we investigated sleeping states of zebrafish larvae.  We had a discussion about what are the best metrics for a sleepful versus waking states based on the one-minute interval activity data we have.  I think we agreed that it is far from obvious how to define a sleepful state.  In this problem, you will work with your group to come up with some good ways to parametrize sleep behavior and estimate the values of these parameters.\n",
    "\n",
    "Choose two different ways to parametrize sleeping vs. wakeful states.  You can use sleep metrics from the [Prober, et al. paper](../papers/prober_2006.pdf), ones we discussed in [Tutorial 2](../../tutorials/t2b_defining_and_estimating_parameters.html), or invent your own.  For each of the ways of parametrizing sleep, provide instructive plots and estimate the values of the parameters.  Compare the relative strengths and weaknesses of the sleep metrics you propose and give a discussion on which parametrization(s) you prefer."
   ]
  }
 ],
 "metadata": {
  "anaconda-cloud": {},
  "kernelspec": {
   "display_name": "Python [default]",
   "language": "python",
   "name": "python3"
  },
  "language_info": {
   "codemirror_mode": {
    "name": "ipython",
    "version": 3
   },
   "file_extension": ".py",
   "mimetype": "text/x-python",
   "name": "python",
   "nbconvert_exporter": "python",
   "pygments_lexer": "ipython3",
   "version": "3.5.2"
  }
 },
 "nbformat": 4,
 "nbformat_minor": 0
}
