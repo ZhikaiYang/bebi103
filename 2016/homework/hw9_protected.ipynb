{
 "cells": [
  {
   "cell_type": "markdown",
   "metadata": {},
   "source": [
    "# BE/Bi 103, Fall 2016: Homework 9\n",
    "\n",
    "## Due 1pm, Wednesday, December 9\n",
    "\n",
    "(c) 2016 Justin Bois. This work is licensed under a [Creative Commons Attribution License CC-BY 4.0](https://creativecommons.org/licenses/by/4.0/). All code contained therein is licensed under an [MIT license](https://opensource.org/licenses/MIT).\n",
    "\n",
    "*This document was generated from a Jupyter notebook.  You can download the notebook [here](hw9_protected.ipynb).*"
   ]
  },
  {
   "cell_type": "markdown",
   "metadata": {},
   "source": [
    "### Problem 9.1: Caulobacter growth, 95 pts\n",
    "\n",
    "In this problem, we will study the growth and division of *Caulobacter crescentus* over time.  The lab of [Norbert Scherer](http://schererlab.uchicago.edu) at the University of Chicago acquired these data and recently published the work in PNAS, which you can download [here](http://bebi103.caltech.edu/2015/protected/papers/iyer-biswas_2014.pdf).\n",
    "\n",
    "The clever experimental set-up allows imaging of single dividing cells in conditions that are identical through time.  This is accomplished by taking advantage of a unique morphological feature of *Caulobacter*.  The mother cell is adherent to the a surface through its stalk.  Upon division, one of the daughter cells does not have a stalk and is mobile.  The system is part of a microfluidic device that gives a constant flow.  So, every time a mother cell divides, the un-stalked daughter cell gets washed away.  In such a way, the dividing cells are never in a crowded environment and the buffer is always fresh.  This also allows for easier segmentation.\n",
    "\n",
    "The data are available [here](https://www.dropbox.com/s/g9o11fjy7xrhnmq/iyer_biswas_et_al.zip?dl=0).  They were kindly provided by Charlie Wright in the Scherer lab.  The frame rate is 1 frame per minute.  The interpixel spacing is 0.052 µm.  All images were acquired at 24 $^\\circ$C.\n",
    "\n",
    "As with any of the problems in this class, you are encouraged to explore the data beyond what is asked for specifically in the problems statements.  The paper is also a very interesting read.\n",
    "\n",
    "**a)** The directory `sequential_full_field` contains 10 sequential frames of a full field of bacteria in the microfluidic device.  From these frames, choose which bacteria would be good to use to gather long time course imaging.  I.e., choose those that you think will give minimal errors in segmentation.  Give your reasoning, including images demonstrating segmentation.\n",
    "\n",
    "**b)** The files `bacterium_1.tif` and `bacterium_2.tif` are TIFF stacks of time courses for specific cells in from the full field images.  From these time courses, compute the time scale of division of the cells.  In other words, compute the time between divisions for each division for each cell and plot the results.  Comment on any interesting aspects of these data.\n",
    "\n",
    "**c)** We know that under ideal conditions, bacterial cells experience exponential growth in bulk. That is, the number of cells grows exponentially. This is possible regardless of how individual cells growth; the repeated divisions leads to exponential growth. In their paper, the authors argue that the growth rate of *each* cell is also exponential.  I.e.,\n",
    "\n",
    "\\begin{align}\n",
    "a(t) = a_0 \\mathrm{e}^{\\kappa t},\n",
    "\\end{align}\n",
    "\n",
    "where $a(t)$ is the area of the cell in the image as a function of time and $a_0$ is the area of the cell right after a division has been completed, which we mark as $t = 0$.\n",
    "\n",
    "As an alternative model, the authors consider a linear growth model, in which\n",
    "\n",
    "\\begin{align}\n",
    "a(t) = a_0 + b t.\n",
    "\\end{align}\n",
    "\n",
    "An exponential curve is approximately linear (with $b = a_0\\kappa$) for short time scales.  So, it is often difficult to distinguish between a linear and an exponential growth rate.  Use the model selection methods we learned in class to assess the relative probabilities that the growth rate is exponential versus linear. You may consider using a hierarchical model."
   ]
  },
  {
   "cell_type": "markdown",
   "metadata": {},
   "source": [
    "<br />\n",
    "<br />"
   ]
  },
  {
   "cell_type": "markdown",
   "metadata": {},
   "source": [
    "### Problem 9.2: Your eyes are not as good as your computer, 5 pts\n",
    "\n",
    "Download the image below.  Use the basic image processing tools we learned in class to replace the beige and magenta colors with white and save the resulting image.  Display the original image and the altered image side by side.  (This problem was inspired by Dan White.)"
   ]
  },
  {
   "cell_type": "markdown",
   "metadata": {},
   "source": [
    "[<img src=\"swirl.png\">](http://bebi103.caltech.edu/2016/data/swirl.png)"
   ]
  },
  {
   "cell_type": "markdown",
   "metadata": {},
   "source": [
    "<br />"
   ]
  },
  {
   "cell_type": "markdown",
   "metadata": {},
   "source": [
    "### Problem 9.3: $\\sigma$ factor activity, 30 pts extra credit\n",
    "\n",
    "In this problem, we will fully work up the data we studied in [Tutorial 9b](http://bebi103.caltech.edu/2016/protected/tutorials/t9b_segmentation.html). You can download the data set [here](https://www.dropbox.com/s/wy1ha6epss6yl3a/park_et_al.zip?dl=0). We will consider all images starting with `snaps001`, `snaps002`, and `snaps003`. Be sure to read the `README.pdf` file from Jin Park describing the data set.\n",
    "\n",
    "**a)** Segment all images using the RFP channel, and then compute the mean intensity of each bacterium in the CFP and YFP channels. Show a representative segmentation (one each for the `001`, `002`, and `003` sets) by overlaying your binary segmented image on a phase image.\n",
    "\n",
    "**b)** As discussed in class, we are not entirely sure of how to analyze the correlation or lack thereof of the two different σ factors. Generate plots that you think may be useful and/or develop metrics for correlation among the samples. This question is very open-ended and is your chance to experience thinking about real results with the members of your group."
   ]
  }
 ],
 "metadata": {
  "anaconda-cloud": {},
  "kernelspec": {
   "display_name": "Python [default]",
   "language": "python",
   "name": "python3"
  },
  "language_info": {
   "codemirror_mode": {
    "name": "ipython",
    "version": 3
   },
   "file_extension": ".py",
   "mimetype": "text/x-python",
   "name": "python",
   "nbconvert_exporter": "python",
   "pygments_lexer": "ipython3",
   "version": "3.5.2"
  }
 },
 "nbformat": 4,
 "nbformat_minor": 0
}
