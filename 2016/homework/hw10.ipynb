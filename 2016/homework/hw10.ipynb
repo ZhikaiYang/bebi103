{
 "cells": [
  {
   "cell_type": "markdown",
   "metadata": {},
   "source": [
    "# BE/Bi 103, Fall 2016: Homework 10\n",
    "## Due 1pm, Friday, December 9\n",
    "\n",
    "(c) 2016 Justin Bois, Heidi Klumpe, Manuel Razo, Griffin Chure, Porfirio Quintero. This work is licensed under a [Creative Commons Attribution License CC-BY 4.0](https://creativecommons.org/licenses/by/4.0/). All code contained therein is licensed under an [MIT license](https://opensource.org/licenses/MIT).\n",
    "\n",
    "*This homework was generated from an Jupyter notebook.  You can download the notebook [here](hw10.ipynb).*"
   ]
  },
  {
   "cell_type": "markdown",
   "metadata": {},
   "source": [
    "This homework is to be done individually, not in groups. Your responses are not to be put in your GitHub account so you can speak candidly without the influence of your teammates. You do not need to use a Jupyter notebook to do the problem.  Instead, you should submit your responses either as a PDF or just as text in an email. Do not submit a MS Word document. Please email your responses to `bebi103 at caltech dot edu` **and** to `bois at caltech dot edu`.\n",
    "\n",
    "A total of 30 points will be awarded for thoughtful responses for this homework.  I am not expecting a paragraph for each question, but if you have detailed comments on something you have a strong or insightful opinion about, I would like to hear them."
   ]
  },
  {
   "cell_type": "markdown",
   "metadata": {},
   "source": [
    "### Problem 10.1: Topical coverage\n",
    "\n",
    "**a)** Are there topics you would like covered that were not?\n",
    "\n",
    "**b)** Were there topics you think we spent too much time on?\n",
    "\n",
    "**c)** Which topics did you find most interesting?\n",
    "\n",
    "**d)** Which did you find most pertinent?\n",
    "\n",
    "**e)** Where there any common misconceptions that persisted throughout the course for you? What topics (if any) did you find particularly hard to understand and apply?"
   ]
  },
  {
   "cell_type": "markdown",
   "metadata": {},
   "source": [
    "<br />"
   ]
  },
  {
   "cell_type": "markdown",
   "metadata": {},
   "source": [
    "### Problem 10.2: Data sets and exercises\n",
    "\n",
    "**a)** What was your favorite homework problem or data set? Which problem would you remove? Why?\n",
    "\n",
    "**b)** Did you like that we kept revisiting data sets throughout the term?  (We can always do less of that, but we can do even more of that.  E.g., we can do image processing on the Singer, et al., mRNA FISH images.)"
   ]
  },
  {
   "cell_type": "markdown",
   "metadata": {},
   "source": [
    "<br />"
   ]
  },
  {
   "cell_type": "markdown",
   "metadata": {},
   "source": [
    "### Problem 10.3: Course structure\n",
    "\n",
    "**a)** Where did the majority of your learning take place? (Example answers include: Reading the tutorials, taking the tutorial quizzes, completing the homeworks, interacting with TAs during the lab sessions, interacting with TAs during office hours, during Justin's lectures, interacting with Justin during lab session, interacting with Justin during office hours, talking with teammates.)\n",
    "\n",
    "**b)** How would the class have been different for you if the work weren't done in teams?\n",
    "\n",
    "**c)** How productive do you feel you were in general during the Monday lab sessions? It used to be the case that during these sessions we would work through the tutorials together, but we thought that having you start your homework having done the tutorials by yourself would be much more productive. Do you think you took advantage of these sessions with this format? Do you have any suggestions for improvement of these sessions?\n",
    "\n",
    "**d)** Did you like using GitHub as a platform for collaboration and submission?\n",
    "\n",
    "**e)** What advice would you give to future students about using GitHub? Were there any common problems you frequently encountered?\n",
    "\n",
    "**f)** Did you attend any auxiliary lessons? Did you find them useful? Would you change the format?\n",
    "\n",
    "**g)** Did you find the office hours useful?  Do you have general suggestions for that?\n",
    "\n",
    "**h)** What are your opinions on Piazza?"
   ]
  },
  {
   "cell_type": "markdown",
   "metadata": {},
   "source": [
    "<br />"
   ]
  },
  {
   "cell_type": "markdown",
   "metadata": {},
   "source": [
    "### Problem 10.4: Your future\n",
    "\n",
    "**a)** What will you be able to do with your data that you weren't able to before?\n",
    "\n",
    "**b)** Has this class changed the way you read scientific papers? Has it changed your opinion on any papers you've read previously?\n",
    "\n",
    "**c)** Which of the following principles do you think you will apply in your work going forward?\n",
    ">1. Tidy data\n",
    "2. Bayesian inference for parameter estimation\n",
    "3. Bayesian model selection\n",
    "4. Hacker stats and bootstrapping for nonparametric statistics\n",
    "5. Bootstrap/permutation hypothesis tests\n",
    "6. Automated image processing\n",
    "\n",
    "**d)** Which of the following software tools do you think you will use in your work going forward?\n",
    ">1. Jupyter notebooks\n",
    "2. Git/GitHub\n",
    "3. Python-based tools in general (NumPy, SciPy, Matplotlib)\n",
    "4. Pandas\n",
    "5. `emcee` (the MCMC Hammer)\n",
    "6. Bokeh"
   ]
  },
  {
   "cell_type": "markdown",
   "metadata": {},
   "source": [
    "<br />"
   ]
  },
  {
   "cell_type": "markdown",
   "metadata": {},
   "source": [
    "### Problem 10.5: The course's future\n",
    "\n",
    "Would you be interested in a second term?  If so, what topics would you like to see covered?  Bear in mind that if we did do a second term, as would probably slow down the first term a bit as well."
   ]
  },
  {
   "cell_type": "markdown",
   "metadata": {},
   "source": [
    "<br />"
   ]
  },
  {
   "cell_type": "markdown",
   "metadata": {},
   "source": [
    "### Problem 10.6: Miscellany\n",
    "\n",
    "Please include any comments you have that I have not asked about."
   ]
  }
 ],
 "metadata": {
  "anaconda-cloud": {},
  "kernelspec": {
   "display_name": "Python [default]",
   "language": "python",
   "name": "python3"
  },
  "language_info": {
   "codemirror_mode": {
    "name": "ipython",
    "version": 3
   },
   "file_extension": ".py",
   "mimetype": "text/x-python",
   "name": "python",
   "nbconvert_exporter": "python",
   "pygments_lexer": "ipython3",
   "version": "3.5.2"
  }
 },
 "nbformat": 4,
 "nbformat_minor": 0
}
