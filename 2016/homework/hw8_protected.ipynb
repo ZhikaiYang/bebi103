{
 "cells": [
  {
   "cell_type": "markdown",
   "metadata": {},
   "source": [
    "# BE/Bi 103, Fall 2016: Homework 8\n",
    "## Due 1pm, Sunday, November 20\n",
    "\n",
    "\n",
    "(c) 2016 Justin Bois. This work is licensed under a [Creative Commons Attribution License CC-BY 4.0](https://creativecommons.org/licenses/by/4.0/). All code contained therein is licensed under an [MIT license](https://opensource.org/licenses/MIT).\n",
    "\n",
    "*This homework was generated from an Jupyter notebook.  You can download the notebook [here](hw8_protected.ipynb).*"
   ]
  },
  {
   "cell_type": "code",
   "execution_count": 2,
   "metadata": {
    "collapsed": false
   },
   "outputs": [],
   "source": [
    "import skimage.io"
   ]
  },
  {
   "cell_type": "markdown",
   "metadata": {},
   "source": [
    "### Problem 8.1: Pulsing jellyfish (60 pts)\n",
    "In [Tutorial 8a](http://bebi103.caltech.edu/2016/protected/tutorials/t8a_extracting_info_from_images.html), we extracted information from movies of pulsing jellyfish. Using these images (which you can download [here](https://www.dropbox.com/s/mbz2gfnnwefdto2/cassiopea_pulsation.zip?dl=0)), analyze both the daytime and nighttime movies.  Compare and contrast the measurements both between daytime and nighttime and among the individual jellyfish.  Discuss any conclusions or suggestions for further experiments you may have.\n",
    "\n",
    "*This question is intentionally open-ended. Think carefully about what you want to do and how you interpret what you see.*"
   ]
  },
  {
   "cell_type": "markdown",
   "metadata": {},
   "source": [
    "<br />"
   ]
  },
  {
   "cell_type": "markdown",
   "metadata": {},
   "source": [
    "### Problem 8.2: Analysis of FRAP data (40 pts + 10 pts extra credit)\n",
    "\n",
    "With your new image processing skills, you can start to work on more complicated images.  For this problem, you will analyze a FRAP experiment and then perform parameter estimation to determine a diffusion coefficient and a binding rate for two molecules.  We will be taking a simplified approach, but there is more sophisticated analysis we can do to get better estimates for the phenomenological coefficients.\n",
    "\n",
    "The data set comes from [Nate Goehring](https://goehringlab.crick.ac.uk).  The images are taken of a *C. elegans* one-cell embryo expressing a GFP fusion to the PH domain of Protein Lipase C delta 1 (PH-PLCd1).  This domain binds PIP2, a lipid enriched in the plasma membrane.  By using FRAP, we can investigate the dynamics of diffusion of the PH-PLCd1/PIP2 complex on the cell membrane, as well as the binding/unbinding dynamics of PH-PLCd1.\n",
    "\n",
    "So, if $c$ is the concentration of the PH-PLDd1/PIP2 complex on the membrane and $c_\\mathrm{cyto}$ is the concentration of PH-PLCd1 in the cytoplasm (assumed to be spatially uniform since diffusion in the cytoplasm is very fast), the dynamics are described by a reaction-diffusion equation.\n",
    "\n",
    "\\begin{align}\n",
    "\\frac{\\partial c}{\\partial t} = D\\left(\\frac{\\partial^2 c}{\\partial x^2} + \\frac{\\partial^2 c}{\\partial y^2}\\right) + k_\\mathrm{on} c_\\mathrm{cyto} - k_\\mathrm{off} c.\n",
    "\\end{align}\n",
    "\n",
    "Here, $k_\\mathrm{on}$ and $k_\\mathrm{off}$ are the phenomenological rate constants for binding and unbinding to PIP2 on the membrane, and $D$ is the diffusion coefficient for the PH-PLCd1/PIP2 complex on the membrane.\n",
    "\n",
    "In [their paper](http://bebi103.caltech.edu/2015/protected/papers/goehring_2010.pdf), the authors discuss techniques for analyzing the data taking into account the fluorescence recovery of the bleached region in time and space.  For simplicity here, we will only consider recovery of the normalized mean fluorescence.  If $I(t)$ is the mean fluorescence of the bleached region and $I_0$ is the mean fluorescence of the bleached region immediately before photobleaching, we have, as derived in the paper,\n",
    "\n",
    "\\begin{align}\n",
    "I_\\mathrm{norm}(t) \\equiv \\frac{I(t)}{I_0} &= \n",
    "1 - f_b\\,\\frac{4 \\mathrm{e}^{-k_\\mathrm{off}t}}{d_x d_y}\\,\\psi_x(t)\\,\\psi_y(t),\\\\[1mm]\n",
    "\\text{where } \\psi_i(t) &= \\frac{d_i}{2}\\,\\mathrm{erf}\\left(\\frac{d_i}{\\sqrt{4Dt}}\\right)\n",
    "-\\sqrt{\\frac{D t}{\\pi}}\\left(1 - \\mathrm{e}^{-d_i^2/4Dt}\\right),\n",
    "\\end{align}\n",
    "\n",
    "where $d_x$ and $d_y$ are the extent of the photobleached box in the $x$- and $y$-directions, $f_b$ is the fraction of fluorophores that were bleached, and $\\mathrm{erf}(x)$ is the [error function](http://en.wikipedia.org/wiki/Error_function).  Note that this function is defined such that the photobleaching event occurs at time $t = 0$.\n",
    "\n",
    "We measure $I(t)$, $I_0$, $d_x$, and $d_y$.  We can also measure $f_b$ as\n",
    "\n",
    "\\begin{align}\n",
    "f_b \\approx 1 - \\frac{I(0^+)}{I_0},\n",
    "\\end{align}\n",
    "\n",
    "though we will consider this a parameter to estimate.  In practice, the normalized fluorescent recovery does not go all the way to unity.  This is because the FRAP area is a significant portion of the membrane, and we have depleted fluorescent molecules.  We should thus adjust our equation to be\n",
    "\n",
    "\\begin{align}\n",
    "I_\\mathrm{norm}(t) \\equiv \\frac{I(t)}{I_0} &= \n",
    "f_f\\left(1 - f_b\\,\\frac{4 \\mathrm{e}^{-k_\\mathrm{off}t}}{d_x d_y}\\,\\psi_x(t)\\,\\psi_y(t)\\right),\n",
    "\\end{align}\n",
    "\n",
    "where $f_f$ is the fraction of fluorescent species left.  So, we have four parameters to use in regression, the physical parameters of interest, $D$ and $k_\\mathrm{off}$, and $f_f$ and $f_b$.\n",
    "\n",
    "The FRAP images come in a **TIFF stack**, which is a single TIFF file containing multiple frames.  You can load these with the `skimage.io.ImageCollection` class."
   ]
  },
  {
   "cell_type": "code",
   "execution_count": 3,
   "metadata": {
    "collapsed": false
   },
   "outputs": [
    {
     "name": "stdout",
     "output_type": "stream",
     "text": [
      "There are 149 frames.\n"
     ]
    }
   ],
   "source": [
    "# Load in TIFF stack\n",
    "fname = '../data/goehring_FRAP_data/PH_138_A.tif'\n",
    "ic = skimage.io.ImageCollection(fname, conserve_memory=False)\n",
    "\n",
    "# How long is it?\n",
    "print('There are {0:d} frames.'.format(len(ic)))"
   ]
  },
  {
   "cell_type": "markdown",
   "metadata": {},
   "source": [
    "**a)** Extract the mean normalized fluorescence versus time from each of the TIFF stacks for the experimental repeats.  Note that important information is contained in the associated README file.  You can download the data set [here](http://bebi103.caltech.edu/2016/protected/data/goehring_FRAP_data.zip).\n",
    "\n",
    "**b)** Perform regressions to find $D$ and $k_\\mathrm{off}$ for each.  Report your final estimates for $D$ and $k_\\mathrm{off}$.\n",
    "\n",
    "**c)** (10 pts extra credit) Repeat part (b) with a hierarchical model. (You will need Wednesday's lecture material to do this part of the problem.)"
   ]
  }
 ],
 "metadata": {
  "anaconda-cloud": {},
  "kernelspec": {
   "display_name": "Python [default]",
   "language": "python",
   "name": "python3"
  },
  "language_info": {
   "codemirror_mode": {
    "name": "ipython",
    "version": 3
   },
   "file_extension": ".py",
   "mimetype": "text/x-python",
   "name": "python",
   "nbconvert_exporter": "python",
   "pygments_lexer": "ipython3",
   "version": "3.5.2"
  }
 },
 "nbformat": 4,
 "nbformat_minor": 0
}
